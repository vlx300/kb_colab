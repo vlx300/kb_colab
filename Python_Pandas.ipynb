{
  "nbformat": 4,
  "nbformat_minor": 0,
  "metadata": {
    "colab": {
      "name": "Python-Pandas.ipynb",
      "provenance": [],
      "collapsed_sections": [],
      "authorship_tag": "ABX9TyM25WK4TsQsanS23J5//8h7",
      "include_colab_link": true
    },
    "kernelspec": {
      "name": "python3",
      "display_name": "Python 3"
    }
  },
  "cells": [
    {
      "cell_type": "markdown",
      "metadata": {
        "id": "view-in-github",
        "colab_type": "text"
      },
      "source": [
        "<a href=\"https://colab.research.google.com/github/vlx300/kb_colab/blob/master/Python_Pandas.ipynb\" target=\"_parent\"><img src=\"https://colab.research.google.com/assets/colab-badge.svg\" alt=\"Open In Colab\"/></a>"
      ]
    },
    {
      "cell_type": "markdown",
      "metadata": {
        "id": "Ty6ySV1ZVr2z",
        "colab_type": "text"
      },
      "source": [
        "#**Python Pandas Data Exploration**\n",
        "![alt text](https://strongautomotive.com/wp-content/uploads/2014/06/460637863-e1403800392554.jpg)"
      ]
    },
    {
      "cell_type": "markdown",
      "metadata": {
        "id": "2mTBzGQVDFcS",
        "colab_type": "text"
      },
      "source": [
        "#**Mount Google Drive**"
      ]
    },
    {
      "cell_type": "code",
      "metadata": {
        "id": "Ac_H2VaFC17p",
        "colab_type": "code",
        "colab": {
          "base_uri": "https://localhost:8080/",
          "height": 34
        },
        "outputId": "a4a8da77-68a2-417e-e9c6-c16969ff45b1"
      },
      "source": [
        " from google.colab import drive  # mount google drive #\n",
        "drive.mount('/content/drive')"
      ],
      "execution_count": 2,
      "outputs": [
        {
          "output_type": "stream",
          "text": [
            "Drive already mounted at /content/drive; to attempt to forcibly remount, call drive.mount(\"/content/drive\", force_remount=True).\n"
          ],
          "name": "stdout"
        }
      ]
    },
    {
      "cell_type": "markdown",
      "metadata": {
        "id": "hPYzDLAWDLvl",
        "colab_type": "text"
      },
      "source": [
        "###**Append sys.path for Google Drive**"
      ]
    },
    {
      "cell_type": "code",
      "metadata": {
        "id": "edR4DiORDYIh",
        "colab_type": "code",
        "colab": {}
      },
      "source": [
        "import sys\n",
        "sys.path.append(\"/content/drive/My Drive\")"
      ],
      "execution_count": 0,
      "outputs": []
    },
    {
      "cell_type": "markdown",
      "metadata": {
        "id": "zKGGFdNpDedQ",
        "colab_type": "text"
      },
      "source": [
        "##**Grabbing the dataset**: \n",
        "**Five-thirty-Eight: NBA Results**"
      ]
    },
    {
      "cell_type": "code",
      "metadata": {
        "id": "V2NF0mq5Wqp4",
        "colab_type": "code",
        "colab": {}
      },
      "source": [
        "import requests   # import requestas library\n",
        "\n",
        "download_url = \"https://raw.githubusercontent.com/fivethirtyeight/data/master/nba-elo/nbaallelo.csv\"  #data source\n",
        "target_csv_path = \"/content/drive/My Drive/nba_all_elo.csv\""
      ],
      "execution_count": 0,
      "outputs": []
    },
    {
      "cell_type": "code",
      "metadata": {
        "id": "YhV7Qb5IBRfy",
        "colab_type": "code",
        "outputId": "e670db20-3331-49a9-8a75-fddfe9700d58",
        "colab": {
          "base_uri": "https://localhost:8080/",
          "height": 34
        }
      },
      "source": [
        "response = requests.get(download_url)\n",
        "response.raise_for_status()  # check that the request was successful \n",
        "with open(target_csv_path, \"wb\") as f:\n",
        "  f.write(response.content)\n",
        "print(\"download ready\")"
      ],
      "execution_count": 5,
      "outputs": [
        {
          "output_type": "stream",
          "text": [
            "download ready\n"
          ],
          "name": "stdout"
        }
      ]
    },
    {
      "cell_type": "markdown",
      "metadata": {
        "id": "M71YahtvE5nL",
        "colab_type": "text"
      },
      "source": [
        "#**Python Pandas: Taking a closer look at the Data**\n",
        "\n",
        "as you ca see above, we import pandas as pd alias, then we utilize read_csv() to read in the dataset, and store as a Pandas dataframe in a varible called nba. \n",
        "\n",
        "**Note:** Is your data NOT cvs format? the Pandas libray contains several other similar functions (read_json(), read_html(), read_sql_table()"
      ]
    },
    {
      "cell_type": "code",
      "metadata": {
        "id": "T4HPI7ogFJ-i",
        "colab_type": "code",
        "outputId": "fabb3cac-ad5e-499a-dc5b-113e7d6df5b3",
        "colab": {
          "base_uri": "https://localhost:8080/",
          "height": 34
        }
      },
      "source": [
        "import pandas as pd\n",
        "nba = pd.read_csv(\"/content/drive/My Drive/nba_all_elo.csv\") # store as pandas dataframe object in  varoiable called nba\n",
        "type(nba)\n"
      ],
      "execution_count": 6,
      "outputs": [
        {
          "output_type": "execute_result",
          "data": {
            "text/plain": [
              "pandas.core.frame.DataFrame"
            ]
          },
          "metadata": {
            "tags": []
          },
          "execution_count": 6
        }
      ]
    },
    {
      "cell_type": "code",
      "metadata": {
        "id": "qP9WSdGbFvZZ",
        "colab_type": "code",
        "outputId": "73811abe-7cc7-48d2-f67d-0045d721ce4c",
        "colab": {
          "base_uri": "https://localhost:8080/",
          "height": 224
        }
      },
      "source": [
        "nba.head()"
      ],
      "execution_count": 7,
      "outputs": [
        {
          "output_type": "execute_result",
          "data": {
            "text/html": [
              "<div>\n",
              "<style scoped>\n",
              "    .dataframe tbody tr th:only-of-type {\n",
              "        vertical-align: middle;\n",
              "    }\n",
              "\n",
              "    .dataframe tbody tr th {\n",
              "        vertical-align: top;\n",
              "    }\n",
              "\n",
              "    .dataframe thead th {\n",
              "        text-align: right;\n",
              "    }\n",
              "</style>\n",
              "<table border=\"1\" class=\"dataframe\">\n",
              "  <thead>\n",
              "    <tr style=\"text-align: right;\">\n",
              "      <th></th>\n",
              "      <th>gameorder</th>\n",
              "      <th>game_id</th>\n",
              "      <th>lg_id</th>\n",
              "      <th>_iscopy</th>\n",
              "      <th>year_id</th>\n",
              "      <th>date_game</th>\n",
              "      <th>seasongame</th>\n",
              "      <th>is_playoffs</th>\n",
              "      <th>team_id</th>\n",
              "      <th>fran_id</th>\n",
              "      <th>pts</th>\n",
              "      <th>elo_i</th>\n",
              "      <th>elo_n</th>\n",
              "      <th>win_equiv</th>\n",
              "      <th>opp_id</th>\n",
              "      <th>opp_fran</th>\n",
              "      <th>opp_pts</th>\n",
              "      <th>opp_elo_i</th>\n",
              "      <th>opp_elo_n</th>\n",
              "      <th>game_location</th>\n",
              "      <th>game_result</th>\n",
              "      <th>forecast</th>\n",
              "      <th>notes</th>\n",
              "    </tr>\n",
              "  </thead>\n",
              "  <tbody>\n",
              "    <tr>\n",
              "      <th>0</th>\n",
              "      <td>1</td>\n",
              "      <td>194611010TRH</td>\n",
              "      <td>NBA</td>\n",
              "      <td>0</td>\n",
              "      <td>1947</td>\n",
              "      <td>11/1/1946</td>\n",
              "      <td>1</td>\n",
              "      <td>0</td>\n",
              "      <td>TRH</td>\n",
              "      <td>Huskies</td>\n",
              "      <td>66</td>\n",
              "      <td>1300.0000</td>\n",
              "      <td>1293.2767</td>\n",
              "      <td>40.294830</td>\n",
              "      <td>NYK</td>\n",
              "      <td>Knicks</td>\n",
              "      <td>68</td>\n",
              "      <td>1300.0000</td>\n",
              "      <td>1306.7233</td>\n",
              "      <td>H</td>\n",
              "      <td>L</td>\n",
              "      <td>0.640065</td>\n",
              "      <td>NaN</td>\n",
              "    </tr>\n",
              "    <tr>\n",
              "      <th>1</th>\n",
              "      <td>1</td>\n",
              "      <td>194611010TRH</td>\n",
              "      <td>NBA</td>\n",
              "      <td>1</td>\n",
              "      <td>1947</td>\n",
              "      <td>11/1/1946</td>\n",
              "      <td>1</td>\n",
              "      <td>0</td>\n",
              "      <td>NYK</td>\n",
              "      <td>Knicks</td>\n",
              "      <td>68</td>\n",
              "      <td>1300.0000</td>\n",
              "      <td>1306.7233</td>\n",
              "      <td>41.705170</td>\n",
              "      <td>TRH</td>\n",
              "      <td>Huskies</td>\n",
              "      <td>66</td>\n",
              "      <td>1300.0000</td>\n",
              "      <td>1293.2767</td>\n",
              "      <td>A</td>\n",
              "      <td>W</td>\n",
              "      <td>0.359935</td>\n",
              "      <td>NaN</td>\n",
              "    </tr>\n",
              "    <tr>\n",
              "      <th>2</th>\n",
              "      <td>2</td>\n",
              "      <td>194611020CHS</td>\n",
              "      <td>NBA</td>\n",
              "      <td>0</td>\n",
              "      <td>1947</td>\n",
              "      <td>11/2/1946</td>\n",
              "      <td>1</td>\n",
              "      <td>0</td>\n",
              "      <td>CHS</td>\n",
              "      <td>Stags</td>\n",
              "      <td>63</td>\n",
              "      <td>1300.0000</td>\n",
              "      <td>1309.6521</td>\n",
              "      <td>42.012257</td>\n",
              "      <td>NYK</td>\n",
              "      <td>Knicks</td>\n",
              "      <td>47</td>\n",
              "      <td>1306.7233</td>\n",
              "      <td>1297.0712</td>\n",
              "      <td>H</td>\n",
              "      <td>W</td>\n",
              "      <td>0.631101</td>\n",
              "      <td>NaN</td>\n",
              "    </tr>\n",
              "    <tr>\n",
              "      <th>3</th>\n",
              "      <td>2</td>\n",
              "      <td>194611020CHS</td>\n",
              "      <td>NBA</td>\n",
              "      <td>1</td>\n",
              "      <td>1947</td>\n",
              "      <td>11/2/1946</td>\n",
              "      <td>2</td>\n",
              "      <td>0</td>\n",
              "      <td>NYK</td>\n",
              "      <td>Knicks</td>\n",
              "      <td>47</td>\n",
              "      <td>1306.7233</td>\n",
              "      <td>1297.0712</td>\n",
              "      <td>40.692783</td>\n",
              "      <td>CHS</td>\n",
              "      <td>Stags</td>\n",
              "      <td>63</td>\n",
              "      <td>1300.0000</td>\n",
              "      <td>1309.6521</td>\n",
              "      <td>A</td>\n",
              "      <td>L</td>\n",
              "      <td>0.368899</td>\n",
              "      <td>NaN</td>\n",
              "    </tr>\n",
              "    <tr>\n",
              "      <th>4</th>\n",
              "      <td>3</td>\n",
              "      <td>194611020DTF</td>\n",
              "      <td>NBA</td>\n",
              "      <td>0</td>\n",
              "      <td>1947</td>\n",
              "      <td>11/2/1946</td>\n",
              "      <td>1</td>\n",
              "      <td>0</td>\n",
              "      <td>DTF</td>\n",
              "      <td>Falcons</td>\n",
              "      <td>33</td>\n",
              "      <td>1300.0000</td>\n",
              "      <td>1279.6189</td>\n",
              "      <td>38.864048</td>\n",
              "      <td>WSC</td>\n",
              "      <td>Capitols</td>\n",
              "      <td>50</td>\n",
              "      <td>1300.0000</td>\n",
              "      <td>1320.3811</td>\n",
              "      <td>H</td>\n",
              "      <td>L</td>\n",
              "      <td>0.640065</td>\n",
              "      <td>NaN</td>\n",
              "    </tr>\n",
              "  </tbody>\n",
              "</table>\n",
              "</div>"
            ],
            "text/plain": [
              "   gameorder       game_id lg_id  ...  game_result  forecast notes\n",
              "0          1  194611010TRH   NBA  ...            L  0.640065   NaN\n",
              "1          1  194611010TRH   NBA  ...            W  0.359935   NaN\n",
              "2          2  194611020CHS   NBA  ...            W  0.631101   NaN\n",
              "3          2  194611020CHS   NBA  ...            L  0.368899   NaN\n",
              "4          3  194611020DTF   NBA  ...            L  0.640065   NaN\n",
              "\n",
              "[5 rows x 23 columns]"
            ]
          },
          "metadata": {
            "tags": []
          },
          "execution_count": 7
        }
      ]
    },
    {
      "cell_type": "markdown",
      "metadata": {
        "id": "Vhcob8CAI4ow",
        "colab_type": "text"
      },
      "source": [
        "You can utilize the built-in len() function to determine the numbr of rows"
      ]
    },
    {
      "cell_type": "code",
      "metadata": {
        "id": "aoMoF1S9GNh4",
        "colab_type": "code",
        "outputId": "348458d4-19fe-4cd7-e6d3-d3b69591aa7d",
        "colab": {
          "base_uri": "https://localhost:8080/",
          "height": 34
        }
      },
      "source": [
        "len(nba)  # how much data does nba contain"
      ],
      "execution_count": 8,
      "outputs": [
        {
          "output_type": "execute_result",
          "data": {
            "text/plain": [
              "126314"
            ]
          },
          "metadata": {
            "tags": []
          },
          "execution_count": 8
        }
      ]
    },
    {
      "cell_type": "code",
      "metadata": {
        "id": "L0HGX3WcGYfg",
        "colab_type": "code",
        "outputId": "e8fccf3c-60c5-4056-8d00-a40061810661",
        "colab": {
          "base_uri": "https://localhost:8080/",
          "height": 34
        }
      },
      "source": [
        "nba.shape # you can see it dimensionality .TUPLE containing the number of rows and columns"
      ],
      "execution_count": 9,
      "outputs": [
        {
          "output_type": "execute_result",
          "data": {
            "text/plain": [
              "(126314, 23)"
            ]
          },
          "metadata": {
            "tags": []
          },
          "execution_count": 9
        }
      ]
    },
    {
      "cell_type": "markdown",
      "metadata": {
        "id": "caJ9rKd9JVC8",
        "colab_type": "text"
      },
      "source": [
        "Now we know the dimensions of our dataset, How can we be sure that the dataset actually contains basketball stats? Take a look a tthe 1st five rows with head()"
      ]
    },
    {
      "cell_type": "code",
      "metadata": {
        "id": "jidruaueJGfd",
        "colab_type": "code",
        "colab": {
          "base_uri": "https://localhost:8080/",
          "height": 224
        },
        "outputId": "67c9ac15-4687-4f05-a0e4-a112ac9bd7e2"
      },
      "source": [
        "nba.head()"
      ],
      "execution_count": 10,
      "outputs": [
        {
          "output_type": "execute_result",
          "data": {
            "text/html": [
              "<div>\n",
              "<style scoped>\n",
              "    .dataframe tbody tr th:only-of-type {\n",
              "        vertical-align: middle;\n",
              "    }\n",
              "\n",
              "    .dataframe tbody tr th {\n",
              "        vertical-align: top;\n",
              "    }\n",
              "\n",
              "    .dataframe thead th {\n",
              "        text-align: right;\n",
              "    }\n",
              "</style>\n",
              "<table border=\"1\" class=\"dataframe\">\n",
              "  <thead>\n",
              "    <tr style=\"text-align: right;\">\n",
              "      <th></th>\n",
              "      <th>gameorder</th>\n",
              "      <th>game_id</th>\n",
              "      <th>lg_id</th>\n",
              "      <th>_iscopy</th>\n",
              "      <th>year_id</th>\n",
              "      <th>date_game</th>\n",
              "      <th>seasongame</th>\n",
              "      <th>is_playoffs</th>\n",
              "      <th>team_id</th>\n",
              "      <th>fran_id</th>\n",
              "      <th>pts</th>\n",
              "      <th>elo_i</th>\n",
              "      <th>elo_n</th>\n",
              "      <th>win_equiv</th>\n",
              "      <th>opp_id</th>\n",
              "      <th>opp_fran</th>\n",
              "      <th>opp_pts</th>\n",
              "      <th>opp_elo_i</th>\n",
              "      <th>opp_elo_n</th>\n",
              "      <th>game_location</th>\n",
              "      <th>game_result</th>\n",
              "      <th>forecast</th>\n",
              "      <th>notes</th>\n",
              "    </tr>\n",
              "  </thead>\n",
              "  <tbody>\n",
              "    <tr>\n",
              "      <th>0</th>\n",
              "      <td>1</td>\n",
              "      <td>194611010TRH</td>\n",
              "      <td>NBA</td>\n",
              "      <td>0</td>\n",
              "      <td>1947</td>\n",
              "      <td>11/1/1946</td>\n",
              "      <td>1</td>\n",
              "      <td>0</td>\n",
              "      <td>TRH</td>\n",
              "      <td>Huskies</td>\n",
              "      <td>66</td>\n",
              "      <td>1300.0000</td>\n",
              "      <td>1293.2767</td>\n",
              "      <td>40.294830</td>\n",
              "      <td>NYK</td>\n",
              "      <td>Knicks</td>\n",
              "      <td>68</td>\n",
              "      <td>1300.0000</td>\n",
              "      <td>1306.7233</td>\n",
              "      <td>H</td>\n",
              "      <td>L</td>\n",
              "      <td>0.640065</td>\n",
              "      <td>NaN</td>\n",
              "    </tr>\n",
              "    <tr>\n",
              "      <th>1</th>\n",
              "      <td>1</td>\n",
              "      <td>194611010TRH</td>\n",
              "      <td>NBA</td>\n",
              "      <td>1</td>\n",
              "      <td>1947</td>\n",
              "      <td>11/1/1946</td>\n",
              "      <td>1</td>\n",
              "      <td>0</td>\n",
              "      <td>NYK</td>\n",
              "      <td>Knicks</td>\n",
              "      <td>68</td>\n",
              "      <td>1300.0000</td>\n",
              "      <td>1306.7233</td>\n",
              "      <td>41.705170</td>\n",
              "      <td>TRH</td>\n",
              "      <td>Huskies</td>\n",
              "      <td>66</td>\n",
              "      <td>1300.0000</td>\n",
              "      <td>1293.2767</td>\n",
              "      <td>A</td>\n",
              "      <td>W</td>\n",
              "      <td>0.359935</td>\n",
              "      <td>NaN</td>\n",
              "    </tr>\n",
              "    <tr>\n",
              "      <th>2</th>\n",
              "      <td>2</td>\n",
              "      <td>194611020CHS</td>\n",
              "      <td>NBA</td>\n",
              "      <td>0</td>\n",
              "      <td>1947</td>\n",
              "      <td>11/2/1946</td>\n",
              "      <td>1</td>\n",
              "      <td>0</td>\n",
              "      <td>CHS</td>\n",
              "      <td>Stags</td>\n",
              "      <td>63</td>\n",
              "      <td>1300.0000</td>\n",
              "      <td>1309.6521</td>\n",
              "      <td>42.012257</td>\n",
              "      <td>NYK</td>\n",
              "      <td>Knicks</td>\n",
              "      <td>47</td>\n",
              "      <td>1306.7233</td>\n",
              "      <td>1297.0712</td>\n",
              "      <td>H</td>\n",
              "      <td>W</td>\n",
              "      <td>0.631101</td>\n",
              "      <td>NaN</td>\n",
              "    </tr>\n",
              "    <tr>\n",
              "      <th>3</th>\n",
              "      <td>2</td>\n",
              "      <td>194611020CHS</td>\n",
              "      <td>NBA</td>\n",
              "      <td>1</td>\n",
              "      <td>1947</td>\n",
              "      <td>11/2/1946</td>\n",
              "      <td>2</td>\n",
              "      <td>0</td>\n",
              "      <td>NYK</td>\n",
              "      <td>Knicks</td>\n",
              "      <td>47</td>\n",
              "      <td>1306.7233</td>\n",
              "      <td>1297.0712</td>\n",
              "      <td>40.692783</td>\n",
              "      <td>CHS</td>\n",
              "      <td>Stags</td>\n",
              "      <td>63</td>\n",
              "      <td>1300.0000</td>\n",
              "      <td>1309.6521</td>\n",
              "      <td>A</td>\n",
              "      <td>L</td>\n",
              "      <td>0.368899</td>\n",
              "      <td>NaN</td>\n",
              "    </tr>\n",
              "    <tr>\n",
              "      <th>4</th>\n",
              "      <td>3</td>\n",
              "      <td>194611020DTF</td>\n",
              "      <td>NBA</td>\n",
              "      <td>0</td>\n",
              "      <td>1947</td>\n",
              "      <td>11/2/1946</td>\n",
              "      <td>1</td>\n",
              "      <td>0</td>\n",
              "      <td>DTF</td>\n",
              "      <td>Falcons</td>\n",
              "      <td>33</td>\n",
              "      <td>1300.0000</td>\n",
              "      <td>1279.6189</td>\n",
              "      <td>38.864048</td>\n",
              "      <td>WSC</td>\n",
              "      <td>Capitols</td>\n",
              "      <td>50</td>\n",
              "      <td>1300.0000</td>\n",
              "      <td>1320.3811</td>\n",
              "      <td>H</td>\n",
              "      <td>L</td>\n",
              "      <td>0.640065</td>\n",
              "      <td>NaN</td>\n",
              "    </tr>\n",
              "  </tbody>\n",
              "</table>\n",
              "</div>"
            ],
            "text/plain": [
              "   gameorder       game_id lg_id  ...  game_result  forecast notes\n",
              "0          1  194611010TRH   NBA  ...            L  0.640065   NaN\n",
              "1          1  194611010TRH   NBA  ...            W  0.359935   NaN\n",
              "2          2  194611020CHS   NBA  ...            W  0.631101   NaN\n",
              "3          2  194611020CHS   NBA  ...            L  0.368899   NaN\n",
              "4          3  194611020DTF   NBA  ...            L  0.640065   NaN\n",
              "\n",
              "[5 rows x 23 columns]"
            ]
          },
          "metadata": {
            "tags": []
          },
          "execution_count": 10
        }
      ]
    },
    {
      "cell_type": "markdown",
      "metadata": {
        "id": "76YT-wJBJ1UY",
        "colab_type": "text"
      },
      "source": [
        "You can configure pandas to display all columns like this"
      ]
    },
    {
      "cell_type": "code",
      "metadata": {
        "id": "_eNMgzLtJ_aj",
        "colab_type": "code",
        "colab": {}
      },
      "source": [
        "pd.set_option(\"display.max.columns\", None)"
      ],
      "execution_count": 0,
      "outputs": []
    },
    {
      "cell_type": "markdown",
      "metadata": {
        "id": "aDwAvbdBKS99",
        "colab_type": "text"
      },
      "source": [
        "Also change the number of decimal places to display."
      ]
    },
    {
      "cell_type": "code",
      "metadata": {
        "id": "VrhR530iKZ5O",
        "colab_type": "code",
        "colab": {}
      },
      "source": [
        "pd.set_option(\"display.precision\", 2)"
      ],
      "execution_count": 0,
      "outputs": []
    },
    {
      "cell_type": "code",
      "metadata": {
        "id": "VMKCLlGrKgpH",
        "colab_type": "code",
        "colab": {
          "base_uri": "https://localhost:8080/",
          "height": 224
        },
        "outputId": "85df01a8-2485-4ae3-b368-093281872ed1"
      },
      "source": [
        "nba.head()  # display first five rows"
      ],
      "execution_count": 13,
      "outputs": [
        {
          "output_type": "execute_result",
          "data": {
            "text/html": [
              "<div>\n",
              "<style scoped>\n",
              "    .dataframe tbody tr th:only-of-type {\n",
              "        vertical-align: middle;\n",
              "    }\n",
              "\n",
              "    .dataframe tbody tr th {\n",
              "        vertical-align: top;\n",
              "    }\n",
              "\n",
              "    .dataframe thead th {\n",
              "        text-align: right;\n",
              "    }\n",
              "</style>\n",
              "<table border=\"1\" class=\"dataframe\">\n",
              "  <thead>\n",
              "    <tr style=\"text-align: right;\">\n",
              "      <th></th>\n",
              "      <th>gameorder</th>\n",
              "      <th>game_id</th>\n",
              "      <th>lg_id</th>\n",
              "      <th>_iscopy</th>\n",
              "      <th>year_id</th>\n",
              "      <th>date_game</th>\n",
              "      <th>seasongame</th>\n",
              "      <th>is_playoffs</th>\n",
              "      <th>team_id</th>\n",
              "      <th>fran_id</th>\n",
              "      <th>pts</th>\n",
              "      <th>elo_i</th>\n",
              "      <th>elo_n</th>\n",
              "      <th>win_equiv</th>\n",
              "      <th>opp_id</th>\n",
              "      <th>opp_fran</th>\n",
              "      <th>opp_pts</th>\n",
              "      <th>opp_elo_i</th>\n",
              "      <th>opp_elo_n</th>\n",
              "      <th>game_location</th>\n",
              "      <th>game_result</th>\n",
              "      <th>forecast</th>\n",
              "      <th>notes</th>\n",
              "    </tr>\n",
              "  </thead>\n",
              "  <tbody>\n",
              "    <tr>\n",
              "      <th>0</th>\n",
              "      <td>1</td>\n",
              "      <td>194611010TRH</td>\n",
              "      <td>NBA</td>\n",
              "      <td>0</td>\n",
              "      <td>1947</td>\n",
              "      <td>11/1/1946</td>\n",
              "      <td>1</td>\n",
              "      <td>0</td>\n",
              "      <td>TRH</td>\n",
              "      <td>Huskies</td>\n",
              "      <td>66</td>\n",
              "      <td>1300.00</td>\n",
              "      <td>1293.28</td>\n",
              "      <td>40.29</td>\n",
              "      <td>NYK</td>\n",
              "      <td>Knicks</td>\n",
              "      <td>68</td>\n",
              "      <td>1300.00</td>\n",
              "      <td>1306.72</td>\n",
              "      <td>H</td>\n",
              "      <td>L</td>\n",
              "      <td>0.64</td>\n",
              "      <td>NaN</td>\n",
              "    </tr>\n",
              "    <tr>\n",
              "      <th>1</th>\n",
              "      <td>1</td>\n",
              "      <td>194611010TRH</td>\n",
              "      <td>NBA</td>\n",
              "      <td>1</td>\n",
              "      <td>1947</td>\n",
              "      <td>11/1/1946</td>\n",
              "      <td>1</td>\n",
              "      <td>0</td>\n",
              "      <td>NYK</td>\n",
              "      <td>Knicks</td>\n",
              "      <td>68</td>\n",
              "      <td>1300.00</td>\n",
              "      <td>1306.72</td>\n",
              "      <td>41.71</td>\n",
              "      <td>TRH</td>\n",
              "      <td>Huskies</td>\n",
              "      <td>66</td>\n",
              "      <td>1300.00</td>\n",
              "      <td>1293.28</td>\n",
              "      <td>A</td>\n",
              "      <td>W</td>\n",
              "      <td>0.36</td>\n",
              "      <td>NaN</td>\n",
              "    </tr>\n",
              "    <tr>\n",
              "      <th>2</th>\n",
              "      <td>2</td>\n",
              "      <td>194611020CHS</td>\n",
              "      <td>NBA</td>\n",
              "      <td>0</td>\n",
              "      <td>1947</td>\n",
              "      <td>11/2/1946</td>\n",
              "      <td>1</td>\n",
              "      <td>0</td>\n",
              "      <td>CHS</td>\n",
              "      <td>Stags</td>\n",
              "      <td>63</td>\n",
              "      <td>1300.00</td>\n",
              "      <td>1309.65</td>\n",
              "      <td>42.01</td>\n",
              "      <td>NYK</td>\n",
              "      <td>Knicks</td>\n",
              "      <td>47</td>\n",
              "      <td>1306.72</td>\n",
              "      <td>1297.07</td>\n",
              "      <td>H</td>\n",
              "      <td>W</td>\n",
              "      <td>0.63</td>\n",
              "      <td>NaN</td>\n",
              "    </tr>\n",
              "    <tr>\n",
              "      <th>3</th>\n",
              "      <td>2</td>\n",
              "      <td>194611020CHS</td>\n",
              "      <td>NBA</td>\n",
              "      <td>1</td>\n",
              "      <td>1947</td>\n",
              "      <td>11/2/1946</td>\n",
              "      <td>2</td>\n",
              "      <td>0</td>\n",
              "      <td>NYK</td>\n",
              "      <td>Knicks</td>\n",
              "      <td>47</td>\n",
              "      <td>1306.72</td>\n",
              "      <td>1297.07</td>\n",
              "      <td>40.69</td>\n",
              "      <td>CHS</td>\n",
              "      <td>Stags</td>\n",
              "      <td>63</td>\n",
              "      <td>1300.00</td>\n",
              "      <td>1309.65</td>\n",
              "      <td>A</td>\n",
              "      <td>L</td>\n",
              "      <td>0.37</td>\n",
              "      <td>NaN</td>\n",
              "    </tr>\n",
              "    <tr>\n",
              "      <th>4</th>\n",
              "      <td>3</td>\n",
              "      <td>194611020DTF</td>\n",
              "      <td>NBA</td>\n",
              "      <td>0</td>\n",
              "      <td>1947</td>\n",
              "      <td>11/2/1946</td>\n",
              "      <td>1</td>\n",
              "      <td>0</td>\n",
              "      <td>DTF</td>\n",
              "      <td>Falcons</td>\n",
              "      <td>33</td>\n",
              "      <td>1300.00</td>\n",
              "      <td>1279.62</td>\n",
              "      <td>38.86</td>\n",
              "      <td>WSC</td>\n",
              "      <td>Capitols</td>\n",
              "      <td>50</td>\n",
              "      <td>1300.00</td>\n",
              "      <td>1320.38</td>\n",
              "      <td>H</td>\n",
              "      <td>L</td>\n",
              "      <td>0.64</td>\n",
              "      <td>NaN</td>\n",
              "    </tr>\n",
              "  </tbody>\n",
              "</table>\n",
              "</div>"
            ],
            "text/plain": [
              "   gameorder       game_id lg_id  _iscopy  year_id  date_game  seasongame  \\\n",
              "0          1  194611010TRH   NBA        0     1947  11/1/1946           1   \n",
              "1          1  194611010TRH   NBA        1     1947  11/1/1946           1   \n",
              "2          2  194611020CHS   NBA        0     1947  11/2/1946           1   \n",
              "3          2  194611020CHS   NBA        1     1947  11/2/1946           2   \n",
              "4          3  194611020DTF   NBA        0     1947  11/2/1946           1   \n",
              "\n",
              "   is_playoffs team_id  fran_id  pts    elo_i    elo_n  win_equiv opp_id  \\\n",
              "0            0     TRH  Huskies   66  1300.00  1293.28      40.29    NYK   \n",
              "1            0     NYK   Knicks   68  1300.00  1306.72      41.71    TRH   \n",
              "2            0     CHS    Stags   63  1300.00  1309.65      42.01    NYK   \n",
              "3            0     NYK   Knicks   47  1306.72  1297.07      40.69    CHS   \n",
              "4            0     DTF  Falcons   33  1300.00  1279.62      38.86    WSC   \n",
              "\n",
              "   opp_fran  opp_pts  opp_elo_i  opp_elo_n game_location game_result  \\\n",
              "0    Knicks       68    1300.00    1306.72             H           L   \n",
              "1   Huskies       66    1300.00    1293.28             A           W   \n",
              "2    Knicks       47    1306.72    1297.07             H           W   \n",
              "3     Stags       63    1300.00    1309.65             A           L   \n",
              "4  Capitols       50    1300.00    1320.38             H           L   \n",
              "\n",
              "   forecast notes  \n",
              "0      0.64   NaN  \n",
              "1      0.36   NaN  \n",
              "2      0.63   NaN  \n",
              "3      0.37   NaN  \n",
              "4      0.64   NaN  "
            ]
          },
          "metadata": {
            "tags": []
          },
          "execution_count": 13
        }
      ]
    },
    {
      "cell_type": "code",
      "metadata": {
        "id": "fnmhscXKKo0f",
        "colab_type": "code",
        "colab": {
          "base_uri": "https://localhost:8080/",
          "height": 224
        },
        "outputId": "2395e5c3-b39e-4868-92c0-000171a4dc7a"
      },
      "source": [
        "nba.tail()   # display last five rows"
      ],
      "execution_count": 14,
      "outputs": [
        {
          "output_type": "execute_result",
          "data": {
            "text/html": [
              "<div>\n",
              "<style scoped>\n",
              "    .dataframe tbody tr th:only-of-type {\n",
              "        vertical-align: middle;\n",
              "    }\n",
              "\n",
              "    .dataframe tbody tr th {\n",
              "        vertical-align: top;\n",
              "    }\n",
              "\n",
              "    .dataframe thead th {\n",
              "        text-align: right;\n",
              "    }\n",
              "</style>\n",
              "<table border=\"1\" class=\"dataframe\">\n",
              "  <thead>\n",
              "    <tr style=\"text-align: right;\">\n",
              "      <th></th>\n",
              "      <th>gameorder</th>\n",
              "      <th>game_id</th>\n",
              "      <th>lg_id</th>\n",
              "      <th>_iscopy</th>\n",
              "      <th>year_id</th>\n",
              "      <th>date_game</th>\n",
              "      <th>seasongame</th>\n",
              "      <th>is_playoffs</th>\n",
              "      <th>team_id</th>\n",
              "      <th>fran_id</th>\n",
              "      <th>pts</th>\n",
              "      <th>elo_i</th>\n",
              "      <th>elo_n</th>\n",
              "      <th>win_equiv</th>\n",
              "      <th>opp_id</th>\n",
              "      <th>opp_fran</th>\n",
              "      <th>opp_pts</th>\n",
              "      <th>opp_elo_i</th>\n",
              "      <th>opp_elo_n</th>\n",
              "      <th>game_location</th>\n",
              "      <th>game_result</th>\n",
              "      <th>forecast</th>\n",
              "      <th>notes</th>\n",
              "    </tr>\n",
              "  </thead>\n",
              "  <tbody>\n",
              "    <tr>\n",
              "      <th>126309</th>\n",
              "      <td>63155</td>\n",
              "      <td>201506110CLE</td>\n",
              "      <td>NBA</td>\n",
              "      <td>0</td>\n",
              "      <td>2015</td>\n",
              "      <td>6/11/2015</td>\n",
              "      <td>100</td>\n",
              "      <td>1</td>\n",
              "      <td>CLE</td>\n",
              "      <td>Cavaliers</td>\n",
              "      <td>82</td>\n",
              "      <td>1723.41</td>\n",
              "      <td>1704.39</td>\n",
              "      <td>60.31</td>\n",
              "      <td>GSW</td>\n",
              "      <td>Warriors</td>\n",
              "      <td>103</td>\n",
              "      <td>1790.96</td>\n",
              "      <td>1809.98</td>\n",
              "      <td>H</td>\n",
              "      <td>L</td>\n",
              "      <td>0.55</td>\n",
              "      <td>NaN</td>\n",
              "    </tr>\n",
              "    <tr>\n",
              "      <th>126310</th>\n",
              "      <td>63156</td>\n",
              "      <td>201506140GSW</td>\n",
              "      <td>NBA</td>\n",
              "      <td>0</td>\n",
              "      <td>2015</td>\n",
              "      <td>6/14/2015</td>\n",
              "      <td>102</td>\n",
              "      <td>1</td>\n",
              "      <td>GSW</td>\n",
              "      <td>Warriors</td>\n",
              "      <td>104</td>\n",
              "      <td>1809.98</td>\n",
              "      <td>1813.63</td>\n",
              "      <td>68.01</td>\n",
              "      <td>CLE</td>\n",
              "      <td>Cavaliers</td>\n",
              "      <td>91</td>\n",
              "      <td>1704.39</td>\n",
              "      <td>1700.74</td>\n",
              "      <td>H</td>\n",
              "      <td>W</td>\n",
              "      <td>0.77</td>\n",
              "      <td>NaN</td>\n",
              "    </tr>\n",
              "    <tr>\n",
              "      <th>126311</th>\n",
              "      <td>63156</td>\n",
              "      <td>201506140GSW</td>\n",
              "      <td>NBA</td>\n",
              "      <td>1</td>\n",
              "      <td>2015</td>\n",
              "      <td>6/14/2015</td>\n",
              "      <td>101</td>\n",
              "      <td>1</td>\n",
              "      <td>CLE</td>\n",
              "      <td>Cavaliers</td>\n",
              "      <td>91</td>\n",
              "      <td>1704.39</td>\n",
              "      <td>1700.74</td>\n",
              "      <td>60.01</td>\n",
              "      <td>GSW</td>\n",
              "      <td>Warriors</td>\n",
              "      <td>104</td>\n",
              "      <td>1809.98</td>\n",
              "      <td>1813.63</td>\n",
              "      <td>A</td>\n",
              "      <td>L</td>\n",
              "      <td>0.23</td>\n",
              "      <td>NaN</td>\n",
              "    </tr>\n",
              "    <tr>\n",
              "      <th>126312</th>\n",
              "      <td>63157</td>\n",
              "      <td>201506170CLE</td>\n",
              "      <td>NBA</td>\n",
              "      <td>0</td>\n",
              "      <td>2015</td>\n",
              "      <td>6/16/2015</td>\n",
              "      <td>102</td>\n",
              "      <td>1</td>\n",
              "      <td>CLE</td>\n",
              "      <td>Cavaliers</td>\n",
              "      <td>97</td>\n",
              "      <td>1700.74</td>\n",
              "      <td>1692.09</td>\n",
              "      <td>59.29</td>\n",
              "      <td>GSW</td>\n",
              "      <td>Warriors</td>\n",
              "      <td>105</td>\n",
              "      <td>1813.63</td>\n",
              "      <td>1822.29</td>\n",
              "      <td>H</td>\n",
              "      <td>L</td>\n",
              "      <td>0.48</td>\n",
              "      <td>NaN</td>\n",
              "    </tr>\n",
              "    <tr>\n",
              "      <th>126313</th>\n",
              "      <td>63157</td>\n",
              "      <td>201506170CLE</td>\n",
              "      <td>NBA</td>\n",
              "      <td>1</td>\n",
              "      <td>2015</td>\n",
              "      <td>6/16/2015</td>\n",
              "      <td>103</td>\n",
              "      <td>1</td>\n",
              "      <td>GSW</td>\n",
              "      <td>Warriors</td>\n",
              "      <td>105</td>\n",
              "      <td>1813.63</td>\n",
              "      <td>1822.29</td>\n",
              "      <td>68.52</td>\n",
              "      <td>CLE</td>\n",
              "      <td>Cavaliers</td>\n",
              "      <td>97</td>\n",
              "      <td>1700.74</td>\n",
              "      <td>1692.09</td>\n",
              "      <td>A</td>\n",
              "      <td>W</td>\n",
              "      <td>0.52</td>\n",
              "      <td>NaN</td>\n",
              "    </tr>\n",
              "  </tbody>\n",
              "</table>\n",
              "</div>"
            ],
            "text/plain": [
              "        gameorder       game_id lg_id  _iscopy  year_id  date_game  \\\n",
              "126309      63155  201506110CLE   NBA        0     2015  6/11/2015   \n",
              "126310      63156  201506140GSW   NBA        0     2015  6/14/2015   \n",
              "126311      63156  201506140GSW   NBA        1     2015  6/14/2015   \n",
              "126312      63157  201506170CLE   NBA        0     2015  6/16/2015   \n",
              "126313      63157  201506170CLE   NBA        1     2015  6/16/2015   \n",
              "\n",
              "        seasongame  is_playoffs team_id    fran_id  pts    elo_i    elo_n  \\\n",
              "126309         100            1     CLE  Cavaliers   82  1723.41  1704.39   \n",
              "126310         102            1     GSW   Warriors  104  1809.98  1813.63   \n",
              "126311         101            1     CLE  Cavaliers   91  1704.39  1700.74   \n",
              "126312         102            1     CLE  Cavaliers   97  1700.74  1692.09   \n",
              "126313         103            1     GSW   Warriors  105  1813.63  1822.29   \n",
              "\n",
              "        win_equiv opp_id   opp_fran  opp_pts  opp_elo_i  opp_elo_n  \\\n",
              "126309      60.31    GSW   Warriors      103    1790.96    1809.98   \n",
              "126310      68.01    CLE  Cavaliers       91    1704.39    1700.74   \n",
              "126311      60.01    GSW   Warriors      104    1809.98    1813.63   \n",
              "126312      59.29    GSW   Warriors      105    1813.63    1822.29   \n",
              "126313      68.52    CLE  Cavaliers       97    1700.74    1692.09   \n",
              "\n",
              "       game_location game_result  forecast notes  \n",
              "126309             H           L      0.55   NaN  \n",
              "126310             H           W      0.77   NaN  \n",
              "126311             A           L      0.23   NaN  \n",
              "126312             H           L      0.48   NaN  \n",
              "126313             A           W      0.52   NaN  "
            ]
          },
          "metadata": {
            "tags": []
          },
          "execution_count": 14
        }
      ]
    },
    {
      "cell_type": "markdown",
      "metadata": {
        "id": "GgiPUF7RLLzC",
        "colab_type": "text"
      },
      "source": [
        "##**Getting to know the data**\n",
        "![alt text](https://miro.medium.com/max/403/1*TUw8sTRFiMgV0KRyUzjWmQ.jpeg)\n",
        "\n",
        "\n",
        "you imported a CSV file, with the pandas libray and had a 1st look a the contents of your dataset, so far you only seen the size of the dataset and the first/last few rows. \n",
        "\n",
        "**Now lets examine the data more systematically**\n",
        "\n",
        "**Displaying the Data Types**\n",
        "\n",
        "The first steps in getting to know your data is having a underatanding of the **data-types** it contains.  While you can place anything into a list, the columns of a **Dataframe** contain values of a specific data type. When you compare Pandas and pythin data structures you see that this behavior makes Pandas much faster.  \n",
        "\n",
        "you can display ALL columns and their data types with .info()"
      ]
    },
    {
      "cell_type": "code",
      "metadata": {
        "id": "vIQ4hSDcM71q",
        "colab_type": "code",
        "colab": {
          "base_uri": "https://localhost:8080/",
          "height": 493
        },
        "outputId": "f198759f-3c77-47c1-e68c-de5f537f1886"
      },
      "source": [
        "nba.info"
      ],
      "execution_count": 15,
      "outputs": [
        {
          "output_type": "stream",
          "text": [
            "<class 'pandas.core.frame.DataFrame'>\n",
            "RangeIndex: 126314 entries, 0 to 126313\n",
            "Data columns (total 23 columns):\n",
            "gameorder        126314 non-null int64\n",
            "game_id          126314 non-null object\n",
            "lg_id            126314 non-null object\n",
            "_iscopy          126314 non-null int64\n",
            "year_id          126314 non-null int64\n",
            "date_game        126314 non-null object\n",
            "seasongame       126314 non-null int64\n",
            "is_playoffs      126314 non-null int64\n",
            "team_id          126314 non-null object\n",
            "fran_id          126314 non-null object\n",
            "pts              126314 non-null int64\n",
            "elo_i            126314 non-null float64\n",
            "elo_n            126314 non-null float64\n",
            "win_equiv        126314 non-null float64\n",
            "opp_id           126314 non-null object\n",
            "opp_fran         126314 non-null object\n",
            "opp_pts          126314 non-null int64\n",
            "opp_elo_i        126314 non-null float64\n",
            "opp_elo_n        126314 non-null float64\n",
            "game_location    126314 non-null object\n",
            "game_result      126314 non-null object\n",
            "forecast         126314 non-null float64\n",
            "notes            5424 non-null object\n",
            "dtypes: float64(6), int64(7), object(10)\n",
            "memory usage: 22.2+ MB\n"
          ],
          "name": "stdout"
        }
      ]
    },
    {
      "cell_type": "markdown",
      "metadata": {
        "id": "uISabxWosz6k",
        "colab_type": "text"
      },
      "source": [
        "You see a list of ALL the columns in your dataset and the type of data each column contains.  You can see three (3)**bold text** data types: **int64, float64**, and **object**.  Pandas use NumPy library to work with these types Later you will the more complex \"categorical\" data type which the Pandas library implements itself. \n",
        "\n",
        "\n",
        "the **object** data type is a special one. The Object data type is a \"*catch-all*\" for columns that Pandas doesnt recognize as any pother specific data type.  In practice,  it means that the values in the columns are strings.\n",
        "\n",
        "although you can store arbitrary python objects in the object data type, there are some drawbacks\n",
        "\n",
        "*   Strange values in a object column can harm pandas performance\n",
        "*   interoperaility with other libraries can also be affected. \n",
        "\n"
      ]
    }
  ]
}