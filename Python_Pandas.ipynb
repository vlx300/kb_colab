{
  "nbformat": 4,
  "nbformat_minor": 0,
  "metadata": {
    "colab": {
      "name": "Python-Pandas.ipynb",
      "provenance": [],
      "collapsed_sections": [],
      "authorship_tag": "ABX9TyPAhrS2BI2iIQcON4AVYUEw",
      "include_colab_link": true
    },
    "kernelspec": {
      "name": "python3",
      "display_name": "Python 3"
    }
  },
  "cells": [
    {
      "cell_type": "markdown",
      "metadata": {
        "id": "view-in-github",
        "colab_type": "text"
      },
      "source": [
        "<a href=\"https://colab.research.google.com/github/vlx300/kb_colab/blob/master/Python_Pandas.ipynb\" target=\"_parent\"><img src=\"https://colab.research.google.com/assets/colab-badge.svg\" alt=\"Open In Colab\"/></a>"
      ]
    },
    {
      "cell_type": "markdown",
      "metadata": {
        "id": "Ty6ySV1ZVr2z",
        "colab_type": "text"
      },
      "source": [
        "#**Python Pandas Data Exploration**\n",
        "![alt text](https://ageng.files.wordpress.com/2008/06/kung_fu_panda_xl_021.jpg)"
      ]
    },
    {
      "cell_type": "markdown",
      "metadata": {
        "id": "2mTBzGQVDFcS",
        "colab_type": "text"
      },
      "source": [
        "#**Mount Google Drive**"
      ]
    },
    {
      "cell_type": "code",
      "metadata": {
        "id": "Ac_H2VaFC17p",
        "colab_type": "code",
        "colab": {}
      },
      "source": [
        " from google.colab import drive  # mount google drive #\n",
        "drive.mount('/content/drive')"
      ],
      "execution_count": 0,
      "outputs": []
    },
    {
      "cell_type": "markdown",
      "metadata": {
        "id": "hPYzDLAWDLvl",
        "colab_type": "text"
      },
      "source": [
        "###**Append sys.path for Google Drive**"
      ]
    },
    {
      "cell_type": "code",
      "metadata": {
        "id": "edR4DiORDYIh",
        "colab_type": "code",
        "colab": {}
      },
      "source": [
        "import sys\n",
        "sys.path.append(\"/content/drive/My Drive\")"
      ],
      "execution_count": 0,
      "outputs": []
    },
    {
      "cell_type": "markdown",
      "metadata": {
        "id": "zKGGFdNpDedQ",
        "colab_type": "text"
      },
      "source": [
        "##**Grabbing the dataset**: \n",
        "**Five-thirty-Eight: NBA Results**  (https://data.fivethirtyeight.com/)"
      ]
    },
    {
      "cell_type": "code",
      "metadata": {
        "id": "V2NF0mq5Wqp4",
        "colab_type": "code",
        "colab": {}
      },
      "source": [
        "import requests   # import requestas library\n",
        "\n",
        "download_url = \"https://raw.githubusercontent.com/fivethirtyeight/data/master/nba-elo/nbaallelo.csv\"  #data source stored in variable download_url \n",
        "target_csv_path = \"/content/drive/My Drive/nba_all_elo.csv\"  # valible to store and use target file path #"
      ],
      "execution_count": 0,
      "outputs": []
    },
    {
      "cell_type": "code",
      "metadata": {
        "id": "YhV7Qb5IBRfy",
        "colab_type": "code",
        "outputId": "c1be7e4e-c6b1-4013-8402-f8c40f5cc65f",
        "colab": {
          "base_uri": "https://localhost:8080/",
          "height": 34
        }
      },
      "source": [
        "response = requests.get(download_url)\n",
        "response.raise_for_status()  # check that the request was successful \n",
        "with open(target_csv_path, \"wb\") as f:\n",
        "  f.write(response.content)\n",
        "print(\"download ready\")"
      ],
      "execution_count": 0,
      "outputs": [
        {
          "output_type": "stream",
          "text": [
            "download ready\n"
          ],
          "name": "stdout"
        }
      ]
    },
    {
      "cell_type": "markdown",
      "metadata": {
        "id": "M71YahtvE5nL",
        "colab_type": "text"
      },
      "source": [
        "#**Python Pandas: Taking a closer look at the Data**\n",
        "\n",
        "as you can see above, we import pandas as pd (alias), then we utilize read_csv() to read in the dataset, and store as a Pandas dataframe in a varible called nba. \n",
        "\n",
        "**Note:** Is your data NOT cvs format? the Pandas libray contains several other similar functions (read_json(), read_html(), read_sql_table()"
      ]
    },
    {
      "cell_type": "code",
      "metadata": {
        "id": "T4HPI7ogFJ-i",
        "colab_type": "code",
        "outputId": "42fe1bf2-83a9-4655-cdda-5c1519e95c2d",
        "colab": {
          "base_uri": "https://localhost:8080/",
          "height": 34
        }
      },
      "source": [
        "import pandas as pd\n",
        "nba = pd.read_csv(\"/content/drive/My Drive/nba_all_elo.csv\") # store as pandas dataframe object in a variable called nba\n",
        "type(nba)"
      ],
      "execution_count": 0,
      "outputs": [
        {
          "output_type": "execute_result",
          "data": {
            "text/plain": [
              "pandas.core.frame.DataFrame"
            ]
          },
          "metadata": {
            "tags": []
          },
          "execution_count": 5
        }
      ]
    },
    {
      "cell_type": "markdown",
      "metadata": {
        "id": "Vhcob8CAI4ow",
        "colab_type": "text"
      },
      "source": [
        "You can utilize the built-in len() function to determine the numbr of rows"
      ]
    },
    {
      "cell_type": "code",
      "metadata": {
        "id": "aoMoF1S9GNh4",
        "colab_type": "code",
        "outputId": "efc8a513-cef5-4984-f180-f202b1903d86",
        "colab": {
          "base_uri": "https://localhost:8080/",
          "height": 34
        }
      },
      "source": [
        "len(nba)  # how much data does nba contain (# of rows in dataset)"
      ],
      "execution_count": 0,
      "outputs": [
        {
          "output_type": "execute_result",
          "data": {
            "text/plain": [
              "126314"
            ]
          },
          "metadata": {
            "tags": []
          },
          "execution_count": 6
        }
      ]
    },
    {
      "cell_type": "code",
      "metadata": {
        "id": "L0HGX3WcGYfg",
        "colab_type": "code",
        "outputId": "e3ab34e0-5e58-4fe5-cb9f-419205e32806",
        "colab": {
          "base_uri": "https://localhost:8080/",
          "height": 34
        }
      },
      "source": [
        "nba.shape # you can see it dimensionality .TUPLE containing the number of rows and columns"
      ],
      "execution_count": 0,
      "outputs": [
        {
          "output_type": "execute_result",
          "data": {
            "text/plain": [
              "(126314, 23)"
            ]
          },
          "metadata": {
            "tags": []
          },
          "execution_count": 7
        }
      ]
    },
    {
      "cell_type": "markdown",
      "metadata": {
        "id": "caJ9rKd9JVC8",
        "colab_type": "text"
      },
      "source": [
        "Now we know the dimensions of our dataset, How can we be sure that the dataset actually contains basketball stats? Take a look a tthe 1st five rows with head()"
      ]
    },
    {
      "cell_type": "code",
      "metadata": {
        "id": "jidruaueJGfd",
        "colab_type": "code",
        "colab": {}
      },
      "source": [
        "nba.head()  # displays first 5 rows in dataset to view the contents"
      ],
      "execution_count": 0,
      "outputs": []
    },
    {
      "cell_type": "markdown",
      "metadata": {
        "id": "76YT-wJBJ1UY",
        "colab_type": "text"
      },
      "source": [
        "You can configure pandas to display all columns like this"
      ]
    },
    {
      "cell_type": "code",
      "metadata": {
        "id": "_eNMgzLtJ_aj",
        "colab_type": "code",
        "colab": {}
      },
      "source": [
        "pd.set_option(\"display.max.columns\", None)  # allows you to see ALL columns in dataset "
      ],
      "execution_count": 0,
      "outputs": []
    },
    {
      "cell_type": "markdown",
      "metadata": {
        "id": "aDwAvbdBKS99",
        "colab_type": "text"
      },
      "source": [
        "Also change the number of decimal places to display."
      ]
    },
    {
      "cell_type": "code",
      "metadata": {
        "id": "VrhR530iKZ5O",
        "colab_type": "code",
        "colab": {}
      },
      "source": [
        "pd.set_option(\"display.precision\", 1)  # only show 1 decimal place # "
      ],
      "execution_count": 0,
      "outputs": []
    },
    {
      "cell_type": "code",
      "metadata": {
        "id": "VMKCLlGrKgpH",
        "colab_type": "code",
        "outputId": "d11c5106-9621-451c-afec-2c99786b708c",
        "colab": {
          "base_uri": "https://localhost:8080/",
          "height": 204
        }
      },
      "source": [
        "nba.head()  # display first five rows"
      ],
      "execution_count": 0,
      "outputs": [
        {
          "output_type": "execute_result",
          "data": {
            "text/html": [
              "<div>\n",
              "<style scoped>\n",
              "    .dataframe tbody tr th:only-of-type {\n",
              "        vertical-align: middle;\n",
              "    }\n",
              "\n",
              "    .dataframe tbody tr th {\n",
              "        vertical-align: top;\n",
              "    }\n",
              "\n",
              "    .dataframe thead th {\n",
              "        text-align: right;\n",
              "    }\n",
              "</style>\n",
              "<table border=\"1\" class=\"dataframe\">\n",
              "  <thead>\n",
              "    <tr style=\"text-align: right;\">\n",
              "      <th></th>\n",
              "      <th>gameorder</th>\n",
              "      <th>game_id</th>\n",
              "      <th>lg_id</th>\n",
              "      <th>_iscopy</th>\n",
              "      <th>year_id</th>\n",
              "      <th>date_game</th>\n",
              "      <th>seasongame</th>\n",
              "      <th>is_playoffs</th>\n",
              "      <th>team_id</th>\n",
              "      <th>fran_id</th>\n",
              "      <th>pts</th>\n",
              "      <th>elo_i</th>\n",
              "      <th>elo_n</th>\n",
              "      <th>win_equiv</th>\n",
              "      <th>opp_id</th>\n",
              "      <th>opp_fran</th>\n",
              "      <th>opp_pts</th>\n",
              "      <th>opp_elo_i</th>\n",
              "      <th>opp_elo_n</th>\n",
              "      <th>game_location</th>\n",
              "      <th>game_result</th>\n",
              "      <th>forecast</th>\n",
              "      <th>notes</th>\n",
              "    </tr>\n",
              "  </thead>\n",
              "  <tbody>\n",
              "    <tr>\n",
              "      <th>0</th>\n",
              "      <td>1</td>\n",
              "      <td>194611010TRH</td>\n",
              "      <td>NBA</td>\n",
              "      <td>0</td>\n",
              "      <td>1947</td>\n",
              "      <td>11/1/1946</td>\n",
              "      <td>1</td>\n",
              "      <td>0</td>\n",
              "      <td>TRH</td>\n",
              "      <td>Huskies</td>\n",
              "      <td>66</td>\n",
              "      <td>1300.0</td>\n",
              "      <td>1293.3</td>\n",
              "      <td>40.3</td>\n",
              "      <td>NYK</td>\n",
              "      <td>Knicks</td>\n",
              "      <td>68</td>\n",
              "      <td>1300.0</td>\n",
              "      <td>1306.7</td>\n",
              "      <td>H</td>\n",
              "      <td>L</td>\n",
              "      <td>0.6</td>\n",
              "      <td>NaN</td>\n",
              "    </tr>\n",
              "    <tr>\n",
              "      <th>1</th>\n",
              "      <td>1</td>\n",
              "      <td>194611010TRH</td>\n",
              "      <td>NBA</td>\n",
              "      <td>1</td>\n",
              "      <td>1947</td>\n",
              "      <td>11/1/1946</td>\n",
              "      <td>1</td>\n",
              "      <td>0</td>\n",
              "      <td>NYK</td>\n",
              "      <td>Knicks</td>\n",
              "      <td>68</td>\n",
              "      <td>1300.0</td>\n",
              "      <td>1306.7</td>\n",
              "      <td>41.7</td>\n",
              "      <td>TRH</td>\n",
              "      <td>Huskies</td>\n",
              "      <td>66</td>\n",
              "      <td>1300.0</td>\n",
              "      <td>1293.3</td>\n",
              "      <td>A</td>\n",
              "      <td>W</td>\n",
              "      <td>0.4</td>\n",
              "      <td>NaN</td>\n",
              "    </tr>\n",
              "    <tr>\n",
              "      <th>2</th>\n",
              "      <td>2</td>\n",
              "      <td>194611020CHS</td>\n",
              "      <td>NBA</td>\n",
              "      <td>0</td>\n",
              "      <td>1947</td>\n",
              "      <td>11/2/1946</td>\n",
              "      <td>1</td>\n",
              "      <td>0</td>\n",
              "      <td>CHS</td>\n",
              "      <td>Stags</td>\n",
              "      <td>63</td>\n",
              "      <td>1300.0</td>\n",
              "      <td>1309.7</td>\n",
              "      <td>42.0</td>\n",
              "      <td>NYK</td>\n",
              "      <td>Knicks</td>\n",
              "      <td>47</td>\n",
              "      <td>1306.7</td>\n",
              "      <td>1297.1</td>\n",
              "      <td>H</td>\n",
              "      <td>W</td>\n",
              "      <td>0.6</td>\n",
              "      <td>NaN</td>\n",
              "    </tr>\n",
              "    <tr>\n",
              "      <th>3</th>\n",
              "      <td>2</td>\n",
              "      <td>194611020CHS</td>\n",
              "      <td>NBA</td>\n",
              "      <td>1</td>\n",
              "      <td>1947</td>\n",
              "      <td>11/2/1946</td>\n",
              "      <td>2</td>\n",
              "      <td>0</td>\n",
              "      <td>NYK</td>\n",
              "      <td>Knicks</td>\n",
              "      <td>47</td>\n",
              "      <td>1306.7</td>\n",
              "      <td>1297.1</td>\n",
              "      <td>40.7</td>\n",
              "      <td>CHS</td>\n",
              "      <td>Stags</td>\n",
              "      <td>63</td>\n",
              "      <td>1300.0</td>\n",
              "      <td>1309.7</td>\n",
              "      <td>A</td>\n",
              "      <td>L</td>\n",
              "      <td>0.4</td>\n",
              "      <td>NaN</td>\n",
              "    </tr>\n",
              "    <tr>\n",
              "      <th>4</th>\n",
              "      <td>3</td>\n",
              "      <td>194611020DTF</td>\n",
              "      <td>NBA</td>\n",
              "      <td>0</td>\n",
              "      <td>1947</td>\n",
              "      <td>11/2/1946</td>\n",
              "      <td>1</td>\n",
              "      <td>0</td>\n",
              "      <td>DTF</td>\n",
              "      <td>Falcons</td>\n",
              "      <td>33</td>\n",
              "      <td>1300.0</td>\n",
              "      <td>1279.6</td>\n",
              "      <td>38.9</td>\n",
              "      <td>WSC</td>\n",
              "      <td>Capitols</td>\n",
              "      <td>50</td>\n",
              "      <td>1300.0</td>\n",
              "      <td>1320.4</td>\n",
              "      <td>H</td>\n",
              "      <td>L</td>\n",
              "      <td>0.6</td>\n",
              "      <td>NaN</td>\n",
              "    </tr>\n",
              "  </tbody>\n",
              "</table>\n",
              "</div>"
            ],
            "text/plain": [
              "   gameorder       game_id lg_id  _iscopy  year_id  date_game  seasongame  \\\n",
              "0          1  194611010TRH   NBA        0     1947  11/1/1946           1   \n",
              "1          1  194611010TRH   NBA        1     1947  11/1/1946           1   \n",
              "2          2  194611020CHS   NBA        0     1947  11/2/1946           1   \n",
              "3          2  194611020CHS   NBA        1     1947  11/2/1946           2   \n",
              "4          3  194611020DTF   NBA        0     1947  11/2/1946           1   \n",
              "\n",
              "   is_playoffs team_id  fran_id  pts   elo_i   elo_n  win_equiv opp_id  \\\n",
              "0            0     TRH  Huskies   66  1300.0  1293.3       40.3    NYK   \n",
              "1            0     NYK   Knicks   68  1300.0  1306.7       41.7    TRH   \n",
              "2            0     CHS    Stags   63  1300.0  1309.7       42.0    NYK   \n",
              "3            0     NYK   Knicks   47  1306.7  1297.1       40.7    CHS   \n",
              "4            0     DTF  Falcons   33  1300.0  1279.6       38.9    WSC   \n",
              "\n",
              "   opp_fran  opp_pts  opp_elo_i  opp_elo_n game_location game_result  \\\n",
              "0    Knicks       68     1300.0     1306.7             H           L   \n",
              "1   Huskies       66     1300.0     1293.3             A           W   \n",
              "2    Knicks       47     1306.7     1297.1             H           W   \n",
              "3     Stags       63     1300.0     1309.7             A           L   \n",
              "4  Capitols       50     1300.0     1320.4             H           L   \n",
              "\n",
              "   forecast notes  \n",
              "0       0.6   NaN  \n",
              "1       0.4   NaN  \n",
              "2       0.6   NaN  \n",
              "3       0.4   NaN  \n",
              "4       0.6   NaN  "
            ]
          },
          "metadata": {
            "tags": []
          },
          "execution_count": 11
        }
      ]
    },
    {
      "cell_type": "code",
      "metadata": {
        "id": "fnmhscXKKo0f",
        "colab_type": "code",
        "outputId": "3f7037be-2ff9-446d-8968-f700a648b9d1",
        "colab": {
          "base_uri": "https://localhost:8080/",
          "height": 224
        }
      },
      "source": [
        "nba.tail()   # display last five rows"
      ],
      "execution_count": 0,
      "outputs": [
        {
          "output_type": "execute_result",
          "data": {
            "text/html": [
              "<div>\n",
              "<style scoped>\n",
              "    .dataframe tbody tr th:only-of-type {\n",
              "        vertical-align: middle;\n",
              "    }\n",
              "\n",
              "    .dataframe tbody tr th {\n",
              "        vertical-align: top;\n",
              "    }\n",
              "\n",
              "    .dataframe thead th {\n",
              "        text-align: right;\n",
              "    }\n",
              "</style>\n",
              "<table border=\"1\" class=\"dataframe\">\n",
              "  <thead>\n",
              "    <tr style=\"text-align: right;\">\n",
              "      <th></th>\n",
              "      <th>gameorder</th>\n",
              "      <th>game_id</th>\n",
              "      <th>lg_id</th>\n",
              "      <th>_iscopy</th>\n",
              "      <th>year_id</th>\n",
              "      <th>date_game</th>\n",
              "      <th>seasongame</th>\n",
              "      <th>is_playoffs</th>\n",
              "      <th>team_id</th>\n",
              "      <th>fran_id</th>\n",
              "      <th>pts</th>\n",
              "      <th>elo_i</th>\n",
              "      <th>elo_n</th>\n",
              "      <th>win_equiv</th>\n",
              "      <th>opp_id</th>\n",
              "      <th>opp_fran</th>\n",
              "      <th>opp_pts</th>\n",
              "      <th>opp_elo_i</th>\n",
              "      <th>opp_elo_n</th>\n",
              "      <th>game_location</th>\n",
              "      <th>game_result</th>\n",
              "      <th>forecast</th>\n",
              "      <th>notes</th>\n",
              "    </tr>\n",
              "  </thead>\n",
              "  <tbody>\n",
              "    <tr>\n",
              "      <th>126309</th>\n",
              "      <td>63155</td>\n",
              "      <td>201506110CLE</td>\n",
              "      <td>NBA</td>\n",
              "      <td>0</td>\n",
              "      <td>2015</td>\n",
              "      <td>6/11/2015</td>\n",
              "      <td>100</td>\n",
              "      <td>1</td>\n",
              "      <td>CLE</td>\n",
              "      <td>Cavaliers</td>\n",
              "      <td>82</td>\n",
              "      <td>1723.4</td>\n",
              "      <td>1704.4</td>\n",
              "      <td>60.3</td>\n",
              "      <td>GSW</td>\n",
              "      <td>Warriors</td>\n",
              "      <td>103</td>\n",
              "      <td>1791.0</td>\n",
              "      <td>1810.0</td>\n",
              "      <td>H</td>\n",
              "      <td>L</td>\n",
              "      <td>0.5</td>\n",
              "      <td>NaN</td>\n",
              "    </tr>\n",
              "    <tr>\n",
              "      <th>126310</th>\n",
              "      <td>63156</td>\n",
              "      <td>201506140GSW</td>\n",
              "      <td>NBA</td>\n",
              "      <td>0</td>\n",
              "      <td>2015</td>\n",
              "      <td>6/14/2015</td>\n",
              "      <td>102</td>\n",
              "      <td>1</td>\n",
              "      <td>GSW</td>\n",
              "      <td>Warriors</td>\n",
              "      <td>104</td>\n",
              "      <td>1810.0</td>\n",
              "      <td>1813.6</td>\n",
              "      <td>68.0</td>\n",
              "      <td>CLE</td>\n",
              "      <td>Cavaliers</td>\n",
              "      <td>91</td>\n",
              "      <td>1704.4</td>\n",
              "      <td>1700.7</td>\n",
              "      <td>H</td>\n",
              "      <td>W</td>\n",
              "      <td>0.8</td>\n",
              "      <td>NaN</td>\n",
              "    </tr>\n",
              "    <tr>\n",
              "      <th>126311</th>\n",
              "      <td>63156</td>\n",
              "      <td>201506140GSW</td>\n",
              "      <td>NBA</td>\n",
              "      <td>1</td>\n",
              "      <td>2015</td>\n",
              "      <td>6/14/2015</td>\n",
              "      <td>101</td>\n",
              "      <td>1</td>\n",
              "      <td>CLE</td>\n",
              "      <td>Cavaliers</td>\n",
              "      <td>91</td>\n",
              "      <td>1704.4</td>\n",
              "      <td>1700.7</td>\n",
              "      <td>60.0</td>\n",
              "      <td>GSW</td>\n",
              "      <td>Warriors</td>\n",
              "      <td>104</td>\n",
              "      <td>1810.0</td>\n",
              "      <td>1813.6</td>\n",
              "      <td>A</td>\n",
              "      <td>L</td>\n",
              "      <td>0.2</td>\n",
              "      <td>NaN</td>\n",
              "    </tr>\n",
              "    <tr>\n",
              "      <th>126312</th>\n",
              "      <td>63157</td>\n",
              "      <td>201506170CLE</td>\n",
              "      <td>NBA</td>\n",
              "      <td>0</td>\n",
              "      <td>2015</td>\n",
              "      <td>6/16/2015</td>\n",
              "      <td>102</td>\n",
              "      <td>1</td>\n",
              "      <td>CLE</td>\n",
              "      <td>Cavaliers</td>\n",
              "      <td>97</td>\n",
              "      <td>1700.7</td>\n",
              "      <td>1692.1</td>\n",
              "      <td>59.3</td>\n",
              "      <td>GSW</td>\n",
              "      <td>Warriors</td>\n",
              "      <td>105</td>\n",
              "      <td>1813.6</td>\n",
              "      <td>1822.3</td>\n",
              "      <td>H</td>\n",
              "      <td>L</td>\n",
              "      <td>0.5</td>\n",
              "      <td>NaN</td>\n",
              "    </tr>\n",
              "    <tr>\n",
              "      <th>126313</th>\n",
              "      <td>63157</td>\n",
              "      <td>201506170CLE</td>\n",
              "      <td>NBA</td>\n",
              "      <td>1</td>\n",
              "      <td>2015</td>\n",
              "      <td>6/16/2015</td>\n",
              "      <td>103</td>\n",
              "      <td>1</td>\n",
              "      <td>GSW</td>\n",
              "      <td>Warriors</td>\n",
              "      <td>105</td>\n",
              "      <td>1813.6</td>\n",
              "      <td>1822.3</td>\n",
              "      <td>68.5</td>\n",
              "      <td>CLE</td>\n",
              "      <td>Cavaliers</td>\n",
              "      <td>97</td>\n",
              "      <td>1700.7</td>\n",
              "      <td>1692.1</td>\n",
              "      <td>A</td>\n",
              "      <td>W</td>\n",
              "      <td>0.5</td>\n",
              "      <td>NaN</td>\n",
              "    </tr>\n",
              "  </tbody>\n",
              "</table>\n",
              "</div>"
            ],
            "text/plain": [
              "        gameorder       game_id lg_id  _iscopy  year_id  date_game  \\\n",
              "126309      63155  201506110CLE   NBA        0     2015  6/11/2015   \n",
              "126310      63156  201506140GSW   NBA        0     2015  6/14/2015   \n",
              "126311      63156  201506140GSW   NBA        1     2015  6/14/2015   \n",
              "126312      63157  201506170CLE   NBA        0     2015  6/16/2015   \n",
              "126313      63157  201506170CLE   NBA        1     2015  6/16/2015   \n",
              "\n",
              "        seasongame  is_playoffs team_id    fran_id  pts   elo_i   elo_n  \\\n",
              "126309         100            1     CLE  Cavaliers   82  1723.4  1704.4   \n",
              "126310         102            1     GSW   Warriors  104  1810.0  1813.6   \n",
              "126311         101            1     CLE  Cavaliers   91  1704.4  1700.7   \n",
              "126312         102            1     CLE  Cavaliers   97  1700.7  1692.1   \n",
              "126313         103            1     GSW   Warriors  105  1813.6  1822.3   \n",
              "\n",
              "        win_equiv opp_id   opp_fran  opp_pts  opp_elo_i  opp_elo_n  \\\n",
              "126309       60.3    GSW   Warriors      103     1791.0     1810.0   \n",
              "126310       68.0    CLE  Cavaliers       91     1704.4     1700.7   \n",
              "126311       60.0    GSW   Warriors      104     1810.0     1813.6   \n",
              "126312       59.3    GSW   Warriors      105     1813.6     1822.3   \n",
              "126313       68.5    CLE  Cavaliers       97     1700.7     1692.1   \n",
              "\n",
              "       game_location game_result  forecast notes  \n",
              "126309             H           L       0.5   NaN  \n",
              "126310             H           W       0.8   NaN  \n",
              "126311             A           L       0.2   NaN  \n",
              "126312             H           L       0.5   NaN  \n",
              "126313             A           W       0.5   NaN  "
            ]
          },
          "metadata": {
            "tags": []
          },
          "execution_count": 12
        }
      ]
    },
    {
      "cell_type": "code",
      "metadata": {
        "id": "sXFVNSGD-lqr",
        "colab_type": "code",
        "outputId": "84c54319-d98f-4dac-f0e6-76bc29768782",
        "colab": {
          "base_uri": "https://localhost:8080/",
          "height": 286
        }
      },
      "source": [
        "nba.tail(7) # displays the last 3 rows of the dataset #"
      ],
      "execution_count": 0,
      "outputs": [
        {
          "output_type": "execute_result",
          "data": {
            "text/html": [
              "<div>\n",
              "<style scoped>\n",
              "    .dataframe tbody tr th:only-of-type {\n",
              "        vertical-align: middle;\n",
              "    }\n",
              "\n",
              "    .dataframe tbody tr th {\n",
              "        vertical-align: top;\n",
              "    }\n",
              "\n",
              "    .dataframe thead th {\n",
              "        text-align: right;\n",
              "    }\n",
              "</style>\n",
              "<table border=\"1\" class=\"dataframe\">\n",
              "  <thead>\n",
              "    <tr style=\"text-align: right;\">\n",
              "      <th></th>\n",
              "      <th>gameorder</th>\n",
              "      <th>game_id</th>\n",
              "      <th>lg_id</th>\n",
              "      <th>_iscopy</th>\n",
              "      <th>year_id</th>\n",
              "      <th>date_game</th>\n",
              "      <th>seasongame</th>\n",
              "      <th>is_playoffs</th>\n",
              "      <th>team_id</th>\n",
              "      <th>fran_id</th>\n",
              "      <th>pts</th>\n",
              "      <th>elo_i</th>\n",
              "      <th>elo_n</th>\n",
              "      <th>win_equiv</th>\n",
              "      <th>opp_id</th>\n",
              "      <th>opp_fran</th>\n",
              "      <th>opp_pts</th>\n",
              "      <th>opp_elo_i</th>\n",
              "      <th>opp_elo_n</th>\n",
              "      <th>game_location</th>\n",
              "      <th>game_result</th>\n",
              "      <th>forecast</th>\n",
              "      <th>notes</th>\n",
              "    </tr>\n",
              "  </thead>\n",
              "  <tbody>\n",
              "    <tr>\n",
              "      <th>126307</th>\n",
              "      <td>63154</td>\n",
              "      <td>201506090CLE</td>\n",
              "      <td>NBA</td>\n",
              "      <td>0</td>\n",
              "      <td>2015</td>\n",
              "      <td>6/9/2015</td>\n",
              "      <td>99</td>\n",
              "      <td>1</td>\n",
              "      <td>CLE</td>\n",
              "      <td>Cavaliers</td>\n",
              "      <td>96</td>\n",
              "      <td>1716.9</td>\n",
              "      <td>1723.4</td>\n",
              "      <td>61.8</td>\n",
              "      <td>GSW</td>\n",
              "      <td>Warriors</td>\n",
              "      <td>91</td>\n",
              "      <td>1797.5</td>\n",
              "      <td>1791.0</td>\n",
              "      <td>H</td>\n",
              "      <td>W</td>\n",
              "      <td>0.5</td>\n",
              "      <td>NaN</td>\n",
              "    </tr>\n",
              "    <tr>\n",
              "      <th>126308</th>\n",
              "      <td>63155</td>\n",
              "      <td>201506110CLE</td>\n",
              "      <td>NBA</td>\n",
              "      <td>1</td>\n",
              "      <td>2015</td>\n",
              "      <td>6/11/2015</td>\n",
              "      <td>101</td>\n",
              "      <td>1</td>\n",
              "      <td>GSW</td>\n",
              "      <td>Warriors</td>\n",
              "      <td>103</td>\n",
              "      <td>1791.0</td>\n",
              "      <td>1810.0</td>\n",
              "      <td>67.8</td>\n",
              "      <td>CLE</td>\n",
              "      <td>Cavaliers</td>\n",
              "      <td>82</td>\n",
              "      <td>1723.4</td>\n",
              "      <td>1704.4</td>\n",
              "      <td>A</td>\n",
              "      <td>W</td>\n",
              "      <td>0.5</td>\n",
              "      <td>NaN</td>\n",
              "    </tr>\n",
              "    <tr>\n",
              "      <th>126309</th>\n",
              "      <td>63155</td>\n",
              "      <td>201506110CLE</td>\n",
              "      <td>NBA</td>\n",
              "      <td>0</td>\n",
              "      <td>2015</td>\n",
              "      <td>6/11/2015</td>\n",
              "      <td>100</td>\n",
              "      <td>1</td>\n",
              "      <td>CLE</td>\n",
              "      <td>Cavaliers</td>\n",
              "      <td>82</td>\n",
              "      <td>1723.4</td>\n",
              "      <td>1704.4</td>\n",
              "      <td>60.3</td>\n",
              "      <td>GSW</td>\n",
              "      <td>Warriors</td>\n",
              "      <td>103</td>\n",
              "      <td>1791.0</td>\n",
              "      <td>1810.0</td>\n",
              "      <td>H</td>\n",
              "      <td>L</td>\n",
              "      <td>0.5</td>\n",
              "      <td>NaN</td>\n",
              "    </tr>\n",
              "    <tr>\n",
              "      <th>126310</th>\n",
              "      <td>63156</td>\n",
              "      <td>201506140GSW</td>\n",
              "      <td>NBA</td>\n",
              "      <td>0</td>\n",
              "      <td>2015</td>\n",
              "      <td>6/14/2015</td>\n",
              "      <td>102</td>\n",
              "      <td>1</td>\n",
              "      <td>GSW</td>\n",
              "      <td>Warriors</td>\n",
              "      <td>104</td>\n",
              "      <td>1810.0</td>\n",
              "      <td>1813.6</td>\n",
              "      <td>68.0</td>\n",
              "      <td>CLE</td>\n",
              "      <td>Cavaliers</td>\n",
              "      <td>91</td>\n",
              "      <td>1704.4</td>\n",
              "      <td>1700.7</td>\n",
              "      <td>H</td>\n",
              "      <td>W</td>\n",
              "      <td>0.8</td>\n",
              "      <td>NaN</td>\n",
              "    </tr>\n",
              "    <tr>\n",
              "      <th>126311</th>\n",
              "      <td>63156</td>\n",
              "      <td>201506140GSW</td>\n",
              "      <td>NBA</td>\n",
              "      <td>1</td>\n",
              "      <td>2015</td>\n",
              "      <td>6/14/2015</td>\n",
              "      <td>101</td>\n",
              "      <td>1</td>\n",
              "      <td>CLE</td>\n",
              "      <td>Cavaliers</td>\n",
              "      <td>91</td>\n",
              "      <td>1704.4</td>\n",
              "      <td>1700.7</td>\n",
              "      <td>60.0</td>\n",
              "      <td>GSW</td>\n",
              "      <td>Warriors</td>\n",
              "      <td>104</td>\n",
              "      <td>1810.0</td>\n",
              "      <td>1813.6</td>\n",
              "      <td>A</td>\n",
              "      <td>L</td>\n",
              "      <td>0.2</td>\n",
              "      <td>NaN</td>\n",
              "    </tr>\n",
              "    <tr>\n",
              "      <th>126312</th>\n",
              "      <td>63157</td>\n",
              "      <td>201506170CLE</td>\n",
              "      <td>NBA</td>\n",
              "      <td>0</td>\n",
              "      <td>2015</td>\n",
              "      <td>6/16/2015</td>\n",
              "      <td>102</td>\n",
              "      <td>1</td>\n",
              "      <td>CLE</td>\n",
              "      <td>Cavaliers</td>\n",
              "      <td>97</td>\n",
              "      <td>1700.7</td>\n",
              "      <td>1692.1</td>\n",
              "      <td>59.3</td>\n",
              "      <td>GSW</td>\n",
              "      <td>Warriors</td>\n",
              "      <td>105</td>\n",
              "      <td>1813.6</td>\n",
              "      <td>1822.3</td>\n",
              "      <td>H</td>\n",
              "      <td>L</td>\n",
              "      <td>0.5</td>\n",
              "      <td>NaN</td>\n",
              "    </tr>\n",
              "    <tr>\n",
              "      <th>126313</th>\n",
              "      <td>63157</td>\n",
              "      <td>201506170CLE</td>\n",
              "      <td>NBA</td>\n",
              "      <td>1</td>\n",
              "      <td>2015</td>\n",
              "      <td>6/16/2015</td>\n",
              "      <td>103</td>\n",
              "      <td>1</td>\n",
              "      <td>GSW</td>\n",
              "      <td>Warriors</td>\n",
              "      <td>105</td>\n",
              "      <td>1813.6</td>\n",
              "      <td>1822.3</td>\n",
              "      <td>68.5</td>\n",
              "      <td>CLE</td>\n",
              "      <td>Cavaliers</td>\n",
              "      <td>97</td>\n",
              "      <td>1700.7</td>\n",
              "      <td>1692.1</td>\n",
              "      <td>A</td>\n",
              "      <td>W</td>\n",
              "      <td>0.5</td>\n",
              "      <td>NaN</td>\n",
              "    </tr>\n",
              "  </tbody>\n",
              "</table>\n",
              "</div>"
            ],
            "text/plain": [
              "        gameorder       game_id lg_id  _iscopy  year_id  date_game  \\\n",
              "126307      63154  201506090CLE   NBA        0     2015   6/9/2015   \n",
              "126308      63155  201506110CLE   NBA        1     2015  6/11/2015   \n",
              "126309      63155  201506110CLE   NBA        0     2015  6/11/2015   \n",
              "126310      63156  201506140GSW   NBA        0     2015  6/14/2015   \n",
              "126311      63156  201506140GSW   NBA        1     2015  6/14/2015   \n",
              "126312      63157  201506170CLE   NBA        0     2015  6/16/2015   \n",
              "126313      63157  201506170CLE   NBA        1     2015  6/16/2015   \n",
              "\n",
              "        seasongame  is_playoffs team_id    fran_id  pts   elo_i   elo_n  \\\n",
              "126307          99            1     CLE  Cavaliers   96  1716.9  1723.4   \n",
              "126308         101            1     GSW   Warriors  103  1791.0  1810.0   \n",
              "126309         100            1     CLE  Cavaliers   82  1723.4  1704.4   \n",
              "126310         102            1     GSW   Warriors  104  1810.0  1813.6   \n",
              "126311         101            1     CLE  Cavaliers   91  1704.4  1700.7   \n",
              "126312         102            1     CLE  Cavaliers   97  1700.7  1692.1   \n",
              "126313         103            1     GSW   Warriors  105  1813.6  1822.3   \n",
              "\n",
              "        win_equiv opp_id   opp_fran  opp_pts  opp_elo_i  opp_elo_n  \\\n",
              "126307       61.8    GSW   Warriors       91     1797.5     1791.0   \n",
              "126308       67.8    CLE  Cavaliers       82     1723.4     1704.4   \n",
              "126309       60.3    GSW   Warriors      103     1791.0     1810.0   \n",
              "126310       68.0    CLE  Cavaliers       91     1704.4     1700.7   \n",
              "126311       60.0    GSW   Warriors      104     1810.0     1813.6   \n",
              "126312       59.3    GSW   Warriors      105     1813.6     1822.3   \n",
              "126313       68.5    CLE  Cavaliers       97     1700.7     1692.1   \n",
              "\n",
              "       game_location game_result  forecast notes  \n",
              "126307             H           W       0.5   NaN  \n",
              "126308             A           W       0.5   NaN  \n",
              "126309             H           L       0.5   NaN  \n",
              "126310             H           W       0.8   NaN  \n",
              "126311             A           L       0.2   NaN  \n",
              "126312             H           L       0.5   NaN  \n",
              "126313             A           W       0.5   NaN  "
            ]
          },
          "metadata": {
            "tags": []
          },
          "execution_count": 13
        }
      ]
    },
    {
      "cell_type": "markdown",
      "metadata": {
        "id": "GgiPUF7RLLzC",
        "colab_type": "text"
      },
      "source": [
        "##**Getting to know the data**\n",
        "![alt text](https://miro.medium.com/max/403/1*TUw8sTRFiMgV0KRyUzjWmQ.jpeg)\n",
        "\n",
        "\n",
        "you imported a CSV file, with the pandas libray and had a 1st look a the contents of your dataset, so far you only seen the size of the dataset and the first/last few rows. \n",
        "\n",
        "**Now lets examine the data more systematically**\n",
        "\n",
        "**Displaying the Data Types**\n",
        "\n",
        "The first steps in getting to know your data is having a understanding of the **data-types** it contains.  While you can place anything into a list, the columns of a **Dataframe** contain values of a specific data type. When you compare Pandas and Python data structures you see that this behavior makes Pandas much faster.  \n",
        "\n",
        "you can display ALL columns and their data types with .info()"
      ]
    },
    {
      "cell_type": "code",
      "metadata": {
        "id": "vIQ4hSDcM71q",
        "colab_type": "code",
        "outputId": "d2e2812a-2dd6-495c-afe7-a32196b21048",
        "colab": {
          "base_uri": "https://localhost:8080/",
          "height": 493
        }
      },
      "source": [
        "nba.info()  # this will display ALL of the columns in your dataset, and the TYPE of data each column contains \n",
        "# Here you can see the following data types : int64, float64 and object.  Pandas uses numpy to work with these data types \n",
        "# the object data type is a special one. \"Catch-all\" for the data types that python doesnt recognize.   \"strings\" in practice!"
      ],
      "execution_count": 0,
      "outputs": [
        {
          "output_type": "stream",
          "text": [
            "<class 'pandas.core.frame.DataFrame'>\n",
            "RangeIndex: 126314 entries, 0 to 126313\n",
            "Data columns (total 23 columns):\n",
            "gameorder        126314 non-null int64\n",
            "game_id          126314 non-null object\n",
            "lg_id            126314 non-null object\n",
            "_iscopy          126314 non-null int64\n",
            "year_id          126314 non-null int64\n",
            "date_game        126314 non-null object\n",
            "seasongame       126314 non-null int64\n",
            "is_playoffs      126314 non-null int64\n",
            "team_id          126314 non-null object\n",
            "fran_id          126314 non-null object\n",
            "pts              126314 non-null int64\n",
            "elo_i            126314 non-null float64\n",
            "elo_n            126314 non-null float64\n",
            "win_equiv        126314 non-null float64\n",
            "opp_id           126314 non-null object\n",
            "opp_fran         126314 non-null object\n",
            "opp_pts          126314 non-null int64\n",
            "opp_elo_i        126314 non-null float64\n",
            "opp_elo_n        126314 non-null float64\n",
            "game_location    126314 non-null object\n",
            "game_result      126314 non-null object\n",
            "forecast         126314 non-null float64\n",
            "notes            5424 non-null object\n",
            "dtypes: float64(6), int64(7), object(10)\n",
            "memory usage: 22.2+ MB\n"
          ],
          "name": "stdout"
        }
      ]
    },
    {
      "cell_type": "markdown",
      "metadata": {
        "id": "uISabxWosz6k",
        "colab_type": "text"
      },
      "source": [
        "You see a list of ALL the columns in your dataset and the type of data each column contains.  You can see three (3)**bold text** data types: **int64, float64**, and **object**.  Pandas use NumPy library to work with these types Later you will the more complex \"categorical\" data type which the Pandas library implements itself. \n",
        "\n",
        "\n",
        "the **object** data type is a special one. The Object data type is a \"*catch-all*\" for columns that Pandas doesnt recognize as any pother specific data type.  In practice,  it means that the values in the columns are strings.\n",
        "\n",
        "although you can store arbitrary python objects in the object data type, there are some drawbacks\n",
        "\n",
        "*   Strange values in a object column can harm pandas performance\n",
        "*   interoperaility with other libraries can also be affected. \n",
        "\n"
      ]
    },
    {
      "cell_type": "markdown",
      "metadata": {
        "id": "kGk3vd_qxAZB",
        "colab_type": "text"
      },
      "source": [
        "##**Showing Basic Statistics**\n",
        "\n",
        "Now that you've seen what datatypes are in your dataset, lets get an overview of the values in each column. You can do this with .describe()"
      ]
    },
    {
      "cell_type": "code",
      "metadata": {
        "id": "mDPhv3H4x2rN",
        "colab_type": "code",
        "outputId": "941909d3-0b94-4682-c64d-7eaf7dc0c508",
        "colab": {
          "base_uri": "https://localhost:8080/",
          "height": 297
        }
      },
      "source": [
        "nba.describe() #show basics stata for all numerical (by default) columns #"
      ],
      "execution_count": 0,
      "outputs": [
        {
          "output_type": "execute_result",
          "data": {
            "text/html": [
              "<div>\n",
              "<style scoped>\n",
              "    .dataframe tbody tr th:only-of-type {\n",
              "        vertical-align: middle;\n",
              "    }\n",
              "\n",
              "    .dataframe tbody tr th {\n",
              "        vertical-align: top;\n",
              "    }\n",
              "\n",
              "    .dataframe thead th {\n",
              "        text-align: right;\n",
              "    }\n",
              "</style>\n",
              "<table border=\"1\" class=\"dataframe\">\n",
              "  <thead>\n",
              "    <tr style=\"text-align: right;\">\n",
              "      <th></th>\n",
              "      <th>gameorder</th>\n",
              "      <th>_iscopy</th>\n",
              "      <th>year_id</th>\n",
              "      <th>seasongame</th>\n",
              "      <th>is_playoffs</th>\n",
              "      <th>pts</th>\n",
              "      <th>elo_i</th>\n",
              "      <th>elo_n</th>\n",
              "      <th>win_equiv</th>\n",
              "      <th>opp_pts</th>\n",
              "      <th>opp_elo_i</th>\n",
              "      <th>opp_elo_n</th>\n",
              "      <th>forecast</th>\n",
              "    </tr>\n",
              "  </thead>\n",
              "  <tbody>\n",
              "    <tr>\n",
              "      <th>count</th>\n",
              "      <td>126314.0</td>\n",
              "      <td>126314.0</td>\n",
              "      <td>126314.0</td>\n",
              "      <td>126314.0</td>\n",
              "      <td>1.3e+05</td>\n",
              "      <td>126314.0</td>\n",
              "      <td>126314.0</td>\n",
              "      <td>126314.0</td>\n",
              "      <td>126314.0</td>\n",
              "      <td>126314.0</td>\n",
              "      <td>126314.0</td>\n",
              "      <td>126314.0</td>\n",
              "      <td>1.3e+05</td>\n",
              "    </tr>\n",
              "    <tr>\n",
              "      <th>mean</th>\n",
              "      <td>31579.0</td>\n",
              "      <td>0.5</td>\n",
              "      <td>1988.2</td>\n",
              "      <td>43.5</td>\n",
              "      <td>6.4e-02</td>\n",
              "      <td>102.7</td>\n",
              "      <td>1495.2</td>\n",
              "      <td>1495.2</td>\n",
              "      <td>41.7</td>\n",
              "      <td>102.7</td>\n",
              "      <td>1495.2</td>\n",
              "      <td>1495.2</td>\n",
              "      <td>5.0e-01</td>\n",
              "    </tr>\n",
              "    <tr>\n",
              "      <th>std</th>\n",
              "      <td>18231.9</td>\n",
              "      <td>0.5</td>\n",
              "      <td>17.6</td>\n",
              "      <td>25.4</td>\n",
              "      <td>2.4e-01</td>\n",
              "      <td>14.8</td>\n",
              "      <td>112.1</td>\n",
              "      <td>112.5</td>\n",
              "      <td>10.6</td>\n",
              "      <td>14.8</td>\n",
              "      <td>112.1</td>\n",
              "      <td>112.5</td>\n",
              "      <td>2.2e-01</td>\n",
              "    </tr>\n",
              "    <tr>\n",
              "      <th>min</th>\n",
              "      <td>1.0</td>\n",
              "      <td>0.0</td>\n",
              "      <td>1947.0</td>\n",
              "      <td>1.0</td>\n",
              "      <td>0.0e+00</td>\n",
              "      <td>0.0</td>\n",
              "      <td>1091.6</td>\n",
              "      <td>1085.8</td>\n",
              "      <td>10.2</td>\n",
              "      <td>0.0</td>\n",
              "      <td>1091.6</td>\n",
              "      <td>1085.8</td>\n",
              "      <td>2.0e-02</td>\n",
              "    </tr>\n",
              "    <tr>\n",
              "      <th>25%</th>\n",
              "      <td>15790.0</td>\n",
              "      <td>0.0</td>\n",
              "      <td>1975.0</td>\n",
              "      <td>22.0</td>\n",
              "      <td>0.0e+00</td>\n",
              "      <td>93.0</td>\n",
              "      <td>1417.2</td>\n",
              "      <td>1417.0</td>\n",
              "      <td>34.1</td>\n",
              "      <td>93.0</td>\n",
              "      <td>1417.2</td>\n",
              "      <td>1417.0</td>\n",
              "      <td>3.3e-01</td>\n",
              "    </tr>\n",
              "    <tr>\n",
              "      <th>50%</th>\n",
              "      <td>31579.0</td>\n",
              "      <td>0.5</td>\n",
              "      <td>1990.0</td>\n",
              "      <td>43.0</td>\n",
              "      <td>0.0e+00</td>\n",
              "      <td>103.0</td>\n",
              "      <td>1500.9</td>\n",
              "      <td>1501.0</td>\n",
              "      <td>42.1</td>\n",
              "      <td>103.0</td>\n",
              "      <td>1500.9</td>\n",
              "      <td>1501.0</td>\n",
              "      <td>5.0e-01</td>\n",
              "    </tr>\n",
              "    <tr>\n",
              "      <th>75%</th>\n",
              "      <td>47368.0</td>\n",
              "      <td>1.0</td>\n",
              "      <td>2003.0</td>\n",
              "      <td>65.0</td>\n",
              "      <td>0.0e+00</td>\n",
              "      <td>112.0</td>\n",
              "      <td>1576.1</td>\n",
              "      <td>1576.3</td>\n",
              "      <td>49.6</td>\n",
              "      <td>112.0</td>\n",
              "      <td>1576.1</td>\n",
              "      <td>1576.3</td>\n",
              "      <td>6.7e-01</td>\n",
              "    </tr>\n",
              "    <tr>\n",
              "      <th>max</th>\n",
              "      <td>63157.0</td>\n",
              "      <td>1.0</td>\n",
              "      <td>2015.0</td>\n",
              "      <td>108.0</td>\n",
              "      <td>1.0e+00</td>\n",
              "      <td>186.0</td>\n",
              "      <td>1853.1</td>\n",
              "      <td>1853.1</td>\n",
              "      <td>71.1</td>\n",
              "      <td>186.0</td>\n",
              "      <td>1853.1</td>\n",
              "      <td>1853.1</td>\n",
              "      <td>9.8e-01</td>\n",
              "    </tr>\n",
              "  </tbody>\n",
              "</table>\n",
              "</div>"
            ],
            "text/plain": [
              "       gameorder   _iscopy   year_id  seasongame  is_playoffs       pts  \\\n",
              "count   126314.0  126314.0  126314.0    126314.0      1.3e+05  126314.0   \n",
              "mean     31579.0       0.5    1988.2        43.5      6.4e-02     102.7   \n",
              "std      18231.9       0.5      17.6        25.4      2.4e-01      14.8   \n",
              "min          1.0       0.0    1947.0         1.0      0.0e+00       0.0   \n",
              "25%      15790.0       0.0    1975.0        22.0      0.0e+00      93.0   \n",
              "50%      31579.0       0.5    1990.0        43.0      0.0e+00     103.0   \n",
              "75%      47368.0       1.0    2003.0        65.0      0.0e+00     112.0   \n",
              "max      63157.0       1.0    2015.0       108.0      1.0e+00     186.0   \n",
              "\n",
              "          elo_i     elo_n  win_equiv   opp_pts  opp_elo_i  opp_elo_n  forecast  \n",
              "count  126314.0  126314.0   126314.0  126314.0   126314.0   126314.0   1.3e+05  \n",
              "mean     1495.2    1495.2       41.7     102.7     1495.2     1495.2   5.0e-01  \n",
              "std       112.1     112.5       10.6      14.8      112.1      112.5   2.2e-01  \n",
              "min      1091.6    1085.8       10.2       0.0     1091.6     1085.8   2.0e-02  \n",
              "25%      1417.2    1417.0       34.1      93.0     1417.2     1417.0   3.3e-01  \n",
              "50%      1500.9    1501.0       42.1     103.0     1500.9     1501.0   5.0e-01  \n",
              "75%      1576.1    1576.3       49.6     112.0     1576.1     1576.3   6.7e-01  \n",
              "max      1853.1    1853.1       71.1     186.0     1853.1     1853.1   9.8e-01  "
            ]
          },
          "metadata": {
            "tags": []
          },
          "execution_count": 15
        }
      ]
    },
    {
      "cell_type": "markdown",
      "metadata": {
        "id": "BmW6GDvEyGDk",
        "colab_type": "text"
      },
      "source": [
        "This function show you some more basic descriptive statisitics for all numerical columns. \n",
        "\n",
        "NOTE: .describe() only analyzes numerical columns by default. But you can provide other data types  if you use the \"include\" parameter"
      ]
    },
    {
      "cell_type": "code",
      "metadata": {
        "id": "wYikWZcqywmU",
        "colab_type": "code",
        "outputId": "85d593b8-2e9e-441a-da55-c5f888b63eda",
        "colab": {
          "base_uri": "https://localhost:8080/",
          "height": 173
        }
      },
      "source": [
        "import numpy as np\n",
        "nba.describe(include=np.object)  # use include parameter for non int64/float64 values #"
      ],
      "execution_count": 0,
      "outputs": [
        {
          "output_type": "execute_result",
          "data": {
            "text/html": [
              "<div>\n",
              "<style scoped>\n",
              "    .dataframe tbody tr th:only-of-type {\n",
              "        vertical-align: middle;\n",
              "    }\n",
              "\n",
              "    .dataframe tbody tr th {\n",
              "        vertical-align: top;\n",
              "    }\n",
              "\n",
              "    .dataframe thead th {\n",
              "        text-align: right;\n",
              "    }\n",
              "</style>\n",
              "<table border=\"1\" class=\"dataframe\">\n",
              "  <thead>\n",
              "    <tr style=\"text-align: right;\">\n",
              "      <th></th>\n",
              "      <th>game_id</th>\n",
              "      <th>lg_id</th>\n",
              "      <th>date_game</th>\n",
              "      <th>team_id</th>\n",
              "      <th>fran_id</th>\n",
              "      <th>opp_id</th>\n",
              "      <th>opp_fran</th>\n",
              "      <th>game_location</th>\n",
              "      <th>game_result</th>\n",
              "      <th>notes</th>\n",
              "    </tr>\n",
              "  </thead>\n",
              "  <tbody>\n",
              "    <tr>\n",
              "      <th>count</th>\n",
              "      <td>126314</td>\n",
              "      <td>126314</td>\n",
              "      <td>126314</td>\n",
              "      <td>126314</td>\n",
              "      <td>126314</td>\n",
              "      <td>126314</td>\n",
              "      <td>126314</td>\n",
              "      <td>126314</td>\n",
              "      <td>126314</td>\n",
              "      <td>5424</td>\n",
              "    </tr>\n",
              "    <tr>\n",
              "      <th>unique</th>\n",
              "      <td>63157</td>\n",
              "      <td>2</td>\n",
              "      <td>12426</td>\n",
              "      <td>104</td>\n",
              "      <td>53</td>\n",
              "      <td>104</td>\n",
              "      <td>53</td>\n",
              "      <td>3</td>\n",
              "      <td>2</td>\n",
              "      <td>231</td>\n",
              "    </tr>\n",
              "    <tr>\n",
              "      <th>top</th>\n",
              "      <td>199711150CHH</td>\n",
              "      <td>NBA</td>\n",
              "      <td>4/17/2013</td>\n",
              "      <td>BOS</td>\n",
              "      <td>Lakers</td>\n",
              "      <td>BOS</td>\n",
              "      <td>Lakers</td>\n",
              "      <td>A</td>\n",
              "      <td>L</td>\n",
              "      <td>at New York NY</td>\n",
              "    </tr>\n",
              "    <tr>\n",
              "      <th>freq</th>\n",
              "      <td>2</td>\n",
              "      <td>118016</td>\n",
              "      <td>30</td>\n",
              "      <td>5997</td>\n",
              "      <td>6024</td>\n",
              "      <td>5997</td>\n",
              "      <td>6024</td>\n",
              "      <td>63138</td>\n",
              "      <td>63157</td>\n",
              "      <td>440</td>\n",
              "    </tr>\n",
              "  </tbody>\n",
              "</table>\n",
              "</div>"
            ],
            "text/plain": [
              "             game_id   lg_id  date_game team_id fran_id  opp_id opp_fran  \\\n",
              "count         126314  126314     126314  126314  126314  126314   126314   \n",
              "unique         63157       2      12426     104      53     104       53   \n",
              "top     199711150CHH     NBA  4/17/2013     BOS  Lakers     BOS   Lakers   \n",
              "freq               2  118016         30    5997    6024    5997     6024   \n",
              "\n",
              "       game_location game_result           notes  \n",
              "count         126314      126314            5424  \n",
              "unique             3           2             231  \n",
              "top                A           L  at New York NY  \n",
              "freq           63138       63157             440  "
            ]
          },
          "metadata": {
            "tags": []
          },
          "execution_count": 16
        }
      ]
    },
    {
      "cell_type": "markdown",
      "metadata": {
        "id": "ro4cImrfzDL_",
        "colab_type": "text"
      },
      "source": [
        ".describe wont try to calculate a *MEAN or Standard Deviation* for the object columns, since they mostly include text strings but still will provide some descriptivie statistics. \n",
        "\n",
        "Take a look at the team_id and Fran_id columns. the data set contains 104 team IDs but only 53 franchise IDs. Furthermore, the most frequent team ID is BOS (Boston), and the most frequent franchise is lakers.   How is this possible?\n",
        "\n",
        "Lets explore a bit more..."
      ]
    },
    {
      "cell_type": "markdown",
      "metadata": {
        "id": "gIIS24yV1Ak8",
        "colab_type": "text"
      },
      "source": [
        "##**Exploratory Data Analysis**\n",
        "\n",
        "exploratatory data analysis can help you answer questions about your dataset. for example, you can examine how often values occur in a specific column"
      ]
    },
    {
      "cell_type": "code",
      "metadata": {
        "id": "vHMceEpt4Q-f",
        "colab_type": "code",
        "outputId": "520e54b1-ad42-43ed-8905-6daec67c85e3",
        "colab": {
          "base_uri": "https://localhost:8080/",
          "height": 221
        }
      },
      "source": [
        "nba[\"team_id\"].value_counts()"
      ],
      "execution_count": 0,
      "outputs": [
        {
          "output_type": "execute_result",
          "data": {
            "text/plain": [
              "BOS    5997\n",
              "NYK    5769\n",
              "LAL    5078\n",
              "DET    4985\n",
              "PHI    4533\n",
              "       ... \n",
              "TRH      60\n",
              "INJ      60\n",
              "PIT      60\n",
              "DTF      60\n",
              "SDS      11\n",
              "Name: team_id, Length: 104, dtype: int64"
            ]
          },
          "metadata": {
            "tags": []
          },
          "execution_count": 17
        }
      ]
    },
    {
      "cell_type": "code",
      "metadata": {
        "id": "MuqPhqDq4eEo",
        "colab_type": "code",
        "outputId": "68b5e62f-98c3-4daf-f182-51940868b5f4",
        "colab": {
          "base_uri": "https://localhost:8080/",
          "height": 935
        }
      },
      "source": [
        "nba[\"fran_id\"].value_counts()"
      ],
      "execution_count": 0,
      "outputs": [
        {
          "output_type": "execute_result",
          "data": {
            "text/plain": [
              "Lakers          6024\n",
              "Celtics         5997\n",
              "Knicks          5769\n",
              "Warriors        5657\n",
              "Pistons         5650\n",
              "Sixers          5644\n",
              "Hawks           5572\n",
              "Kings           5475\n",
              "Wizards         4582\n",
              "Spurs           4309\n",
              "Bulls           4307\n",
              "Pacers          4227\n",
              "Thunder         4178\n",
              "Rockets         4154\n",
              "Nuggets         4120\n",
              "Nets            4106\n",
              "Suns            4080\n",
              "Bucks           4034\n",
              "Trailblazers    3870\n",
              "Cavaliers       3810\n",
              "Clippers        3733\n",
              "Jazz            3555\n",
              "Mavericks       3013\n",
              "Heat            2371\n",
              "Pelicans        2254\n",
              "Magic           2207\n",
              "Timberwolves    2131\n",
              "Grizzlies       1657\n",
              "Raptors         1634\n",
              "Hornets          894\n",
              "Colonels         846\n",
              "Squires          799\n",
              "Spirits          777\n",
              "Stars            756\n",
              "Sounds           697\n",
              "Baltimore        467\n",
              "Floridians       440\n",
              "Condors          430\n",
              "Capitols         291\n",
              "Olympians        282\n",
              "Sails            274\n",
              "Stags            260\n",
              "Bombers          249\n",
              "Steamrollers     168\n",
              "Packers           72\n",
              "Redskins          65\n",
              "Rebels            63\n",
              "Waterloo          62\n",
              "Denver            62\n",
              "Falcons           60\n",
              "Jets              60\n",
              "Huskies           60\n",
              "Ironmen           60\n",
              "Name: fran_id, dtype: int64"
            ]
          },
          "metadata": {
            "tags": []
          },
          "execution_count": 18
        }
      ]
    },
    {
      "cell_type": "markdown",
      "metadata": {
        "id": "yS1iaO-T5GGW",
        "colab_type": "text"
      },
      "source": [
        "It seems that a team named \"lakers\" played 6024 games but only 5078 of those were played by the Los Angeles lakers.  who is the other lakers team?"
      ]
    },
    {
      "cell_type": "code",
      "metadata": {
        "id": "-Z2LLmMb6duN",
        "colab_type": "code",
        "outputId": "1ed4df5b-89b9-4e1e-ba93-9691e12d9bca",
        "colab": {
          "base_uri": "https://localhost:8080/",
          "height": 68
        }
      },
      "source": [
        "nba.loc[nba[\"fran_id\"] == \"Lakers\", \"team_id\"].value_counts()"
      ],
      "execution_count": 0,
      "outputs": [
        {
          "output_type": "execute_result",
          "data": {
            "text/plain": [
              "LAL    5078\n",
              "MNL     946\n",
              "Name: team_id, dtype: int64"
            ]
          },
          "metadata": {
            "tags": []
          },
          "execution_count": 19
        }
      ]
    },
    {
      "cell_type": "markdown",
      "metadata": {
        "id": "DA7AwHun7crF",
        "colab_type": "text"
      },
      "source": [
        "Las Angeles lakers (LAL) and Minneapolis Lakers (MNL) played 946 games. We can even find out when those games were played. "
      ]
    },
    {
      "cell_type": "code",
      "metadata": {
        "id": "dDQtKDU28R_9",
        "colab_type": "code",
        "outputId": "a69d3f13-5288-4fa0-daaa-ee3d6547fc66",
        "colab": {
          "base_uri": "https://localhost:8080/",
          "height": 34
        }
      },
      "source": [
        "nba.loc[nba[\"team_id\"] == \"MNL\", \"date_game\"].min()"
      ],
      "execution_count": 0,
      "outputs": [
        {
          "output_type": "execute_result",
          "data": {
            "text/plain": [
              "'1/1/1949'"
            ]
          },
          "metadata": {
            "tags": []
          },
          "execution_count": 20
        }
      ]
    },
    {
      "cell_type": "code",
      "metadata": {
        "id": "YHXe_Yvw8jqL",
        "colab_type": "code",
        "outputId": "5b86390f-7b2e-4fea-b83c-5750b4f0a553",
        "colab": {
          "base_uri": "https://localhost:8080/",
          "height": 34
        }
      },
      "source": [
        "nba.loc[nba[\"team_id\"] == \"MNL\", \"date_game\"].max()"
      ],
      "execution_count": 0,
      "outputs": [
        {
          "output_type": "execute_result",
          "data": {
            "text/plain": [
              "'4/9/1959'"
            ]
          },
          "metadata": {
            "tags": []
          },
          "execution_count": 21
        }
      ]
    },
    {
      "cell_type": "code",
      "metadata": {
        "id": "tGABhZSW8uRA",
        "colab_type": "code",
        "outputId": "abf70966-a974-4f32-e042-465ca4b9cecb",
        "colab": {
          "base_uri": "https://localhost:8080/",
          "height": 68
        }
      },
      "source": [
        "nba.loc[nba[\"team_id\"] == \"MNL\", \"date_game\"].agg((\"min\", \"max\"))"
      ],
      "execution_count": 0,
      "outputs": [
        {
          "output_type": "execute_result",
          "data": {
            "text/plain": [
              "min    1/1/1949\n",
              "max    4/9/1959\n",
              "Name: date_game, dtype: object"
            ]
          },
          "metadata": {
            "tags": []
          },
          "execution_count": 22
        }
      ]
    },
    {
      "cell_type": "markdown",
      "metadata": {
        "id": "OPBXrWLA9Opu",
        "colab_type": "text"
      },
      "source": [
        "Looks like the Mineanapolis lakers played between the years 1949 and 1959. This explains why we didnt recognize the team. Youve also found out why the Boston Celtics (BOS)played the most games in the dataset.  Lets analyze their history also a little bit.  Let find out how many points the boston celtics scored during all matches contained in the dataset. "
      ]
    },
    {
      "cell_type": "code",
      "metadata": {
        "id": "yxASA0ad-TjU",
        "colab_type": "code",
        "outputId": "1b1661e1-bf46-4ecf-e207-8199aed0e582",
        "colab": {
          "base_uri": "https://localhost:8080/",
          "height": 34
        }
      },
      "source": [
        "nba.loc[nba[\"team_id\"] == \"BOS\", \"pts\"].sum()"
      ],
      "execution_count": 0,
      "outputs": [
        {
          "output_type": "execute_result",
          "data": {
            "text/plain": [
              "626484"
            ]
          },
          "metadata": {
            "tags": []
          },
          "execution_count": 23
        }
      ]
    },
    {
      "cell_type": "markdown",
      "metadata": {
        "id": "JnTyeRJB-vOS",
        "colab_type": "text"
      },
      "source": [
        "The Boston Celtics scored a total of 626,484 points"
      ]
    },
    {
      "cell_type": "markdown",
      "metadata": {
        "id": "2Bw91Gkz_Wbi",
        "colab_type": "text"
      },
      "source": [
        "#**Pandas Data strucutures**\n",
        "\n",
        "###**Understanding Series Objects**\n",
        "\n",
        "Pyhons most basic data structure is a list. Which is also a great starting point for getting to know pandas.series Objects. "
      ]
    },
    {
      "cell_type": "code",
      "metadata": {
        "id": "Q6_PbQLaGO15",
        "colab_type": "code",
        "colab": {}
      },
      "source": [
        "revenues = pd.Series([5555, 7000, 1980])"
      ],
      "execution_count": 0,
      "outputs": []
    },
    {
      "cell_type": "code",
      "metadata": {
        "id": "QtlfKO0RGevB",
        "colab_type": "code",
        "outputId": "caafdb76-3cb2-42fe-ca68-04488ac366f3",
        "colab": {
          "base_uri": "https://localhost:8080/",
          "height": 85
        }
      },
      "source": [
        "revenues"
      ],
      "execution_count": 0,
      "outputs": [
        {
          "output_type": "execute_result",
          "data": {
            "text/plain": [
              "0    5555\n",
              "1    7000\n",
              "2    1980\n",
              "dtype: int64"
            ]
          },
          "metadata": {
            "tags": []
          },
          "execution_count": 25
        }
      ]
    },
    {
      "cell_type": "markdown",
      "metadata": {
        "id": "vXiNsu7LGqUL",
        "colab_type": "text"
      },
      "source": [
        "you've used the list [5555, 7000, 1980] to create a series object called revenues. a series object wraps two components:\n",
        "\n",
        "1.   A sequence of **values** (5555,7000,1980)\n",
        "2.   A sequence of identifiers, which is the index (0,1,2)\n",
        "\n",
        "you can acces these components with .values and .index, respectively\n",
        "\n"
      ]
    },
    {
      "cell_type": "code",
      "metadata": {
        "id": "lgdWkGGVHcNu",
        "colab_type": "code",
        "outputId": "d4d7169d-8897-4275-bb98-f1ff8b79262e",
        "colab": {
          "base_uri": "https://localhost:8080/",
          "height": 34
        }
      },
      "source": [
        "revenues.values  # returns the values in the series"
      ],
      "execution_count": 0,
      "outputs": [
        {
          "output_type": "execute_result",
          "data": {
            "text/plain": [
              "array([5555, 7000, 1980])"
            ]
          },
          "metadata": {
            "tags": []
          },
          "execution_count": 26
        }
      ]
    },
    {
      "cell_type": "code",
      "metadata": {
        "id": "gw1f98dRHfVo",
        "colab_type": "code",
        "outputId": "7b2884ee-8622-41e5-e27a-0a9c78e2179a",
        "colab": {
          "base_uri": "https://localhost:8080/",
          "height": 34
        }
      },
      "source": [
        "revenues.index  # returns the positional index"
      ],
      "execution_count": 0,
      "outputs": [
        {
          "output_type": "execute_result",
          "data": {
            "text/plain": [
              "RangeIndex(start=0, stop=3, step=1)"
            ]
          },
          "metadata": {
            "tags": []
          },
          "execution_count": 27
        }
      ]
    },
    {
      "cell_type": "markdown",
      "metadata": {
        "id": "93s-0rTRHx1Y",
        "colab_type": "text"
      },
      "source": [
        "\n",
        "\n",
        "NOTE: It may be of interest to note that the values of a series object are actually N-Dimensional arrays.  See NumPy for more details (https://numpy.org/)"
      ]
    },
    {
      "cell_type": "code",
      "metadata": {
        "id": "5rl7kYCPJ_OG",
        "colab_type": "code",
        "outputId": "73b4fae2-8363-4568-e664-cb14a86977db",
        "colab": {
          "base_uri": "https://localhost:8080/",
          "height": 34
        }
      },
      "source": [
        "type(revenues.values)"
      ],
      "execution_count": 0,
      "outputs": [
        {
          "output_type": "execute_result",
          "data": {
            "text/plain": [
              "numpy.ndarray"
            ]
          },
          "metadata": {
            "tags": []
          },
          "execution_count": 28
        }
      ]
    },
    {
      "cell_type": "markdown",
      "metadata": {
        "id": "GtNkUgu5KIqc",
        "colab_type": "text"
      },
      "source": [
        "while pandas builds on Numpy you can explore the ins and outs of your dataset with Pandas alone. **A significant difference is in their indexin**g.\n",
        "\n",
        "NOTE: Just like a Numpy array, a pandas series also has a integer index that \"implicitly\" defined, this implicit index **indicates the elements positoin in a series**. A series can also have a \"Arbitrary type of Index\" you can **think of this explicit index as labels for specific rows**.  "
      ]
    },
    {
      "cell_type": "code",
      "metadata": {
        "id": "IwiJiMP6LZjF",
        "colab_type": "code",
        "colab": {}
      },
      "source": [
        "city_revenues = pd.Series([4200, 8000, 6500], index=[\"Amsterdam\", \"Toronto\", \"Tokyo\"])"
      ],
      "execution_count": 0,
      "outputs": []
    },
    {
      "cell_type": "code",
      "metadata": {
        "id": "haJKq6YfLzqV",
        "colab_type": "code",
        "outputId": "90c61641-abc1-4e3e-c5f5-1e4a19561824",
        "colab": {
          "base_uri": "https://localhost:8080/",
          "height": 85
        }
      },
      "source": [
        "city_revenues"
      ],
      "execution_count": 0,
      "outputs": [
        {
          "output_type": "execute_result",
          "data": {
            "text/plain": [
              "Amsterdam    4200\n",
              "Toronto      8000\n",
              "Tokyo        6500\n",
              "dtype: int64"
            ]
          },
          "metadata": {
            "tags": []
          },
          "execution_count": 30
        }
      ]
    },
    {
      "cell_type": "markdown",
      "metadata": {
        "id": "MzXn2o_t3YoY",
        "colab_type": "text"
      },
      "source": [
        "Here the index is a list of city names represented as strings. you may have notices that python dictionaries uses string indices as well {key:value}. and this is a handly analogy ot keep in mind. you can use the code blocks above to distringuish between the two types of series:\n",
        "\n",
        "1. revenues: This series behanves much like a Python listbecaause it only has a positional index. \n",
        "\n",
        "2. city_revenues: this series acta like a python dictionary because it features both a positional and label index. \n",
        "\n",
        "Here is how to construct a series with a label index from a python dictionary:"
      ]
    },
    {
      "cell_type": "code",
      "metadata": {
        "id": "moSFsgQx5IHd",
        "colab_type": "code",
        "colab": {}
      },
      "source": [
        "city_employee_count = pd.Series({\"Amsterdam\":5, \"Tokyo\": 8})"
      ],
      "execution_count": 0,
      "outputs": []
    },
    {
      "cell_type": "code",
      "metadata": {
        "id": "x_BILkqt5kY1",
        "colab_type": "code",
        "outputId": "35700dd3-751c-48f1-90e8-e4e50bfaa6b1",
        "colab": {
          "base_uri": "https://localhost:8080/",
          "height": 68
        }
      },
      "source": [
        "city_employee_count"
      ],
      "execution_count": 0,
      "outputs": [
        {
          "output_type": "execute_result",
          "data": {
            "text/plain": [
              "Amsterdam    5\n",
              "Tokyo        8\n",
              "dtype: int64"
            ]
          },
          "metadata": {
            "tags": []
          },
          "execution_count": 32
        }
      ]
    },
    {
      "cell_type": "markdown",
      "metadata": {
        "id": "vDImGdvj5uG5",
        "colab_type": "text"
      },
      "source": [
        "the dictionary keys become the index and the values become become the series values. just like dictionaries, series also support .keys() inthe keyword. "
      ]
    },
    {
      "cell_type": "code",
      "metadata": {
        "id": "u0qVtgwa6NQb",
        "colab_type": "code",
        "outputId": "84545140-748b-49b1-9ff0-d9d09c6a5810",
        "colab": {
          "base_uri": "https://localhost:8080/",
          "height": 34
        }
      },
      "source": [
        "city_employee_count.keys()  # values() wont work with nmupy array"
      ],
      "execution_count": 0,
      "outputs": [
        {
          "output_type": "execute_result",
          "data": {
            "text/plain": [
              "Index(['Amsterdam', 'Tokyo'], dtype='object')"
            ]
          },
          "metadata": {
            "tags": []
          },
          "execution_count": 33
        }
      ]
    },
    {
      "cell_type": "code",
      "metadata": {
        "id": "qnYiBJkV6fII",
        "colab_type": "code",
        "outputId": "1fb072a9-feed-471e-dccc-eef6646d84c8",
        "colab": {
          "base_uri": "https://localhost:8080/",
          "height": 34
        }
      },
      "source": [
        "\"Tokyo\" in city_employee_count"
      ],
      "execution_count": 0,
      "outputs": [
        {
          "output_type": "execute_result",
          "data": {
            "text/plain": [
              "True"
            ]
          },
          "metadata": {
            "tags": []
          },
          "execution_count": 34
        }
      ]
    },
    {
      "cell_type": "code",
      "metadata": {
        "id": "JfQYHQQL6jtv",
        "colab_type": "code",
        "outputId": "10a20e59-054f-4f5d-ce78-2b68d24ef51e",
        "colab": {
          "base_uri": "https://localhost:8080/",
          "height": 34
        }
      },
      "source": [
        "\"New Jersey\" in city_employee_count"
      ],
      "execution_count": 0,
      "outputs": [
        {
          "output_type": "execute_result",
          "data": {
            "text/plain": [
              "False"
            ]
          },
          "metadata": {
            "tags": []
          },
          "execution_count": 35
        }
      ]
    },
    {
      "cell_type": "markdown",
      "metadata": {
        "id": "Khs-dXc-69Ip",
        "colab_type": "text"
      },
      "source": [
        "you can use these methods to answer questions about your data set quickly. "
      ]
    },
    {
      "cell_type": "markdown",
      "metadata": {
        "id": "6bNHFtXN7SZI",
        "colab_type": "text"
      },
      "source": [
        "##**Understanding DataFrame objects**\n",
        "\n",
        "While a series is a pretty powerful data structure, it has it limitations, Exp, you can *only store one attribute per key*. As you have seen with the NBA dataset.  there are 23 columns. Pandas has  more to offer via the DataFrame. this data structure is sequence of Series object that share the same index. \n",
        "\n",
        "you already have two series objects with cities as keys"
      ]
    },
    {
      "cell_type": "code",
      "metadata": {
        "id": "RyPQpFv9TJRn",
        "colab_type": "code",
        "outputId": "c3e8295d-7d49-4767-922b-f668b3c3ed50",
        "colab": {
          "base_uri": "https://localhost:8080/",
          "height": 85
        }
      },
      "source": [
        "city_revenues"
      ],
      "execution_count": 0,
      "outputs": [
        {
          "output_type": "execute_result",
          "data": {
            "text/plain": [
              "Amsterdam    4200\n",
              "Toronto      8000\n",
              "Tokyo        6500\n",
              "dtype: int64"
            ]
          },
          "metadata": {
            "tags": []
          },
          "execution_count": 36
        }
      ]
    },
    {
      "cell_type": "code",
      "metadata": {
        "id": "lBZ8pRenTOOT",
        "colab_type": "code",
        "outputId": "5b88c9ce-9d39-4df1-c2b7-0174a42be16d",
        "colab": {
          "base_uri": "https://localhost:8080/",
          "height": 68
        }
      },
      "source": [
        "city_employee_count"
      ],
      "execution_count": 0,
      "outputs": [
        {
          "output_type": "execute_result",
          "data": {
            "text/plain": [
              "Amsterdam    5\n",
              "Tokyo        8\n",
              "dtype: int64"
            ]
          },
          "metadata": {
            "tags": []
          },
          "execution_count": 37
        }
      ]
    },
    {
      "cell_type": "markdown",
      "metadata": {
        "id": "_gyWWQFQTWMb",
        "colab_type": "text"
      },
      "source": [
        "you can combine these objext into a data frame by providing a dictionary in the constructor. the dictionary keys will become the column names, and the values conmtain thr Series objects: "
      ]
    },
    {
      "cell_type": "code",
      "metadata": {
        "id": "VFfERIAxTtA7",
        "colab_type": "code",
        "colab": {}
      },
      "source": [
        "city_data = pd.DataFrame({\"revenue\": city_revenues, \"employee_count\": city_revenues})"
      ],
      "execution_count": 0,
      "outputs": []
    },
    {
      "cell_type": "code",
      "metadata": {
        "id": "q4u_eZu7UC21",
        "colab_type": "code",
        "outputId": "369cb555-b7c6-45cb-9904-d8288f97c086",
        "colab": {
          "base_uri": "https://localhost:8080/",
          "height": 142
        }
      },
      "source": [
        "city_data"
      ],
      "execution_count": 0,
      "outputs": [
        {
          "output_type": "execute_result",
          "data": {
            "text/html": [
              "<div>\n",
              "<style scoped>\n",
              "    .dataframe tbody tr th:only-of-type {\n",
              "        vertical-align: middle;\n",
              "    }\n",
              "\n",
              "    .dataframe tbody tr th {\n",
              "        vertical-align: top;\n",
              "    }\n",
              "\n",
              "    .dataframe thead th {\n",
              "        text-align: right;\n",
              "    }\n",
              "</style>\n",
              "<table border=\"1\" class=\"dataframe\">\n",
              "  <thead>\n",
              "    <tr style=\"text-align: right;\">\n",
              "      <th></th>\n",
              "      <th>revenue</th>\n",
              "      <th>employee_count</th>\n",
              "    </tr>\n",
              "  </thead>\n",
              "  <tbody>\n",
              "    <tr>\n",
              "      <th>Amsterdam</th>\n",
              "      <td>4200</td>\n",
              "      <td>4200</td>\n",
              "    </tr>\n",
              "    <tr>\n",
              "      <th>Toronto</th>\n",
              "      <td>8000</td>\n",
              "      <td>8000</td>\n",
              "    </tr>\n",
              "    <tr>\n",
              "      <th>Tokyo</th>\n",
              "      <td>6500</td>\n",
              "      <td>6500</td>\n",
              "    </tr>\n",
              "  </tbody>\n",
              "</table>\n",
              "</div>"
            ],
            "text/plain": [
              "           revenue  employee_count\n",
              "Amsterdam     4200            4200\n",
              "Toronto       8000            8000\n",
              "Tokyo         6500            6500"
            ]
          },
          "metadata": {
            "tags": []
          },
          "execution_count": 39
        }
      ]
    },
    {
      "cell_type": "code",
      "metadata": {
        "id": "dhf2iiLhUEyE",
        "colab_type": "code",
        "outputId": "574c696a-8d41-420c-f670-57cb92e3e988",
        "colab": {
          "base_uri": "https://localhost:8080/",
          "height": 34
        }
      },
      "source": [
        "city_data.index"
      ],
      "execution_count": 0,
      "outputs": [
        {
          "output_type": "execute_result",
          "data": {
            "text/plain": [
              "Index(['Amsterdam', 'Toronto', 'Tokyo'], dtype='object')"
            ]
          },
          "metadata": {
            "tags": []
          },
          "execution_count": 40
        }
      ]
    },
    {
      "cell_type": "markdown",
      "metadata": {
        "id": "f_fb94H2UiPk",
        "colab_type": "text"
      },
      "source": [
        "just like in a Series, a dataframe also stores values in a NumPy array"
      ]
    },
    {
      "cell_type": "code",
      "metadata": {
        "id": "W2EmiGEkUsU8",
        "colab_type": "code",
        "outputId": "c730ca94-fb4a-4817-8c64-ec75d8696aea",
        "colab": {
          "base_uri": "https://localhost:8080/",
          "height": 68
        }
      },
      "source": [
        "city_data.values"
      ],
      "execution_count": 0,
      "outputs": [
        {
          "output_type": "execute_result",
          "data": {
            "text/plain": [
              "array([[4200, 4200],\n",
              "       [8000, 8000],\n",
              "       [6500, 6500]])"
            ]
          },
          "metadata": {
            "tags": []
          },
          "execution_count": 41
        }
      ]
    },
    {
      "cell_type": "markdown",
      "metadata": {
        "id": "WwmW-gA0U0PK",
        "colab_type": "text"
      },
      "source": [
        "you can also refer to the 2 dimensions of the Dataframe as **axes**. "
      ]
    },
    {
      "cell_type": "code",
      "metadata": {
        "id": "LHEVwc07VJ2P",
        "colab_type": "code",
        "outputId": "ff3b9e0f-adcd-494d-fc1d-207c075b8e70",
        "colab": {
          "base_uri": "https://localhost:8080/",
          "height": 51
        }
      },
      "source": [
        "city_data.axes"
      ],
      "execution_count": 0,
      "outputs": [
        {
          "output_type": "execute_result",
          "data": {
            "text/plain": [
              "[Index(['Amsterdam', 'Toronto', 'Tokyo'], dtype='object'),\n",
              " Index(['revenue', 'employee_count'], dtype='object')]"
            ]
          },
          "metadata": {
            "tags": []
          },
          "execution_count": 42
        }
      ]
    },
    {
      "cell_type": "code",
      "metadata": {
        "id": "k2GRplJYVL3V",
        "colab_type": "code",
        "outputId": "5c795a0d-c033-432c-e3fd-c521650026f8",
        "colab": {
          "base_uri": "https://localhost:8080/",
          "height": 34
        }
      },
      "source": [
        "city_data.axes[0]"
      ],
      "execution_count": 0,
      "outputs": [
        {
          "output_type": "execute_result",
          "data": {
            "text/plain": [
              "Index(['Amsterdam', 'Toronto', 'Tokyo'], dtype='object')"
            ]
          },
          "metadata": {
            "tags": []
          },
          "execution_count": 43
        }
      ]
    },
    {
      "cell_type": "code",
      "metadata": {
        "id": "mJPGqBxYVVe8",
        "colab_type": "code",
        "outputId": "02e5b4cd-4e51-453f-86f7-0a6da5aa0a3b",
        "colab": {
          "base_uri": "https://localhost:8080/",
          "height": 34
        }
      },
      "source": [
        "city_data.axes[1]"
      ],
      "execution_count": 0,
      "outputs": [
        {
          "output_type": "execute_result",
          "data": {
            "text/plain": [
              "Index(['revenue', 'employee_count'], dtype='object')"
            ]
          },
          "metadata": {
            "tags": []
          },
          "execution_count": 44
        }
      ]
    },
    {
      "cell_type": "markdown",
      "metadata": {
        "id": "CaxpbMCQVoKD",
        "colab_type": "text"
      },
      "source": [
        "the axis marked with [0] is the row index, the axes ,makred with [1] is the column index. A dtaframe is also a dictionary like structure, so it also supports .keys() and the IN keyword. However for a dataframe, these dont relate to the index, but to the columns\n"
      ]
    },
    {
      "cell_type": "code",
      "metadata": {
        "id": "HEezo0sGWnEV",
        "colab_type": "code",
        "outputId": "1e071683-1bea-42b8-eea3-1aedb25613b2",
        "colab": {
          "base_uri": "https://localhost:8080/",
          "height": 34
        }
      },
      "source": [
        "city_data.keys()"
      ],
      "execution_count": 0,
      "outputs": [
        {
          "output_type": "execute_result",
          "data": {
            "text/plain": [
              "Index(['revenue', 'employee_count'], dtype='object')"
            ]
          },
          "metadata": {
            "tags": []
          },
          "execution_count": 45
        }
      ]
    },
    {
      "cell_type": "code",
      "metadata": {
        "id": "9xSVbymjWpBe",
        "colab_type": "code",
        "outputId": "a35394e3-614f-463a-b72a-b16638c7d9df",
        "colab": {
          "base_uri": "https://localhost:8080/",
          "height": 34
        }
      },
      "source": [
        "\"Amsterdam\" in city_data"
      ],
      "execution_count": 0,
      "outputs": [
        {
          "output_type": "execute_result",
          "data": {
            "text/plain": [
              "False"
            ]
          },
          "metadata": {
            "tags": []
          },
          "execution_count": 46
        }
      ]
    },
    {
      "cell_type": "code",
      "metadata": {
        "id": "vXvWMYpiWxp7",
        "colab_type": "code",
        "outputId": "801440be-946b-43ef-9030-cb2e4caa28a3",
        "colab": {
          "base_uri": "https://localhost:8080/",
          "height": 34
        }
      },
      "source": [
        "\"revenue\" in city_data"
      ],
      "execution_count": 0,
      "outputs": [
        {
          "output_type": "execute_result",
          "data": {
            "text/plain": [
              "True"
            ]
          },
          "metadata": {
            "tags": []
          },
          "execution_count": 47
        }
      ]
    },
    {
      "cell_type": "markdown",
      "metadata": {
        "id": "QyFeX0-2XLPy",
        "colab_type": "text"
      },
      "source": [
        "As you use these methods to answer questions about your dataset, keep in mind whether your working with a Series or a DataFrame so your interpretation is accurate "
      ]
    },
    {
      "cell_type": "markdown",
      "metadata": {
        "id": "rgI7s12eYN-x",
        "colab_type": "text"
      },
      "source": [
        "#**Accessing Series Elements** \n",
        "\n",
        "in the section above, your created a Pandas series based upon a python list, and compared the two data strcutures, Youve see how  a seroies objectis similar to lists anmdditionairies ain several ways. a further similarity is that can use the indexing operator ([])  for Series as well. \n",
        "\n",
        "you have also learned how to use two Pandas Specifc acess methods: \n",
        "\n",
        "\n",
        "1.   .loc\n",
        "2.   .iloc\n",
        "\n",
        "you'll also learn that these data access methods can be much more readable than the indexiing operator. \n",
        "\n",
        "##**Indexing Operator**\n",
        "\n",
        "recal a series has two indexes: \n",
        "1. A Positional or implicit index - whixh is always the range index, \n",
        "2. a Label oe explicit index, which can contain any hashable objects.  \n"
      ]
    },
    {
      "cell_type": "code",
      "metadata": {
        "id": "jyvmmy9KToFI",
        "colab_type": "code",
        "outputId": "3fea946a-a243-4c17-dd52-5be06ea850ce",
        "colab": {
          "base_uri": "https://localhost:8080/",
          "height": 85
        }
      },
      "source": [
        "city_revenues"
      ],
      "execution_count": 0,
      "outputs": [
        {
          "output_type": "execute_result",
          "data": {
            "text/plain": [
              "Amsterdam    4200\n",
              "Toronto      8000\n",
              "Tokyo        6500\n",
              "dtype: int64"
            ]
          },
          "metadata": {
            "tags": []
          },
          "execution_count": 48
        }
      ]
    },
    {
      "cell_type": "markdown",
      "metadata": {
        "id": "ClaMMPpCTvI9",
        "colab_type": "text"
      },
      "source": [
        "You can conveniently access the values in a series with both **label** and **positional indexes**"
      ]
    },
    {
      "cell_type": "code",
      "metadata": {
        "id": "OPVGvmqNUAUS",
        "colab_type": "code",
        "outputId": "ec216572-d20b-42d6-c49b-4a1657be4314",
        "colab": {
          "base_uri": "https://localhost:8080/",
          "height": 34
        }
      },
      "source": [
        "city_revenues[\"Toronto\"]"
      ],
      "execution_count": 0,
      "outputs": [
        {
          "output_type": "execute_result",
          "data": {
            "text/plain": [
              "8000"
            ]
          },
          "metadata": {
            "tags": []
          },
          "execution_count": 49
        }
      ]
    },
    {
      "cell_type": "code",
      "metadata": {
        "id": "mG6bNHeXUI4N",
        "colab_type": "code",
        "outputId": "526ae158-db84-4212-f4fa-308a903c7e9b",
        "colab": {
          "base_uri": "https://localhost:8080/",
          "height": 34
        }
      },
      "source": [
        "city_revenues[2]"
      ],
      "execution_count": 0,
      "outputs": [
        {
          "output_type": "execute_result",
          "data": {
            "text/plain": [
              "6500"
            ]
          },
          "metadata": {
            "tags": []
          },
          "execution_count": 50
        }
      ]
    },
    {
      "cell_type": "markdown",
      "metadata": {
        "id": "9VWE6QpwUV1n",
        "colab_type": "text"
      },
      "source": [
        "You can also utilize negative indices and slices as well"
      ]
    },
    {
      "cell_type": "code",
      "metadata": {
        "id": "3MxB_ni0UZBe",
        "colab_type": "code",
        "outputId": "e0af9c51-2484-484e-fdea-dff4e11984b9",
        "colab": {
          "base_uri": "https://localhost:8080/",
          "height": 34
        }
      },
      "source": [
        "city_revenues[-1]"
      ],
      "execution_count": 0,
      "outputs": [
        {
          "output_type": "execute_result",
          "data": {
            "text/plain": [
              "6500"
            ]
          },
          "metadata": {
            "tags": []
          },
          "execution_count": 51
        }
      ]
    },
    {
      "cell_type": "code",
      "metadata": {
        "id": "rGuxunUoUb5N",
        "colab_type": "code",
        "outputId": "34035add-2c64-408b-d757-33c2a8b9d6e4",
        "colab": {
          "base_uri": "https://localhost:8080/",
          "height": 51
        }
      },
      "source": [
        "city_revenues[:-2]"
      ],
      "execution_count": 0,
      "outputs": [
        {
          "output_type": "execute_result",
          "data": {
            "text/plain": [
              "Amsterdam    4200\n",
              "dtype: int64"
            ]
          },
          "metadata": {
            "tags": []
          },
          "execution_count": 52
        }
      ]
    },
    {
      "cell_type": "code",
      "metadata": {
        "id": "wwCZKlMdUhj2",
        "colab_type": "code",
        "colab": {}
      },
      "source": [
        ""
      ],
      "execution_count": 0,
      "outputs": []
    },
    {
      "cell_type": "markdown",
      "metadata": {
        "id": "cHwFu1E8Y1sR",
        "colab_type": "text"
      },
      "source": [
        "##**Pandas Python library Data access methods** \n",
        "\n",
        "**.loc = label index**\n",
        "\n",
        "**.iloc = positional index**\n",
        "\n",
        "these data access methods are much more readable\n",
        "\n",
        "![alt text](https://files.realpython.com/media/iloc_vs_loc_80_border20.d5280f475f4e.png)"
      ]
    },
    {
      "cell_type": "code",
      "metadata": {
        "id": "ib_fZ0UbZo01",
        "colab_type": "code",
        "colab": {}
      },
      "source": [
        "colors = pd.Series([\"red\", \"purple\", \"blue\", \"green\", \"yellow\"], index=[1, 2, 3, 5, 8 ])"
      ],
      "execution_count": 0,
      "outputs": []
    },
    {
      "cell_type": "code",
      "metadata": {
        "id": "HfwM6HvfZrvZ",
        "colab_type": "code",
        "outputId": "4a27b852-5b5e-4d9f-f1d9-8ecf64d64840",
        "colab": {
          "base_uri": "https://localhost:8080/",
          "height": 119
        }
      },
      "source": [
        "colors"
      ],
      "execution_count": 0,
      "outputs": [
        {
          "output_type": "execute_result",
          "data": {
            "text/plain": [
              "1       red\n",
              "2    purple\n",
              "3      blue\n",
              "5     green\n",
              "8    yellow\n",
              "dtype: object"
            ]
          },
          "metadata": {
            "tags": []
          },
          "execution_count": 54
        }
      ]
    },
    {
      "cell_type": "code",
      "metadata": {
        "id": "4mDdCLr_acN8",
        "colab_type": "code",
        "outputId": "8b09e79f-37c7-45e0-f7f1-91b9f9139d7e",
        "colab": {
          "base_uri": "https://localhost:8080/",
          "height": 34
        }
      },
      "source": [
        "colors.loc[1]"
      ],
      "execution_count": 0,
      "outputs": [
        {
          "output_type": "execute_result",
          "data": {
            "text/plain": [
              "'red'"
            ]
          },
          "metadata": {
            "tags": []
          },
          "execution_count": 55
        }
      ]
    },
    {
      "cell_type": "code",
      "metadata": {
        "id": "KVsNxElKazTm",
        "colab_type": "code",
        "outputId": "199f1591-3811-4c9d-91e1-02d0e44456fe",
        "colab": {
          "base_uri": "https://localhost:8080/",
          "height": 34
        }
      },
      "source": [
        "colors.iloc[1]"
      ],
      "execution_count": 0,
      "outputs": [
        {
          "output_type": "execute_result",
          "data": {
            "text/plain": [
              "'purple'"
            ]
          },
          "metadata": {
            "tags": []
          },
          "execution_count": 56
        }
      ]
    },
    {
      "cell_type": "code",
      "metadata": {
        "id": "LpwCiNYia3-g",
        "colab_type": "code",
        "outputId": "a46e3d2a-0d5d-4f9d-ceff-30bf306c1c49",
        "colab": {
          "base_uri": "https://localhost:8080/",
          "height": 85
        }
      },
      "source": [
        "colors.iloc[:3]  # can do slices "
      ],
      "execution_count": 0,
      "outputs": [
        {
          "output_type": "execute_result",
          "data": {
            "text/plain": [
              "1       red\n",
              "2    purple\n",
              "3      blue\n",
              "dtype: object"
            ]
          },
          "metadata": {
            "tags": []
          },
          "execution_count": 57
        }
      ]
    },
    {
      "cell_type": "markdown",
      "metadata": {
        "id": "wNh9GSRGhEHf",
        "colab_type": "text"
      },
      "source": [
        "##Slicing Note:\n",
        " .loc and iloc support th features you would expect from indexiing operations, However, the data acess methods have an important difference,  .iloc excludes the cosing element while .loc includes it. "
      ]
    },
    {
      "cell_type": "code",
      "metadata": {
        "id": "Xg8rLw8mhkXj",
        "colab_type": "code",
        "outputId": "bbb24f1b-6362-4d0c-a078-074cc12c5eed",
        "colab": {
          "base_uri": "https://localhost:8080/",
          "height": 85
        }
      },
      "source": [
        "colors.loc[:4]"
      ],
      "execution_count": 0,
      "outputs": [
        {
          "output_type": "execute_result",
          "data": {
            "text/plain": [
              "1       red\n",
              "2    purple\n",
              "3      blue\n",
              "dtype: object"
            ]
          },
          "metadata": {
            "tags": []
          },
          "execution_count": 58
        }
      ]
    },
    {
      "cell_type": "code",
      "metadata": {
        "id": "3D0tvQm6ijWS",
        "colab_type": "code",
        "outputId": "f26d68f5-4877-4905-c9fa-a27ab4b88f8b",
        "colab": {
          "base_uri": "https://localhost:8080/",
          "height": 102
        }
      },
      "source": [
        "colors.iloc[:4]"
      ],
      "execution_count": 0,
      "outputs": [
        {
          "output_type": "execute_result",
          "data": {
            "text/plain": [
              "1       red\n",
              "2    purple\n",
              "3      blue\n",
              "5     green\n",
              "dtype: object"
            ]
          },
          "metadata": {
            "tags": []
          },
          "execution_count": 61
        }
      ]
    },
    {
      "cell_type": "markdown",
      "metadata": {
        "id": "CnnCo3O5ywrZ",
        "colab_type": "text"
      },
      "source": [
        "#**Accessing dataframe elements**\n",
        "\n",
        "since a dataframe consists of series objects, you can use the very same tools to access it elements. the crucial difference is the additional dimensions of a dataframe. You will use the index operator for the columns and the access methods (.loc and iloc) for the rows\n",
        "\n"
      ]
    },
    {
      "cell_type": "markdown",
      "metadata": {
        "id": "_67mPJ5Bzd6Y",
        "colab_type": "text"
      },
      "source": [
        "##Using the index operator\n",
        "\n",
        "If you think of a dataframe as a dictionary whose values are a series, the it makes sense that you can access its columns with the indexing operator"
      ]
    },
    {
      "cell_type": "code",
      "metadata": {
        "id": "P9fRZVHP0F6b",
        "colab_type": "code",
        "outputId": "b94f4dd7-4773-4a48-fda2-ad461287f048",
        "colab": {
          "base_uri": "https://localhost:8080/",
          "height": 85
        }
      },
      "source": [
        "city_data[\"revenue\"]"
      ],
      "execution_count": 0,
      "outputs": [
        {
          "output_type": "execute_result",
          "data": {
            "text/plain": [
              "Amsterdam    4200\n",
              "Toronto      8000\n",
              "Tokyo        6500\n",
              "Name: revenue, dtype: int64"
            ]
          },
          "metadata": {
            "tags": []
          },
          "execution_count": 62
        }
      ]
    },
    {
      "cell_type": "markdown",
      "metadata": {
        "id": "FKlxqC8k0SG2",
        "colab_type": "text"
      },
      "source": [
        "Here, you use the indexing operator to select the column labeled revenue.  \n",
        "NOTE: if the column name is a string, then you can yse the attribute-style accessing with .dot notation as well"
      ]
    },
    {
      "cell_type": "code",
      "metadata": {
        "id": "H2KVs91w0KcG",
        "colab_type": "code",
        "outputId": "95178be3-ce04-4bfc-af57-0440d83a8a4f",
        "colab": {
          "base_uri": "https://localhost:8080/",
          "height": 85
        }
      },
      "source": [
        "city_data.revenue"
      ],
      "execution_count": 0,
      "outputs": [
        {
          "output_type": "execute_result",
          "data": {
            "text/plain": [
              "Amsterdam    4200\n",
              "Toronto      8000\n",
              "Tokyo        6500\n",
              "Name: revenue, dtype: int64"
            ]
          },
          "metadata": {
            "tags": []
          },
          "execution_count": 63
        }
      ]
    },
    {
      "cell_type": "markdown",
      "metadata": {
        "id": "oczLTaJN1HLP",
        "colab_type": "text"
      },
      "source": [
        "there is one situation where accessing Dataframe elements may not work and may lead to surprises. this is when a column name coincides with a dataframe attribute or method name"
      ]
    },
    {
      "cell_type": "code",
      "metadata": {
        "id": "1fgYjB-e1giz",
        "colab_type": "code",
        "colab": {}
      },
      "source": [
        "toys = pd.DataFrame([\n",
        "                     {\"name\": \"ball\", \"shape\": \"sphere\"},\n",
        "                     {\"name\": \"Rubik's cube\", \"'shape\": \"cube\"}\n",
        "                     ])"
      ],
      "execution_count": 0,
      "outputs": []
    },
    {
      "cell_type": "code",
      "metadata": {
        "id": "1LKZhcIo2G_3",
        "colab_type": "code",
        "outputId": "fea1b3b6-4c61-4c7f-f510-1e466b69ecc0",
        "colab": {
          "base_uri": "https://localhost:8080/",
          "height": 68
        }
      },
      "source": [
        "toys[\"shape\"]"
      ],
      "execution_count": 0,
      "outputs": [
        {
          "output_type": "execute_result",
          "data": {
            "text/plain": [
              "0    sphere\n",
              "1       NaN\n",
              "Name: shape, dtype: object"
            ]
          },
          "metadata": {
            "tags": []
          },
          "execution_count": 65
        }
      ]
    },
    {
      "cell_type": "code",
      "metadata": {
        "id": "mPaWct6T2ZmF",
        "colab_type": "code",
        "outputId": "fa7daa45-74c3-4fcd-9b21-61751f65d329",
        "colab": {
          "base_uri": "https://localhost:8080/",
          "height": 34
        }
      },
      "source": [
        "toys.shape"
      ],
      "execution_count": 0,
      "outputs": [
        {
          "output_type": "execute_result",
          "data": {
            "text/plain": [
              "(2, 3)"
            ]
          },
          "metadata": {
            "tags": []
          },
          "execution_count": 66
        }
      ]
    },
    {
      "cell_type": "markdown",
      "metadata": {
        "id": "j2IttAPn2lVV",
        "colab_type": "text"
      },
      "source": [
        "the indexiing operator toys[\"shape\"] returns the correct data, but the attribute-style operation still returns the shape of the dataframe.  You should only use attribute-style accessing in interactive sessions or for read operations. You shouldnt use it for production code or for manipulating data (such as defining new columns)"
      ]
    }
  ]
}