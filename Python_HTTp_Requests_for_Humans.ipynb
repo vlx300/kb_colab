{
  "nbformat": 4,
  "nbformat_minor": 0,
  "metadata": {
    "colab": {
      "name": "Python HTTp Requests for Humans.ipynb",
      "provenance": [],
      "include_colab_link": true
    },
    "kernelspec": {
      "name": "python3",
      "display_name": "Python 3"
    }
  },
  "cells": [
    {
      "cell_type": "markdown",
      "metadata": {
        "id": "view-in-github",
        "colab_type": "text"
      },
      "source": [
        "<a href=\"https://colab.research.google.com/github/vlx300/kb_colab/blob/master/Python_HTTp_Requests_for_Humans.ipynb\" target=\"_parent\"><img src=\"https://colab.research.google.com/assets/colab-badge.svg\" alt=\"Open In Colab\"/></a>"
      ]
    },
    {
      "cell_type": "markdown",
      "metadata": {
        "id": "vaNrp4OLqCBF",
        "colab_type": "text"
      },
      "source": [
        "#**Python HTTP Request Library**\n",
        "\n",
        "![alt text](https://encrypted-tbn0.gstatic.com/images?q=tbn:ANd9GcQK4tRxuYv7nnqsPCZWnzlXJgmNrUbldBIeNiBUsGA_2UWu72Sd&s)"
      ]
    },
    {
      "cell_type": "code",
      "metadata": {
        "id": "0KeyRlYQnFUq",
        "colab_type": "code",
        "colab": {
          "base_uri": "https://localhost:8080/",
          "height": 34
        },
        "outputId": "4bf3da4b-ff70-485f-bf1a-e44eb80aacdb"
      },
      "source": [
        "import requests \n",
        "\n",
        "# Make an API call  and store the response #\n",
        "url = 'https://api.github.com/search/repositories?q=language:python&sort=stars'\n",
        "r = requests.get(url)\n",
        "print(\"Status code:\", r.status_code)"
      ],
      "execution_count": 1,
      "outputs": [
        {
          "output_type": "stream",
          "text": [
            "Status code: 200\n"
          ],
          "name": "stdout"
        }
      ]
    },
    {
      "cell_type": "markdown",
      "metadata": {
        "id": "K4SO0yKopnI2",
        "colab_type": "text"
      },
      "source": [
        "##**API Call alternative**"
      ]
    },
    {
      "cell_type": "code",
      "metadata": {
        "id": "WCIP4PRDpe_q",
        "colab_type": "code",
        "colab": {
          "base_uri": "https://localhost:8080/",
          "height": 34
        },
        "outputId": "656e12b1-3ed4-4fe3-91ae-9f1ae5d19775"
      },
      "source": [
        "requests.get('https://api.github.com')"
      ],
      "execution_count": 2,
      "outputs": [
        {
          "output_type": "execute_result",
          "data": {
            "text/plain": [
              "<Response [200]>"
            ]
          },
          "metadata": {
            "tags": []
          },
          "execution_count": 2
        }
      ]
    }
  ]
}