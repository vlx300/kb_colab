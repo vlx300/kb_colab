{
  "nbformat": 4,
  "nbformat_minor": 0,
  "metadata": {
    "colab": {
      "name": "API Data Visualization.ipynb",
      "provenance": [],
      "collapsed_sections": [],
      "include_colab_link": true
    },
    "kernelspec": {
      "name": "python3",
      "display_name": "Python 3"
    }
  },
  "cells": [
    {
      "cell_type": "markdown",
      "metadata": {
        "id": "view-in-github",
        "colab_type": "text"
      },
      "source": [
        "<a href=\"https://colab.research.google.com/github/vlx300/kb_colab/blob/master/API_Data_Visualization.ipynb\" target=\"_parent\"><img src=\"https://colab.research.google.com/assets/colab-badge.svg\" alt=\"Open In Colab\"/></a>"
      ]
    },
    {
      "cell_type": "markdown",
      "metadata": {
        "id": "yCcbNWvSt5n5",
        "colab_type": "text"
      },
      "source": [
        "#**Python API Data Visualization with Pygal**\n",
        "\n",
        "![alt text](https://holoviews.org/_images/gapminder.gif)\n",
        "\n",
        "---\n",
        "\n"
      ]
    },
    {
      "cell_type": "code",
      "metadata": {
        "id": "avu-Nu_vktC1",
        "colab_type": "code",
        "colab": {
          "base_uri": "https://localhost:8080/",
          "height": 105
        },
        "outputId": "b0771ab2-46fb-4a87-b5b6-3a2e295eee2e"
      },
      "source": [
        "!pip install pygal  # install pygal #"
      ],
      "execution_count": 1,
      "outputs": [
        {
          "output_type": "stream",
          "text": [
            "Collecting pygal\n",
            "\u001b[?25l  Downloading https://files.pythonhosted.org/packages/5f/b7/201c9254ac0d2b8ffa3bb2d528d23a4130876d9ba90bc28e99633f323f17/pygal-2.4.0-py2.py3-none-any.whl (127kB)\n",
            "\u001b[K     |████████████████████████████████| 133kB 2.6MB/s \n",
            "\u001b[?25hInstalling collected packages: pygal\n",
            "Successfully installed pygal-2.4.0\n"
          ],
          "name": "stdout"
        }
      ]
    },
    {
      "cell_type": "code",
      "metadata": {
        "id": "HochJsaAk1XS",
        "colab_type": "code",
        "colab": {}
      },
      "source": [
        "import requests   # import the request library to make HTTP GET/POST requests\n",
        "import pygal   # we start by importing pygal #\n",
        "from pygal.style import LightColorizedStyle as LCS, LightenStyle as LS  # import the pygal sytyules we need for the chart #\n"
      ],
      "execution_count": 0,
      "outputs": []
    },
    {
      "cell_type": "code",
      "metadata": {
        "id": "mUCbS2FwlGwf",
        "colab_type": "code",
        "outputId": "4df6345c-8e71-4d11-fece-8c5b1cf493cf",
        "colab": {
          "base_uri": "https://localhost:8080/",
          "height": 52
        }
      },
      "source": [
        "# Make an API call  and store the response #\n",
        "url = 'https://api.github.com/search/repositories?q=language:python&sort=stars'\n",
        "r = requests.get(url)\n",
        "print(\"Status code:\", r.status_code)\n",
        "\n",
        "# store api response in a variable #\n",
        "response_dict = r.json()\n",
        "print(\"total Repositories:\", response_dict['total_count'])  # print the value of total count which represents the total count of repositories on github #\n",
        "\n",
        "# Explore information about the repositories #\n",
        "repo_dicts = response_dict['items']\n",
        "\n",
        "names, stars = [], [] # create two empty lists to hold data for the chart #\n",
        "for repo_dict in repo_dicts: # we loop to append the name and stars for each github repo # \n",
        "  names.append(repo_dict['name'])\n",
        "  stars.append(repo_dict['stargazers_count'])\n",
        "\n",
        "# Make Visualization #\n",
        "my_style = LS('#333366', base_style=LCS)  # we define a style using the LightenSyle Class (Alias LS) and base-style is on a dark shade of Blue #\n",
        "chart = pygal.Bar(style=my_style, x_label_rotation=45, show_legend=False)  # we make a simple Bar chart, pass it my_style .  We pass two more arguments, we set the label rotation and hide the legend #\n",
        "chart.force_uri_protocol = 'http'\n",
        "chart.title = \"Most starred Python Project in GitHub\"\n",
        "chart.x_labels = names\n",
        "\n",
        "chart.add('', stars)  # we pass an empty string for the label since we dont need data series to be labeled #\n",
        "chart.render_to_file('python_repos.svg')\n",
        "# see chart in drive, labeled, \"python_repos.svg\""
      ],
      "execution_count": 3,
      "outputs": [
        {
          "output_type": "stream",
          "text": [
            "Status code: 200\n",
            "total Repositories: 4581263\n"
          ],
          "name": "stdout"
        }
      ]
    },
    {
      "cell_type": "markdown",
      "metadata": {
        "id": "S1XaMrVrZu6j",
        "colab_type": "text"
      },
      "source": [
        "##**Refining pygal charts**\n",
        "\n",
        "Lets refine our chart styling. We will make a few customizations \n",
        "so 1st restructure the code by creating a configuration object the contains ALl of our customization to pass to pygal.Bar()"
      ]
    },
    {
      "cell_type": "code",
      "metadata": {
        "id": "3k8WdBL2aaNN",
        "colab_type": "code",
        "outputId": "0ef64bf8-6840-4624-b90f-3fd3ebfa73f9",
        "colab": {
          "base_uri": "https://localhost:8080/",
          "height": 52
        }
      },
      "source": [
        "# Make an API call  and store the response #\n",
        "url = 'https://api.github.com/search/repositories?q=language:python&sort=stars'\n",
        "r = requests.get(url)\n",
        "print(\"Status code:\", r.status_code)\n",
        "\n",
        "# store api response in a variable #\n",
        "response_dict = r.json()\n",
        "print(\"total Repositories:\", response_dict['total_count'])  \n",
        "\n",
        "# Explore information about the repositories #\n",
        "repo_dicts = response_dict['items']\n",
        "\n",
        "names, stars = [], [] \n",
        "for repo_dict in repo_dicts: \n",
        "  names.append(repo_dict['name'])\n",
        "  stars.append(repo_dict['stargazers_count'])\n",
        "\n",
        "# Make Visualization #\n",
        "my_style = LS('#333366', base_style=LCS)   \n",
        "my_config = pygal.Config()\n",
        "my_config.x_label_rotation = 45\n",
        "my_config.show_legend = False\n",
        "my_config.title_font_size = 24\n",
        "my_config.label_font_size = 14\n",
        "my_config.major_label_font_size = 18\n",
        "my_config.truncate_label = 15\n",
        "my_config.show_y_guides = False\n",
        "my_config.width = 1000\n",
        "\n",
        "# pass my_config to pygal.Bar() #\n",
        "chart = pygal.Bar(my_config, style=my_style)   \n",
        "chart.force_uri_protocol = 'http'\n",
        "chart.title = \"Most starred Python Project in GitHub\"\n",
        "chart.x_labels = names\n",
        "\n",
        "chart.add('', stars)  \n",
        "chart.render_to_file('python_repos.svg')\n",
        "# see chart in drive, labeled, \"python_repos.svg\""
      ],
      "execution_count": 4,
      "outputs": [
        {
          "output_type": "stream",
          "text": [
            "Status code: 200\n",
            "total Repositories: 4581266\n"
          ],
          "name": "stdout"
        }
      ]
    },
    {
      "cell_type": "markdown",
      "metadata": {
        "id": "9RBMG7WlDrWe",
        "colab_type": "text"
      },
      "source": [
        "# New Section"
      ]
    },
    {
      "cell_type": "markdown",
      "metadata": {
        "id": "NHesR74bdP6x",
        "colab_type": "text"
      },
      "source": [
        "##**Adding \"Custom Tooltips\" to pygal**"
      ]
    }
  ]
}