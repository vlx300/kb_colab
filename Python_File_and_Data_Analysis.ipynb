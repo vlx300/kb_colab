{
  "nbformat": 4,
  "nbformat_minor": 0,
  "metadata": {
    "colab": {
      "name": "Python File and Data Analysis.ipynb",
      "provenance": [],
      "collapsed_sections": [],
      "include_colab_link": true
    },
    "kernelspec": {
      "name": "python3",
      "display_name": "Python 3"
    }
  },
  "cells": [
    {
      "cell_type": "markdown",
      "metadata": {
        "id": "view-in-github",
        "colab_type": "text"
      },
      "source": [
        "<a href=\"https://colab.research.google.com/github/vlx300/kb_colab/blob/master/Python_File_and_Data_Analysis.ipynb\" target=\"_parent\"><img src=\"https://colab.research.google.com/assets/colab-badge.svg\" alt=\"Open In Colab\"/></a>"
      ]
    },
    {
      "cell_type": "markdown",
      "metadata": {
        "id": "sGlBcs4J-Upa",
        "colab_type": "text"
      },
      "source": [
        "#**Python Open(), Reading and Writing files, Data Exploration and Analysis**\n",
        "##Reading and Writing Files in Python\n",
        "![alt text](https://ak0.picdn.net/shutterstock/videos/1021225870/thumb/2.jpg?ip=x480)\n",
        "\n",
        "\n",
        "\n",
        "\n"
      ]
    },
    {
      "cell_type": "markdown",
      "metadata": {
        "id": "zYqnUOtNFRH2",
        "colab_type": "text"
      },
      "source": [
        "## Mount Google Drive"
      ]
    },
    {
      "cell_type": "code",
      "metadata": {
        "id": "MqkGdXNTuz4Q",
        "colab_type": "code",
        "colab": {}
      },
      "source": [
        " from google.colab import drive\n",
        "drive.mount('/content/drive')"
      ],
      "execution_count": 0,
      "outputs": []
    },
    {
      "cell_type": "markdown",
      "metadata": {
        "id": "qQJxtkyWmrBg",
        "colab_type": "text"
      },
      "source": [
        "##Using Python Open() Method"
      ]
    },
    {
      "cell_type": "code",
      "metadata": {
        "id": "AmSOM4l9-kF6",
        "colab_type": "code",
        "colab": {}
      },
      "source": [
        "# to do any work with file, you have to open it first #\n",
        "with open('/content/drive/My Drive/pi_digits.txt') as file_object:  # the with keyword will allow python to close the file when no longer needed automatically #\n",
        "  contents = file_object.read() # uilizing the read() method, we read the entire file \"at once\" and store in variable contents #"
      ],
      "execution_count": 0,
      "outputs": []
    },
    {
      "cell_type": "code",
      "metadata": {
        "id": "mBomHT4vA3Ye",
        "colab_type": "code",
        "colab": {}
      },
      "source": [
        "print(contents)  # printing the file contents #"
      ],
      "execution_count": 0,
      "outputs": []
    },
    {
      "cell_type": "markdown",
      "metadata": {
        "id": "ajzJTlEcw3iH",
        "colab_type": "text"
      },
      "source": [
        "###Strip (remove) the new line character"
      ]
    },
    {
      "cell_type": "code",
      "metadata": {
        "id": "mLVv0v2DlTr-",
        "colab_type": "code",
        "colab": {}
      },
      "source": [
        "print(contents.strip()) # A blank line appears at the end of line because the \"read() method\" returns a empty string which show up as a blank line . Use strip() string method to remove them #"
      ],
      "execution_count": 0,
      "outputs": []
    },
    {
      "cell_type": "markdown",
      "metadata": {
        "id": "5C-jyWYToDwR",
        "colab_type": "text"
      },
      "source": [
        "#File Paths \n",
        "\n",
        "###When you pass the filename to the **Open() function**, python will look in the same directory as the file being currently executed. To get python to look in a different directory, you will need to tell python the file path to look for the file \n",
        " \n",
        "\n",
        "1.  **Relative file path**: look for a given file in a location relative to where  the current file is being executed \n",
        "2.   **Absolute file path**: You can tell python exactly where the file is on your computer regardless of whee the program being executued is stored with absolute file paths. normally much longer then relative path so its normally its helpful to store these in a variable for later. Use Absolute if relative doesnt work.*Exp C:\\Users\\Beardk02\\Documents\\Python Scripts\\venv\\favorite_number.py)*\n",
        "\n",
        "3.  Windows systems will sometimes interpret / in the path incorrectly. If using windows and not working as expected, make sure to try \\\\ instead.\n",
        "\n",
        "\n"
      ]
    },
    {
      "cell_type": "markdown",
      "metadata": {
        "id": "nfjuYlhdwsio",
        "colab_type": "text"
      },
      "source": [
        "## Reading files: Iterating through (line by line)\n",
        "When your reading a file, you often want to examine each line of the file, looking for specific information in the file...or modify the text of the file in some way. You can utilize a FOR loop on a file_object to examine each line one at a time"
      ]
    },
    {
      "cell_type": "code",
      "metadata": {
        "id": "aGH33F4UzLOY",
        "colab_type": "code",
        "colab": {}
      },
      "source": [
        "filename = \"/content/drive/My Drive/pi_digits.txt\"   # store the name of the file your a reading from in variable \"filename\". common convention when working with files #\n",
        "with open(filename) as file_object: # after we open file, the content is stored in file_object. Notice the \"with\"so python can open and close file properly #\n",
        "  for line in file_object:   # to examine the file contents, we work through each line by looping over the file_object #\n",
        "    print(line.rstrip())  # print each line, use rstrip to remove the blank line #"
      ],
      "execution_count": 0,
      "outputs": []
    },
    {
      "cell_type": "markdown",
      "metadata": {
        "id": "Vxku7v6H1sN1",
        "colab_type": "text"
      },
      "source": [
        "##Creating a list-of-lines\n",
        "When you use \"with\" the file object returned by open() is only available \"inside\" the with block of code the contains it. If you want to retain access to the file contents \"outside: that specific with block , you can store the files contents in a \"list\" structure inside the block, then work with the list \"outside\" the block "
      ]
    },
    {
      "cell_type": "code",
      "metadata": {
        "id": "-ZSTrbUl6Jls",
        "colab_type": "code",
        "colab": {}
      },
      "source": [
        "filename = \"/content/drive/My Drive/pi_digits.txt\"\n",
        "with open(filename) as file_object:\n",
        "  lines = file_object.readlines()  # readlines() method take each line from the file and stores it in a list, the list is then stored in lines #\n",
        "  for line in lines:  # use a simple FOR loop to print each line from lines #\n",
        "    print(line.rstrip())  # remove the invisible new line character #"
      ],
      "execution_count": 0,
      "outputs": []
    },
    {
      "cell_type": "code",
      "metadata": {
        "id": "Wm3VvylImFz1",
        "colab_type": "code",
        "colab": {}
      },
      "source": [
        "lines  # to view the created list from above #"
      ],
      "execution_count": 0,
      "outputs": []
    },
    {
      "cell_type": "code",
      "metadata": {
        "id": "XokmkChzmSIt",
        "colab_type": "code",
        "outputId": "f3b7fa28-8b77-4492-9dd9-47c81e84b648",
        "colab": {
          "base_uri": "https://localhost:8080/",
          "height": 34
        }
      },
      "source": [
        "type(lines)  # use type to see what type of python data-type was created"
      ],
      "execution_count": 0,
      "outputs": [
        {
          "output_type": "execute_result",
          "data": {
            "text/plain": [
              "list"
            ]
          },
          "metadata": {
            "tags": []
          },
          "execution_count": 8
        }
      ]
    },
    {
      "cell_type": "markdown",
      "metadata": {
        "id": "mUWsSUX07l6i",
        "colab_type": "text"
      },
      "source": [
        "##Working with \"File Contents\"\n",
        "After reading a file into memory, you can then do whatever you ike with the data.  Let do some basic file exploration of \"**pi_digits.tx**t\"\n",
        "\n",
        "first we start by opening the file and storing each line in a list called lines"
      ]
    },
    {
      "cell_type": "code",
      "metadata": {
        "id": "75EUuyrWGBql",
        "colab_type": "code",
        "colab": {}
      },
      "source": [
        "filename = \"/content/drive/My Drive/pi_digits.txt\"  # absolute path to the file #\n",
        "with open(filename) as file_object:\n",
        "  lines = file_object.readlines()"
      ],
      "execution_count": 0,
      "outputs": []
    },
    {
      "cell_type": "code",
      "metadata": {
        "id": "AhkMtVMBGnAJ",
        "colab_type": "code",
        "colab": {}
      },
      "source": [
        "pi_string = ''  # create a variable \"pi_string\" to hold the digits of pi #\n",
        "for line in lines:  # loop which adds each of the lines of digits to \"pi_string\" and removes the newline character\" \n",
        "  pi_string += line.rstrip() "
      ],
      "execution_count": 0,
      "outputs": []
    },
    {
      "cell_type": "code",
      "metadata": {
        "id": "qGlChCX3HC6y",
        "colab_type": "code",
        "outputId": "cba6433c-e1e4-48c0-9661-cf8f82b2ef25",
        "colab": {
          "base_uri": "https://localhost:8080/",
          "height": 72
        }
      },
      "source": [
        "print(pi_string)   #print thr string and show how long it is as well #\n",
        "print(len(pi_string))"
      ],
      "execution_count": 0,
      "outputs": [
        {
          "output_type": "stream",
          "text": [
            "3.1415926535897932384626433832795028841971693993751058209749445923078164062862089986280348253421170679455666773454466455656\n",
            "123\n"
          ],
          "name": "stdout"
        }
      ]
    },
    {
      "cell_type": "markdown",
      "metadata": {
        "id": "W0Sox0A3Ipkt",
        "colab_type": "text"
      },
      "source": [
        "##NOTE on Text files: \n",
        "When python reads from a text file, it interpret all text in the file as a string. If you read in a number and want to work with that value in a numerical context, you will have to convert to an integer using **int()** function or conver to a float using **float()** function"
      ]
    },
    {
      "cell_type": "markdown",
      "metadata": {
        "id": "LE0kQdYeB0Wl",
        "colab_type": "text"
      },
      "source": [
        "##Large files: One million digits of Pi\n",
        "This time we will start with a text file that contins pi to 1,000,000 digits. \n",
        "Python has no inherent limit on how much data you can work with, you can work with a s much data as your system's memory can handle "
      ]
    },
    {
      "cell_type": "code",
      "metadata": {
        "id": "ORSGuVroCOCL",
        "colab_type": "code",
        "colab": {}
      },
      "source": [
        "filename = \"/content/drive/My Drive/pi_million.txt\"  # new source file with pi to 1,000,000 digits #\n",
        "with open(filename) as file_object:   #open the file as file_object #\n",
        "  lines = file_object.readlines() #read the file one ;line at a time #"
      ],
      "execution_count": 0,
      "outputs": []
    },
    {
      "cell_type": "code",
      "metadata": {
        "id": "JzluccM0Cu_P",
        "colab_type": "code",
        "colab": {}
      },
      "source": [
        "pi_string = ''  # we create a variable pi_string to hold the digits of pi #\n",
        "for line in lines:  # we create a loop that adds each line of digits to 'pi_string' variable #\n",
        "  pi_string += line.rstrip()  # removes the new line character #"
      ],
      "execution_count": 0,
      "outputs": []
    },
    {
      "cell_type": "code",
      "metadata": {
        "id": "GDuNrPL7Epz8",
        "colab_type": "code",
        "outputId": "6f5ca3e4-2016-4427-e0f9-79a3e20e3f9b",
        "colab": {
          "base_uri": "https://localhost:8080/",
          "height": 52
        }
      },
      "source": [
        "print(pi_string[:52] + \"...\") # print the 1st 50 decimal places # \n",
        "print(len(pi_string))"
      ],
      "execution_count": 0,
      "outputs": [
        {
          "output_type": "stream",
          "text": [
            "3.14159265358979323846264338327950288419716939937510...\n",
            "1000002\n"
          ],
          "name": "stdout"
        }
      ]
    },
    {
      "cell_type": "markdown",
      "metadata": {
        "id": "U9GQSt3jHzmA",
        "colab_type": "text"
      },
      "source": [
        "##Is your birthday contained in the 1,000,000 digits of Pi?\n",
        "leverage the program you just wrote above to check:  *This can be done by expressing your birthday as a string of \"digits\"  and seing if this string appears anywhere in the 1st 1,000,000 digits of Pi. \n"
      ]
    },
    {
      "cell_type": "code",
      "metadata": {
        "id": "m9hIOkMfI4WI",
        "colab_type": "code",
        "outputId": "f7fffa89-dd3f-486b-bab0-d31f73138218",
        "colab": {
          "base_uri": "https://localhost:8080/",
          "height": 52
        }
      },
      "source": [
        "birthday = input(\"Hello there... Please enter your birthday, in the form  mm/dd/yy: \")  # prompt the user the enter birthday #\n",
        "if birthday in pi_string:   #we check to see if that string is in pi_string #\n",
        "  print(\"You birthday appears in the 1st 1 million digits of Pi !\")\n",
        "else:\n",
        "  print(\"Your birthday doesnt appear i the 1st million digits of Pi\")"
      ],
      "execution_count": 0,
      "outputs": [
        {
          "output_type": "stream",
          "text": [
            "Hello there... Please enter your birthday, in the form  mm/dd/yy: 09/30/66\n",
            "Your birthday doesnt appear i the 1st million digits of Pi\n"
          ],
          "name": "stdout"
        }
      ]
    },
    {
      "cell_type": "markdown",
      "metadata": {
        "id": "gSPLqLZxLZ2i",
        "colab_type": "text"
      },
      "source": [
        "##Writing to a file in python\n",
        "wrting to a file in python is just as easy as reading from one. "
      ]
    },
    {
      "cell_type": "code",
      "metadata": {
        "id": "fWV9XL3kP8nl",
        "colab_type": "code",
        "colab": {}
      },
      "source": [
        "filename  = \"/content/drive/My Drive/programming.txt\"  # Empty file #\n",
        "with open(filename, 'w') as file_object:   # the call to open this time has two arguments, (1) the name of the file to open, (2) 'w' tells python to open file in write mode.#\n",
        "  file_object.write(\"I love programming.\") "
      ],
      "execution_count": 0,
      "outputs": []
    },
    {
      "cell_type": "markdown",
      "metadata": {
        "id": "dEypKD6nRpPe",
        "colab_type": "text"
      },
      "source": [
        "**NOTES:**  You can open a file in *Read mode* ('**r**'), *write mode*('**w**'), and *append mode* ('**a**'), or a mode that allows you to read and write to a ('**r+**') file. By default python opens files in READ-ONLY mode ('**r**').  Python can only write strings to text files, if you want ot store numerical data in a text file, you will have to convert the data to string format using the **STR()**function.\n",
        "\n",
        "\n",
        "*  The Write() function doesnt add any new lines to the text you write. So if you write more than one line without the new line character, the text wont look like you want. they will be \"squished together\"\n",
        "\n",
        "\n",
        "\n"
      ]
    },
    {
      "cell_type": "code",
      "metadata": {
        "id": "NCJ_jZZtNtNN",
        "colab_type": "code",
        "colab": {}
      },
      "source": [
        "filename  = \"/content/drive/My Drive/programming.txt\"\n",
        "with open(filename, 'w') as file_object:\n",
        "  file_object.write(\"I love programming\")\n",
        "  file_object.write(\"I love creating new games\")"
      ],
      "execution_count": 0,
      "outputs": []
    },
    {
      "cell_type": "markdown",
      "metadata": {
        "id": "AHL29QQIOqR5",
        "colab_type": "text"
      },
      "source": [
        "###Including new line characters in your write() statement makes each string appear on its own line. You can also use spaces, tabs, and blank lines to format your output"
      ]
    },
    {
      "cell_type": "code",
      "metadata": {
        "id": "RQf00xJUPELa",
        "colab_type": "code",
        "colab": {}
      },
      "source": [
        "filename  = \"/content/drive/My Drive/programming.txt\"\n",
        "with open(filename, 'w') as file_object:\n",
        "  file_object.write(\"I love programming.\\n\")\n",
        "  file_object.write(\"I love creating new games.\\n\")"
      ],
      "execution_count": 0,
      "outputs": []
    },
    {
      "cell_type": "markdown",
      "metadata": {
        "id": "7ILViN0-PSxw",
        "colab_type": "text"
      },
      "source": [
        "##Appending to a file\n",
        "\n",
        "If you want to add content to a file instead of overwriting existing content, you can open the file in \"Append mode\". when you open a file in append mode, Python doesnt erase the file before **\"Returning\" a file_object**. Any lines you add to the file will be added at the end of the file. \n",
        "NOTE: BONUS..If the file doesnt exist, ***append mode creates the file for you***..  In the end, you will end up with th orginal file contents, followed by thr new content we just added. "
      ]
    },
    {
      "cell_type": "code",
      "metadata": {
        "id": "N8SVrrvOAfWG",
        "colab_type": "code",
        "colab": {}
      },
      "source": [
        "filename  = \"/content/drive/My Drive/programming.txt\"\n",
        "with open(filename, 'a') as file_object:  # we use 'a' to open the file for appending rather than writing ove tthe existing file. #\n",
        "  file_object.write(\"I also love finding meaning in large datasets.\\n\")  # new line appended to file #\n",
        "  file_object.write(\"I love creating apps that can run in a browser.\\n\")  # new line appended to file #"
      ],
      "execution_count": 0,
      "outputs": []
    }
  ]
}