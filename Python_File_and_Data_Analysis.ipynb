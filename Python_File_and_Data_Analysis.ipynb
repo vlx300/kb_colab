{
  "nbformat": 4,
  "nbformat_minor": 0,
  "metadata": {
    "colab": {
      "name": "Python File and Data Analysis.ipynb",
      "provenance": [],
      "include_colab_link": true
    },
    "kernelspec": {
      "name": "python3",
      "display_name": "Python 3"
    }
  },
  "cells": [
    {
      "cell_type": "markdown",
      "metadata": {
        "id": "view-in-github",
        "colab_type": "text"
      },
      "source": [
        "<a href=\"https://colab.research.google.com/github/vlx300/kb_colab/blob/master/Python_File_and_Data_Analysis.ipynb\" target=\"_parent\"><img src=\"https://colab.research.google.com/assets/colab-badge.svg\" alt=\"Open In Colab\"/></a>"
      ]
    },
    {
      "cell_type": "markdown",
      "metadata": {
        "id": "sGlBcs4J-Upa",
        "colab_type": "text"
      },
      "source": [
        "#Python Data Exploration and Analysis\n",
        "##Reading and Writing with Files in Python\n",
        "![alt text](https://encrypted-tbn0.gstatic.com/images?q=tbn:ANd9GcRQs93NfH973_DXZnv_UcLzrUEci2ItOcV64Qq3t4p4dKE32XQd)\n",
        "\n",
        "\n",
        "\n",
        "\n"
      ]
    },
    {
      "cell_type": "markdown",
      "metadata": {
        "id": "zYqnUOtNFRH2",
        "colab_type": "text"
      },
      "source": [
        "## Mount Google Drive"
      ]
    },
    {
      "cell_type": "code",
      "metadata": {
        "id": "MqkGdXNTuz4Q",
        "colab_type": "code",
        "colab": {}
      },
      "source": [
        " from google.colab import drive\n",
        "drive.mount('/content/drive')"
      ],
      "execution_count": 0,
      "outputs": []
    },
    {
      "cell_type": "markdown",
      "metadata": {
        "id": "03H_cJpFIFLz",
        "colab_type": "text"
      },
      "source": [
        "## Python Open() Function and related methods"
      ]
    },
    {
      "cell_type": "code",
      "metadata": {
        "id": "AmSOM4l9-kF6",
        "colab_type": "code",
        "colab": {}
      },
      "source": [
        "with open('/content/drive/My Drive/pi_digits.txt') as file_object:\n",
        "  contents = file_object.read()"
      ],
      "execution_count": 0,
      "outputs": []
    },
    {
      "cell_type": "code",
      "metadata": {
        "id": "mBomHT4vA3Ye",
        "colab_type": "code",
        "colab": {}
      },
      "source": [
        "print(contents)"
      ],
      "execution_count": 0,
      "outputs": []
    }
  ]
}