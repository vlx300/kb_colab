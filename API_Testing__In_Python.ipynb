{
  "nbformat": 4,
  "nbformat_minor": 0,
  "metadata": {
    "colab": {
      "name": "API_Testing _In_Python.ipynb",
      "provenance": [],
      "collapsed_sections": [],
      "toc_visible": true,
      "include_colab_link": true
    },
    "kernelspec": {
      "name": "python3",
      "display_name": "Python 3"
    }
  },
  "cells": [
    {
      "cell_type": "markdown",
      "metadata": {
        "id": "view-in-github",
        "colab_type": "text"
      },
      "source": [
        "<a href=\"https://colab.research.google.com/github/vlx300/kb_colab/blob/master/API_Testing__In_Python.ipynb\" target=\"_parent\"><img src=\"https://colab.research.google.com/assets/colab-badge.svg\" alt=\"Open In Colab\"/></a>"
      ]
    },
    {
      "cell_type": "markdown",
      "metadata": {
        "id": "JMNDOzfeHruX",
        "colab_type": "text"
      },
      "source": [
        "#**Web API Testing in Python**\n",
        "\n",
        "![alt text](https://previews.123rf.com/images/melpomen/melpomen1906/melpomen190600246/124462135-api-concept-with-businessman-on-a-dark-blue-background.jpg)\n",
        "\n",
        "A web API is part of a website that is designed to interact with programs that use very speciic URLs to request specific information from a website. This kind of requeast is called an **API Call**. The requested data is retuned in an easy-to-read and process format (**CSV or JSON**). "
      ]
    },
    {
      "cell_type": "markdown",
      "metadata": {
        "id": "pm2Vob8uJjsl",
        "colab_type": "text"
      },
      "source": [
        "##**Mount Google Drive**"
      ]
    },
    {
      "cell_type": "code",
      "metadata": {
        "id": "0Qmhcw0NHoTB",
        "colab_type": "code",
        "colab": {}
      },
      "source": [
        "from google.colab import drive  # mount google drive #\n",
        "drive.mount('/content/drive')"
      ],
      "execution_count": 0,
      "outputs": []
    },
    {
      "cell_type": "markdown",
      "metadata": {
        "id": "ITIwxv_GJy6W",
        "colab_type": "text"
      },
      "source": [
        "##**Append sys.path to include Google Drive**"
      ]
    },
    {
      "cell_type": "code",
      "metadata": {
        "id": "kusR4GklJ8Yo",
        "colab_type": "code",
        "colab": {}
      },
      "source": [
        "import sys\n",
        "sys.path.append(\"/content/drive/My Drive\")"
      ],
      "execution_count": 0,
      "outputs": []
    }
  ]
}