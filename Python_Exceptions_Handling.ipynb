{
  "nbformat": 4,
  "nbformat_minor": 0,
  "metadata": {
    "colab": {
      "name": "Python-Exceptions-Handling.ipynb",
      "provenance": [],
      "collapsed_sections": [],
      "include_colab_link": true
    },
    "kernelspec": {
      "name": "python3",
      "display_name": "Python 3"
    }
  },
  "cells": [
    {
      "cell_type": "markdown",
      "metadata": {
        "id": "view-in-github",
        "colab_type": "text"
      },
      "source": [
        "<a href=\"https://colab.research.google.com/github/vlx300/kb_colab/blob/master/Python_Exceptions_Handling.ipynb\" target=\"_parent\"><img src=\"https://colab.research.google.com/assets/colab-badge.svg\" alt=\"Open In Colab\"/></a>"
      ]
    },
    {
      "cell_type": "markdown",
      "metadata": {
        "id": "U0lE-4hxBhI3",
        "colab_type": "text"
      },
      "source": [
        "#**Python Exception Handling** (*Try-Except Block*)\n",
        "![alt text]( https://encrypted-tbn0.gstatic.com/images?q=tbn:ANd9GcS5za-YFzTAYudxobjHLTb6UVr7HbmZzomLecCf7QyXSuKN2TSjcg&s)\n",
        "\n",
        "###Python  uses a special object called \"*Exceptions*\" to manage erros that arise during program exeution. whenever an error occurs and Pytho isnt sure what to do next, it creates an \"Exception Object\".\n",
        "\n",
        "*   If you write code that \"handles\" the exception, then the program will, continue to run. \n",
        "*   If you dont handle the exception, the program will halt and show a \"traceback\" wich includes a report of the exception that was raised. \n",
        "*   Python exceptions are handled with \"**TRY-EXCEPT**\" blocks of code\n",
        "*   **TRY-EXCEPT** blocks asks python to do something, but also tells python \n",
        "what to do if an exception is raised.\n",
        "*   When you use TRY-EXCEPT blocks, you programs will continue to run eve if things start to go wrong.  \n",
        "*   Instead of \"Tracebacks\" which can be confusing, user see a friendly message displayed\n",
        "\n",
        "\n",
        "\n",
        "\n",
        "\n"
      ]
    },
    {
      "cell_type": "markdown",
      "metadata": {
        "id": "cZXLf6OpN2QH",
        "colab_type": "text"
      },
      "source": [
        "##**Handling the \"Zero Division Error\" Exception**\n",
        "Lets look at a simple error that causes python to raise an exception:  You know its impossible to divide a number by 0.  **Ask python to do it anyway......**"
      ]
    },
    {
      "cell_type": "code",
      "metadata": {
        "id": "-Vqu6j24O3e-",
        "colab_type": "code",
        "colab": {}
      },
      "source": [
        "print(5/0)   # Run this block of code to see the traceback \"Division by 0\" #"
      ],
      "execution_count": 0,
      "outputs": []
    },
    {
      "cell_type": "markdown",
      "metadata": {
        "id": "R3LZMreIPI68",
        "colab_type": "text"
      },
      "source": [
        "###The Error reported in the Traceback above, ***ZeroDivisionError***, is an Exception Object. Python creates these objects in repsonse to situations where it Cant do what we ask it to do.. \n",
        "\n",
        "1.   When this occurs, Python stops the program and tells us what kind of error was raised.\n",
        "2.   You can utilize this information to modify your program to let python know what to do when encountering this type of exception error. That way if it happens again, Python is prepared to deal with the exception. \n",
        "\n",
        "\n",
        "\n"
      ]
    },
    {
      "cell_type": "markdown",
      "metadata": {
        "id": "x55iazEgKJIb",
        "colab_type": "text"
      },
      "source": [
        "##**Using Try-Except Blocks**\n",
        "###when you think an error may occur,  you can wrtite a try-except block of code to handle the exception the might be raised. \n",
        "\n",
        "*   You tell python to try running some code. and you tell it what to do if the code results in some specific kind of exception \n",
        "*   Here is an example of a \"try-except\" block for handling the \"**ZeroDivisionError**\"\n",
        "\n"
      ]
    },
    {
      "cell_type": "code",
      "metadata": {
        "id": "eDBlTmWkMO8o",
        "colab_type": "code",
        "colab": {}
      },
      "source": [
        "try:   # we put print(5/0), the line that caused the error in a try block. If the code in the try block works , pythin will SKIP over the except block # \n",
        "  print(5/0)\n",
        "except ZeroDivisionError:  # If the code in the try block causes an error, python, looks to the except block whose error matches the displayed error, an run the code in that block #\n",
        "  print(\"you cant divide by 0! \")"
      ],
      "execution_count": 0,
      "outputs": []
    },
    {
      "cell_type": "markdown",
      "metadata": {
        "id": "cg6BAbYbOM80",
        "colab_type": "text"
      },
      "source": [
        "If more code followed the try-catch block , the program would continue running because we instructed puythjon on how to handle exception. "
      ]
    },
    {
      "cell_type": "markdown",
      "metadata": {
        "id": "MzMlsDotFzjf",
        "colab_type": "text"
      },
      "source": [
        "##**Using Exceptions to Prevent Crashes**\n",
        "\n",
        "Handling errors correctly is especially important when the program is required to do more work after the error occurs...This is common for programs the ask for user input. If the program responds to \"invalid input\" appropriately, it can prompt for moire valid input , rather than just crashing. As an example, let create a simple calculator the does some \"**basic division**\" operations....."
      ]
    },
    {
      "cell_type": "code",
      "metadata": {
        "id": "deLqMlDzHzL7",
        "colab_type": "code",
        "colab": {}
      },
      "source": [
        "print(\"Give me two numbers, and I'll divide them.\")\n",
        "print(\"Enter 'q' to quit.\")\n",
        "\n",
        "while True:\n",
        "  first_number = input(\"\\nFirst number: \")  # this prompts the user to input a first number and if the user doesnt enter 'q', a second number #\n",
        "  if first_number == 'q':\n",
        "    break\n",
        "  second_number = input(\"\\nSecond number: \")\n",
        "  if second_number == 'q':\n",
        "    break\n",
        "  answer = int(first_number) / int(second_number)  # we divide these two number to get the answer #\n",
        "  print(answer)    \n",
        "  # this program does nothing to handle exceptions or errors so asking to divide by 0 will cause a crash.... Try it #"
      ],
      "execution_count": 0,
      "outputs": []
    },
    {
      "cell_type": "markdown",
      "metadata": {
        "id": "2sPX8j5GQrOr",
        "colab_type": "text"
      },
      "source": [
        "##**Software Engineering Note**:\n",
        "It not good that the program crashed, but it also not a good idea to let users see tracebacks. *Non-technical user will just be confused by seeing them* and from an attack perspective, they often reveal technical details you dont want to be revealed to a malicous hacker.\n",
        "\n",
        "\n",
        "![alt text](https://encrypted-tbn0.gstatic.com/images?q=tbn:ANd9GcS06OFrjjxHts13MvUE7nhnnHFez7EUHKBoiovfl3KZrnAgbjQs&s)"
      ]
    },
    {
      "cell_type": "markdown",
      "metadata": {
        "id": "fFbowghZacnc",
        "colab_type": "text"
      },
      "source": [
        "##**The Else block**\n",
        "\n",
        "We can make a program more erorr resistant by wraping the line that might product the error in a **Try-Except** Block. In the above example, the error occurs on the line the does the division, so that whre we will place our TRY-Except block. \n",
        "\n",
        "1. Code that need to run after a succeffuly executed TRY block, goes  the  else block \n"
      ]
    },
    {
      "cell_type": "code",
      "metadata": {
        "colab_type": "code",
        "id": "71fqGasXcxiW",
        "colab": {}
      },
      "source": [
        "print(\"Give me two numbers, and I'll divide them.\")\n",
        "print(\"Enter 'q' to quit.\")\n",
        "\n",
        "while True:\n",
        "  first_number = input(\"\\nFirst number: \")  # this prompts the user to input a first number and if the user doesnt enter 'q', a second number #\n",
        "  if first_number == 'q':\n",
        "    break\n",
        "  second_number = input(\"\\nSecond number: \")\n",
        "  if second_number == 'q':\n",
        "    break\n",
        "    try:\n",
        "      answer = int(first_number) / int(second_number)  # we divide these two number to get the answer #\n",
        "    except ZeroDivisionError:  \n",
        "        print(\"You cant divide by 0! \")\n",
        "    else:\n",
        "      print(answer)    "
      ],
      "execution_count": 0,
      "outputs": []
    },
    {
      "cell_type": "markdown",
      "metadata": {
        "id": "rTmsAzoUy-HG",
        "colab_type": "text"
      },
      "source": [
        "##**Else Block Specific Guidelines**\n",
        "\n",
        "The **Try-Except-Else** block works as follows: \n",
        "\n",
        "1. Python attempts to run the code in the \"TRY Block\" \n",
        "2. The only code that goes in the **TRY block** is the code that might cause an exception to be raised. \n",
        "3. Code that should run if the **TRY block is successful** goes in the \"**Else\" Block** \n",
        "4. the **Except Block** tells pythoin what to do in case a specific exception occurs when attempting to run the code in the try block\n",
        "\n",
        "By anticpiating the likely source of errors, you can write more robust programs that continue to run when they encounter invalid data and/or missing resources. You code will aos be resistant to user mistakes and malicious attacks.\n",
        "\n",
        "\n",
        "\n"
      ]
    },
    {
      "cell_type": "markdown",
      "metadata": {
        "colab_type": "text",
        "id": "FNUTiSoz19JE"
      },
      "source": [
        "##**Handling the \"File Not Found Error\" Exception**\n",
        "\n",
        "One common issue when working with files, is handling missing files.  The file your working with may be in a different location, the filename may be mispelled,or the file may not exist at all. \n",
        "\n",
        "![alt text](https://encrypted-tbn0.gstatic.com/images?q=tbn:ANd9GcRotmuLeEryb3-vMqDY9EjEzB5z10-hWoiJcu-vKO3U0wV44sDkBQ&s)\n",
        "\n",
        "Lets try to read a file that doesnt exist. the following code tries to read in the contents of \"Alice in Wonderland\""
      ]
    },
    {
      "cell_type": "code",
      "metadata": {
        "id": "wW5F1q-35Sx5",
        "colab_type": "code",
        "colab": {}
      },
      "source": [
        "filename  = 'alice.txt'  # python wont be able to read from the file and will raise an exception #\n",
        "with open(filename) as f_obj:\n",
        "        contents = f_obj.read()\n",
        "# In the error message below, the last line of the traceback reports a \"FileNotFoundError\" This is the exception python creates where it cant file the file its trying to open #\n",
        "# In this case the open() function creates an error, so to handle it, the TRY block will begin \"just before\" the line the says open() #"
      ],
      "execution_count": 0,
      "outputs": []
    },
    {
      "cell_type": "code",
      "metadata": {
        "id": "bs1J1D6_69PQ",
        "colab_type": "code",
        "colab": {}
      },
      "source": [
        "filename = 'alice.txt'\n",
        "try:\n",
        "  with open(filename) as f_obj:\n",
        "    contents = f_obj.read()\n",
        "except FileNotFoundError:\n",
        "  msg = \"Sorry, the file you are looking for\" +  \" \" + filename + \" \" + \"Doesnt exist\"\n",
        "  print(msg)"
      ],
      "execution_count": 0,
      "outputs": []
    },
    {
      "cell_type": "code",
      "metadata": {
        "id": "abgvyKf9QyOA",
        "colab_type": "code",
        "colab": {}
      },
      "source": [
        ""
      ],
      "execution_count": 0,
      "outputs": []
    },
    {
      "cell_type": "markdown",
      "metadata": {
        "id": "DEYhvaTu86Ev",
        "colab_type": "text"
      },
      "source": [
        "##**Analyzing Text and Split() Method**\n",
        "\n",
        "*Reference: http://www.gutenberg.org/*\n",
        "Lets use as our source content: \n",
        "\n",
        "*The Adventures of Alice in Wonderland*  by lewis carroll\n",
        "\n",
        "You can analyze text files tha contain entire books. Lets pull the text of Alice in wonderland and try to count the number of words in the text. We will utilize the string  method **Split()**. which can build a list of words from a string. "
      ]
    },
    {
      "cell_type": "code",
      "metadata": {
        "id": "iaWBZUN1QXab",
        "colab_type": "code",
        "colab": {
          "base_uri": "https://localhost:8080/",
          "height": 34
        },
        "outputId": "631513bb-bc5f-4f72-8ab2-23670bdee654"
      },
      "source": [
        "title = 'Alice in Wonderland'\n",
        "title.split()  # The split method seperates a string into parts whenever it find a space and stores all the parts of the string in a list. the results is a list of words from the string #\n",
        "# some punctuation may also appears with the words, to count the number of words , we will use split() on the entire test#\n",
        "# then we will countnthe number of items in the list to get an sense of the total number of words in the text # "
      ],
      "execution_count": 2,
      "outputs": [
        {
          "output_type": "execute_result",
          "data": {
            "text/plain": [
              "['Alice', 'in', 'Wonderland']"
            ]
          },
          "metadata": {
            "tags": []
          },
          "execution_count": 2
        }
      ]
    }
  ]
}