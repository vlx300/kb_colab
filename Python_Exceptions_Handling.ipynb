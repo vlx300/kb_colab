{
  "nbformat": 4,
  "nbformat_minor": 0,
  "metadata": {
    "colab": {
      "name": "Python-Exceptions-Handling.ipynb",
      "provenance": [],
      "collapsed_sections": [],
      "include_colab_link": true
    },
    "kernelspec": {
      "name": "python3",
      "display_name": "Python 3"
    }
  },
  "cells": [
    {
      "cell_type": "markdown",
      "metadata": {
        "id": "view-in-github",
        "colab_type": "text"
      },
      "source": [
        "<a href=\"https://colab.research.google.com/github/vlx300/kb_colab/blob/master/Python_Exceptions_Handling.ipynb\" target=\"_parent\"><img src=\"https://colab.research.google.com/assets/colab-badge.svg\" alt=\"Open In Colab\"/></a>"
      ]
    },
    {
      "cell_type": "markdown",
      "metadata": {
        "id": "U0lE-4hxBhI3",
        "colab_type": "text"
      },
      "source": [
        "#**Python Exception Handling** (*Try-Except Block*)\n",
        "![alt text]( https://encrypted-tbn0.gstatic.com/images?q=tbn:ANd9GcS5za-YFzTAYudxobjHLTb6UVr7HbmZzomLecCf7QyXSuKN2TSjcg&s)\n",
        "\n",
        "###Python  uses a special object called \"*Exceptions*\" to manage erros that arise during program exeution. whenever an error occurs and Pytho isnt sure what to do next, it creates an \"Exception Object\".\n",
        "\n",
        "*   If you write code that \"handles\" the exception, then the program will, continue to run. \n",
        "*   If you dont handle the exception, the program will halt and show a \"traceback\" wich includes a report of the exception that was raised. \n",
        "*   Python exceptions are handled with \"**TRY-EXCEPT**\" blocks of code\n",
        "*   **TRY-EXCEPT** blocks asks python to do something, but also tells python \n",
        "what to do if an exception is raised.\n",
        "*   When you use TRY-EXCEPT blocks, you programs will continue to run eve if things start to go wrong.  \n",
        "*   Instead of \"Tracebacks\" which can be confusing, user see a friendly message displayed\n",
        "\n",
        "\n",
        "\n",
        "\n",
        "\n"
      ]
    },
    {
      "cell_type": "markdown",
      "metadata": {
        "id": "cZXLf6OpN2QH",
        "colab_type": "text"
      },
      "source": [
        "##**Handling the \"Zero Division Error\" Exception**\n",
        "Lets look at a simple error that causes python to raise an exception:  You know its impossible to divide a number by 0.  **Ask python to do it anyway......**"
      ]
    },
    {
      "cell_type": "code",
      "metadata": {
        "id": "-Vqu6j24O3e-",
        "colab_type": "code",
        "outputId": "e4cf914f-6ec4-4639-adbf-4f61057f990e",
        "colab": {
          "base_uri": "https://localhost:8080/",
          "height": 163
        }
      },
      "source": [
        "print(5/0)   # Run this block of code to see the traceback \"Division by 0\" #"
      ],
      "execution_count": 0,
      "outputs": [
        {
          "output_type": "error",
          "ename": "ZeroDivisionError",
          "evalue": "ignored",
          "traceback": [
            "\u001b[0;31m---------------------------------------------------------------------------\u001b[0m",
            "\u001b[0;31mZeroDivisionError\u001b[0m                         Traceback (most recent call last)",
            "\u001b[0;32m<ipython-input-23-20ef1e4f8387>\u001b[0m in \u001b[0;36m<module>\u001b[0;34m()\u001b[0m\n\u001b[0;32m----> 1\u001b[0;31m \u001b[0mprint\u001b[0m\u001b[0;34m(\u001b[0m\u001b[0;36m5\u001b[0m\u001b[0;34m/\u001b[0m\u001b[0;36m0\u001b[0m\u001b[0;34m)\u001b[0m   \u001b[0;31m# Run this block of code to see the traceback \"Division by 0\" #\u001b[0m\u001b[0;34m\u001b[0m\u001b[0;34m\u001b[0m\u001b[0m\n\u001b[0m",
            "\u001b[0;31mZeroDivisionError\u001b[0m: division by zero"
          ]
        }
      ]
    },
    {
      "cell_type": "markdown",
      "metadata": {
        "id": "R3LZMreIPI68",
        "colab_type": "text"
      },
      "source": [
        "###The Error reported in the Traceback above, ***ZeroDivisionError***, is an Exception Object. Python creates these objects in repsonse to situations where it Cant do what we ask it to do.. \n",
        "\n",
        "1.   When this occurs, Python stops the program and tells us what kind of error was raised.\n",
        "2.   You can utilize this information to modify your program to let python know what to do when encountering this type of exception error. That way if it happens again, Python is prepared to deal with the exception. \n",
        "\n",
        "\n",
        "\n"
      ]
    },
    {
      "cell_type": "markdown",
      "metadata": {
        "id": "x55iazEgKJIb",
        "colab_type": "text"
      },
      "source": [
        "##**Using Try-Except Blocks**\n",
        "###when you think an error may occur,  you can wrtite a try-except block of code to handle the exception the might be raised. \n",
        "\n",
        "*   You tell python to try running some code. and you tell it what to do if the code results in some specific kind of exception \n",
        "*   Here is an example of a \"try-except\" block for handling the \"**ZeroDivisionError**\"\n",
        "\n"
      ]
    },
    {
      "cell_type": "code",
      "metadata": {
        "id": "eDBlTmWkMO8o",
        "colab_type": "code",
        "outputId": "efa7175f-1cca-41cd-d566-15f00d8c7d56",
        "colab": {
          "base_uri": "https://localhost:8080/",
          "height": 34
        }
      },
      "source": [
        "try:   # we put print(5/0), the line that caused the error in a try block. If the code in the try block works , pythin will SKIP over the except block # \n",
        "  print(5/0)\n",
        "except ZeroDivisionError:  # If the code in the try block causes an error, python, looks to the except block whose error matches the displayed error, an run the code in that block #\n",
        "  print(\"you cant divide by 0! \")"
      ],
      "execution_count": 0,
      "outputs": [
        {
          "output_type": "stream",
          "text": [
            "you cant divide by 0! \n"
          ],
          "name": "stdout"
        }
      ]
    },
    {
      "cell_type": "markdown",
      "metadata": {
        "id": "cg6BAbYbOM80",
        "colab_type": "text"
      },
      "source": [
        "If more code followed the try-catch block , the program would continue running because we instructed puythjon on how to handle exception. "
      ]
    },
    {
      "cell_type": "markdown",
      "metadata": {
        "id": "MzMlsDotFzjf",
        "colab_type": "text"
      },
      "source": [
        "##**Using Exceptions to Prevent Crashes**\n",
        "\n",
        "Handling errors correctly is especially important when the program is required to do more work after the error occurs...This is common for programs the ask for user input. If the program responds to \"invalid input\" appropriately, it can prompt for moire valid input , rather than just crashing. As an example, let create a simple calculator the does some \"**basic division**\" operations....."
      ]
    },
    {
      "cell_type": "code",
      "metadata": {
        "id": "deLqMlDzHzL7",
        "colab_type": "code",
        "outputId": "1a78661c-cdc0-4c76-b199-5843173d4412",
        "colab": {
          "base_uri": "https://localhost:8080/",
          "height": 418
        }
      },
      "source": [
        "print(\"Give me two numbers, and I'll divide them.\")\n",
        "print(\"Enter 'q' to quit.\")\n",
        "\n",
        "while True:\n",
        "  first_number = input(\"\\nFirst number: \")  # this prompts the user to input a first number and if the user doesnt enter 'q', a second number #\n",
        "  if first_number == 'q':\n",
        "    break\n",
        "  second_number = input(\"\\nSecond number: \")\n",
        "  if second_number == 'q':\n",
        "    break\n",
        "  answer = int(first_number) / int(second_number)  # we divide these two number to get the answer #\n",
        "  print(answer)    \n",
        "  # this program does nothing to handle exceptions or errors so asking to divide by 0 will cause a crash.... Try it #"
      ],
      "execution_count": 0,
      "outputs": [
        {
          "output_type": "stream",
          "text": [
            "Give me two numbers, and I'll divide them.\n",
            "Enter 'q' to quit.\n",
            "\n",
            "First number: 10\n",
            "\n",
            "Second number: 20\n",
            "0.5\n",
            "\n",
            "First number: 90\n",
            "\n",
            "Second number: 0\n"
          ],
          "name": "stdout"
        },
        {
          "output_type": "error",
          "ename": "ZeroDivisionError",
          "evalue": "ignored",
          "traceback": [
            "\u001b[0;31m---------------------------------------------------------------------------\u001b[0m",
            "\u001b[0;31mZeroDivisionError\u001b[0m                         Traceback (most recent call last)",
            "\u001b[0;32m<ipython-input-1-57a7c0e3955a>\u001b[0m in \u001b[0;36m<module>\u001b[0;34m()\u001b[0m\n\u001b[1;32m      9\u001b[0m   \u001b[0;32mif\u001b[0m \u001b[0msecond_number\u001b[0m \u001b[0;34m==\u001b[0m \u001b[0;34m'q'\u001b[0m\u001b[0;34m:\u001b[0m\u001b[0;34m\u001b[0m\u001b[0;34m\u001b[0m\u001b[0m\n\u001b[1;32m     10\u001b[0m     \u001b[0;32mbreak\u001b[0m\u001b[0;34m\u001b[0m\u001b[0;34m\u001b[0m\u001b[0m\n\u001b[0;32m---> 11\u001b[0;31m   \u001b[0manswer\u001b[0m \u001b[0;34m=\u001b[0m \u001b[0mint\u001b[0m\u001b[0;34m(\u001b[0m\u001b[0mfirst_number\u001b[0m\u001b[0;34m)\u001b[0m \u001b[0;34m/\u001b[0m \u001b[0mint\u001b[0m\u001b[0;34m(\u001b[0m\u001b[0msecond_number\u001b[0m\u001b[0;34m)\u001b[0m  \u001b[0;31m# we divide these two number to get the answer #\u001b[0m\u001b[0;34m\u001b[0m\u001b[0;34m\u001b[0m\u001b[0m\n\u001b[0m\u001b[1;32m     12\u001b[0m   \u001b[0mprint\u001b[0m\u001b[0;34m(\u001b[0m\u001b[0manswer\u001b[0m\u001b[0;34m)\u001b[0m\u001b[0;34m\u001b[0m\u001b[0;34m\u001b[0m\u001b[0m\n\u001b[1;32m     13\u001b[0m   \u001b[0;31m# this program does nothing to handle exceptions or errors so asking to divide by 0 will cause a crash.... Try it #\u001b[0m\u001b[0;34m\u001b[0m\u001b[0;34m\u001b[0m\u001b[0;34m\u001b[0m\u001b[0m\n",
            "\u001b[0;31mZeroDivisionError\u001b[0m: division by zero"
          ]
        }
      ]
    },
    {
      "cell_type": "markdown",
      "metadata": {
        "id": "2sPX8j5GQrOr",
        "colab_type": "text"
      },
      "source": [
        "##**Software Engineering Note**:\n",
        "It not good that the program crashed, but it also not a good idea to let users see tracebacks. *Non-technical user will just be confused by seeing them* and from an attack perspective, they often reveal technical details you dont want to be revealed to a malicous hacker.\n",
        "\n",
        "\n",
        "![alt text](https://encrypted-tbn0.gstatic.com/images?q=tbn:ANd9GcS06OFrjjxHts13MvUE7nhnnHFez7EUHKBoiovfl3KZrnAgbjQs&s)"
      ]
    },
    {
      "cell_type": "markdown",
      "metadata": {
        "id": "fFbowghZacnc",
        "colab_type": "text"
      },
      "source": [
        "##**The Else block**\n",
        "\n",
        "We can make a program more erorr resistant by wraping the line that might product the error in a **Try-Except** Block. In the above example, the error occurs on the line the does the division, so that whre we will place our TRY-Except block. \n",
        "\n",
        "1. Code that need to run after a succeffuly executed TRY block, goes  the  else block \n"
      ]
    },
    {
      "cell_type": "code",
      "metadata": {
        "colab_type": "code",
        "id": "71fqGasXcxiW",
        "colab": {}
      },
      "source": [
        "print(\"Give me two numbers, and I'll divide them.\")\n",
        "print(\"Enter 'q' to quit.\")\n",
        "\n",
        "while True:\n",
        "  first_number = input(\"\\nFirst number: \")  # this prompts the user to input a first number and if the user doesnt enter 'q', a second number #\n",
        "  if first_number == 'q':\n",
        "    break\n",
        "  second_number = input(\"\\nSecond number: \")\n",
        "  if second_number == 'q':\n",
        "    break\n",
        "    try:\n",
        "      answer = int(first_number) / int(second_number)  # we divide these two number to get the answer #\n",
        "    except ZeroDivisionError:  \n",
        "        print(\"You cant divide by 0! \")\n",
        "    else:\n",
        "      print(answer)    "
      ],
      "execution_count": 0,
      "outputs": []
    },
    {
      "cell_type": "markdown",
      "metadata": {
        "id": "rTmsAzoUy-HG",
        "colab_type": "text"
      },
      "source": [
        "##**Else Block Specific Guidelines**\n",
        "\n",
        "The **Try-Except-Else** block works as follows: \n",
        "\n",
        "1. Python attempts to run the code in the \"TRY Block\" \n",
        "2. The only code that goes in the **TRY block** is the code that might cause an exception to be raised. \n",
        "3. Code that should run if the **TRY block is successful** goes in the \"**Else\" Block** \n",
        "4. the **Except Block** tells pythoin what to do in case a specific exception occurs when attempting to run the code in the try block\n",
        "\n",
        "By anticpiating the likely source of errors, you can write more robust programs that continue to run when they encounter invalid data and/or missing resources. You code will aos be resistant to user mistakes and malicious attacks.\n",
        "\n",
        "\n",
        "\n"
      ]
    },
    {
      "cell_type": "markdown",
      "metadata": {
        "colab_type": "text",
        "id": "FNUTiSoz19JE"
      },
      "source": [
        "##**Handling the \"File Not Found Error\" Exception**\n",
        "\n",
        "One common issue when working with files, is handling missing files.  The file your working with may be in a different location, the filename may be mispelled,or the file may not exist at all. \n",
        " \n",
        "![alt text](https://encrypted-tbn0.gstatic.com/images?q=tbn:ANd9GcRotmuLeEryb3-vMqDY9EjEzB5z10-hWoiJcu-vKO3U0wV44sDkBQ&s)"
      ]
    }
  ]
}