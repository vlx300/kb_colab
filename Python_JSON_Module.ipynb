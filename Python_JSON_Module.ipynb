{
  "nbformat": 4,
  "nbformat_minor": 0,
  "metadata": {
    "colab": {
      "name": "Python JSON Module.ipynb",
      "provenance": [],
      "collapsed_sections": [],
      "toc_visible": true,
      "include_colab_link": true
    },
    "kernelspec": {
      "name": "python3",
      "display_name": "Python 3"
    }
  },
  "cells": [
    {
      "cell_type": "markdown",
      "metadata": {
        "id": "view-in-github",
        "colab_type": "text"
      },
      "source": [
        "<a href=\"https://colab.research.google.com/github/vlx300/kb_colab/blob/master/Python_JSON_Module.ipynb\" target=\"_parent\"><img src=\"https://colab.research.google.com/assets/colab-badge.svg\" alt=\"Open In Colab\"/></a>"
      ]
    },
    {
      "cell_type": "markdown",
      "metadata": {
        "id": "sxseXrxKleYu",
        "colab_type": "text"
      },
      "source": [
        "#**Python's JSON Module for Storing Data** \n",
        "\n",
        "![alt text](http://topnewsherald.com/wp-content/uploads/2019/08/Next-Generation-Data-Storage-Technologies-market.jpg)\n",
        "\n",
        "Many of your programs will ask users to input various types of information. You may allow users to store or save game preferences  or provide data for visualization. When a user close a program, you almost always want to save the information they entered. A simple way to do this is to storing thr data via the JSON Module.\n",
        "\n",
        "*   JSON Module allows you to dump simple python data structures into a file and load the data from the file the next time the program runs. \n",
        "*   You can also utilize the JSON module to share data \"between' programs\n",
        "*   JSON format is NOT Python specific so you can share data with programs of other languages as well .\n",
        "*   JSON is Very readable and Portable format\n",
        "\n",
        "**NOTE**: JSON (*JavaScript Object notation*) format was originally developed for JavaScript, but has s*ince become the Defacto format used by many programming languages*\n",
        "\n",
        "\n",
        "\n"
      ]
    },
    {
      "cell_type": "markdown",
      "metadata": {
        "id": "2hLxcmFGgveD",
        "colab_type": "text"
      },
      "source": [
        "#**Mount Google Drive**"
      ]
    },
    {
      "cell_type": "code",
      "metadata": {
        "id": "idzMxqYGg4xR",
        "colab_type": "code",
        "colab": {}
      },
      "source": [
        " from google.colab import drive\n",
        "drive.mount('/content/drive')"
      ],
      "execution_count": 0,
      "outputs": []
    },
    {
      "cell_type": "markdown",
      "metadata": {
        "id": "kDYl8FEcdZ6j",
        "colab_type": "text"
      },
      "source": [
        "##**JSON.Dump() and JSON.load()** \n",
        "\n",
        "Lets write  a program that store a set of numbers and another program that \"reads\" these numbers back into memory. the 1st program will use json.dump() to store that set of numbers, and the second program will use json.load().   \n",
        "\n"
      ]
    },
    {
      "cell_type": "code",
      "metadata": {
        "id": "7LEMajD-bLy1",
        "colab_type": "code",
        "colab": {}
      },
      "source": [
        "import json   # import the json model #\n",
        "numbers  = [2, 3, 5, 7, 11, 33]   # then we create a list of numbers to work with #\n",
        "filename = 'numbers.json' # create a filename with which to store the list of numbers,  It customary to use .json file extension to indicate the file is in json format  #\n",
        "with open(filename, 'w') as f_obj:   #open the fire in write mode which allows json to write data to the file # \n",
        "  json.dump(numbers, f_obj)   # use json.dump() function to store the list of numbers in the file 'numbers.json' #"
      ],
      "execution_count": 0,
      "outputs": []
    }
  ]
}