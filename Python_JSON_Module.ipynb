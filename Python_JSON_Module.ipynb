{
  "nbformat": 4,
  "nbformat_minor": 0,
  "metadata": {
    "colab": {
      "name": "Python JSON Module.ipynb",
      "provenance": [],
      "collapsed_sections": [],
      "toc_visible": true,
      "include_colab_link": true
    },
    "kernelspec": {
      "name": "python3",
      "display_name": "Python 3"
    }
  },
  "cells": [
    {
      "cell_type": "markdown",
      "metadata": {
        "id": "view-in-github",
        "colab_type": "text"
      },
      "source": [
        "<a href=\"https://colab.research.google.com/github/vlx300/kb_colab/blob/master/Python_JSON_Module.ipynb\" target=\"_parent\"><img src=\"https://colab.research.google.com/assets/colab-badge.svg\" alt=\"Open In Colab\"/></a>"
      ]
    },
    {
      "cell_type": "markdown",
      "metadata": {
        "id": "sxseXrxKleYu",
        "colab_type": "text"
      },
      "source": [
        "#**Python's JSON Module for Storing Data** \n",
        "\n",
        "![alt text](http://topnewsherald.com/wp-content/uploads/2019/08/Next-Generation-Data-Storage-Technologies-market.jpg)\n",
        "\n",
        "Many of your programs will ask users to input various types of information. You may allow users to store or save game preferences  or provide data for visualization. When a user close a program, you almost always want to save the information they entered. A simple way to do this is to storing thr data via the JSON Module.\n",
        "\n",
        "*   JSON Module allows you to dump simple python data structures into a file and load the data from the file the next time the program runs. \n",
        "*   You can also utilize the JSON module to share data \"between' programs\n",
        "*   JSON format is NOT Python specific so you can share data with programs of other languages as well .\n",
        "*   JSON is Very readable and Portable format\n",
        "\n",
        "**NOTE**: JSON (*JavaScript Object notation*) format was originally developed for JavaScript, but has s*ince become the Defacto format used by many programming languages*\n",
        "\n",
        "\n",
        "\n"
      ]
    },
    {
      "cell_type": "markdown",
      "metadata": {
        "id": "2hLxcmFGgveD",
        "colab_type": "text"
      },
      "source": [
        "#**Mount Google Drive**"
      ]
    },
    {
      "cell_type": "code",
      "metadata": {
        "id": "idzMxqYGg4xR",
        "colab_type": "code",
        "colab": {}
      },
      "source": [
        " from google.colab import drive\n",
        "drive.mount('/content/drive')"
      ],
      "execution_count": 0,
      "outputs": []
    },
    {
      "cell_type": "markdown",
      "metadata": {
        "id": "kDYl8FEcdZ6j",
        "colab_type": "text"
      },
      "source": [
        "##**JSON.Dump() and JSON.load()** \n",
        "\n",
        "Lets write  a program that store a set of numbers and another program that \"reads\" these numbers back into memory. the 1st program will use **json.dump()** to store that set of numbers, and the second program will use **json.load()**.   \n",
        "\n"
      ]
    },
    {
      "cell_type": "code",
      "metadata": {
        "id": "7LEMajD-bLy1",
        "colab_type": "code",
        "colab": {}
      },
      "source": [
        "import json   # import the json model #\n",
        "numbers  = [2, 3, 5, 7, 11, 33]   # then we create a list of numbers to work with #\n",
        "filename = 'numbers.json' # create a filename with which to store the list of numbers,  It customary to use .json file extension to indicate the data in the file is in json format #\n",
        "with open(filename, 'w') as f_obj:   # open the file in write mode (w) which allows json to write data to the file # \n",
        "  json.dump(numbers, f_obj)   # use json.dump() function to store the list of numbers in the file 'numbers.json' #"
      ],
      "execution_count": 0,
      "outputs": []
    },
    {
      "cell_type": "markdown",
      "metadata": {
        "id": "z_jPeCHcBZ1y",
        "colab_type": "text"
      },
      "source": [
        "Now, lets write a program that uses **json.load()** to read the file back inter memory"
      ]
    },
    {
      "cell_type": "code",
      "metadata": {
        "id": "Iz4rERICByAP",
        "colab_type": "code",
        "colab": {
          "base_uri": "https://localhost:8080/",
          "height": 34
        },
        "outputId": "ac0aa5b9-2ebf-4a08-af2e-ef3492c07baa"
      },
      "source": [
        "import json\n",
        "filename = 'numbers.json'  # make sure to read from the same file your wrote too #\n",
        "with open(filename) as f_obj:  # this time we open the file in read-only mode because we only need to read the file # \n",
        "  numbers = json.load(f_obj)  # we use json.load() to load the information contained in variable numbers #\n",
        "print(numbers)  #print the recovered list and see that it is the same #\n",
        "# this is a simple way to share data between two programs #"
      ],
      "execution_count": 3,
      "outputs": [
        {
          "output_type": "stream",
          "text": [
            "[2, 3, 5, 7, 11, 33]\n"
          ],
          "name": "stdout"
        }
      ]
    },
    {
      "cell_type": "markdown",
      "metadata": {
        "id": "H_DrX-8jDlgF",
        "colab_type": "text"
      },
      "source": [
        "##**Saving and Reading User-Generated data**\n",
        "\n",
        "Saving data with JSON is useful when your working with *user-generated* data. Because if you dont store the information somehow, you will loose it all whe the program STOP running. "
      ]
    },
    {
      "cell_type": "code",
      "metadata": {
        "id": "jPBnEbaBEuya",
        "colab_type": "code",
        "colab": {
          "base_uri": "https://localhost:8080/",
          "height": 52
        },
        "outputId": "7afd7e1d-21cc-420d-e43a-e7c90e94e11a"
      },
      "source": [
        "import json\n",
        "username = input(\"What is yourname?  \")  # we prompt for a username to store #\n",
        "filename = 'username.json' \n",
        "with open(filename, 'w') as f_obj:\n",
        "  json.dump(username, f_obj)  # we use json.dump() , passing it a username and f_obj to store a username in a file.\n",
        "  print(\"We'll remenber you when you come back\" +  \" \"  + username +  \"!\") # print a message stating you stored their information #"
      ],
      "execution_count": 4,
      "outputs": [
        {
          "output_type": "stream",
          "text": [
            "What is yourname?  kyle\n",
            "We'll remenber you when you come back kyle!\n"
          ],
          "name": "stdout"
        }
      ]
    },
    {
      "cell_type": "markdown",
      "metadata": {
        "id": "NXAWAMotS48Q",
        "colab_type": "text"
      },
      "source": [
        "Now lets write a program that greets a user whose name has already been stored"
      ]
    },
    {
      "cell_type": "code",
      "metadata": {
        "id": "6FbYxVW5TBaW",
        "colab_type": "code",
        "colab": {
          "base_uri": "https://localhost:8080/",
          "height": 34
        },
        "outputId": "ce1238d6-9b75-435f-a96a-ffdd4fff0f19"
      },
      "source": [
        "import json\n",
        "filename = 'username.json'\n",
        "with open(filename) as f_obj:\n",
        "  username = json.load(f_obj)  # We use json.load() to read the information stored in username.json\n",
        "  print(\"Welcome Back,\" + \" \" + username + \"!\")  # now the we recovered the usenrame , we can welcome them back #"
      ],
      "execution_count": 14,
      "outputs": [
        {
          "output_type": "stream",
          "text": [
            "Welcome Back, kyle!\n"
          ],
          "name": "stdout"
        }
      ]
    },
    {
      "cell_type": "markdown",
      "metadata": {
        "id": "valb-zf3ZUSi",
        "colab_type": "text"
      },
      "source": [
        "**NOTE:** We need to combine these two programs into one file. When someone runs this program, we want to retrieve their username from memory if possible, therfore we will start with a TRY block that attempts to recover the username. If the filename doesnt exist, we have the except block to prompt for the username, and store it in username.json for next time.   "
      ]
    },
    {
      "cell_type": "code",
      "metadata": {
        "id": "ZIOXDEnLadnf",
        "colab_type": "code",
        "colab": {
          "base_uri": "https://localhost:8080/",
          "height": 34
        },
        "outputId": "aa9bbf3c-45e9-41d1-ebec-f3d9dcf16706"
      },
      "source": [
        "import json\n",
        "#load the username, if it has been stored previously#\n",
        "#otherwise, prompt for the username and store it #\n",
        "filename = 'username.json'\n",
        "try:\n",
        "  with open(filename) as f_obj:  # we try to open username.json is the file exists #\n",
        "    username = json.load(f_obj) # then we read username back into memory #\n",
        "except FileNotFoundError:  # If this is the 1st time the user runs the program, username.json wont exist and fileNofound error will occur #\n",
        "  username = input(\"What is your name?  \")  # python move into except block and prompts user the enter username #\n",
        "  with open(filename, 'w') as f_obj:\n",
        "    json.dump(username, f_obj)  # we use json.dump to store the username and print a greeting #\n",
        "    print(\"We'll remember you when you come back, \" + username + \"!\")\n",
        "else:\n",
        "  print(\"Welcome Back, \" + username + \"!\")\n",
        "  # whichever block executes, the result is a username and an appropriate greeting #"
      ],
      "execution_count": 15,
      "outputs": [
        {
          "output_type": "stream",
          "text": [
            "Welcome Back, kyle!\n"
          ],
          "name": "stdout"
        }
      ]
    },
    {
      "cell_type": "markdown",
      "metadata": {
        "id": "vKF3ZS5qdt_o",
        "colab_type": "text"
      },
      "source": [
        "#**Refactoring**\n",
        "![](https://encrypted-tbn0.gstatic.com/images?q=tbn:ANd9GcQVFqIHxz-x4kg7zZUMX0vcl5uGGwJh25TZpnHGD5sOWvPXQ0Ge&s)\n",
        "\n",
        "Often, you come to a point where your code will work, but you'll recognize that you can improve our code by breaking it up into a series of functions that have specific jobs. This process is called refactoring. This process makes the code cleaner and easier to understand and easier to extend.  We can refactor the above code by moving the bullk of the logic into one or more functions. the focus of the code is the greet a user.\n",
        "\n",
        "\n",
        "**Lets move the all of the existing code into a function called greet user.** \n"
      ]
    },
    {
      "cell_type": "code",
      "metadata": {
        "id": "lBWOqd-vg5s0",
        "colab_type": "code",
        "colab": {}
      },
      "source": [
        "import json \n",
        "\n",
        "def greet_user():\n",
        "  \"\"\"Greet user by name\"\"\"  # because we using a function now, we added the Docstring to explain what th function does #\n",
        "  filename = 'username.json'\n",
        "  try:\n",
        "    with open(filename) as f_obj:\n",
        "      username = json.load(f_obj)\n",
        "  except FileNotFoundError:\n",
        "    username = input(\"What is your name?  \")\n",
        "    with open(filename, 'w') as f_obj:\n",
        "      json.dump(username, f_obj)\n",
        "      print(\"We'll remember you when you come back, \" + username + \"!\")\n",
        "  else:\n",
        "   print(\"Welcome Back, \" + username + \"!\")\n",
        "   # the file is a little cleaner but the function greet_user() is still doing more the just greeting a user . It also retreiving a stored username if one exists #\n",
        "   # and prompting for a new username if one doesnt exist #"
      ],
      "execution_count": 0,
      "outputs": []
    },
    {
      "cell_type": "code",
      "metadata": {
        "id": "zt055s4Nh80Y",
        "colab_type": "code",
        "colab": {
          "base_uri": "https://localhost:8080/",
          "height": 34
        },
        "outputId": "b45da12f-79dd-4bf9-fdaa-8dce2d03f16c"
      },
      "source": [
        "greet_user()"
      ],
      "execution_count": 6,
      "outputs": [
        {
          "output_type": "stream",
          "text": [
            "Welcome Back, kyle!\n"
          ],
          "name": "stdout"
        }
      ]
    },
    {
      "cell_type": "markdown",
      "metadata": {
        "id": "H02rpAi4geix",
        "colab_type": "text"
      },
      "source": [
        "**Lets refactor Greet_User() so its not doing so many tasks**\n",
        "\n",
        "*  Move the code the retreive the stored username to a seperate function\n",
        "\n",
        "\n"
      ]
    },
    {
      "cell_type": "code",
      "metadata": {
        "id": "3NMUyWdsYHJ_",
        "colab_type": "code",
        "colab": {}
      },
      "source": [
        "import json\n",
        "\n",
        "def get_stored_username():\n",
        "  \"\"\"get stored username if available\"\"\"\n",
        "  filename = 'username.json'\n",
        "  try:\n",
        "    with open(filename) as f_obj:\n",
        "      username = json.load(f_obj)\n",
        "  except FileNotFoundError:\n",
        "    return none\n",
        "  else:\n",
        "    return username\n",
        "\n",
        "def greet_user():\n",
        "  \"\"\"greet the user by name\"\"\"\n",
        "  username = get_stored_username()\n",
        "  if username:\n",
        "     print(\"Welcome back, \" + username + \"!\")\n",
        "  else:\n",
        "    username = input(\"What is your name...\")\n",
        "    filename = 'username.json'\n",
        "    with open(filename, 'w') as f_obj:\n",
        "      json.dump(username, f_obj)\n",
        "      print(\"We'll remember you when you come back, \" + username + \"!\")"
      ],
      "execution_count": 0,
      "outputs": []
    },
    {
      "cell_type": "code",
      "metadata": {
        "id": "ChhYV6ZxZ-MQ",
        "colab_type": "code",
        "colab": {
          "base_uri": "https://localhost:8080/",
          "height": 34
        },
        "outputId": "84090a64-f909-4cc4-d5c3-4f1b6d450eed"
      },
      "source": [
        "greet_user()"
      ],
      "execution_count": 12,
      "outputs": [
        {
          "output_type": "stream",
          "text": [
            "Welcome back, kyle!\n"
          ],
          "name": "stdout"
        }
      ]
    }
  ]
}