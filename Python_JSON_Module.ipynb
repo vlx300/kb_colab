{
  "nbformat": 4,
  "nbformat_minor": 0,
  "metadata": {
    "colab": {
      "name": "Python JSON Module.ipynb",
      "provenance": [],
      "collapsed_sections": [],
      "include_colab_link": true
    },
    "kernelspec": {
      "name": "python3",
      "display_name": "Python 3"
    }
  },
  "cells": [
    {
      "cell_type": "markdown",
      "metadata": {
        "id": "view-in-github",
        "colab_type": "text"
      },
      "source": [
        "<a href=\"https://colab.research.google.com/github/vlx300/kb_colab/blob/master/Python_JSON_Module.ipynb\" target=\"_parent\"><img src=\"https://colab.research.google.com/assets/colab-badge.svg\" alt=\"Open In Colab\"/></a>"
      ]
    },
    {
      "cell_type": "markdown",
      "metadata": {
        "id": "sxseXrxKleYu",
        "colab_type": "text"
      },
      "source": [
        "#**Python's JSON Module for Storing Data** \n",
        "\n",
        "![alt text](http://topnewsherald.com/wp-content/uploads/2019/08/Next-Generation-Data-Storage-Technologies-market.jpg)"
      ]
    },
    {
      "cell_type": "code",
      "metadata": {
        "id": "9Hu-szLzlczA",
        "colab_type": "code",
        "colab": {}
      },
      "source": [
        ""
      ],
      "execution_count": 0,
      "outputs": []
    }
  ]
}