{
  "nbformat": 4,
  "nbformat_minor": 0,
  "metadata": {
    "colab": {
      "name": "Generating & Visualizing-Data in Python.ipynb",
      "provenance": [],
      "collapsed_sections": [],
      "include_colab_link": true
    },
    "kernelspec": {
      "name": "python3",
      "display_name": "Python 3"
    },
    "accelerator": "GPU"
  },
  "cells": [
    {
      "cell_type": "markdown",
      "metadata": {
        "id": "view-in-github",
        "colab_type": "text"
      },
      "source": [
        "<a href=\"https://colab.research.google.com/github/vlx300/kb_colab/blob/master/Generating_%26_Visualizing_Data_in_Python.ipynb\" target=\"_parent\"><img src=\"https://colab.research.google.com/assets/colab-badge.svg\" alt=\"Open In Colab\"/></a>"
      ]
    },
    {
      "cell_type": "markdown",
      "metadata": {
        "id": "ohsW_0jOgSaz",
        "colab_type": "text"
      },
      "source": [
        "#**Data Visualiztion in Python: Generating data** \n",
        "![alt text](https://miro.medium.com/max/1600/1*6orEuCOf0HsnCp_wzKPs3A.gif)**"
      ]
    },
    {
      "cell_type": "markdown",
      "metadata": {
        "id": "6LkN7vizf4Cp",
        "colab_type": "text"
      },
      "source": [
        "#**Mount Google Drive**"
      ]
    },
    {
      "cell_type": "code",
      "metadata": {
        "id": "MqkGdXNTuz4Q",
        "colab_type": "code",
        "outputId": "43eb94d2-8894-4324-8718-108cc95acc0d",
        "colab": {
          "base_uri": "https://localhost:8080/",
          "height": 33
        }
      },
      "source": [
        " from google.colab import drive  # mount google drive #\n",
        "drive.mount('/content/drive')"
      ],
      "execution_count": 0,
      "outputs": [
        {
          "output_type": "stream",
          "text": [
            "Drive already mounted at /content/drive; to attempt to forcibly remount, call drive.mount(\"/content/drive\", force_remount=True).\n"
          ],
          "name": "stdout"
        }
      ]
    },
    {
      "cell_type": "markdown",
      "metadata": {
        "id": "NA8-sM3bAzA8",
        "colab_type": "text"
      },
      "source": [
        "##**Append Path for Google Drive**"
      ]
    },
    {
      "cell_type": "code",
      "metadata": {
        "id": "0eWeymtaA8Tm",
        "colab_type": "code",
        "colab": {}
      },
      "source": [
        "import sys\n",
        "sys.path.append(\"/content/drive/My Drive\")"
      ],
      "execution_count": 0,
      "outputs": []
    },
    {
      "cell_type": "markdown",
      "metadata": {
        "id": "4Wvws0RRjyrt",
        "colab_type": "text"
      },
      "source": [
        "##**Plotting a simple line Graph with MATPLOTLIB**\n",
        "\n",
        "\n"
      ]
    },
    {
      "cell_type": "code",
      "metadata": {
        "id": "8dzeXLICg351",
        "colab_type": "code",
        "colab": {}
      },
      "source": [
        "import matplotlib.pyplot as plt   # Import Matplotlib pyplot module using the alias plt . this way you dont have to type pyplot repeatedly #\n",
        "squares = [1, 4, 9, 16, 25]  # create a list to hold the squares \n",
        "plt.plot(squares) # pass squares to the plot() function which will attempt to plot the numbers in meaningful way #\n",
        "plt.show()  # This opens the matplotlib viewer and displays the plot . the viewer allowd you to ZOOM and navigate the plot #"
      ],
      "execution_count": 0,
      "outputs": []
    },
    {
      "cell_type": "markdown",
      "metadata": {
        "id": "5nLymfQsd84w",
        "colab_type": "text"
      },
      "source": [
        "Well use a few customizations to improve the rwadability of the plot"
      ]
    },
    {
      "cell_type": "code",
      "metadata": {
        "id": "Qu1M3yCceGx-",
        "colab_type": "code",
        "colab": {}
      },
      "source": [
        "import matplotlib.pyplot as plt\n",
        "squares = [1, 4, 9, 16, 25]\n",
        "plt.plot(squares, linewidth=7) # the linewidth parameter controls the thickness of the line plot() generates"
      ],
      "execution_count": 0,
      "outputs": []
    },
    {
      "cell_type": "code",
      "metadata": {
        "id": "2ve9usgQeiFV",
        "colab_type": "code",
        "colab": {}
      },
      "source": [
        "# Set chart title snf label axis #\n",
        "plt.title(\"Square Numbers\", fontsize=24)  # the title() function sets the title for the chart #\n",
        "plt.xlabel(\"Value\", fontsize=14) # this parameter controls the size of the text on the chart # \n",
        "plt.ylabel(\"Square of Value\", fontsize=14) \n",
        "# the x-label()/y-label() functions allows you to set a title for each axis # "
      ],
      "execution_count": 0,
      "outputs": []
    },
    {
      "cell_type": "code",
      "metadata": {
        "id": "q_-An2B9fEOq",
        "colab_type": "code",
        "colab": {}
      },
      "source": [
        "# Set the Tick labels #\n",
        "plt.tick_params(axis='both', labelsize=14)  # this function styles the tick-marks on 'both' the x and y axes (axes='both') and sets the fontsize of the tick-mark labels #\n",
        "plt.show()"
      ],
      "execution_count": 0,
      "outputs": []
    },
    {
      "cell_type": "markdown",
      "metadata": {
        "id": "eOYyozsfi8Rt",
        "colab_type": "text"
      },
      "source": [
        "##**Correcting the Plot**"
      ]
    },
    {
      "cell_type": "code",
      "metadata": {
        "id": "VUQRXiOXjGO0",
        "colab_type": "code",
        "colab": {}
      },
      "source": [
        "import matplotlib.pyplot as plt\n",
        "input_values = [1, 2, 3, 4, 5]\n",
        "squares = [1, 4, 9, 16, 25]\n",
        "plt.plot(input_values, squares, linewidth=5)\n",
        "#Now plot() will graph the data correctly because we've provded both the input and output values, so it doesnt have to assume how the output numbers will be generated #\n",
        "# you can specify numberous arguments when using plot() and use a number of functions to customize your plots # "
      ],
      "execution_count": 0,
      "outputs": []
    },
    {
      "cell_type": "markdown",
      "metadata": {
        "id": "LLXVO0s6k4jA",
        "colab_type": "text"
      },
      "source": [
        "##**Plotting and Styling Individual points with Scatter()**\n",
        "\n",
        "Sometimes its useful to plot and syle individual point based upon certain characterisitics. You may want to plot small values in one color and large values in another color. You could also plot a large data-set with one SET of style options and then emphasize individual point by replotting them with different style options\n",
        "\n",
        "To plot a single point, use the *scatter()* function. Pass the single (x,y) values of the point of interest to scatter() and it should plot those values"
      ]
    },
    {
      "cell_type": "code",
      "metadata": {
        "id": "3MpHcIBam182",
        "colab_type": "code",
        "colab": {}
      },
      "source": [
        "import matplotlib.pyplot as plt\n",
        "\n",
        "plt.scatter(2,4)\n",
        "plt.show()"
      ],
      "execution_count": 0,
      "outputs": []
    },
    {
      "cell_type": "markdown",
      "metadata": {
        "id": "slrp0lG2nJ_O",
        "colab_type": "text"
      },
      "source": [
        "Lets style the output to make it more interesting .We will add a title, label the axes, and ensure the text is large enough to read. "
      ]
    },
    {
      "cell_type": "code",
      "metadata": {
        "id": "_RFNTPWdngBk",
        "colab_type": "code",
        "colab": {}
      },
      "source": [
        "import matplotlib.pyplot as plt\n",
        "plt.scatter(2, 4, s=200)  # we call scatter() with the 's' argument to set the size of the dots used to draw the graph #\n",
        "\n",
        "# Set chart title and label axes.\n",
        "plt.title(\"Square Numbers\", fontsize=24)\n",
        "plt.xlabel(\"Value\", fontsize=14)\n",
        "plt.ylabel(\"Square of Value\", fontsize=14)\n",
        "\n",
        "# set the tick labels #\n",
        "plt.tick_params(axis ='both', which='major', labelsize=14)\n",
        "\n",
        "#plt\n",
        "plt.show()"
      ],
      "execution_count": 0,
      "outputs": []
    },
    {
      "cell_type": "markdown",
      "metadata": {
        "id": "w_RQzJYa1rAD",
        "colab_type": "text"
      },
      "source": [
        "##**Plotting a Series of Points with Scatter()**\n",
        "\n",
        "To plot a series of points, we can pass Scatter() seperate lists of x- and y-values like this: "
      ]
    },
    {
      "cell_type": "code",
      "metadata": {
        "id": "wABbC4cz2RPI",
        "colab_type": "code",
        "colab": {}
      },
      "source": [
        "import matplotlib.pyplot as plt\n",
        "\n",
        "x_values = [1, 2, 3, 4, 5]\n",
        "y_values = [1, 4, 9, 16, 25]\n",
        "\n",
        "plt.scatter(x_values, y_values, s=100)\n",
        "# Set chart title and label axes..\n",
        "# this will draw a scatter plot with multiple points\n",
        "# where these lists are passed to scatter(), Matplotlib reads once value from each list as it plots each point (1,1), (2,4), (3,9) #"
      ],
      "execution_count": 0,
      "outputs": []
    },
    {
      "cell_type": "markdown",
      "metadata": {
        "id": "rzOmvR5J6KcR",
        "colab_type": "text"
      },
      "source": [
        "##**Calculating data Automatically**\n",
        "\n",
        "Writing our data by hand can be inefficient, especially when we have many data points. Rather than passing our point in a list like above, let use a **LOOP** in python to do the calculation for us. Heres how this would look with 1,000 points"
      ]
    },
    {
      "cell_type": "code",
      "metadata": {
        "id": "t1oHE7Uxu5tR",
        "colab_type": "code",
        "colab": {}
      },
      "source": [
        "import matplotlib.pyplot as plt\n",
        "x_values = list(range(1, 1000))  # we start with a list of x_values containining number from 1 to 1000 # \n",
        "y_values = [x**2 for x in x_values]  #list comprehension which generates y_values by looping thru the x_values (for x in x_values), the squaring EACH number(x**2) \n",
        "# and storing the results as y_values \n",
        "# We then pass the input and output lists to scatter() #\n",
        "plt.scatter(x_values, y_values, s=40)\n",
        "#set the chart title and label axes#\n",
        "#set the range for each axis #\n",
        "plt.axis([0, 1100, 0, 1100000])  # Because this is a large dataset , we use a smaller point-size and we use the axis() function to specifiy the range for each axis #\n",
        "# the axis() function requires four values, MIN/MAX for x & y axis. (x = 1-1000), and ( y = 0-1100000) \n",
        "plt.show()"
      ],
      "execution_count": 0,
      "outputs": []
    },
    {
      "cell_type": "markdown",
      "metadata": {
        "id": "7Yy2DdA5xzkm",
        "colab_type": "text"
      },
      "source": [
        "#**Removing Outlines from DataPoints**\n",
        "\n",
        "Matplotlib lets you color point individually in a scatter plot.  (Default = Blue Dots with a black outline which works well with a plot a just a few data points. But when plotting several points, the outline may blend together. \n",
        "\n",
        "Pass the argument edgecolor = 'none' whe you call scatter()"
      ]
    },
    {
      "cell_type": "code",
      "metadata": {
        "id": "gy0kVj6LRKCt",
        "colab_type": "code",
        "colab": {}
      },
      "source": [
        "plt.scatter(x_values, y_values, edgecolors='none', s=40)  # You should see only a solid blue points in your plot #"
      ],
      "execution_count": 0,
      "outputs": []
    },
    {
      "cell_type": "markdown",
      "metadata": {
        "id": "m6v9Qlq_RuJF",
        "colab_type": "text"
      },
      "source": [
        "##**Defining Custom Colors**\n",
        "\n",
        "To change the color of the data points, pass 'c' to Scatter() with the name of the color to use: "
      ]
    },
    {
      "cell_type": "code",
      "metadata": {
        "id": "nFICSYvDTyR4",
        "colab_type": "code",
        "colab": {}
      },
      "source": [
        "plt.scatter(x_values, y_values, c='red', edgecolors='none', s=40)"
      ],
      "execution_count": 0,
      "outputs": []
    },
    {
      "cell_type": "markdown",
      "metadata": {
        "id": "lYUsvipDUl9Y",
        "colab_type": "text"
      },
      "source": [
        "##**Define colors via RBG Colormap**\n",
        "To Define a color, pass the c argument a tuple() with 3 decimal values, (one for RED, BLUE, GREEN) using values between 0 and 1\n",
        "\n",
        "**NOTE:**Values closer to 0 product Dark colors and values closer to 1 product lighter colors ."
      ]
    },
    {
      "cell_type": "code",
      "metadata": {
        "id": "D3SAb2pwVP-O",
        "colab_type": "code",
        "colab": {}
      },
      "source": [
        "plt.scatter(x_values, y_values, c=(0, 1, 0.3), edgecolors='none',s=40)"
      ],
      "execution_count": 0,
      "outputs": []
    },
    {
      "cell_type": "markdown",
      "metadata": {
        "id": "EWEqUd9kXwm5",
        "colab_type": "text"
      },
      "source": [
        "#**Using a Colormap**\n",
        "\n",
        "A Color map is a series of colors ina gradient that move from starting to ending color Colormaps are used in visualizations to emphasize a pattern in the data. Exp...Make low values a light color and high values a Dark color. the pyplot module include a series of built-in colormaps .\n",
        "\n",
        "To utilize these Colormaps, you have to specify how pyplot should assign a \n",
        "color to each point in the data set"
      ]
    },
    {
      "cell_type": "code",
      "metadata": {
        "id": "0q82OHrTZ8rD",
        "colab_type": "code",
        "colab": {}
      },
      "source": [
        "import matplotlib.pyplot as plt\n",
        "x_values = list(range(1000))\n",
        "y_values = [x**2 for x in x_values]\n",
        "plt.scatter(x_values, y_values, c=y_values, cmap=plt.cm.Blues, edgecolors='none', s=40)  # we pass a list of y_values to c and tell pyplot which colormap \n",
        "# to use with the CMAP argument #\n",
        "# this code colors the points with lower y_values light blue and then points with larger y_values Dark blue #  "
      ],
      "execution_count": 0,
      "outputs": []
    },
    {
      "cell_type": "markdown",
      "metadata": {
        "id": "F-qw8dtUbknW",
        "colab_type": "text"
      },
      "source": [
        "##**Saving  Plots Automatically**\n",
        "\n",
        "If you want your  program to automatically save your plot to a file, you can replace the call to plt.show(), to plt.savefig():"
      ]
    },
    {
      "cell_type": "code",
      "metadata": {
        "id": "SKYCNCXgeFYN",
        "colab_type": "code",
        "outputId": "5c6ec64b-d121-4151-ff7f-20afb6c81910",
        "colab": {
          "base_uri": "https://localhost:8080/",
          "height": 33
        }
      },
      "source": [
        "plt.savefig('squares_plot.png', bbox_inches='tight')\n",
        "# the first argument is the filename for the plot image, which will be saved in the same directory as the file #\n",
        "# the 2nd argument trims the extra whitespace from the plot #"
      ],
      "execution_count": 0,
      "outputs": [
        {
          "output_type": "display_data",
          "data": {
            "text/plain": [
              "<Figure size 432x288 with 0 Axes>"
            ]
          },
          "metadata": {
            "tags": []
          }
        }
      ]
    },
    {
      "cell_type": "markdown",
      "metadata": {
        "id": "0VwCVop0fAFh",
        "colab_type": "text"
      },
      "source": [
        "#**Random Walks**\n",
        "\n",
        "a Random Walk is a path that has no clear direction but is determined by a series of random decisions, eachn of which is left entirely to chance.\n",
        "\n",
        "Random Walks have a practical application in **Nature, Physics, Biology, Chemistry and Economics**. For Exp., a Pollen of grain floating on a drop of water moves accross the surface of the water because it constantly being pushed around by water molecules.**Molecular motion in a water drop is Random.** so *the path a pollen grain traces out on surface of the water is a Random Walk*. "
      ]
    },
    {
      "cell_type": "markdown",
      "metadata": {
        "id": "ykVm93-W6W1q",
        "colab_type": "text"
      },
      "source": [
        "###**Creating the Random Walk class**\n",
        "\n",
        "to create a Random Walk, We will create a RandomWalk class, which will make random decisions about which direction the walk should take. The Class needs 3 attributes: one varible to store the number of points in the Walk, and two lists to store the x- and y-coordinate values for each point in the walk.    we'll use only two methods for the RandomWalk class:__init__() and fill_Walk(), wich will calculate the points in the walk."
      ]
    },
    {
      "cell_type": "code",
      "metadata": {
        "id": "vF7GCkVW797g",
        "colab_type": "code",
        "colab": {}
      },
      "source": [
        "from random import choice\n",
        "class RandomWalk():\n",
        "  \"\"\"a class to generate Random Walks\"\"\"\n",
        "\n",
        "def __init__(self, num_points=5000):\n",
        "# setting the default 3 of point in the walk to 5000 #\n",
        "  \"\"\"initialize attributes of the walk\"\"\"\n",
        "  self.num_points = 'num_points'\n",
        "# All walks start at (0,0) #\n",
        "  self.x_values = [0]  # we make a list to store the x and y values and start each walk at 0,0 #\n",
        "  self.y_values = [0]\n",
        "# to make random decisions, we'll store possible choices in a list and use choice() to decide which coice to make each time each time a decision is made #\n"
      ],
      "execution_count": 0,
      "outputs": []
    },
    {
      "cell_type": "markdown",
      "metadata": {
        "id": "RRaw9EmE-u8V",
        "colab_type": "text"
      },
      "source": [
        "###**Choose Directions**\n",
        "\n",
        "We'll use fill_walk() to fill our walk with points and determine the direction of each step.  See Random_walk.py for details.."
      ]
    },
    {
      "cell_type": "code",
      "metadata": {
        "id": "V1mrJ24LNKuX",
        "colab_type": "code",
        "colab": {}
      },
      "source": [
        "import matplotlib.pyplot as plt\n",
        "from random_walk import RandomWalk\n",
        "#Make a Random_Walk and plot the points\n",
        "rw = RandomWalk()\n",
        "rw.fill_walk()\n",
        "plt.scatter(rw.x_values, rw.y_values, s=15)\n",
        "plt.show()"
      ],
      "execution_count": 0,
      "outputs": []
    },
    {
      "cell_type": "markdown",
      "metadata": {
        "id": "YqHjdAg-OYTm",
        "colab_type": "text"
      },
      "source": [
        "##**Generating Multiple Random Walks**\n",
        "\n",
        "every Random #Walk is different and ita fun to explore tha various patterns that can be created. In order to generate ,multiple Random walks, Wrap the above code in a While Loop. "
      ]
    },
    {
      "cell_type": "code",
      "metadata": {
        "colab_type": "code",
        "id": "NXCIAqSoPAlA",
        "colab": {}
      },
      "source": [
        "import matplotlib.pyplot as plt\n",
        "from random_walk import RandomWalk\n",
        "# Keep making New walks, as long as the program is active.#\n",
        "while True:\n",
        "# Make a Random_Walk and plot the points\n",
        "  rw = RandomWalk()\n",
        "  rw.fill_walk()\n",
        "  plt.scatter(rw.x_values, rw.y_values, s=15)\n",
        "  plt.show()\n",
        "\n",
        "keep_running = input(\"Make  another Random Walk?  (y/n):  \")\n",
        "if keep_running == 'n':\n",
        "  break"
      ],
      "execution_count": 0,
      "outputs": []
    },
    {
      "cell_type": "markdown",
      "metadata": {
        "id": "Alwd-lYDRDp9",
        "colab_type": "text"
      },
      "source": [
        "###**Styling the Walk**"
      ]
    },
    {
      "cell_type": "code",
      "metadata": {
        "id": "TaPaZqhfRTkd",
        "colab_type": "code",
        "colab": {}
      },
      "source": [
        "import matplotlib.pyplot as plt\n",
        "from random_walk import RandomWalk\n",
        "# Keep making New walks, as long as the program is active.#\n",
        "while True:\n",
        "# Make a Random_Walk and plot the points\n",
        "  rw = RandomWalk()\n",
        "  rw.fill_walk()\n",
        "  # Styling the Random walk #\n",
        "  point_numbers = list(range(rw.num_points))\n",
        "  plt.scatter(rw.x_values, rw.y_values, c= point_numbers, cmap=plt.cm.Blues, edgecolor= 'none', s=15)\n",
        "  plt.show()\n",
        "\n",
        "keep_running = input(\"Make  another Random Walk?  (y/n):  \")\n",
        "if keep_running == 'n':\n",
        "  break"
      ],
      "execution_count": 0,
      "outputs": []
    },
    {
      "cell_type": "markdown",
      "metadata": {
        "id": "Vxr2aaWiSSy2",
        "colab_type": "text"
      },
      "source": [
        "###**Plotting the beginning and endpoints**"
      ]
    },
    {
      "cell_type": "code",
      "metadata": {
        "id": "2fQCrHpSSgXW",
        "colab_type": "code",
        "colab": {}
      },
      "source": [
        "import matplotlib.pyplot as plt\n",
        "from random_walk import RandomWalk\n",
        "# Keep making New walks, as long as the program is active.#\n",
        "while True:\n",
        "# Make a Random_Walk and plot the points\n",
        "  rw = RandomWalk()\n",
        "  rw.fill_walk()\n",
        "  # Styling the Random walk #\n",
        "  point_numbers = list(range(rw.num_points))\n",
        "  plt.scatter(rw.x_values, rw.y_values, c= point_numbers, cmap=plt.cm.Blues, edgecolor= 'none', s=15)\n",
        "\n",
        "  # Emphasize first and last points #\n",
        "  plt.scatter(0, 0, c='green', edgecolors='none', s=100 )\n",
        "  plt.show()\n",
        "\n",
        "keep_running = input(\"Make  another Random Walk?  (y/n):  \")\n",
        "if keep_running == 'n':\n",
        "  break"
      ],
      "execution_count": 0,
      "outputs": []
    },
    {
      "cell_type": "markdown",
      "metadata": {
        "id": "9W50rEoQkZFI",
        "colab_type": "text"
      },
      "source": [
        "###**Altering the size of the plotting window**\n",
        "\n",
        "To make the plotting windows better fit your screen, adjust the size in matplotlib like below. the *figure()* funciton controls the **Width, height and resolution**  and **backround color** of the plot.  \n",
        "\n",
        "the \"*figsize*\" parameter takes a tuple , which tells matplotlib the dimension of the plotting window in inches "
      ]
    },
    {
      "cell_type": "code",
      "metadata": {
        "id": "aA_dpBg9kiK1",
        "colab_type": "code",
        "colab": {}
      },
      "source": [
        "import matplotlib.pyplot as plt\n",
        "from random_walk import RandomWalk\n",
        "# Keep making New walks, as long as the program is active.#\n",
        "while True:\n",
        "# Make a Random_Walk and plot the points\n",
        "  rw = RandomWalk()\n",
        "  rw.fill_walk()\n",
        "  # Set the size of the plotting window #\n",
        "  plt.figure(figsize=(10, 6))  # Set the figure size #\n",
        "  # Styling the Random walk #\n",
        "  point_numbers = list(range(rw.num_points))\n",
        "  plt.scatter(rw.x_values, rw.y_values, c= point_numbers, cmap=plt.cm.Blues, edgecolor= 'none', s=15)\n",
        "\n",
        "  # Emphasize first and last points #\n",
        "  plt.scatter(0, 0, c='green', edgecolors='none', s=100 )\n",
        "  plt.show()\n",
        "\n",
        "keep_running = input(\"Make  another Random Walk?  (y/n):  \")\n",
        "if keep_running == 'n':\n",
        "  break"
      ],
      "execution_count": 0,
      "outputs": []
    },
    {
      "cell_type": "markdown",
      "metadata": {
        "id": "Ru02D-gMmkP3",
        "colab_type": "text"
      },
      "source": [
        "Python assumes that the screen resolution is 80 pixels per inch: If this code doesnt give you an accurate plot size, adjust the numbers as necessary. If you dont know your systems resolution, pass figure() the resolution using the *dpi parameter* to set the plot size that makes effective use of space availble on your screen "
      ]
    },
    {
      "cell_type": "code",
      "metadata": {
        "id": "PKttBBuEnn9l",
        "colab_type": "code",
        "colab": {}
      },
      "source": [
        "import matplotlib.pyplot as plt\n",
        "from random_walk import RandomWalk\n",
        "# Keep making New walks, as long as the program is active.#\n",
        "while True:\n",
        "# Make a Random_Walk and plot the points\n",
        "  rw = RandomWalk()\n",
        "  rw.fill_walk()\n",
        "  # Set the size of the plotting window #\n",
        "  plt.figure(dpi=128, figsize=(10, 6))  # Set the figure size #\n",
        "  # Styling the Random walk #\n",
        "  point_numbers = list(range(rw.num_points))\n",
        "  plt.scatter(rw.x_values, rw.y_values, c= point_numbers, cmap=plt.cm.Blues, edgecolor= 'none', s=15)\n",
        "\n",
        "  # Emphasize first and last points #\n",
        "  plt.scatter(0, 0, c='green', edgecolors='none', s=100 )\n",
        "  plt.show()\n",
        "\n",
        "keep_running = input(\"Make  another Random Walk?  (y/n):  \")\n",
        "if keep_running == 'n':\n",
        "  break"
      ],
      "execution_count": 0,
      "outputs": []
    },
    {
      "cell_type": "markdown",
      "metadata": {
        "id": "9DzN6VZ7obxG",
        "colab_type": "text"
      },
      "source": [
        "#**Pygal Python Visualization Package**\n",
        "![alt text](https://media0.giphy.com/media/DXMPt2hET3CMM/source.gif)\n",
        "\n",
        "in this section we will use the Python visualization library Pygal to produce **Scalable Vecor Graphic** Files . these are useful for producing visualizatios on different size screens because they scale automatically to fit the user screen. If yuour planning to use visualizations online Consider Pygal so your work will look good on ANY device. \n",
        "\n",
        "in this small project, We will analyze the results of rolling dice. If you roll one six-sided die, you have an equali chance of rolling any of the numbers between 1 and 6. However when using two dice, you are more likely to roll some numbers more than others.  We will try to determine which numbers are most likely to occur by generating the dataset the represents rolling dice, then we will plot the results of a large number of rolls to determine which results are more likely than others.\n",
        "\n",
        "the Study of \"Dice rolling\" is often used in Mathematics toi explain various types of data analysis, but also has real-world applications in casinos, and various other Gambling scenarios and many role-playing games.\n",
        "\n",
        "1st Step is to install Pygal. "
      ]
    },
    {
      "cell_type": "markdown",
      "metadata": {
        "id": "3yVmoINkIjgB",
        "colab_type": "text"
      },
      "source": [
        "##**Install Pygal** "
      ]
    },
    {
      "cell_type": "code",
      "metadata": {
        "id": "EXzFZzdOIvAq",
        "colab_type": "code",
        "outputId": "5738c6cd-703d-488e-b16d-0177ffe30865",
        "colab": {
          "base_uri": "https://localhost:8080/",
          "height": 33
        }
      },
      "source": [
        "pip install --user pygal"
      ],
      "execution_count": 0,
      "outputs": [
        {
          "output_type": "stream",
          "text": [
            "Requirement already satisfied: pygal in /root/.local/lib/python3.6/site-packages (2.4.0)\n"
          ],
          "name": "stdout"
        }
      ]
    },
    {
      "cell_type": "markdown",
      "metadata": {
        "id": "ZsUeCnvNI72y",
        "colab_type": "text"
      },
      "source": [
        "###**The Pygal Gallery**\n",
        "\n",
        "To see what kind of visualizations are possible with Pygal, visit the gallery of chart types. (http://www.pygal.org), Click documentation, then chart types"
      ]
    },
    {
      "cell_type": "markdown",
      "metadata": {
        "id": "L7KqdxGOJ4iU",
        "colab_type": "text"
      },
      "source": [
        "###**Creating the Die Class**"
      ]
    },
    {
      "cell_type": "code",
      "metadata": {
        "id": "o9T0jdhJKGp6",
        "colab_type": "code",
        "colab": {}
      },
      "source": [
        "from random import randint\n",
        "\n",
        "class Die():\n",
        "  \"\"\"A class representing a single die\"\"\"\n",
        "\n",
        "  def __init__(self, num_sides=6):  # the init method takes 1 optional argument. With this class, when an instance of our die is created, the number of side will always be 6 if no argument is included #\n",
        "    \"\"\"assume a six sided die\"\"\"    # if a, argument is included, it must be set to the number of sides on the die #\n",
        "    self.num_sides = num_sides\n",
        "\n",
        "  def roll(self):   # the roll method uses the randint() to return a random number between 1 and the number of sides #\n",
        "    \"\"\"return a random value between 1 and number of sides.\"\"\"\n",
        "    return randint(1, self.num_sides)  # this function can return the starting value, (1), the ending value (num_sides), or any integer between the two. \n"
      ],
      "execution_count": 0,
      "outputs": []
    },
    {
      "cell_type": "code",
      "metadata": {
        "id": "FUASbfveS0kO",
        "colab_type": "code",
        "colab": {}
      },
      "source": [
        "sys.path.append(\"/content/drive/My Drive/\")  # Import die from Google drive. Append 'my drive' to sys.path #"
      ],
      "execution_count": 0,
      "outputs": []
    },
    {
      "cell_type": "markdown",
      "metadata": {
        "id": "FQIHhEyVMyZp",
        "colab_type": "text"
      },
      "source": [
        "##**Rolling the Die**\n",
        "\n",
        "Before creating the visualization based on the class, Lets roll a D6, print the results, and check that the results look reasonable"
      ]
    },
    {
      "cell_type": "code",
      "metadata": {
        "id": "_UeF25kBQGbF",
        "colab_type": "code",
        "outputId": "83f4932d-c73e-4f25-819f-b40f08f62daa",
        "colab": {
          "base_uri": "https://localhost:8080/",
          "height": 53
        }
      },
      "source": [
        "from die import Die\n",
        "# Create a D6 #\n",
        "die = Die()  # we create an instance of Die with the default of six sides #\n",
        "\n",
        "# Make some rolls, and store results in a list #\n",
        "results = []\n",
        "for roll_num in range(100):  # we roll the dice 100 times and store the results of each roll in a list 'results' \n",
        "  result = die.roll()\n",
        "  results.append(result)\n",
        "\n",
        "print(results)"
      ],
      "execution_count": 0,
      "outputs": [
        {
          "output_type": "stream",
          "text": [
            "[2, 2, 6, 1, 2, 1, 5, 3, 2, 1, 2, 1, 1, 1, 6, 5, 1, 3, 1, 6, 3, 4, 4, 6, 4, 4, 3, 3, 4, 1, 3, 1, 1, 6, 2, 4, 6, 3, 6, 1, 1, 3, 2, 2, 6, 2, 6, 4, 6, 4, 5, 3, 4, 4, 3, 4, 1, 1, 4, 4, 5, 6, 5, 5, 2, 1, 6, 1, 3, 6, 6, 1, 2, 4, 3, 1, 1, 1, 2, 6, 5, 2, 2, 4, 6, 6, 5, 5, 5, 4, 6, 1, 1, 2, 3, 3, 2, 6, 6, 1]\n"
          ],
          "name": "stdout"
        }
      ]
    },
    {
      "cell_type": "markdown",
      "metadata": {
        "id": "RwHEAk4yeAOK",
        "colab_type": "text"
      },
      "source": [
        "##**Analyze the Results**\n",
        "\n",
        "We analyze the results of rolling one D6 by counting how many times we roll each number"
      ]
    },
    {
      "cell_type": "code",
      "metadata": {
        "id": "N7s4X5QLeVYu",
        "colab_type": "code",
        "outputId": "381f641c-bfa0-49ea-e414-453996aba02e",
        "colab": {
          "base_uri": "https://localhost:8080/",
          "height": 33
        }
      },
      "source": [
        "from die import Die\n",
        "# Create a D6 #\n",
        "die = Die()  # we create an instance of Die with the default of six sides #\n",
        "\n",
        "# Make some rolls, and store results in a list #\n",
        "results = []\n",
        "for roll_num in range(1000):  # we roll the dice 1000 times and store the results of each roll in a list 'results' \n",
        "  result = die.roll()\n",
        "  results.append(result)\n",
        "\n",
        "# analyze the results #\n",
        "frequencies = []\n",
        "for value in range(1, die.num_sides+1):\n",
        "  frequency = results.count(value)\n",
        "  frequencies.append(frequency)\n",
        "\n",
        "\n",
        "print(frequencies)"
      ],
      "execution_count": 0,
      "outputs": [
        {
          "output_type": "stream",
          "text": [
            "[172, 162, 168, 156, 169, 173]\n"
          ],
          "name": "stdout"
        }
      ]
    },
    {
      "cell_type": "markdown",
      "metadata": {
        "id": "IM00warpgUH1",
        "colab_type": "text"
      },
      "source": [
        "These results look reasonable, we see six frequencies , one ofr each possible number when you roll a D6 and see that no frequency is significantly higher than another.    \n",
        "\n",
        "Now lets visualize the results"
      ]
    },
    {
      "cell_type": "markdown",
      "metadata": {
        "id": "tAFBMqfqgzq6",
        "colab_type": "text"
      },
      "source": [
        "#**Making a Histogram** "
      ]
    },
    {
      "cell_type": "code",
      "metadata": {
        "colab_type": "code",
        "id": "McGKPpp1hfBR",
        "colab": {}
      },
      "source": [
        "\n",
        "from die import Die\n",
        "# Create a D6 #\n",
        "die = Die()  # we create an instance of Die with the default of six sides #\n",
        "\n",
        "# Make some rolls, and store results in a list #\n",
        "results = []\n",
        "for roll_num in range(1000):  # we roll the dice 1000 times and store the results of each roll in a list 'results' \n",
        "  result = die.roll()\n",
        "  results.append(result)\n",
        "\n",
        "# analyze the results #\n",
        "frequencies = []\n",
        "for value in range(1, die.num_sides+1):\n",
        "  frequency = results.count(value)\n",
        "  frequencies.append(frequency)\n",
        "\n",
        "# Visualize the result #\n",
        "hist = pygal.bar()\n",
        "hist.title = \"results of Rolling one D6 1000 times\"\n",
        "hist.x_labels = ['1', '2', '3', '4', '5', '6']\n",
        "hist.x_title = \"result\"\n",
        "hist.y_title = \"Frequency of Result\"\n",
        "\n",
        "hist.add('D6', frequencies)\n",
        "hist.render_to_file('die_visual.svg')\n"
      ],
      "execution_count": 0,
      "outputs": []
    }
  ]
}