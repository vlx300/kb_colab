{
  "nbformat": 4,
  "nbformat_minor": 0,
  "metadata": {
    "colab": {
      "name": "Generating & Visualizing-Data in Python.ipynb",
      "provenance": [],
      "collapsed_sections": [],
      "include_colab_link": true
    },
    "kernelspec": {
      "name": "python3",
      "display_name": "Python 3"
    },
    "accelerator": "GPU"
  },
  "cells": [
    {
      "cell_type": "markdown",
      "metadata": {
        "id": "view-in-github",
        "colab_type": "text"
      },
      "source": [
        "<a href=\"https://colab.research.google.com/github/vlx300/kb_colab/blob/master/Generating_%26_Visualizing_Data_in_Python.ipynb\" target=\"_parent\"><img src=\"https://colab.research.google.com/assets/colab-badge.svg\" alt=\"Open In Colab\"/></a>"
      ]
    },
    {
      "cell_type": "markdown",
      "metadata": {
        "id": "ohsW_0jOgSaz",
        "colab_type": "text"
      },
      "source": [
        "#**Data Visualiztion in Python: Generating data** \n",
        "![alt text](https://miro.medium.com/max/1600/1*6orEuCOf0HsnCp_wzKPs3A.gif)**"
      ]
    },
    {
      "cell_type": "markdown",
      "metadata": {
        "id": "6LkN7vizf4Cp",
        "colab_type": "text"
      },
      "source": [
        "#**Mount Google Drive**"
      ]
    },
    {
      "cell_type": "code",
      "metadata": {
        "id": "MqkGdXNTuz4Q",
        "colab_type": "code",
        "colab": {}
      },
      "source": [
        " from google.colab import drive  # mount google drive #\n",
        "drive.mount('/content/drive')"
      ],
      "execution_count": 0,
      "outputs": []
    },
    {
      "cell_type": "markdown",
      "metadata": {
        "id": "4Wvws0RRjyrt",
        "colab_type": "text"
      },
      "source": [
        "##**Plotting a simple line Graph with MATPLOTLIB**\n",
        "\n",
        "\n"
      ]
    },
    {
      "cell_type": "code",
      "metadata": {
        "id": "8dzeXLICg351",
        "colab_type": "code",
        "colab": {}
      },
      "source": [
        "import matplotlib.pyplot as plt   # Import Matplotlib pyplot module using the alias plt . this way you dont have to type pyplot repeatedly #\n",
        "squares = [1, 4, 9, 16, 25]  # create a list to hold the squares \n",
        "plt.plot(squares) # pass squares to the plot() function which will attempt to plot the numbers in meaningful way #\n",
        "plt.show()  # This opens the matplotlib viewer and displays the plot . the viewer allowd you to ZOOM and navigate the plot #"
      ],
      "execution_count": 0,
      "outputs": []
    },
    {
      "cell_type": "markdown",
      "metadata": {
        "id": "5nLymfQsd84w",
        "colab_type": "text"
      },
      "source": [
        "Well use a few customizations to improve the rwadability of the plot"
      ]
    },
    {
      "cell_type": "code",
      "metadata": {
        "id": "Qu1M3yCceGx-",
        "colab_type": "code",
        "colab": {}
      },
      "source": [
        "import matplotlib.pyplot as plt\n",
        "squares = [1, 4, 9, 16, 25]\n",
        "plt.plot(squares, linewidth=7) # the linewidth parameter controls the thickness of the line plot() generates"
      ],
      "execution_count": 0,
      "outputs": []
    },
    {
      "cell_type": "code",
      "metadata": {
        "id": "2ve9usgQeiFV",
        "colab_type": "code",
        "colab": {}
      },
      "source": [
        "# Set chart title snf label axis #\n",
        "plt.title(\"Square Numbers\", fontsize=24)  # the title() function sets the title for the chart #\n",
        "plt.xlabel(\"Value\", fontsize=14) # this parameter controls the size of the text on the chart # \n",
        "plt.ylabel(\"Square of Value\", fontsize=14) \n",
        "# the x-label()/y-label() functions allows you to set a title for each axis # "
      ],
      "execution_count": 0,
      "outputs": []
    },
    {
      "cell_type": "code",
      "metadata": {
        "id": "q_-An2B9fEOq",
        "colab_type": "code",
        "colab": {}
      },
      "source": [
        "# Set the Tick labels #\n",
        "plt.tick_params(axis='both', labelsize=14)  # this function styles the tick-marks on 'both' the x and y axes (axes='both') and sets the fontsize of the tick-mark labels #\n",
        "plt.show()"
      ],
      "execution_count": 0,
      "outputs": []
    },
    {
      "cell_type": "markdown",
      "metadata": {
        "id": "eOYyozsfi8Rt",
        "colab_type": "text"
      },
      "source": [
        "##**Correcting the Plot**"
      ]
    },
    {
      "cell_type": "code",
      "metadata": {
        "id": "VUQRXiOXjGO0",
        "colab_type": "code",
        "colab": {}
      },
      "source": [
        "import matplotlib.pyplot as plt\n",
        "input_values = [1, 2, 3, 4, 5]\n",
        "squares = [1, 4, 9, 16, 25]\n",
        "plt.plot(input_values, squares, linewidth=5)\n",
        "#Now plot() will graph the data correctly because we've provded both the input and output values, so it doesnt have to assume how the output numbers will be generated #\n",
        "# you can specify numberous arguments when using plot() and use a number of functions to customize your plots # "
      ],
      "execution_count": 0,
      "outputs": []
    },
    {
      "cell_type": "markdown",
      "metadata": {
        "id": "LLXVO0s6k4jA",
        "colab_type": "text"
      },
      "source": [
        "##**Plotting and Styling Individual points with Scatter()**\n",
        "\n",
        "Sometimes its useful to plot and syle individual point based upon certain characterisitics. You may want to plot small values in one color and large values in another color. You could also plot a large data-set with one SET of style options and then emphasize individual point by replotting them with different style options\n",
        "\n",
        "To plot a single point, use the *scatter()* function. Pass the single (x,y) values of the point of interest to scatter() and it should plot those values"
      ]
    },
    {
      "cell_type": "code",
      "metadata": {
        "id": "3MpHcIBam182",
        "colab_type": "code",
        "colab": {}
      },
      "source": [
        "import matplotlib.pyplot as plt\n",
        "\n",
        "plt.scatter(2,4)\n",
        "plt.show()"
      ],
      "execution_count": 0,
      "outputs": []
    },
    {
      "cell_type": "markdown",
      "metadata": {
        "id": "slrp0lG2nJ_O",
        "colab_type": "text"
      },
      "source": [
        "Lets style the output to make it more interesting .We will add a title, label the axes, and ensure the text is large enough to read. "
      ]
    },
    {
      "cell_type": "code",
      "metadata": {
        "id": "_RFNTPWdngBk",
        "colab_type": "code",
        "colab": {}
      },
      "source": [
        "import matplotlib.pyplot as plt\n",
        "plt.scatter(2, 4, s=200)  # we call scatter() with the 's' argument to set the size of the dots used to draw the graph #\n",
        "\n",
        "# Set chart title and label axes.\n",
        "plt.title(\"Square Numbers\", fontsize=24)\n",
        "plt.xlabel(\"Value\", fontsize=14)\n",
        "plt.ylabel(\"Square of Value\", fontsize=14)\n",
        "\n",
        "# set the tick labels #\n",
        "plt.tick_params(axis ='both', which='major', labelsize=14)\n",
        "\n",
        "#plt\n",
        "plt.show()"
      ],
      "execution_count": 0,
      "outputs": []
    },
    {
      "cell_type": "markdown",
      "metadata": {
        "id": "w_RQzJYa1rAD",
        "colab_type": "text"
      },
      "source": [
        "##**Plotting a Series of Points with Scatter()**\n",
        "\n",
        "To plot a series of points, we can pass Scatter() seperate lists of x- and y-values like this: "
      ]
    },
    {
      "cell_type": "code",
      "metadata": {
        "id": "wABbC4cz2RPI",
        "colab_type": "code",
        "colab": {}
      },
      "source": [
        "import matplotlib.pyplot as plt\n",
        "\n",
        "x_values = [1, 2, 3, 4, 5]\n",
        "y_values = [1, 4, 9, 16, 25]\n",
        "\n",
        "plt.scatter(x_values, y_values, s=100)\n",
        "# Set chart title and label axes..\n",
        "# this will draw a scatter plot with multiple points\n",
        "# where these lists are passed to scatter(), Matplotlib reads once value from each list as it plots each point (1,1), (2,4), (3,9) #"
      ],
      "execution_count": 0,
      "outputs": []
    },
    {
      "cell_type": "markdown",
      "metadata": {
        "id": "rzOmvR5J6KcR",
        "colab_type": "text"
      },
      "source": [
        "##**Calculating data Automatically**\n",
        "\n",
        "Writing our data by hand can be inefficient, especially when we have many data points. Rather than passing our point in a list like above, let use a **LOOP** in python to do the calculation for us. Heres how this would look with 1,000 points"
      ]
    },
    {
      "cell_type": "code",
      "metadata": {
        "id": "t1oHE7Uxu5tR",
        "colab_type": "code",
        "colab": {}
      },
      "source": [
        "import matplotlib.pyplot as plt\n",
        "x_values = list(range(1, 1000))  # we start with a list of x_values containining number from 1 to 1000 # \n",
        "y_values = [x**2 for x in x_values]  #list comprehension which generates y_values by looping thru the x_values (for x in x_values), the squaring EACH number(x**2) \n",
        "# and storing the results as y_values \n",
        "# We then pass the input and output lists to scatter() #\n",
        "plt.scatter(x_values, y_values, s=40)\n",
        "#set the chart title and label axes#\n",
        "#set the range for each axis #\n",
        "plt.axis([0, 1100, 0, 1100000])  # Because this is a large dataset , we use a smaller point-size and we use the axis() function to specifiy the range for each axis #\n",
        "# the axis() function requires four values, MIN/MAX for x & y axis. (x = 1-1000), and ( y = 0-1100000) \n",
        "plt.show()"
      ],
      "execution_count": 0,
      "outputs": []
    },
    {
      "cell_type": "markdown",
      "metadata": {
        "id": "7Yy2DdA5xzkm",
        "colab_type": "text"
      },
      "source": [
        "#**Removing Outlines from DataPoints**\n",
        "\n",
        "Matplotlib lets you color point individually in a scatter plot.  (Default = Blue Dots with a black outline which works well with a plot a just a few data points. But when plotting several points, the outline may blend together. \n",
        "\n",
        "Pass the argument edgecolor = 'none' whe you call scatter()"
      ]
    },
    {
      "cell_type": "code",
      "metadata": {
        "id": "gy0kVj6LRKCt",
        "colab_type": "code",
        "colab": {}
      },
      "source": [
        "plt.scatter(x_values, y_values, edgecolors='none', s=40)  # You should see only a solid blue points in your plot #"
      ],
      "execution_count": 0,
      "outputs": []
    },
    {
      "cell_type": "markdown",
      "metadata": {
        "id": "m6v9Qlq_RuJF",
        "colab_type": "text"
      },
      "source": [
        "##**Defining Custom Colors**\n",
        "\n",
        "To change the color of the data points, pass 'c' to Scatter() with the name of the color to use: "
      ]
    },
    {
      "cell_type": "code",
      "metadata": {
        "id": "nFICSYvDTyR4",
        "colab_type": "code",
        "colab": {}
      },
      "source": [
        "plt.scatter(x_values, y_values, c='red', edgecolors='none', s=40)"
      ],
      "execution_count": 0,
      "outputs": []
    },
    {
      "cell_type": "markdown",
      "metadata": {
        "id": "lYUsvipDUl9Y",
        "colab_type": "text"
      },
      "source": [
        "##**Define colors via RBG Colormap**\n",
        "To Define a color, pass the c argument a tuple() with 3 decimal values, (one for RED, BLUE, GREEN) using values between 0 and 1\n",
        "\n",
        "**NOTE:**Values closer to 0 product Dark colors and values closer to 1 product lighter colors ."
      ]
    },
    {
      "cell_type": "code",
      "metadata": {
        "id": "D3SAb2pwVP-O",
        "colab_type": "code",
        "colab": {}
      },
      "source": [
        "plt.scatter(x_values, y_values, c=(0, 0, 0.8), edgecolors='none',s=40)"
      ],
      "execution_count": 0,
      "outputs": []
    },
    {
      "cell_type": "markdown",
      "metadata": {
        "id": "EWEqUd9kXwm5",
        "colab_type": "text"
      },
      "source": [
        "#**Using a Colormap**\n",
        "\n",
        "A Color map is a series of colors ina gradient that move from starting to ending color Colormaps are used in visualizations to emphasize a pattern in the data. Exp...Make low values a light color and high values a Dark color. the pyplot module include a series of built-in colormaps .\n",
        "\n",
        "To utilize these Colormaps, you have to specify how pyplot should assign a \n",
        "color to each point in the data set"
      ]
    },
    {
      "cell_type": "code",
      "metadata": {
        "id": "0q82OHrTZ8rD",
        "colab_type": "code",
        "colab": {}
      },
      "source": [
        "import matplotlib.pyplot as plt\n",
        "x_values = list(range(1000))\n",
        "y_values = [x**2 for x in x_values]\n",
        "plt.scatter(x_values, y_values, c=y_values, cmap=plt.cm.Blues, edgecolors='none', s=40)  # we pass a list of y_values to c and tell pyplot which colormap \n",
        "# to use with the CMAP argument #\n",
        "# this code colors the points with lower y_values light blue and then points with larger y_values Dark blue #  "
      ],
      "execution_count": 0,
      "outputs": []
    },
    {
      "cell_type": "markdown",
      "metadata": {
        "id": "F-qw8dtUbknW",
        "colab_type": "text"
      },
      "source": [
        "##**Saving  Plots Automatically**"
      ]
    }
  ]
}