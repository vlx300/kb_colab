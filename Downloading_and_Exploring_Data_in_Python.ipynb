{
  "nbformat": 4,
  "nbformat_minor": 0,
  "metadata": {
    "colab": {
      "name": "Downloading and Exploring Data in Python.ipynb",
      "provenance": [],
      "collapsed_sections": [],
      "include_colab_link": true
    },
    "kernelspec": {
      "name": "python3",
      "display_name": "Python 3"
    }
  },
  "cells": [
    {
      "cell_type": "markdown",
      "metadata": {
        "id": "view-in-github",
        "colab_type": "text"
      },
      "source": [
        "<a href=\"https://colab.research.google.com/github/vlx300/kb_colab/blob/master/Downloading_and_Exploring_Data_in_Python.ipynb\" target=\"_parent\"><img src=\"https://colab.research.google.com/assets/colab-badge.svg\" alt=\"Open In Colab\"/></a>"
      ]
    },
    {
      "cell_type": "markdown",
      "metadata": {
        "id": "m5S_8UjW6FOn",
        "colab_type": "text"
      },
      "source": [
        "#**Downloading and Exploring Data in Python**\n",
        "\n",
        "![alt text](https://www.prospecta.com/images/data-science-banner.jpg)\n",
        "\n",
        "In this section, we will download data sets from online sources and create working visualizations of that data . the ability to analyze data allows you to discovered patterns in the data that no one knew was there. We will access and visualize data in two common data formats (**CSV and JSON**). We will urilize the python CSV module to process weather data stored in CSV format. We will then utilize Matplotlib to generate a chart based upon the downloaded data.\n",
        "\n",
        "We will also use the JSON module to access data stored in JSON format and us Pygal to population map by country. "
      ]
    },
    {
      "cell_type": "markdown",
      "metadata": {
        "id": "CfLJGTQYaGct",
        "colab_type": "text"
      },
      "source": [
        "#**Mount google Drive**"
      ]
    },
    {
      "cell_type": "code",
      "metadata": {
        "id": "qzRaR23fVRKD",
        "colab_type": "code",
        "colab": {}
      },
      "source": [
        " from google.colab import drive  # mount google drive #\n",
        "drive.mount('/content/drive')"
      ],
      "execution_count": 0,
      "outputs": []
    },
    {
      "cell_type": "markdown",
      "metadata": {
        "id": "A9RSQRC4aeUj",
        "colab_type": "text"
      },
      "source": [
        "##**Append sys.path for Google Drive**"
      ]
    },
    {
      "cell_type": "code",
      "metadata": {
        "id": "0eWeymtaA8Tm",
        "colab_type": "code",
        "colab": {}
      },
      "source": [
        "import sys\n",
        "sys.path.append(\"/content/drive/My Drive\")"
      ],
      "execution_count": 0,
      "outputs": []
    },
    {
      "cell_type": "markdown",
      "metadata": {
        "id": "p3Sq06pIb7SX",
        "colab_type": "text"
      },
      "source": [
        "##**CSV File Format**\n",
        "\n",
        "One simple way to store data in a text file is too write the data as a series of **values seperated by commas** (Comma-Seperated-Values(CSV))\n",
        "\n",
        "for this excercise , we will use weather data for **January 5, 2014 in Sitka Alaska**. It includes the day's high and Low tempratures as well as a number of other measurements for the day. CSV files can be a bit tricky for Humans to read but easy for programs to process and extract values from, which speeds data analysis greatly. \n",
        "\n",
        "weather data was orginally download from https://www.wunderground.com/history"
      ]
    },
    {
      "cell_type": "markdown",
      "metadata": {
        "id": "oO-tWELJd6DS",
        "colab_type": "text"
      },
      "source": [
        "###**Parsing CSV file Headers**\n",
        "\n",
        "Python's CSV module in the standard library parses the lines in a CSV file and allows us to quickly extract the values were interested in. Lets examine the first line of the file, which normally contains a series of header for the data. "
      ]
    },
    {
      "cell_type": "code",
      "metadata": {
        "id": "FhySg3lTemgZ",
        "colab_type": "code",
        "colab": {}
      },
      "source": [
        "import csv   # Import csv module #\n",
        "\n",
        "filename = \"/content/drive/My Drive/sitka_weather_07-2014.csv\"  # store the name of the file in filename #\n",
        "with open (filename) as f:  # we open the file and store the resulting file object in f #\n",
        "  reader = csv.reader(f)  # next we call csv.reader() and pass it the file object (f) as a argument to create the reader object associuated with that file. We stor the reader object in reader # \n",
        "  header_row = next(reader)  # the CSV module contains the next() function which will return the next line in the file when passed the reader object. the result is stored in header-row #    \n",
        "  print(header_row)\n",
        "\n",
        "  # you can see below the headers contain meaningful weather-related information each line of data holds # "
      ],
      "execution_count": 0,
      "outputs": []
    },
    {
      "cell_type": "markdown",
      "metadata": {
        "id": "Xuj936VciG9h",
        "colab_type": "text"
      },
      "source": [
        "\n",
        "*reader* processes the 1st line of comma-seperated-values (CSV) in the file and stores each as an item in the list. the header 'AKDT'  represents **Alaska Daylight Time**.  The **position** of this header indicates that the first value in EACH line will be a date/time. \n",
        "\n",
        "The ' ***Max TemperatureF*** ' hesder tell us that the 2nd value in each line is the maximun temperature for that date (in degrees Fahrenheit). you can read thru the rest of the headers to determiune the kind of information included in the file.\n",
        "\n",
        "**Note**: the headers are NOT always formatted consistently. Spaces and units are in odd places. Tis is common in raw data files but wont cause a problem"
      ]
    },
    {
      "cell_type": "markdown",
      "metadata": {
        "id": "fKGY0Jr1k8A_",
        "colab_type": "text"
      },
      "source": [
        "###**Printing the headers and their positions**\n",
        "\n",
        "To make it easier to understandthe file header data, print each header and its position in the list"
      ]
    },
    {
      "cell_type": "code",
      "metadata": {
        "id": "tbQebqe-lQfE",
        "colab_type": "code",
        "colab": {}
      },
      "source": [
        "import csv   \n",
        "\n",
        "filename = \"/content/drive/My Drive/sitka_weather_07-2014.csv\"  \n",
        "with open (filename) as f:  \n",
        "  reader = csv.reader(f)   \n",
        "  header_row = next(reader)  \n",
        "\n",
        "  for index, column_header in enumerate(header_row):  # we use enumerate on a list to get the index of each item as well as value. #\n",
        "    print(index, column_header)\n",
        "# we will see in the results the dates and their high temperatures are stored in columns 0 and 1 #\n",
        "# to explore this data , we will process each row of data and extract the values with indices of 0 and 1 #"
      ],
      "execution_count": 0,
      "outputs": []
    },
    {
      "cell_type": "markdown",
      "metadata": {
        "id": "pgjLmesVnNg4",
        "colab_type": "text"
      },
      "source": [
        "##**Extracting and Reading data**\n",
        "\n",
        "Now that we know which column of data we need, Lets read in some of that data.  First, we'll read in the high temperature for each day  "
      ]
    },
    {
      "cell_type": "code",
      "metadata": {
        "id": "FOoy9WonnjP0",
        "colab_type": "code",
        "colab": {}
      },
      "source": [
        "import csv\n",
        "\n",
        "# get high temperatures from file #\n",
        "filename = \"/content/drive/My Drive/sitka_weather_07-2014.csv\"  \n",
        "with open (filename) as f:  \n",
        "  reader = csv.reader(f) \n",
        "  header_row = next(reader) \n",
        "  \n",
        "  highs = []  # we make an empy list called highs #\n",
        "  for row in reader:  # Loop thru the remaining rows in the file #\n",
        "    highs.append(row[1])\n",
        "\n",
        "  print(highs)\n",
        "\n",
        "# the reder object continues where it last left off in te CSV file and automatically returns each line following its current position #\n",
        "# because we already read in the header row above, the loop begins at 2nd line where the actual data begins #\n",
        "# as you can see below, we extracted the high temperature for each date and stoired them in a list as STRINGS(' ') ...This need to be converted to numbers. #"
      ],
      "execution_count": 0,
      "outputs": []
    },
    {
      "cell_type": "code",
      "metadata": {
        "id": "K0lTa7UErM_C",
        "colab_type": "code",
        "colab": {}
      },
      "source": [
        "import csv\n",
        "\n",
        "filename = \"/content/drive/My Drive/sitka_weather_07-2014.csv\"  \n",
        "with open (filename) as f:  \n",
        "  reader = csv.reader(f) \n",
        "  header_row = next(reader) \n",
        "  \n",
        "  highs = []  \n",
        "  for row in reader:  \n",
        "    high = int(row[1])  #convert strings to numbers #\n",
        "    highs.append(high)\n",
        "\n",
        "  print(highs)\n",
        "  # as you can see now they are numbers and not strings #\n",
        "  # Now were ready to visualize the data #"
      ],
      "execution_count": 0,
      "outputs": []
    },
    {
      "cell_type": "markdown",
      "metadata": {
        "id": "b04FE42Dsdcl",
        "colab_type": "text"
      },
      "source": [
        "##**Plotting data in a Temperature chart** \n",
        "\n",
        "to visualize the temperature data we have, Lets first creat a simple plot of the daily highs using matplotlib "
      ]
    },
    {
      "cell_type": "code",
      "metadata": {
        "id": "xlNzR5Tqs1fs",
        "colab_type": "code",
        "colab": {}
      },
      "source": [
        "import csv\n",
        "from matplotlib import pyplot as plt\n",
        "\n",
        "# get high temperatures from file #\n",
        "filename = \"/content/drive/My Drive/sitka_weather_07-2014.csv\"  \n",
        "with open (filename) as f:  \n",
        "  reader = csv.reader(f) \n",
        "  header_row = next(reader) \n",
        "  \n",
        "  highs = []  \n",
        "  for row in reader:  \n",
        "    high = int(row[1])  \n",
        "    highs.append(high)\n",
        "\n",
        "# plot data #\n",
        "fig = plt.figure(dpi=128, figsize=(10, 6))\n",
        "plt.plot(highs, c='red')\n",
        "#Format plot #\n",
        "plt.title(\"Daily high temperatures, July 2014\", fontsize=24)\n",
        "plt.xlabel('', fontsize=16)\n",
        "plt.ylabel(\"Temperature (f)\", fontsize=16)\n",
        "plt.tick_params(axis='both', which='major', labelsize=16)\n",
        "\n",
        "plt.show()"
      ],
      "execution_count": 0,
      "outputs": []
    },
    {
      "cell_type": "markdown",
      "metadata": {
        "id": "j9mU9LzvyNGb",
        "colab_type": "text"
      },
      "source": [
        "##**Plotting dates** \n",
        "\n",
        "We can improve our plot of the temperature dara by extracting dates for our daily highs and passing the dates and to plot() "
      ]
    },
    {
      "cell_type": "code",
      "metadata": {
        "id": "ganOkRmIyz3M",
        "colab_type": "code",
        "colab": {}
      },
      "source": [
        "import csv\n",
        "from datetime import datetime  # add datetime module #\n",
        "from matplotlib import pyplot as plt\n",
        "\n",
        "# get high temperatures from file #\n",
        "filename = \"/content/drive/My Drive/sitka_weather_07-2014.csv\"  \n",
        "with open (filename) as f:  \n",
        "  reader = csv.reader(f) \n",
        "  header_row = next(reader) \n",
        "  \n",
        "  dates, highs = [], [] # added empty list for dates #  \n",
        "  for row in reader:  \n",
        "    current_date = datetime.strptime(row[0], \"%Y-%m-%d\")  # for 4 digit year , make sure %Y is capitolized # \n",
        "    dates.append(current_date)\n",
        "    high = int(row[1])  \n",
        "    highs.append(high)\n",
        "\n",
        "# plot data #\n",
        "fig = plt.figure(dpi=128, figsize=(10, 6))\n",
        "plt.plot(dates, highs, c='red')  # add dates to plot #\n",
        "\n",
        "#Format plot #\n",
        "plt.title(\"Daily high temperatures, July 2014\", fontsize=24)\n",
        "plt.xlabel('', fontsize=16)\n",
        "fig.autofmt_xdate()  # draws date label diagonally to prevent from overlapping #\n",
        "plt.ylabel(\"Temperature (f)\", fontsize=16)\n",
        "plt.tick_params(axis='both', which='major', labelsize=16)\n",
        "\n",
        "plt.show()"
      ],
      "execution_count": 0,
      "outputs": []
    }
  ]
}