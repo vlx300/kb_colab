{
  "nbformat": 4,
  "nbformat_minor": 0,
  "metadata": {
    "colab": {
      "name": "Python-Exceptions.ipynb",
      "provenance": [],
      "include_colab_link": true
    },
    "kernelspec": {
      "name": "python3",
      "display_name": "Python 3"
    }
  },
  "cells": [
    {
      "cell_type": "markdown",
      "metadata": {
        "id": "view-in-github",
        "colab_type": "text"
      },
      "source": [
        "<a href=\"https://colab.research.google.com/github/vlx300/kb_colab/blob/master/Python_Exceptions.ipynb\" target=\"_parent\"><img src=\"https://colab.research.google.com/assets/colab-badge.svg\" alt=\"Open In Colab\"/></a>"
      ]
    },
    {
      "cell_type": "markdown",
      "metadata": {
        "id": "gbbBAva3CMuL",
        "colab_type": "text"
      },
      "source": [
        "#Python Exceptions: Handling Errors "
      ]
    },
    {
      "cell_type": "markdown",
      "metadata": {
        "id": "U0lE-4hxBhI3",
        "colab_type": "text"
      },
      "source": [
        "![alt text]( https://encrypted-tbn0.gstatic.com/images?q=tbn:ANd9GcScP78SjcFEmXpKAQj5wY6Ix3bbJgNpQiast80IpteeOwieDU1eEA&s)"
      ]
    },
    {
      "cell_type": "code",
      "metadata": {
        "id": "bLfYg0rPB4YY",
        "colab_type": "code",
        "colab": {}
      },
      "source": [
        ""
      ],
      "execution_count": 0,
      "outputs": []
    }
  ]
}