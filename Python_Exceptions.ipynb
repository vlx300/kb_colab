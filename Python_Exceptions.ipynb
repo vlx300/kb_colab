{
  "nbformat": 4,
  "nbformat_minor": 0,
  "metadata": {
    "colab": {
      "name": "Python-Exceptions.ipynb",
      "provenance": [],
      "collapsed_sections": [],
      "include_colab_link": true
    },
    "kernelspec": {
      "name": "python3",
      "display_name": "Python 3"
    }
  },
  "cells": [
    {
      "cell_type": "markdown",
      "metadata": {
        "id": "view-in-github",
        "colab_type": "text"
      },
      "source": [
        "<a href=\"https://colab.research.google.com/github/vlx300/kb_colab/blob/master/Python_Exceptions.ipynb\" target=\"_parent\"><img src=\"https://colab.research.google.com/assets/colab-badge.svg\" alt=\"Open In Colab\"/></a>"
      ]
    },
    {
      "cell_type": "markdown",
      "metadata": {
        "id": "U0lE-4hxBhI3",
        "colab_type": "text"
      },
      "source": [
        "#Python Exception Handling (*Try-Except Block*)\n",
        "![alt text]( https://encrypted-tbn0.gstatic.com/images?q=tbn:ANd9GcScP78SjcFEmXpKAQj5wY6Ix3bbJgNpQiast80IpteeOwieDU1eEA&s)\n",
        "\n",
        "###Python  ues a special object called \"*Exceptions*\" to manage erros that arise during program exeution. whenever an error occurs and Pytho isnt sure what to do next, it creates an \"Exception Object\".\n",
        "\n",
        "*   If you write code that \"handles\" the exception, then the program will, continue to run. \n",
        "*   If you dont handle the exception, the program will halt and show a \"traceback\" wich includes a report of the exception that was raised. \n",
        "*   Python exceptions are handled with \"**TRY-EXCEPT**\" blocks of code\n",
        "*   **TRY-EXCEPT** blocks asks python to do something, but also tells python \n",
        "what to do if an exception is raised.\n",
        "*   When you use TRY-EXCEPT blocks, you programs will continue to run eve if things start to go wrong.  \n",
        "*   Instead of \"Tracebacks\" which can be confusing, user see a friendly message displayed\n",
        "\n",
        "\n",
        "\n",
        "\n",
        "\n"
      ]
    },
    {
      "cell_type": "markdown",
      "metadata": {
        "id": "cZXLf6OpN2QH",
        "colab_type": "text"
      },
      "source": [
        "##Handling the \"Zero Division Error\" Exception \n",
        "Lets look at a simple error that causes python to raise an exception:  You know its impossible to divide a number by 0.  **Ask python to do it anyway......**"
      ]
    },
    {
      "cell_type": "code",
      "metadata": {
        "id": "-Vqu6j24O3e-",
        "colab_type": "code",
        "outputId": "d386b309-cdc2-4c7c-e4a2-e7702188e6f5",
        "colab": {
          "base_uri": "https://localhost:8080/",
          "height": 167
        }
      },
      "source": [
        "print(5/0)   # Run this block of code to see the traceback \"Division by 0\" #"
      ],
      "execution_count": 0,
      "outputs": [
        {
          "output_type": "error",
          "ename": "ZeroDivisionError",
          "evalue": "ignored",
          "traceback": [
            "\u001b[0;31m---------------------------------------------------------------------------\u001b[0m",
            "\u001b[0;31mZeroDivisionError\u001b[0m                         Traceback (most recent call last)",
            "\u001b[0;32m<ipython-input-1-fad870a50e27>\u001b[0m in \u001b[0;36m<module>\u001b[0;34m()\u001b[0m\n\u001b[0;32m----> 1\u001b[0;31m \u001b[0mprint\u001b[0m\u001b[0;34m(\u001b[0m\u001b[0;36m5\u001b[0m\u001b[0;34m/\u001b[0m\u001b[0;36m0\u001b[0m\u001b[0;34m)\u001b[0m\u001b[0;34m\u001b[0m\u001b[0;34m\u001b[0m\u001b[0m\n\u001b[0m",
            "\u001b[0;31mZeroDivisionError\u001b[0m: division by zero"
          ]
        }
      ]
    },
    {
      "cell_type": "markdown",
      "metadata": {
        "id": "R3LZMreIPI68",
        "colab_type": "text"
      },
      "source": [
        "The Error reported in the Traceback above "
      ]
    }
  ]
}