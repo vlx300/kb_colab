{
  "nbformat": 4,
  "nbformat_minor": 0,
  "metadata": {
    "colab": {
      "name": "Python Classes and Object Oriented Programming (OOP) .ipynb",
      "version": "0.3.2",
      "provenance": [],
      "collapsed_sections": [],
      "include_colab_link": true
    },
    "kernelspec": {
      "name": "python3",
      "display_name": "Python 3"
    }
  },
  "cells": [
    {
      "cell_type": "markdown",
      "metadata": {
        "id": "view-in-github",
        "colab_type": "text"
      },
      "source": [
        "<a href=\"https://colab.research.google.com/github/vlx300/kb_colab/blob/master/Python_Classes_and_Object_Oriented_Programming_(OOP)_.ipynb\" target=\"_parent\"><img src=\"https://colab.research.google.com/assets/colab-badge.svg\" alt=\"Open In Colab\"/></a>"
      ]
    },
    {
      "cell_type": "markdown",
      "metadata": {
        "id": "jBEUxYXzbmga",
        "colab_type": "text"
      },
      "source": [
        "#Python Class Definitions and OOP (Object-Oriented-Programming)\n",
        "##***Primitive-Data-structures*** i.e.  Strings, lists numbers - designed to represent a concepts, but,  what if we want to model something far **more complex**. this is where python classes come into play.\n",
        "![alt text](https://encrypted-tbn0.gstatic.com/images?q=tbn:ANd9GcScP78SjcFEmXpKAQj5wY6Ix3bbJgNpQiast80IpteeOwieDU1eEA)\n",
        "\n",
        "\n",
        "###Class vs Instance : classes are used to create \"user-defined\" data structures that contain data that pertains to some object. This provides the ability to model \"real-world\" scenarios, AKA a \"blueprint\" on how something should be designed. An \"Instance\" is the actual object that is built from the class. We will implement a class representing a \"Car\" below\n",
        "\n",
        "*   Special Function: **Instance Methods** - function that is part of a class. This defines \"behaviors\" and actions that the object can perform with the data\n",
        "\n"
      ]
    },
    {
      "cell_type": "markdown",
      "metadata": {
        "id": "bHZbLoE3vf2_",
        "colab_type": "text"
      },
      "source": [
        "#Mounting Google Drive"
      ]
    },
    {
      "cell_type": "code",
      "metadata": {
        "id": "MqkGdXNTuz4Q",
        "colab_type": "code",
        "colab": {}
      },
      "source": [
        " from google.colab import drive\n",
        "drive.mount('/content/drive')"
      ],
      "execution_count": 0,
      "outputs": []
    },
    {
      "cell_type": "markdown",
      "metadata": {
        "id": "kt8Ks63xi3la",
        "colab_type": "text"
      },
      "source": [
        "##Python Classes definitions\n",
        "###Modeling \"real-world objects\". Classes defines *classes of behavior* and *information associated* with these objects"
      ]
    },
    {
      "cell_type": "markdown",
      "metadata": {
        "id": "qW06-BimmVuo",
        "colab_type": "text"
      },
      "source": [
        "##This is a simple python class the represents a \"restaurant\"  "
      ]
    },
    {
      "cell_type": "code",
      "metadata": {
        "id": "lsq4D9sAi2ww",
        "colab_type": "code",
        "colab": {}
      },
      "source": [
        "class Restaurant():\n",
        "    \"\"\"a simple class to represent a restaurant\"\"\"\n",
        "    \n",
        "    def __init__(self, name, cuisine_type):\n",
        "      self.name = name.title()   # variables that store instance attributes whch are specific to each object #\n",
        "      self.cuisine_type = cuisine_type # variable that store instance attributes # \n",
        "      self.number_served = 0  # adding attribute with default values of 0#\n",
        "      \n",
        "    def describe_restaurant(self):\n",
        "        \"\"\"display a summary of the restaurant\"\"\"\n",
        "        msg = self.name + \" \" + \"servers wonderful\" + \" \"+  self.cuisine_type + \".\"\n",
        "        print(\"\\n\" + msg)\n",
        "        \n",
        "    def open_restaurant(self):\n",
        "        \"\"\"display a message the the restaurant is open\"\"\"\n",
        "        msg = self.name + \" \" + \"is open, come in\"\n",
        "        print(\"\\n\" + msg)\n",
        "        \n",
        "    def set_number_served(self, number_served):\n",
        "      \"\"\"allow user to set the number of customers that have been served\"\"\"\n",
        "      self.number_served = number_served\n",
        "      \n",
        "    def increment_number_served(self, additional_served):\n",
        "      \"\"\"allow customers to imcrement the number served\"\"\"\n",
        "      self.number_served += additional_served\n",
        "      "
      ],
      "execution_count": 0,
      "outputs": []
    },
    {
      "cell_type": "markdown",
      "metadata": {
        "id": "GkDDw_n5nFYl",
        "colab_type": "text"
      },
      "source": [
        "##Creating an instance of the Restaurant Class"
      ]
    },
    {
      "cell_type": "code",
      "metadata": {
        "id": "kjYm7bG9mqWE",
        "colab_type": "code",
        "colab": {}
      },
      "source": [
        "restaurant = Restaurant('the mean queen', 'pizza')\n",
        "print(restaurant.name)\n",
        "print(restaurant.cuisine_type)\n",
        "restaurant.describe_restaurant()  # Accessing the method dedcribe resturant #\n",
        "restaurant.open_restaurant()  # Acessing the method open restaurant#"
      ],
      "execution_count": 0,
      "outputs": []
    },
    {
      "cell_type": "markdown",
      "metadata": {
        "id": "t1bkF5l6rBg3",
        "colab_type": "text"
      },
      "source": [
        "##Three instances of the Restaurant class"
      ]
    },
    {
      "cell_type": "code",
      "metadata": {
        "id": "KFRyekTOq_lr",
        "colab_type": "code",
        "colab": {}
      },
      "source": [
        "mean_queen = Restaurant(\"The Mean Queen\", \"Pizza\")\n",
        "mean_queen.describe_restaurant()\n",
        "ludvigs = Restaurant(\"Ludvigs Bistro\", \"seafood\")\n",
        "ludvigs.describe_restaurant()\n",
        "mango_thai = Restaurant(\"Mango Thai\", \"thai food\")\n",
        "mango_thai.describe_restaurant()"
      ],
      "execution_count": 0,
      "outputs": []
    },
    {
      "cell_type": "markdown",
      "metadata": {
        "id": "O7yih6ivUvNX",
        "colab_type": "text"
      },
      "source": [
        "##Number served class attribute"
      ]
    },
    {
      "cell_type": "code",
      "metadata": {
        "id": "wjexD0dtUtw9",
        "colab_type": "code",
        "colab": {}
      },
      "source": [
        "print(\"\\nnumber_served: \" + str(restaurant.number_served))\n",
        "restaurant.number_served = 430\n",
        "print(\"Number served: \" + str(restaurant.number_served))\n",
        "restaurant.set_number_served(1257)\n",
        "print(\"Number served: \" + str(restaurant.number_served))\n",
        "restaurant.increment_number_served(239)\n",
        "print(\"Number served: \" + str(restaurant.number_served))"
      ],
      "execution_count": 0,
      "outputs": []
    },
    {
      "cell_type": "markdown",
      "metadata": {
        "id": "M8PvMFNar2uL",
        "colab_type": "text"
      },
      "source": [
        "#User Profile Class "
      ]
    },
    {
      "cell_type": "code",
      "metadata": {
        "id": "5yCrz6gls06D",
        "colab_type": "code",
        "colab": {}
      },
      "source": [
        "class User():\n",
        "  \"\"\"represent a simple user profile\"\"\"\n",
        "  \n",
        "  def __init__(self, first_name, last_name, username, email, location):\n",
        "    self.first_name = first_name.title()\n",
        "    self.last_name = last_name.title()\n",
        "    self.username = username\n",
        "    self.email = email\n",
        "    self.location = location.title()\n",
        "    \n",
        "  def describe_user(self):\n",
        "    \"\"\"display a summary of user information\"\"\"\n",
        "    \n",
        "    print(\"\\n\" + self.first_name + \" \" + self.last_name)\n",
        "    print(\"  Username: \" +  self.username)\n",
        "    print(\"  Email: \" +  self.email)\n",
        "    print(\"  Location: \" +  self.location)\n",
        "    \n",
        "  def greet_user(self):\n",
        "    \"\"\"Display a personalized greeting to the user\"\"\"\n",
        "    print(\"\\nWelcome Back, \" + self.username + \"!\")\n",
        "    "
      ],
      "execution_count": 0,
      "outputs": []
    },
    {
      "cell_type": "markdown",
      "metadata": {
        "id": "1zEZXuhnwNjG",
        "colab_type": "text"
      },
      "source": [
        "##User-Profile Class instances \n",
        "\n",
        "\n",
        "\n"
      ]
    },
    {
      "cell_type": "code",
      "metadata": {
        "id": "pDM5dEI-wS93",
        "colab_type": "code",
        "colab": {}
      },
      "source": [
        "eric = User('Kyle', 'Bearden', 'kyle', 'kyle@nullgrp.com', 'pennsylvania')\n",
        "eric.describe_user()\n",
        "eric.greet_user()"
      ],
      "execution_count": 0,
      "outputs": []
    },
    {
      "cell_type": "code",
      "metadata": {
        "id": "zQcptyXKxaIe",
        "colab_type": "code",
        "colab": {}
      },
      "source": [
        "willie = User('willie', 'burger', 'willieburger', 'wb@email,com', 'alaska')\n",
        "willie.describe_user()\n",
        "willie.greet_user()"
      ],
      "execution_count": 0,
      "outputs": []
    },
    {
      "cell_type": "markdown",
      "metadata": {
        "id": "MaB2mqpAlStw",
        "colab_type": "text"
      },
      "source": [
        "#Real-world Scenario: The Dog Class\n",
        "###Syntax NOTE: The convention for naming classes in python is the use CamelCase starting with a capitol letter##"
      ]
    },
    {
      "cell_type": "code",
      "metadata": {
        "id": "Q7UkA-REltjp",
        "colab_type": "code",
        "colab": {}
      },
      "source": [
        "class Dog: # Classes start with a capital letter #\n",
        "  \"\"\"a simple attempt to model a dog\"\"\"\n",
        "  # class attribute is the same for all instances and MUST be assigned a value #\n",
        "  # defined directly underneath the 1st line of the class AND outside any method definitions below#\n",
        "  species = \"Canis familiaris \"\n",
        "    \n",
        "  def __init__(self, name, age):  #This function (method) is run everytime a new object is created. Sets the \"initial\" state or value of the object's properties#\n",
        "               self.name  = name  #Self argument is always the 1st \"positional argunment\" that always refers to the class instance  (self), after self, any other arguments can be used...#\n",
        "               self.age = age  #age attribute#\n",
        "               # self.breed = breed # attribute to distinguish dog by breed #\n",
        "\n",
        "  #Instance method definitions\n",
        "  def description(self):\n",
        "    return f\"{self.name} is {self.age} years old\"\n",
        "  #another instance method#\n",
        "  def speak(self, sound):\n",
        "    return f\"{self.name} says {sound}\"\n",
        "  "
      ],
      "execution_count": 0,
      "outputs": []
    },
    {
      "cell_type": "markdown",
      "metadata": {
        "id": "gwSTsgC_uBbP",
        "colab_type": "text"
      },
      "source": [
        "##Now that the Dog class is created, lets dive in and create \"Instances\" of the dog class\n",
        "![alt text](data:image/jpeg;base64,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)"
      ]
    },
    {
      "cell_type": "markdown",
      "metadata": {
        "id": "GDJb1t8LLKwj",
        "colab_type": "text"
      },
      "source": [
        "## Instances of the Dog class (cha-cha and miles)"
      ]
    },
    {
      "cell_type": "code",
      "metadata": {
        "id": "1yaZbP-1ufsE",
        "colab_type": "code",
        "colab": {}
      },
      "source": [
        "chacha = Dog(\"chacha\", 9)\n",
        "miles = Dog(\"miles\", 4)"
      ],
      "execution_count": 0,
      "outputs": []
    },
    {
      "cell_type": "markdown",
      "metadata": {
        "id": "Qwvq7LL7fBl1",
        "colab_type": "text"
      },
      "source": [
        "##Accessing the \"Instance\" Attributes (dot notation)"
      ]
    },
    {
      "cell_type": "code",
      "metadata": {
        "id": "kZwYEv_BfUBW",
        "colab_type": "code",
        "colab": {}
      },
      "source": [
        "chacha.name  # access the 'name' attribute from the Dog class above #"
      ],
      "execution_count": 0,
      "outputs": []
    },
    {
      "cell_type": "code",
      "metadata": {
        "id": "RalAyNHafs6y",
        "colab_type": "code",
        "colab": {}
      },
      "source": [
        "chacha.age # access the age attrubutre from the Dog class #"
      ],
      "execution_count": 0,
      "outputs": []
    },
    {
      "cell_type": "markdown",
      "metadata": {
        "id": "Y4PTzpZ5gEMA",
        "colab_type": "text"
      },
      "source": [
        "##Class Attributes accessed in the same manner (dot notation)"
      ]
    },
    {
      "cell_type": "code",
      "metadata": {
        "id": "faA8hBQ-gKyd",
        "colab_type": "code",
        "colab": {}
      },
      "source": [
        "chacha.species  #access the species Dog class level attribute #"
      ],
      "execution_count": 0,
      "outputs": []
    },
    {
      "cell_type": "code",
      "metadata": {
        "id": "sFwQSjBhgzgq",
        "colab_type": "code",
        "colab": {}
      },
      "source": [
        "chacha.species == miles.species  #using classes \"guarantees\" ALL instances have the same attributes. Chacha and miles has the same 'species' attribute #"
      ],
      "execution_count": 0,
      "outputs": []
    },
    {
      "cell_type": "markdown",
      "metadata": {
        "id": "1nWiRtRDi7tN",
        "colab_type": "text"
      },
      "source": [
        "###*Note I: One of the key Benefits of utilizing classes to organize data is that you dont have to worry about attributes missing.*"
      ]
    },
    {
      "cell_type": "markdown",
      "metadata": {
        "id": "bAN_M1x1kVx5",
        "colab_type": "text"
      },
      "source": [
        "##Class and instance attributes can be modified dynamically"
      ]
    },
    {
      "cell_type": "code",
      "metadata": {
        "id": "dj6OlM1dlZwU",
        "colab_type": "code",
        "colab": {}
      },
      "source": [
        "chacha.age = 10  # Dynamically change the age attribute for chacha from 9 to 10 # "
      ],
      "execution_count": 0,
      "outputs": []
    },
    {
      "cell_type": "code",
      "metadata": {
        "id": "rRSk-90jle4G",
        "colab_type": "code",
        "colab": {}
      },
      "source": [
        "chacha.age  # display the updated attribute value #"
      ],
      "execution_count": 0,
      "outputs": []
    },
    {
      "cell_type": "code",
      "metadata": {
        "id": "p4dyj7rnmQ9-",
        "colab_type": "code",
        "colab": {}
      },
      "source": [
        "miles.species = \"Felis silvestris\" #changing miles species from a dog to a cat #"
      ],
      "execution_count": 0,
      "outputs": []
    },
    {
      "cell_type": "code",
      "metadata": {
        "id": "wpV0AJnrmbwl",
        "colab_type": "code",
        "colab": {}
      },
      "source": [
        "miles.species  # display th species change#"
      ],
      "execution_count": 0,
      "outputs": []
    },
    {
      "cell_type": "markdown",
      "metadata": {
        "id": "EjuLoqb_nEfn",
        "colab_type": "text"
      },
      "source": [
        "####**Code comments**:In the code example above, the .age attribute of \"chacha\" object was changed to 10, and the species attribute of 'miles' object was change to 'felis silvestris' which is the species of a 'household cat'.  That makes miles a very strange Dog.  but in Python that is ok####\n",
        "\n",
        "####Important Takeway: *Custom Object are Mutable i.e..can be altered 'dynamically ' Recall Lists and dictionaries are mutable, but Strings & Tuples are NOT!*"
      ]
    },
    {
      "cell_type": "markdown",
      "metadata": {
        "id": "j8HXBHXqxy0Q",
        "colab_type": "text"
      },
      "source": [
        "##Instance Methods: Functions defined inside of a class.\n",
        "\n",
        "\n",
        "*   Meaning they only exist in the context of the object itself\n",
        "*   Method \"Cannot\" be called with referencing the object itself\n",
        "*   Just like  the *__init__()* initiator method, the 1st argument of the instance method is always \"self\"\n",
        "\n",
        "\n",
        "\n",
        "  "
      ]
    },
    {
      "cell_type": "code",
      "metadata": {
        "id": "LDnkEvF56T9i",
        "colab_type": "code",
        "colab": {}
      },
      "source": [
        "miles.description()   "
      ],
      "execution_count": 0,
      "outputs": []
    },
    {
      "cell_type": "code",
      "metadata": {
        "id": "F14wjds66e_f",
        "colab_type": "code",
        "colab": {}
      },
      "source": [
        "miles.speak(\"Woof Woof\") # speak method requires a position argument beyond self #"
      ],
      "execution_count": 0,
      "outputs": []
    },
    {
      "cell_type": "code",
      "metadata": {
        "id": "sTpOZIFp7L0b",
        "colab_type": "code",
        "colab": {}
      },
      "source": [
        "miles.speak(\"Bow Wow\")"
      ],
      "execution_count": 0,
      "outputs": []
    },
    {
      "cell_type": "code",
      "metadata": {
        "id": "b3NsZxkT9idE",
        "colab_type": "code",
        "colab": {}
      },
      "source": [
        "print(miles)  # look into leveraging \"Dunder instance-methods\" to improve the information displayed \"__str__()\", by default it displays object memory addresses #"
      ],
      "execution_count": 0,
      "outputs": []
    },
    {
      "cell_type": "markdown",
      "metadata": {
        "id": "ljPPc89NUoBZ",
        "colab_type": "text"
      },
      "source": [
        "#Object Inheritance: \n",
        "##The process by which one class takes on the Attributes and Methods of another class\n",
        "\n",
        "\n",
        "*   Newly formed classes are called **\"Child Classes\"**\n",
        "*   Classes that child classes are derived from are called \"**Parent Classes\"**\n",
        "*   Child classes can \"override\" and \"Extend\" the attributes and methods of a Parent class\n",
        "*   Classes \"Inherit\" ALL the Parent's Atributes and Methods AND can specify different attributes and methods that are \"Unique\" to themselves or even \"re-define\" methods from the parent class\n",
        "*   The concept of Object Inheritance can be thought of like \"Genetic Inheritance\"\n",
        "\n",
        "\n",
        "\n",
        "\n",
        "\n"
      ]
    },
    {
      "cell_type": "markdown",
      "metadata": {
        "id": "zBkxCynoi3Sm",
        "colab_type": "text"
      },
      "source": [
        "##Modeling a Dog Park with Different Breeds and sounds"
      ]
    },
    {
      "cell_type": "code",
      "metadata": {
        "id": "pRJ0LaXRi9_Q",
        "colab_type": "code",
        "colab": {}
      },
      "source": [
        "miles = Dog(\"miles\", 4, \"Jack Russel Terrier\")\n",
        "chacha = Dog(\"chacha\", 10, \"Pomeranian\")\n",
        "buddy = Dog(\"buddy\", 9, \"Dachshund\")\n",
        "jack = Dog(\"jack\", 3, \"Bulldog\")\n",
        "jim = Dog(\"jim\", 5, \"Bulldog\") "
      ],
      "execution_count": 0,
      "outputs": []
    },
    {
      "cell_type": "markdown",
      "metadata": {
        "id": "6YmcS0_Nj5zN",
        "colab_type": "text"
      },
      "source": [
        "###Note: Each breed of dog has slightly different behaviors. Using the Dog Class,you \"must\" supply a string for the \"sound argument\" of the speak method above everytime you call it on the Dog Instance "
      ]
    },
    {
      "cell_type": "code",
      "metadata": {
        "id": "aFvTwLaMkfp-",
        "colab_type": "code",
        "outputId": "f1fecf65-6adf-4e63-973e-5ee38b315ee3",
        "colab": {
          "base_uri": "https://localhost:8080/",
          "height": 34
        }
      },
      "source": [
        "chacha.speak(\"Yap Yap\")"
      ],
      "execution_count": 0,
      "outputs": [
        {
          "output_type": "execute_result",
          "data": {
            "text/plain": [
              "'chacha says Yap Yap'"
            ]
          },
          "metadata": {
            "tags": []
          },
          "execution_count": 15
        }
      ]
    },
    {
      "cell_type": "code",
      "metadata": {
        "id": "l2niM5BQks2C",
        "colab_type": "code",
        "colab": {}
      },
      "source": [
        "buddy.speak(\"Woof\")"
      ],
      "execution_count": 0,
      "outputs": []
    },
    {
      "cell_type": "code",
      "metadata": {
        "id": "z3oCliq7kx_K",
        "colab_type": "code",
        "colab": {}
      },
      "source": [
        "jack.speak(\"Ruff Ruff\")"
      ],
      "execution_count": 0,
      "outputs": []
    },
    {
      "cell_type": "code",
      "metadata": {
        "id": "qKmqRwQJlGgB",
        "colab_type": "code",
        "colab": {}
      },
      "source": [
        "chacha.breed"
      ],
      "execution_count": 0,
      "outputs": []
    },
    {
      "cell_type": "code",
      "metadata": {
        "id": "kMuMq5KglQ2c",
        "colab_type": "code",
        "colab": {}
      },
      "source": [
        "chacha.age"
      ],
      "execution_count": 0,
      "outputs": []
    },
    {
      "cell_type": "markdown",
      "metadata": {
        "id": "1qzBYhuVla5H",
        "colab_type": "text"
      },
      "source": [
        "#Parent vs Child Classes"
      ]
    },
    {
      "cell_type": "markdown",
      "metadata": {
        "id": "zQcuC2YWpzLt",
        "colab_type": "text"
      },
      "source": [
        "##Lets dive right in to the Code and create \"Child Classes\" from the Dog Class above.\n",
        "###Note: In order to create child classes, you create a new class with it own name, and then put the name of the Parent class in the Parantheses ()"
      ]
    },
    {
      "cell_type": "code",
      "metadata": {
        "id": "5m8pzZM4qqOI",
        "colab_type": "code",
        "colab": {}
      },
      "source": [
        "class JackRussellTerrier(Dog):\n",
        "  pass  #pass is a placeholder which allows the code to execute#"
      ],
      "execution_count": 0,
      "outputs": []
    },
    {
      "cell_type": "code",
      "metadata": {
        "id": "ZIoEXwBtq3E7",
        "colab_type": "code",
        "colab": {}
      },
      "source": [
        "class Pomeranian(Dog):\n",
        "  pass #pass is a placeholder which allows the code to execute#"
      ],
      "execution_count": 0,
      "outputs": []
    },
    {
      "cell_type": "code",
      "metadata": {
        "id": "6_YdAKUOrClq",
        "colab_type": "code",
        "colab": {}
      },
      "source": [
        "class BullDog(Dog):\n",
        "  pass #pass is a placeholder which allows the code to execute#"
      ],
      "execution_count": 0,
      "outputs": []
    },
    {
      "cell_type": "code",
      "metadata": {
        "id": "t7RcaAd3r-Uu",
        "colab_type": "code",
        "colab": {}
      },
      "source": [
        "class Dachshund(Dog):\n",
        "  pass #pass is a placeholder which allows the code to execute#"
      ],
      "execution_count": 0,
      "outputs": []
    },
    {
      "cell_type": "markdown",
      "metadata": {
        "id": "qPYbQpHcrN6v",
        "colab_type": "text"
      },
      "source": [
        "##With the Child Classes defined, We can now instantiate some dog objects of Specifc Breeds. "
      ]
    },
    {
      "cell_type": "code",
      "metadata": {
        "id": "hlFNlMtjrYN0",
        "colab_type": "code",
        "colab": {}
      },
      "source": [
        "miles = JackRussellTerrier(\"miles\", 4)\n",
        "buddy = Dachshund(\"buddy\", 9)\n",
        "jack = BullDog(\"jack\", 3)\n",
        "jim = BullDog(\"jim\", 5)"
      ],
      "execution_count": 0,
      "outputs": []
    },
    {
      "cell_type": "markdown",
      "metadata": {
        "id": "aJR74Z4JtZ2H",
        "colab_type": "text"
      },
      "source": [
        "##Instances of Child classes, inherit ALL of the Attributes and Methods of the Parent class "
      ]
    },
    {
      "cell_type": "code",
      "metadata": {
        "id": "pjXoU8artm3d",
        "colab_type": "code",
        "colab": {}
      },
      "source": [
        "miles.species"
      ],
      "execution_count": 0,
      "outputs": []
    },
    {
      "cell_type": "code",
      "metadata": {
        "id": "wrkXDportrlb",
        "colab_type": "code",
        "colab": {}
      },
      "source": [
        "chacha.age"
      ],
      "execution_count": 0,
      "outputs": []
    },
    {
      "cell_type": "code",
      "metadata": {
        "id": "bQjkQtjZtvgS",
        "colab_type": "code",
        "colab": {}
      },
      "source": [
        "buddy.name"
      ],
      "execution_count": 0,
      "outputs": []
    },
    {
      "cell_type": "code",
      "metadata": {
        "id": "N1RZYj0It4V8",
        "colab_type": "code",
        "colab": {}
      },
      "source": [
        "jim.speak(\"woof\")"
      ],
      "execution_count": 0,
      "outputs": []
    },
    {
      "cell_type": "markdown",
      "metadata": {
        "id": "wucGC0pEuC_H",
        "colab_type": "text"
      },
      "source": [
        "##To determine \"which\" class a given object belongs to, use the Type() function "
      ]
    },
    {
      "cell_type": "code",
      "metadata": {
        "id": "rxoTSudxuOe5",
        "colab_type": "code",
        "colab": {}
      },
      "source": [
        "type(miles)"
      ],
      "execution_count": 0,
      "outputs": []
    },
    {
      "cell_type": "markdown",
      "metadata": {
        "id": "qRhwDplzuUw8",
        "colab_type": "text"
      },
      "source": [
        "## To determine if \"miles\" is a member of the \"Dog\" class, Use the Built-in function \"isinstance()."
      ]
    },
    {
      "cell_type": "code",
      "metadata": {
        "id": "ESw7iNRxuwmk",
        "colab_type": "code",
        "colab": {}
      },
      "source": [
        "isinstance(miles, Dog) #is an instance of the parent class Dog#"
      ],
      "execution_count": 0,
      "outputs": []
    },
    {
      "cell_type": "code",
      "metadata": {
        "id": "P0GBKFJ3vHdr",
        "colab_type": "code",
        "colab": {}
      },
      "source": [
        "isinstance(jim, Dog) # is an instance of the parent class Dog#"
      ],
      "execution_count": 0,
      "outputs": []
    },
    {
      "cell_type": "code",
      "metadata": {
        "id": "z0nrqJObvnZi",
        "colab_type": "code",
        "colab": {}
      },
      "source": [
        "isinstance(jim, Pomeranian)  #not an instance of the child class Pomeranian #"
      ],
      "execution_count": 0,
      "outputs": []
    },
    {
      "cell_type": "code",
      "metadata": {
        "id": "ImCMuxpeoeFP",
        "colab_type": "code",
        "colab": {}
      },
      "source": [
        "isinstance(jim, Dog) #jim is an instance of the Dog class but not pomeranian child class (see previous)"
      ],
      "execution_count": 0,
      "outputs": []
    },
    {
      "cell_type": "markdown",
      "metadata": {
        "id": "tXVyMGsRvvxA",
        "colab_type": "text"
      },
      "source": [
        "### Note: ALL objects created from a child class are instances of the Parent class, although they are NOT instances of other child classes"
      ]
    },
    {
      "cell_type": "markdown",
      "metadata": {
        "id": "tB39-bTJpDsf",
        "colab_type": "text"
      },
      "source": [
        "# Extending the functionality of a parent class\n",
        "\n",
        "###We now have 5 Classes : 1 (Dog) parent class, and 4 child classes (JackRussellTerrier, Bulldog, Dachshund, Pomeranian)\n",
        "\n",
        "*   To override a method in a parent class, you define a method with the \"same name\" in the child class\n",
        "*   One potential problem we will need to keep an eye our when \"overriding\" the .speak method below is that you loose a major benefit from inheriting from one class to another:  Parent-class proprogation down to child classes would be broken with overrides.  \n",
        "\n",
        "\n",
        "\n",
        "\n",
        "\n"
      ]
    },
    {
      "cell_type": "code",
      "metadata": {
        "id": "EZsgjMS6rlLa",
        "colab_type": "code",
        "colab": {}
      },
      "source": [
        "class JackRussellTerrier(Dog):\n",
        "  def speak(self, sound=\"Arf\"):  # the speak method is now defined on the JackRussellTerrier class with a default vlaue for the sound argument #\n",
        "    return f\"{self.name} says {sound}\""
      ],
      "execution_count": 0,
      "outputs": []
    },
    {
      "cell_type": "code",
      "metadata": {
        "id": "p7RbmXDWsZFb",
        "colab_type": "code",
        "colab": {}
      },
      "source": [
        "miles = JackRussellTerrier(\"miles\",  4)"
      ],
      "execution_count": 0,
      "outputs": []
    },
    {
      "cell_type": "markdown",
      "metadata": {
        "id": "cFpOQJEps26T",
        "colab_type": "text"
      },
      "source": [
        "###Now you can call .speak() instance method and a JackRussellTerrier without passing an argument to sound"
      ]
    },
    {
      "cell_type": "code",
      "metadata": {
        "id": "H0Eg3Ik_svn2",
        "colab_type": "code",
        "colab": {}
      },
      "source": [
        "miles.speak()"
      ],
      "execution_count": 0,
      "outputs": []
    },
    {
      "cell_type": "markdown",
      "metadata": {
        "id": "XlNv0-rRtoMx",
        "colab_type": "text"
      },
      "source": [
        "###you can even call the speak method with a different sound"
      ]
    },
    {
      "cell_type": "code",
      "metadata": {
        "id": "SwC90zYotd7d",
        "colab_type": "code",
        "colab": {}
      },
      "source": [
        "miles.speak(\"Grrr\")"
      ],
      "execution_count": 0,
      "outputs": []
    },
    {
      "cell_type": "markdown",
      "metadata": {
        "id": "Om9jj1ZsyNb-",
        "colab_type": "text"
      },
      "source": [
        "#Python's Super() function \n",
        "### Allows you to access the **parent class** from \"inside\" a method of a \"**Child class**\"\n",
        "\n",
        "*   Class hierarchy is simple , The JackRussellTerrier class is a child of the parent class (Dog)\n",
        "*   Im many real-world examples, the class hierarchy can become quite complex quickly\n",
        "*   Super() function does a lot more than search the parent class for attribute and methods, but can traverse the \"entire class hierarchy\" for a matching attribute or method. Be careful with Super(), you can have surprising results if not careful  \n",
        "\n",
        "\n",
        "\n"
      ]
    },
    {
      "cell_type": "code",
      "metadata": {
        "id": "HTywBbhLzTF6",
        "colab_type": "code",
        "colab": {}
      },
      "source": [
        "class JackRussellTerrier(Dog):\n",
        "  def speak(self, sound=\"Arf\"):\n",
        "    return super().speak(sound)"
      ],
      "execution_count": 0,
      "outputs": []
    },
    {
      "cell_type": "markdown",
      "metadata": {
        "id": "U2zYPqqTzqFn",
        "colab_type": "text"
      },
      "source": [
        "Now When you call **super().speak(sound)** **inside of JackRusselTerrier class**, python searches the parent class Dog for the .speak() method and call it with the variable sound.  Now when you call miles.speak(), you will see the output reflecting the formatting of the parent class "
      ]
    },
    {
      "cell_type": "code",
      "metadata": {
        "id": "gPL8Oh480zX6",
        "colab_type": "code",
        "colab": {}
      },
      "source": [
        "miles = JackRussellTerrier(\"Miles\", 4)"
      ],
      "execution_count": 0,
      "outputs": []
    },
    {
      "cell_type": "code",
      "metadata": {
        "id": "iWsu5heI06ug",
        "colab_type": "code",
        "colab": {}
      },
      "source": [
        "miles.speak()"
      ],
      "execution_count": 0,
      "outputs": []
    },
    {
      "cell_type": "code",
      "metadata": {
        "id": "OYA8O_yQcc3A",
        "colab_type": "code",
        "outputId": "d0596ee0-8926-4fcd-8c37-ad98d5e65d26",
        "colab": {
          "base_uri": "https://localhost:8080/",
          "height": 34
        }
      },
      "source": [
        "pwd"
      ],
      "execution_count": 0,
      "outputs": [
        {
          "output_type": "execute_result",
          "data": {
            "text/plain": [
              "'/content'"
            ]
          },
          "metadata": {
            "tags": []
          },
          "execution_count": 1
        }
      ]
    },
    {
      "cell_type": "code",
      "metadata": {
        "id": "j6R_TVSfeVAJ",
        "colab_type": "code",
        "colab": {}
      },
      "source": [
        "from google.colab import drive\n",
        "drive.mount('/content/drive')"
      ],
      "execution_count": 0,
      "outputs": []
    }
  ]
}