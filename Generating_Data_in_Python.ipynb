{
  "nbformat": 4,
  "nbformat_minor": 0,
  "metadata": {
    "colab": {
      "name": "Generating-Data in Python.ipynb",
      "provenance": [],
      "toc_visible": true,
      "include_colab_link": true
    },
    "kernelspec": {
      "name": "python3",
      "display_name": "Python 3"
    }
  },
  "cells": [
    {
      "cell_type": "markdown",
      "metadata": {
        "id": "view-in-github",
        "colab_type": "text"
      },
      "source": [
        "<a href=\"https://colab.research.google.com/github/vlx300/kb_colab/blob/master/Generating_Data_in_Python.ipynb\" target=\"_parent\"><img src=\"https://colab.research.google.com/assets/colab-badge.svg\" alt=\"Open In Colab\"/></a>"
      ]
    },
    {
      "cell_type": "markdown",
      "metadata": {
        "id": "ohsW_0jOgSaz",
        "colab_type": "text"
      },
      "source": [
        "#**Data Visualiztion in Python: Generating data** \n",
        "![alt text](https://img.scoop.it/Hc5JKCzfuCe9WHAHB9HvXzl72eJkfbmt4t8yenImKBVvK0kTmF0xjctABnaLJIm9)**"
      ]
    },
    {
      "cell_type": "markdown",
      "metadata": {
        "id": "6LkN7vizf4Cp",
        "colab_type": "text"
      },
      "source": [
        "#**Mount Google Drive**"
      ]
    },
    {
      "cell_type": "code",
      "metadata": {
        "id": "MqkGdXNTuz4Q",
        "colab_type": "code",
        "colab": {}
      },
      "source": [
        " from google.colab import drive\n",
        "drive.mount('/content/drive')"
      ],
      "execution_count": 0,
      "outputs": []
    },
    {
      "cell_type": "code",
      "metadata": {
        "id": "8dzeXLICg351",
        "colab_type": "code",
        "colab": {}
      },
      "source": [
        "import matplotlib.pyplot as plt\n",
        "squares = [1, 4, 9, 16, 25]\n",
        "plt.plot(squares)\n",
        "plt.show()"
      ],
      "execution_count": 0,
      "outputs": []
    }
  ]
}