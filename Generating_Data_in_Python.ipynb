{
  "nbformat": 4,
  "nbformat_minor": 0,
  "metadata": {
    "colab": {
      "name": "Generating-Data in Python.ipynb",
      "provenance": [],
      "collapsed_sections": [],
      "include_colab_link": true
    },
    "kernelspec": {
      "name": "python3",
      "display_name": "Python 3"
    },
    "accelerator": "GPU"
  },
  "cells": [
    {
      "cell_type": "markdown",
      "metadata": {
        "id": "view-in-github",
        "colab_type": "text"
      },
      "source": [
        "<a href=\"https://colab.research.google.com/github/vlx300/kb_colab/blob/master/Generating_Data_in_Python.ipynb\" target=\"_parent\"><img src=\"https://colab.research.google.com/assets/colab-badge.svg\" alt=\"Open In Colab\"/></a>"
      ]
    },
    {
      "cell_type": "markdown",
      "metadata": {
        "id": "ohsW_0jOgSaz",
        "colab_type": "text"
      },
      "source": [
        "#**Data Visualiztion in Python: Generating data** \n",
        "![alt text](https://miro.medium.com/max/1600/1*nN5-hITqzDlhelSJ2W9x5g.gif)**"
      ]
    },
    {
      "cell_type": "markdown",
      "metadata": {
        "id": "6LkN7vizf4Cp",
        "colab_type": "text"
      },
      "source": [
        "#**Mount Google Drive**"
      ]
    },
    {
      "cell_type": "code",
      "metadata": {
        "id": "MqkGdXNTuz4Q",
        "colab_type": "code",
        "colab": {}
      },
      "source": [
        " from google.colab import drive  # mount google drive #\n",
        "drive.mount('/content/drive')"
      ],
      "execution_count": 0,
      "outputs": []
    },
    {
      "cell_type": "markdown",
      "metadata": {
        "id": "4Wvws0RRjyrt",
        "colab_type": "text"
      },
      "source": [
        "##**Plotting a simple line Graph with MATPLOTLIB**\n",
        "\n",
        "\n"
      ]
    },
    {
      "cell_type": "code",
      "metadata": {
        "id": "8dzeXLICg351",
        "colab_type": "code",
        "colab": {}
      },
      "source": [
        "import matplotlib.pyplot as plt   # Import Matplotlib pyplot module using the alias plt . this way you dont have to type pyplot repeatedly #\n",
        "squares = [1, 4, 9, 16, 25]  # create a list to hold the squares \n",
        "plt.plot(squares) # pass squares to the plot() function which will attempt to plot the numbers in meaningful way #\n",
        "plt.show()  # This opens the matplotlib viewer and displays the plot . the viewer allowd you to ZOOM and navigate the plot #"
      ],
      "execution_count": 0,
      "outputs": []
    },
    {
      "cell_type": "markdown",
      "metadata": {
        "id": "5nLymfQsd84w",
        "colab_type": "text"
      },
      "source": [
        "Well use a few customizations to improve the rwadability of the plot"
      ]
    },
    {
      "cell_type": "code",
      "metadata": {
        "id": "Qu1M3yCceGx-",
        "colab_type": "code",
        "colab": {}
      },
      "source": [
        "import matplotlib.pyplot as plt\n",
        "squares = [1, 4, 9, 16, 25]\n",
        "plt.plot(squares, linewidth=7) "
      ],
      "execution_count": 0,
      "outputs": []
    },
    {
      "cell_type": "code",
      "metadata": {
        "id": "2ve9usgQeiFV",
        "colab_type": "code",
        "colab": {}
      },
      "source": [
        "# Set chart title snf label axis #\n",
        "plt.title(\"Square Numbers\", fontsize=24)\n",
        "plt.xlabel(\"Value\", fontsize=14)\n",
        "plt.ylabel(\"Square of Value\", fontsize=14) "
      ],
      "execution_count": 0,
      "outputs": []
    },
    {
      "cell_type": "code",
      "metadata": {
        "id": "q_-An2B9fEOq",
        "colab_type": "code",
        "colab": {}
      },
      "source": [
        "# Set the Tick labels #\n",
        "plt.tick_params(axis='both', labelsize=14)\n",
        "plt.show()"
      ],
      "execution_count": 0,
      "outputs": []
    }
  ]
}