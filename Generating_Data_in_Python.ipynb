{
  "nbformat": 4,
  "nbformat_minor": 0,
  "metadata": {
    "colab": {
      "name": "Generating-Data in Python.ipynb",
      "provenance": [],
      "collapsed_sections": [],
      "include_colab_link": true
    },
    "kernelspec": {
      "name": "python3",
      "display_name": "Python 3"
    },
    "accelerator": "GPU"
  },
  "cells": [
    {
      "cell_type": "markdown",
      "metadata": {
        "id": "view-in-github",
        "colab_type": "text"
      },
      "source": [
        "<a href=\"https://colab.research.google.com/github/vlx300/kb_colab/blob/master/Generating_Data_in_Python.ipynb\" target=\"_parent\"><img src=\"https://colab.research.google.com/assets/colab-badge.svg\" alt=\"Open In Colab\"/></a>"
      ]
    },
    {
      "cell_type": "markdown",
      "metadata": {
        "id": "ohsW_0jOgSaz",
        "colab_type": "text"
      },
      "source": [
        "#**Data Visualiztion in Python: Generating data** \n",
        "![alt text](https://miro.medium.com/max/1600/1*nN5-hITqzDlhelSJ2W9x5g.gif)**"
      ]
    },
    {
      "cell_type": "markdown",
      "metadata": {
        "id": "6LkN7vizf4Cp",
        "colab_type": "text"
      },
      "source": [
        "#**Mount Google Drive**"
      ]
    },
    {
      "cell_type": "code",
      "metadata": {
        "id": "MqkGdXNTuz4Q",
        "colab_type": "code",
        "colab": {}
      },
      "source": [
        " from google.colab import drive  # mount google drive #\n",
        "drive.mount('/content/drive')"
      ],
      "execution_count": 0,
      "outputs": []
    },
    {
      "cell_type": "markdown",
      "metadata": {
        "id": "4Wvws0RRjyrt",
        "colab_type": "text"
      },
      "source": [
        "##**Plotting a simple line Graph with MATPLOTLIB**\n",
        "\n",
        "\n"
      ]
    },
    {
      "cell_type": "code",
      "metadata": {
        "id": "8dzeXLICg351",
        "colab_type": "code",
        "colab": {}
      },
      "source": [
        "import matplotlib.pyplot as plt   # Import Matplotlib pyplot module using the alias plt . this way you dont have to type pyplot repeatedly #\n",
        "squares = [1, 4, 9, 16, 25]  # create a list to hold the squares \n",
        "plt.plot(squares) # pass squares to the plot() function which will attempt to plot the numbers in meaningful way #\n",
        "plt.show()  # This opens the matplotlib viewer and displays the plot . the viewer allowd you to ZOOM and navigate the plot #"
      ],
      "execution_count": 0,
      "outputs": []
    },
    {
      "cell_type": "markdown",
      "metadata": {
        "id": "5nLymfQsd84w",
        "colab_type": "text"
      },
      "source": [
        "Well use a few customizations to improve the rwadability of the plot"
      ]
    },
    {
      "cell_type": "code",
      "metadata": {
        "id": "Qu1M3yCceGx-",
        "colab_type": "code",
        "colab": {}
      },
      "source": [
        "import matplotlib.pyplot as plt\n",
        "squares = [1, 4, 9, 16, 25]\n",
        "plt.plot(squares, linewidth=7) # the linewidth parameter controls the thickness of the line plot() generates"
      ],
      "execution_count": 0,
      "outputs": []
    },
    {
      "cell_type": "code",
      "metadata": {
        "id": "2ve9usgQeiFV",
        "colab_type": "code",
        "colab": {}
      },
      "source": [
        "# Set chart title snf label axis #\n",
        "plt.title(\"Square Numbers\", fontsize=24)  # the title() function sets the title for the chart #\n",
        "plt.xlabel(\"Value\", fontsize=14) # this parameter controls the size of the text on the chart # \n",
        "plt.ylabel(\"Square of Value\", fontsize=14) \n",
        "# the x-label()/y-label() functions allows you to set a title for each axis # "
      ],
      "execution_count": 0,
      "outputs": []
    },
    {
      "cell_type": "code",
      "metadata": {
        "id": "q_-An2B9fEOq",
        "colab_type": "code",
        "colab": {}
      },
      "source": [
        "# Set the Tick labels #\n",
        "plt.tick_params(axis='both', labelsize=14)  # this function styles the tick-marks on 'both' the x and y axes (axes='both') and sets the fontsize of the tick-mark labels #\n",
        "plt.show()"
      ],
      "execution_count": 0,
      "outputs": []
    },
    {
      "cell_type": "markdown",
      "metadata": {
        "id": "eOYyozsfi8Rt",
        "colab_type": "text"
      },
      "source": [
        "##**Correcting the Plot**"
      ]
    },
    {
      "cell_type": "code",
      "metadata": {
        "id": "VUQRXiOXjGO0",
        "colab_type": "code",
        "colab": {}
      },
      "source": [
        "import matplotlib.pyplot as plt\n",
        "input_values = [1, 2, 3, 4, 5]\n",
        "squares = [1, 4, 9, 16, 25]\n",
        "plt.plot(input_values, squares, linewidth=5)\n",
        "#Now plot() will graph the data correctly because we've provded both the input and output values, so it doesnt have to assume how the output numbers will be generated #\n",
        "# you can specify numberous arguments when using plot() and use a number of functions to customize your plots # "
      ],
      "execution_count": 0,
      "outputs": []
    },
    {
      "cell_type": "markdown",
      "metadata": {
        "id": "LLXVO0s6k4jA",
        "colab_type": "text"
      },
      "source": [
        "##**Plotting and Styling Individual pointd with Scatter()**\n",
        "\n",
        "Sometimes its useful to plot and syle individual point based upon certain characterisitics. You may want to plot small values in one color and large values in another color. You could also plot a large data-set with one SET of style options and then emphasize individual point by replotting them with different style options\n",
        "\n",
        "To plot a single point, use the *scatter()* function. Pass the single (x,y) values of the point of interest to scatter() and it should plot those values"
      ]
    },
    {
      "cell_type": "code",
      "metadata": {
        "id": "3MpHcIBam182",
        "colab_type": "code",
        "colab": {}
      },
      "source": [
        "import matplotlib.pyplot as plt\n",
        "\n",
        "plt.scatter(2,4)\n",
        "plt.show()"
      ],
      "execution_count": 0,
      "outputs": []
    },
    {
      "cell_type": "markdown",
      "metadata": {
        "id": "slrp0lG2nJ_O",
        "colab_type": "text"
      },
      "source": [
        "Lets style the output to make it more interesting .We will add a title, label the axes, and ensure the text is large enough to read. "
      ]
    },
    {
      "cell_type": "code",
      "metadata": {
        "id": "_RFNTPWdngBk",
        "colab_type": "code",
        "colab": {}
      },
      "source": [
        "import matplotlib.pyplot as plt\n",
        "plt.scatter(2, 4, s=200)\n",
        "\n",
        "# Set chart title and label axes.\n",
        "plt.title(\"Square Numbers\", fontsize=24)\n",
        "plt.xlabel(\"Value\", fontsize=14)\n",
        "plt.ylabel(\"Square of Value\", fontsize=14)\n",
        "\n",
        "# set the tick labels #\n",
        "plt.tick_params(axis ='both', which='major', labelsize=14)\n",
        "\n",
        "#plt\n",
        "plt.show()"
      ],
      "execution_count": 0,
      "outputs": []
    }
  ]
}