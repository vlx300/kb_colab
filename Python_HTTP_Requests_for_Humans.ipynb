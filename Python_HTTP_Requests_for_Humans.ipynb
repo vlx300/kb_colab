{
  "nbformat": 4,
  "nbformat_minor": 0,
  "metadata": {
    "colab": {
      "name": "Python HTTP Requests for Humans.ipynb",
      "provenance": [],
      "collapsed_sections": [],
      "include_colab_link": true
    },
    "kernelspec": {
      "name": "python3",
      "display_name": "Python 3"
    }
  },
  "cells": [
    {
      "cell_type": "markdown",
      "metadata": {
        "id": "view-in-github",
        "colab_type": "text"
      },
      "source": [
        "<a href=\"https://colab.research.google.com/github/vlx300/kb_colab/blob/master/Python_HTTP_Requests_for_Humans.ipynb\" target=\"_parent\"><img src=\"https://colab.research.google.com/assets/colab-badge.svg\" alt=\"Open In Colab\"/></a>"
      ]
    },
    {
      "cell_type": "markdown",
      "metadata": {
        "id": "vaNrp4OLqCBF",
        "colab_type": "text"
      },
      "source": [
        "#**Python HTTP Request Library**\n",
        "**REST**: Essentially a set of conventions for structuring a WEB API (an API you interect with via HTTP: making requests to specific URLS and gathering relevant data in the Response. You leverage the several HTTP methods GET, POST, UPDATE, DELETE etc. \n",
        "\n",
        "\n",
        "![alt text](https://encrypted-tbn0.gstatic.com/images?q=tbn:ANd9GcQK4tRxuYv7nnqsPCZWnzlXJgmNrUbldBIeNiBUsGA_2UWu72Sd&s)"
      ]
    },
    {
      "cell_type": "code",
      "metadata": {
        "id": "0KeyRlYQnFUq",
        "colab_type": "code",
        "colab": {
          "base_uri": "https://localhost:8080/",
          "height": 34
        },
        "outputId": "4bf3da4b-ff70-485f-bf1a-e44eb80aacdb"
      },
      "source": [
        "import requests \n",
        "\n",
        "# Make an API call  and store the response #\n",
        "url = 'https://api.github.com/search/repositories?q=language:python&sort=stars'\n",
        "r = requests.get(url)\n",
        "print(\"Status code:\", r.status_code)"
      ],
      "execution_count": 1,
      "outputs": [
        {
          "output_type": "stream",
          "text": [
            "Status code: 200\n"
          ],
          "name": "stdout"
        }
      ]
    },
    {
      "cell_type": "markdown",
      "metadata": {
        "id": "K4SO0yKopnI2",
        "colab_type": "text"
      },
      "source": [
        "##**Web API Call alternative**"
      ]
    },
    {
      "cell_type": "code",
      "metadata": {
        "id": "WCIP4PRDpe_q",
        "colab_type": "code",
        "colab": {
          "base_uri": "https://localhost:8080/",
          "height": 34
        },
        "outputId": "656e12b1-3ed4-4fe3-91ae-9f1ae5d19775"
      },
      "source": [
        "requests.get('https://api.github.com')"
      ],
      "execution_count": 2,
      "outputs": [
        {
          "output_type": "execute_result",
          "data": {
            "text/plain": [
              "<Response [200]>"
            ]
          },
          "metadata": {
            "tags": []
          },
          "execution_count": 2
        }
      ]
    },
    {
      "cell_type": "markdown",
      "metadata": {
        "id": "ZIFmL0FXqeHF",
        "colab_type": "text"
      },
      "source": [
        "#**The Response**\n",
        "\n",
        "A response is a powerful object for inspecting the results of a request. Make the same requet again and store the retun value in a variable so you can take a closer look at the data. Elegant"
      ]
    },
    {
      "cell_type": "code",
      "metadata": {
        "id": "B1-t_Pn_vCGl",
        "colab_type": "code",
        "colab": {}
      },
      "source": [
        "response = requests.get('https://api.github.com')"
      ],
      "execution_count": 0,
      "outputs": []
    },
    {
      "cell_type": "markdown",
      "metadata": {
        "id": "YdYYaymIvXdV",
        "colab_type": "text"
      },
      "source": [
        "In this example, you've captured the \"return value\" of GET(), which is an instance of response, and store it in a variable called response. Now you can use response to see alot of information about the results of your GET request. "
      ]
    },
    {
      "cell_type": "markdown",
      "metadata": {
        "id": "oCE7N61Mwl2o",
        "colab_type": "text"
      },
      "source": [
        "##**Status Codes**\n",
        "\n",
        "the first bit of information you can gather forma response is the status code. this informs you of the status of the request. For Exp. 200 means the request was successful . whereas  404 = NOT FOUND, 403 = NOT Authorized etc.. 302 = Redirect \n",
        "\n",
        "**Note**: *By accessing .status_code, you can see the status of the request returned from the Server.  Sometimes you might want to make decision in your code based upo the response \"status code\"* "
      ]
    },
    {
      "cell_type": "code",
      "metadata": {
        "id": "elPXAb11x3RU",
        "colab_type": "code",
        "colab": {
          "base_uri": "https://localhost:8080/",
          "height": 34
        },
        "outputId": "8b128e9f-ab24-433c-b0bf-ad7026e2c183"
      },
      "source": [
        "response.status_code # checks the status from the Server "
      ],
      "execution_count": 4,
      "outputs": [
        {
          "output_type": "execute_result",
          "data": {
            "text/plain": [
              "200"
            ]
          },
          "metadata": {
            "tags": []
          },
          "execution_count": 4
        }
      ]
    },
    {
      "cell_type": "markdown",
      "metadata": {
        "id": "coWoFyYuz8e-",
        "colab_type": "text"
      },
      "source": [
        "Making decisions (Other Logic) based on status code:"
      ]
    },
    {
      "cell_type": "code",
      "metadata": {
        "id": "Uce7N9bCymq4",
        "colab_type": "code",
        "colab": {
          "base_uri": "https://localhost:8080/",
          "height": 34
        },
        "outputId": "0933d0ac-b883-459f-84fe-d7a9e9a8c3fa"
      },
      "source": [
        "if response.status_code == 200: \n",
        "  print(\"Success\")\n",
        "elif response.status_code == 400:\n",
        "  print(\"Not Found\")\n",
        "elif response.status_code == 302:\n",
        "  print(\"Follow Redirect\")\n",
        "elif response.status_code == 302:\n",
        "  print(\"Not Authorized\")"
      ],
      "execution_count": 8,
      "outputs": [
        {
          "output_type": "stream",
          "text": [
            "Success\n"
          ],
          "name": "stdout"
        }
      ]
    },
    {
      "cell_type": "markdown",
      "metadata": {
        "id": "rDK1MiPt1RgK",
        "colab_type": "text"
      },
      "source": [
        "If your response is used in a conditional expresssion, it will evaluate to **True** if that satus code is between 200 and 400 and **False** Otherwise. so you can simply the above ike this (See Below)..  \n",
        "\n",
        "Note: *this is possible due to __Bool__() overload method on response.  Translation, the default behaviour of response has be modified to take status code into account when determining the \"Truth value\" of the object* so make sure to utilize ths convenient shorthand only if you want to know if a request was \"generally sucessfull\" "
      ]
    },
    {
      "cell_type": "code",
      "metadata": {
        "id": "_zkWd9Ls16rB",
        "colab_type": "code",
        "colab": {
          "base_uri": "https://localhost:8080/",
          "height": 34
        },
        "outputId": "fda7fe84-8817-454f-b6a5-cbe68e93e639"
      },
      "source": [
        "if response:\n",
        "  print(\"Success\")\n",
        "else:\n",
        "  print('An error has occured')"
      ],
      "execution_count": 9,
      "outputs": [
        {
          "output_type": "stream",
          "text": [
            "Success\n"
          ],
          "name": "stdout"
        }
      ]
    },
    {
      "cell_type": "markdown",
      "metadata": {
        "id": "UZ9jFzaW84yQ",
        "colab_type": "text"
      },
      "source": [
        "Say if you dont want to check the status code like above but want to raise an exception if the request was unsuccessful only. You can using '.raise_for_status'"
      ]
    },
    {
      "cell_type": "code",
      "metadata": {
        "id": "hVebqkdR9Vzr",
        "colab_type": "code",
        "colab": {
          "base_uri": "https://localhost:8080/",
          "height": 51
        },
        "outputId": "58a54942-c16d-4d94-be13-99a0272c53e0"
      },
      "source": [
        "import requests\n",
        "from requests import HTTPError\n",
        "\n",
        "for url in ['http://api.github.com', 'https://api.github.com/invalid']:\n",
        "  try:\n",
        "    reponse = requests.get(url)\n",
        "\n",
        "    # if the response was successful, no exception will be raised\n",
        "    response.raise_for_status()\n",
        "  except HTTPError as http_err:\n",
        "    print(f'HTTP error has occured: {http_err}')  #python 3.6\n",
        "  except Exception as err:\n",
        "    print(f'Other error occured: {err}') #Python 3.6 \n",
        "  else:\n",
        "    print(\"success\")\n"
      ],
      "execution_count": 10,
      "outputs": [
        {
          "output_type": "stream",
          "text": [
            "success\n",
            "success\n"
          ],
          "name": "stdout"
        }
      ]
    }
  ]
}