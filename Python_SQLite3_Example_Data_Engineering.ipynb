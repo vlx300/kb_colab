{
  "nbformat": 4,
  "nbformat_minor": 0,
  "metadata": {
    "colab": {
      "name": "Python SQLite3 Example- Data Engineering.ipynb",
      "provenance": [],
      "collapsed_sections": [],
      "include_colab_link": true
    },
    "kernelspec": {
      "name": "python3",
      "display_name": "Python 3"
    }
  },
  "cells": [
    {
      "cell_type": "markdown",
      "metadata": {
        "id": "view-in-github",
        "colab_type": "text"
      },
      "source": [
        "<a href=\"https://colab.research.google.com/github/vlx300/kb_colab/blob/master/Python_SQLite3_Example_Data_Engineering.ipynb\" target=\"_parent\"><img src=\"https://colab.research.google.com/assets/colab-badge.svg\" alt=\"Open In Colab\"/></a>"
      ]
    },
    {
      "cell_type": "markdown",
      "metadata": {
        "id": "KaNy2ohpkkNJ",
        "colab_type": "text"
      },
      "source": [
        "#**Data Engineering** \n",
        "##**Relational vs Non-Relational Databases**\n",
        "\n",
        "![alt text](https://ulriklyngs.com/sites/default/files/styles/final-blog-image-style/public/desat_chalkb.jpg?itok=7gumzPT8)"
      ]
    },
    {
      "cell_type": "code",
      "metadata": {
        "id": "v4-TmumQcgor",
        "colab_type": "code",
        "colab": {}
      },
      "source": [
        "import sqlite3"
      ],
      "execution_count": 0,
      "outputs": []
    },
    {
      "cell_type": "code",
      "metadata": {
        "id": "lWdkAo6ScnS6",
        "colab_type": "code",
        "colab": {}
      },
      "source": [
        "db = sqlite3.connect(':memory:')  # using in memory database\n",
        "cur = db.cursor()"
      ],
      "execution_count": 0,
      "outputs": []
    },
    {
      "cell_type": "markdown",
      "metadata": {
        "id": "fgeMBDs1gZla",
        "colab_type": "text"
      },
      "source": [
        "##**Create three tables**\n",
        "\n",
        "1.   **Customer**:  This table contains primary key, as well as customer first and last names\n",
        "2.   **Items**: this table will contain the primary key, item name and item price\n",
        "3.   **Items Bought**:this table contains the order#, date and price, it will also connect to the primary keys in items and customer tables. \n",
        "\n"
      ]
    },
    {
      "cell_type": "code",
      "metadata": {
        "id": "pjhMW3yLc0sC",
        "colab_type": "code",
        "outputId": "6e98c5a3-c216-45f9-aedf-0bdcc61b4c8c",
        "colab": {
          "base_uri": "https://localhost:8080/",
          "height": 34
        }
      },
      "source": [
        "cur.execute('''CREATE TABLE IF NOT EXISTS customer (\n",
        "  id integer PRIMARY KEY,\n",
        "  firstname varchar(255),\n",
        "  lastname varchar(255) )''')\n",
        "cur.execute('''CREATE TABLE IF NOT EXISTS Item (\n",
        "  id integer PRIMARy KEY,\n",
        "  title varchar(255),\n",
        "  price decimal )''')\n",
        "cur.execute('''CREATE TABLE IF NOT EXISTS BoughtItem (\n",
        "  ordernumber integer PRIMARY KEY,\n",
        "  customerid integer,\n",
        "  itemid integer, \n",
        "  price decimal,\n",
        "  CONSTRAINT customerid\n",
        "      FOREIGN KEY (customerid) REFERENCES Customer(id),\n",
        "  CONSTRAINT itemid \n",
        "      FOREIGN KEY (itemid) REFERENCES Item(id) )''')"
      ],
      "execution_count": 3,
      "outputs": [
        {
          "output_type": "execute_result",
          "data": {
            "text/plain": [
              "<sqlite3.Cursor at 0x7f266b045730>"
            ]
          },
          "metadata": {
            "tags": []
          },
          "execution_count": 3
        }
      ]
    },
    {
      "cell_type": "markdown",
      "metadata": {
        "id": "G7aEfEwqhunN",
        "colab_type": "text"
      },
      "source": [
        "You passed a query to cur.execute() to create your three tables.. Now lets populate them with data "
      ]
    },
    {
      "cell_type": "code",
      "metadata": {
        "id": "rkGEx3-gfgMR",
        "colab_type": "code",
        "outputId": "6c7f1fc1-817f-4505-c4ac-ee4e452f1e9b",
        "colab": {
          "base_uri": "https://localhost:8080/",
          "height": 34
        }
      },
      "source": [
        "cur.execute('''INSERT INTO Customer(firstname, lastname)\n",
        "                VALUES ('Bob', 'Adams'),\n",
        "                ('Amy', 'Smith'),\n",
        "                ('Rob', 'Bennet');''')\n",
        "cur.execute('''INSERT INTO Item(title, price)\n",
        "                VALUES ('USB', 10.2),\n",
        "                ('Mouse', 12.23),\n",
        "                ('Monitor', 199.99);''')\n",
        "cur.execute('''INSERT INTO BoughtItem(customerid, itemid, price)\n",
        "                VALUES (1, 1, 10.2),\n",
        "                (1, 2, 12.23),\n",
        "                (1, 3, 199.99),\n",
        "                (2, 3, 180.00),\n",
        "                (3, 2, 11.23);''')  # Discounted Price\n"
      ],
      "execution_count": 4,
      "outputs": [
        {
          "output_type": "execute_result",
          "data": {
            "text/plain": [
              "<sqlite3.Cursor at 0x7f266b045730>"
            ]
          },
          "metadata": {
            "tags": []
          },
          "execution_count": 4
        }
      ]
    },
    {
      "cell_type": "markdown",
      "metadata": {
        "id": "RSQjQndtkDhB",
        "colab_type": "text"
      },
      "source": [
        "Now we have a few records in each table, you can use this data to answer a few more questions \n",
        "\n",
        "#**SQL Aggregation Functions**\n",
        "\n",
        "Aggregation functions are those that perform mathematical operations  on a result set.  **AVG, COUNT, MIN, MAX and SUM**  Often you will need a **GROUP BY** or **HAVING** Clause to complement these aggregations. Let use **AVG** as a example: (See Below)\n",
        "\n",
        "*AVG can compute the \"mean\" of a given resul*t"
      ]
    },
    {
      "cell_type": "code",
      "metadata": {
        "id": "L0RSmg27kBZT",
        "colab_type": "code",
        "outputId": "d7c0348f-6ea6-4d3a-ccbb-4a9c968b6f6e",
        "colab": {
          "base_uri": "https://localhost:8080/",
          "height": 34
        }
      },
      "source": [
        "cur.execute('''SELECT itemid, AVG(price) FROM Boughtitem GROUP BY itemid''')\n",
        "print(cur.fetchall())"
      ],
      "execution_count": 5,
      "outputs": [
        {
          "output_type": "stream",
          "text": [
            "[(1, 10.2), (2, 11.73), (3, 189.995)]\n"
          ],
          "name": "stdout"
        }
      ]
    },
    {
      "cell_type": "markdown",
      "metadata": {
        "id": "LW9Qhegoo6Go",
        "colab_type": "text"
      },
      "source": [
        "Here you have retrieved the averge price for each of the items bought in your database. you can see that the item with the item id# of 1 has an average price of $10.20\n",
        "\n",
        "Lets make this easier to understand, by displaying the item name instead of item id#"
      ]
    },
    {
      "cell_type": "code",
      "metadata": {
        "id": "7W9mVPRZogXX",
        "colab_type": "code",
        "outputId": "7bea1a64-b235-4ce0-fa06-fd29c4c2b82a",
        "colab": {
          "base_uri": "https://localhost:8080/",
          "height": 34
        }
      },
      "source": [
        "cur.execute('''SELECT item.title, AVG(boughtitem.price) FROM Boughtitem as boughtitem\n",
        "            INNER JOIN Item as Item on (item.id = boughtitem.customerid)\n",
        "            GROUP BY boughtitem.itemid''')\n",
        "\n",
        "print(cur.fetchall())"
      ],
      "execution_count": 6,
      "outputs": [
        {
          "output_type": "stream",
          "text": [
            "[('USB', 10.2), ('Monitor', 11.73), ('Mouse', 189.995)]\n"
          ],
          "name": "stdout"
        }
      ]
    },
    {
      "cell_type": "markdown",
      "metadata": {
        "id": "-u4jluSfrG9n",
        "colab_type": "text"
      },
      "source": [
        "Another useful aggregation function is **SUM**. you can use this functon to display the total amount of money each customer spent (*See below*)"
      ]
    },
    {
      "cell_type": "code",
      "metadata": {
        "id": "CgiPOsV7qcOi",
        "colab_type": "code",
        "outputId": "f3388b3b-867e-4ba3-c26d-9a4dbce415ad",
        "colab": {
          "base_uri": "https://localhost:8080/",
          "height": 34
        }
      },
      "source": [
        "cur.execute('''SELECT customer.firstname, SUM(boughtitem.price) FROM BoughtItem as BoughtItem\n",
        "            INNER JOIN Customer as Customer on (Customer.id = boughtitem.customerid)\n",
        "            GROUP BY customer.firstname''')\n",
        "\n",
        "print(cur.fetchall())"
      ],
      "execution_count": 7,
      "outputs": [
        {
          "output_type": "stream",
          "text": [
            "[('Amy', 180), ('Bob', 222.42000000000002), ('Rob', 11.23)]\n"
          ],
          "name": "stdout"
        }
      ]
    },
    {
      "cell_type": "markdown",
      "metadata": {
        "id": "SxtzSfPvt9oc",
        "colab_type": "text"
      },
      "source": [
        "#**Speeding up SQL Queries**\n",
        "\n",
        "Speed depends on various factors but is mostly affected by how many of each of the following are present: \n",
        "\n",
        "*   **Joins**\n",
        "*   **Aggregations**\n",
        "*   **Traversals**\n",
        "*   **Records**\n",
        "\n",
        "the greater number of joins, the higher the complexity and the larger number of traversals in tables. Multiple joins are quite expensive to performs on several thousand records invloving several tables because *the database needs to cache the intermediate result*! At this point most people starting thinking about increasing DB memory size. Hmmm\n",
        "\n",
        "![alt text](https://encrypted-tbn0.gstatic.com/images?q=tbn:ANd9GcRc8ZoZdP57kkw--eYUpsNhp-DnJOs7fblaUIgnFd4uMORRB9sATg&s)\n",
        "\n",
        "Speed is also affected by whether or not there are indices present in the database or not. they are extrememly important and allow you to quick;ly searh thru a table to find a match for some column etc.  \n",
        "\n",
        "Indices sort the records at th4 cost of higher insert time. as well as some storage Multiple columns can be combined to create a single index.  *Example. 'date' and 'price'columns can be combined because the query depends on both conditions.* \n",
        "\n"
      ]
    },
    {
      "cell_type": "markdown",
      "metadata": {
        "id": "6Jo12O26C_kw",
        "colab_type": "text"
      },
      "source": [
        "#**Debugging SQL queries**\n",
        "\n",
        "Most dstabases include an EXPLAIN QUERY PLAN that describes the steps the database takes to execute a query. for SQLite you can enable this functionality by adding EXPLAIN QUERY PLAN  in front of a SELECT statement "
      ]
    },
    {
      "cell_type": "code",
      "metadata": {
        "id": "3XUGx-cODzIA",
        "colab_type": "code",
        "colab": {
          "base_uri": "https://localhost:8080/",
          "height": 34
        },
        "outputId": "85623fa4-de22-48eb-ac11-072dc3787752"
      },
      "source": [
        "cur.execute('''EXPLAIN QUERY PLAN SELECT customer.firstname, item.title,\n",
        "                item.price, boughtitem.price FROM BoughtItem as boughtitem\n",
        "                INNER JOIN Customer as customer on (customer.id = boughtitem.customerid)\n",
        "                INNER JOIN  Item as item on (item.id = boughtitem.itemid)''')\n",
        "\n",
        "print(cur.fetchall())"
      ],
      "execution_count": 9,
      "outputs": [
        {
          "output_type": "stream",
          "text": [
            "[(0, 0, 0, 'SCAN TABLE BoughtItem AS boughtitem'), (0, 1, 1, 'SEARCH TABLE Customer AS customer USING INTEGER PRIMARY KEY (rowid=?)'), (0, 2, 2, 'SEARCH TABLE Item AS item USING INTEGER PRIMARY KEY (rowid=?)')]\n"
          ],
          "name": "stdout"
        }
      ]
    },
    {
      "cell_type": "markdown",
      "metadata": {
        "id": "ybETnO_EFBcP",
        "colab_type": "text"
      },
      "source": [
        "the query tries to list the first name, item title, original price for all bought items. \n",
        "\n",
        "**SQL Query Plan**\n",
        "\n",
        "SCAN TABLE BoughtItem AS boughtitem\n",
        "SEARCH TABLE Customer AS customer USING INTEGER PRIMARY KEY (rowid=?)\n",
        "SEARCH TABLE Item AS item USING INTEGER PRIMARY KEY (rowid=?)\n",
        "\n",
        "**NOTE:** the fetch statement in the python code only returns the explanation, **NOT THE RESULTS!**"
      ]
    }
  ]
}