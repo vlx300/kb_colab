{
  "nbformat": 4,
  "nbformat_minor": 0,
  "metadata": {
    "colab": {
      "name": "Integers and floating-point numbers.ipynb",
      "provenance": [],
      "collapsed_sections": [],
      "authorship_tag": "ABX9TyO4NqRWCJWBbigSkGbjt4yt",
      "include_colab_link": true
    },
    "kernelspec": {
      "name": "python3",
      "display_name": "Python 3"
    }
  },
  "cells": [
    {
      "cell_type": "markdown",
      "metadata": {
        "id": "view-in-github",
        "colab_type": "text"
      },
      "source": [
        "<a href=\"https://colab.research.google.com/github/vlx300/kb_colab/blob/master/Integers_and_floating_point_numbers.ipynb\" target=\"_parent\"><img src=\"https://colab.research.google.com/assets/colab-badge.svg\" alt=\"Open In Colab\"/></a>"
      ]
    },
    {
      "cell_type": "markdown",
      "metadata": {
        "id": "lwcSSAFPA7E8",
        "colab_type": "text"
      },
      "source": [
        "#**Integer and Floating Point Numbers**\n",
        "\n",
        "![alt text](https://cdn5.f-cdn.com/contestentries/1532091/33461108/5d221949bce83_thumb900.jpg)\n"
      ]
    },
    {
      "cell_type": "code",
      "metadata": {
        "id": "nNvLwJFBA5__",
        "colab_type": "code",
        "colab": {}
      },
      "source": [
        ""
      ],
      "execution_count": 0,
      "outputs": []
    }
  ]
}