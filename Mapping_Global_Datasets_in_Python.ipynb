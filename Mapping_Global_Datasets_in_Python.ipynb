{
  "nbformat": 4,
  "nbformat_minor": 0,
  "metadata": {
    "colab": {
      "name": "Mapping Global Datasets in Python.ipynb",
      "provenance": [],
      "collapsed_sections": [],
      "include_colab_link": true
    },
    "kernelspec": {
      "name": "python3",
      "display_name": "Python 3"
    }
  },
  "cells": [
    {
      "cell_type": "markdown",
      "metadata": {
        "id": "view-in-github",
        "colab_type": "text"
      },
      "source": [
        "<a href=\"https://colab.research.google.com/github/vlx300/kb_colab/blob/master/Mapping_Global_Datasets_in_Python.ipynb\" target=\"_parent\"><img src=\"https://colab.research.google.com/assets/colab-badge.svg\" alt=\"Open In Colab\"/></a>"
      ]
    },
    {
      "cell_type": "markdown",
      "metadata": {
        "id": "7SgYorFCKexU",
        "colab_type": "text"
      },
      "source": [
        "#**Mapping Global Datasets: JSON Format**\n",
        "\n",
        "![alt text](https://www.prospecta.com/images/data-science-banner.jpg)\n",
        "\n",
        "Copy the file \"population_data.json\" which contains population data from 1960 to 2010 for nmost of the worlds countries. \n",
        "reference: http://www.data.okfn.org  (Open Knowledge Foundation)  "
      ]
    },
    {
      "cell_type": "markdown",
      "metadata": {
        "id": "WVj1m_MjMNHC",
        "colab_type": "text"
      },
      "source": [
        "#**Mount Google Drive**"
      ]
    },
    {
      "cell_type": "code",
      "metadata": {
        "id": "Iyjqk4b2KcCr",
        "colab_type": "code",
        "colab": {
          "base_uri": "https://localhost:8080/",
          "height": 124
        },
        "outputId": "0e14b17d-e257-425a-d5b3-8f2f8c066510"
      },
      "source": [
        "from google.colab import drive  # mount google drive #\n",
        "drive.mount('/content/drive')"
      ],
      "execution_count": 1,
      "outputs": [
        {
          "output_type": "stream",
          "text": [
            "Go to this URL in a browser: https://accounts.google.com/o/oauth2/auth?client_id=947318989803-6bn6qk8qdgf4n4g3pfee6491hc0brc4i.apps.googleusercontent.com&redirect_uri=urn%3aietf%3awg%3aoauth%3a2.0%3aoob&response_type=code&scope=email%20https%3a%2f%2fwww.googleapis.com%2fauth%2fdocs.test%20https%3a%2f%2fwww.googleapis.com%2fauth%2fdrive%20https%3a%2f%2fwww.googleapis.com%2fauth%2fdrive.photos.readonly%20https%3a%2f%2fwww.googleapis.com%2fauth%2fpeopleapi.readonly\n",
            "\n",
            "Enter your authorization code:\n",
            "··········\n",
            "Mounted at /content/drive\n"
          ],
          "name": "stdout"
        }
      ]
    },
    {
      "cell_type": "markdown",
      "metadata": {
        "id": "u_6saMrHMfYc",
        "colab_type": "text"
      },
      "source": [
        "##**Append Path for Google Drive**"
      ]
    },
    {
      "cell_type": "code",
      "metadata": {
        "id": "3TwQbBgxMuVj",
        "colab_type": "code",
        "colab": {}
      },
      "source": [
        "import sys\n",
        "sys.path.append(\"/content/drive/My Drive\")"
      ],
      "execution_count": 0,
      "outputs": []
    },
    {
      "cell_type": "markdown",
      "metadata": {
        "id": "RBWvJfR86XTi",
        "colab_type": "text"
      },
      "source": [
        "##**Extracting Relevant data**\n",
        "\n",
        "Lets have a look at the file \"population_data.json\" to see how we might begin to process the data in this file. (Extract)\n",
        "\n",
        "[\n",
        "  {\n",
        "    \"Country Name\": \"Arab World\",\n",
        "    \"Country Code\": \"ARB\",\n",
        "    \"Year\": \"1960\",\n",
        "    \"Value\": \"96388069\"\n",
        "  },\n",
        "  {\n",
        "    \"Country Name\": \"Arab World\",\n",
        "    \"Country Code\": \"ARB\",\n",
        "    \"Year\": \"1961\",\n",
        "    \"Value\": \"98882541.4\"\n",
        "\n",
        "\n",
        "the File is basically 1 long python list. Each item in the list is a dictionary with four keys: \n",
        "1. Country Name\n",
        "2. Country Code\n",
        "3. Year\n",
        "4. Value (representing the population)\n",
        "\n",
        "We want to examine \"each countrie's\" name and population in 2010. Lets being by printing just that information:\n"
      ]
    },
    {
      "cell_type": "code",
      "metadata": {
        "id": "GTEjriD88VPV",
        "colab_type": "code",
        "colab": {}
      },
      "source": [
        "import json  # first we import the json module so we can properly load the data from the file #\n",
        "\n",
        "# Load data into a list #\n",
        "filename ='/content/drive/My Drive/population_data.json'\n",
        "with open (filename) as f:\n",
        "  pop_data = json.load(f)  # we store the loaded data into 'pop_data'.  json.load also converts the data inton a format python can work with.. in this case a list. #\n",
        "\n",
        "# print the 2010 population data for each country #\n",
        "for pop_dict in pop_data:  # here we loop through each item in pop_data. Each item is a dictionary with four(4) key/values pairs and we store each dictionsary in pop_dict #  \n",
        "  if pop_dict['Year'] == '2010':  # we look for 2010 in the 'Year' dictionary key, since i qoutes we do a string comparison #\n",
        "    country_name = pop_dict['Country Name']  # we store  the value associated with country_name in \"Country Name\"\n",
        "    population = pop_dict['Value'] # and the value asociated with \"Value\" in population #\n",
        "    print(country_name + \": \" + population)\n"
      ],
      "execution_count": 0,
      "outputs": []
    },
    {
      "cell_type": "markdown",
      "metadata": {
        "id": "1L_0cITVBd7I",
        "colab_type": "text"
      },
      "source": [
        "the output is a series of country names and population values.  Not all the data we captured includes exact country names, but this is a good start.  Now we ned to conver the data in a Format  Pygal can work with "
      ]
    },
    {
      "cell_type": "markdown",
      "metadata": {
        "id": "a5vryJF0CBvF",
        "colab_type": "text"
      },
      "source": [
        "##**Converting Strings to numerical values**"
      ]
    },
    {
      "cell_type": "code",
      "metadata": {
        "id": "tFHbVTnpG2MB",
        "colab_type": "code",
        "colab": {
          "base_uri": "https://localhost:8080/",
          "height": 373
        },
        "outputId": "b670b5ef-b803-441a-dfa4-692a6bcb3444"
      },
      "source": [
        "import json   \n",
        "\n",
        "# Load data into a list #\n",
        "filename ='/content/drive/My Drive/population_data.json'\n",
        "with open (filename) as f:\n",
        "  pop_data = json.load(f)   \n",
        "\n",
        "# print the 2010 population data for each country #\n",
        "for pop_dict in pop_data:   \n",
        "  if pop_dict['Year'] == '2010':  \n",
        "    country_name = pop_dict['Country Name']   \n",
        "    population = int(pop_dict['Value'])    # converting strings to integers #\n",
        "    print(country_name + \": \" + str(population)) # convert it back to string for printing, but this creates errors for some of the data \"value error\" #\n",
        "    # this will generate a error \"value error\" for some of the values in the data #"
      ],
      "execution_count": 8,
      "outputs": [
        {
          "output_type": "stream",
          "text": [
            "Arab World: 357868000\n",
            "Caribbean small states: 6880000\n",
            "East Asia & Pacific (all income levels): 2201536674\n",
            "East Asia & Pacific (developing only): 1961558757\n",
            "Euro area: 331766000\n",
            "Europe & Central Asia (all income levels): 890424544\n",
            "Europe & Central Asia (developing only): 405204000\n",
            "European Union: 502125000\n",
            "Heavily indebted poor countries (HIPC): 635663000\n"
          ],
          "name": "stdout"
        },
        {
          "output_type": "error",
          "ename": "ValueError",
          "evalue": "ignored",
          "traceback": [
            "\u001b[0;31m---------------------------------------------------------------------------\u001b[0m",
            "\u001b[0;31mValueError\u001b[0m                                Traceback (most recent call last)",
            "\u001b[0;32m<ipython-input-8-150d50688a50>\u001b[0m in \u001b[0;36m<module>\u001b[0;34m()\u001b[0m\n\u001b[1;32m     10\u001b[0m   \u001b[0;32mif\u001b[0m \u001b[0mpop_dict\u001b[0m\u001b[0;34m[\u001b[0m\u001b[0;34m'Year'\u001b[0m\u001b[0;34m]\u001b[0m \u001b[0;34m==\u001b[0m \u001b[0;34m'2010'\u001b[0m\u001b[0;34m:\u001b[0m\u001b[0;34m\u001b[0m\u001b[0;34m\u001b[0m\u001b[0m\n\u001b[1;32m     11\u001b[0m     \u001b[0mcountry_name\u001b[0m \u001b[0;34m=\u001b[0m \u001b[0mpop_dict\u001b[0m\u001b[0;34m[\u001b[0m\u001b[0;34m'Country Name'\u001b[0m\u001b[0;34m]\u001b[0m\u001b[0;34m\u001b[0m\u001b[0;34m\u001b[0m\u001b[0m\n\u001b[0;32m---> 12\u001b[0;31m     \u001b[0mpopulation\u001b[0m \u001b[0;34m=\u001b[0m \u001b[0mint\u001b[0m\u001b[0;34m(\u001b[0m\u001b[0mpop_dict\u001b[0m\u001b[0;34m[\u001b[0m\u001b[0;34m'Value'\u001b[0m\u001b[0;34m]\u001b[0m\u001b[0;34m)\u001b[0m\u001b[0;34m\u001b[0m\u001b[0;34m\u001b[0m\u001b[0m\n\u001b[0m\u001b[1;32m     13\u001b[0m     \u001b[0mprint\u001b[0m\u001b[0;34m(\u001b[0m\u001b[0mcountry_name\u001b[0m \u001b[0;34m+\u001b[0m \u001b[0;34m\": \"\u001b[0m \u001b[0;34m+\u001b[0m \u001b[0mstr\u001b[0m\u001b[0;34m(\u001b[0m\u001b[0mpopulation\u001b[0m\u001b[0;34m)\u001b[0m\u001b[0;34m)\u001b[0m\u001b[0;34m\u001b[0m\u001b[0;34m\u001b[0m\u001b[0m\n",
            "\u001b[0;31mValueError\u001b[0m: invalid literal for int() with base 10: '1127437398.85751'"
          ]
        }
      ]
    },
    {
      "cell_type": "markdown",
      "metadata": {
        "id": "-BtrH4A4H7Ho",
        "colab_type": "text"
      },
      "source": [
        "It is often the case that **RAW** data isnt formatted consistently so we come accross errors a lot. Here the error occurs because python cant directly turn a string that contains a decimal  - '1127437398.85751' into a integer. This decimal value is probably the result interpolation for years when a specific population count was not made.\n",
        "\n",
        "We can address this error y converting the sting into a float, then conveting the float into an integer. "
      ]
    },
    {
      "cell_type": "code",
      "metadata": {
        "id": "sdJrNelqNl2Q",
        "colab_type": "code",
        "colab": {
          "base_uri": "https://localhost:8080/",
          "height": 1000
        },
        "outputId": "bff4b4f6-fcec-422b-a0d4-ad74f3407562"
      },
      "source": [
        "import json   \n",
        "\n",
        "# Load data into a list #\n",
        "filename ='/content/drive/My Drive/population_data.json'\n",
        "with open (filename) as f:\n",
        "  pop_data = json.load(f)   \n",
        "\n",
        "# print the 2010 population data for each country #\n",
        "for pop_dict in pop_data:   \n",
        "  if pop_dict['Year'] == '2010':  \n",
        "    country_name = pop_dict['Country Name']   \n",
        "    population = int(float(pop_dict['Value']))  # converting strings to float(). the float converts the string into a decimal and then int() function drops the decimal point. #\n",
        "    print(country_name + \": \" + str(population))  "
      ],
      "execution_count": 9,
      "outputs": [
        {
          "output_type": "stream",
          "text": [
            "Arab World: 357868000\n",
            "Caribbean small states: 6880000\n",
            "East Asia & Pacific (all income levels): 2201536674\n",
            "East Asia & Pacific (developing only): 1961558757\n",
            "Euro area: 331766000\n",
            "Europe & Central Asia (all income levels): 890424544\n",
            "Europe & Central Asia (developing only): 405204000\n",
            "European Union: 502125000\n",
            "Heavily indebted poor countries (HIPC): 635663000\n",
            "High income: 1127437398\n",
            "High income: nonOECD: 94204398\n",
            "High income: OECD: 1033233000\n",
            "Latin America & Caribbean (all income levels): 589011025\n",
            "Latin America & Caribbean (developing only): 582551688\n",
            "Least developed countries: UN classification: 835140827\n",
            "Low & middle income: 5767157445\n",
            "Low income: 796342000\n",
            "Lower middle income: 2518690865\n",
            "Middle East & North Africa (all income levels): 382803000\n",
            "Middle East & North Africa (developing only): 331263000\n",
            "Middle income: 4970815445\n",
            "North America: 343539600\n",
            "OECD members: 1236521688\n",
            "Other small states: 18293000\n",
            "Pacific island small states: 3345337\n",
            "Small states: 28518337\n",
            "South Asia: 1633146000\n",
            "Sub-Saharan Africa (all income levels): 854134000\n",
            "Sub-Saharan Africa (developing only): 853434000\n",
            "Upper middle income: 2452124580\n",
            "World: 6894594843\n",
            "Afghanistan: 34385000\n",
            "Albania: 3205000\n",
            "Algeria: 35468000\n",
            "American Samoa: 68420\n",
            "Andorra: 84864\n",
            "Angola: 19082000\n",
            "Antigua and Barbuda: 88000\n",
            "Argentina: 40412000\n",
            "Armenia: 3092000\n",
            "Aruba: 108000\n",
            "Australia: 22299000\n",
            "Austria: 8390000\n",
            "Azerbaijan: 9054000\n",
            "Bahamas, The: 343000\n",
            "Bahrain: 1262000\n",
            "Bangladesh: 148692000\n",
            "Barbados: 274000\n",
            "Belarus: 9490000\n",
            "Belgium: 10896000\n",
            "Belize: 345000\n",
            "Benin: 8850000\n",
            "Bermuda: 64600\n",
            "Bhutan: 726000\n",
            "Bolivia: 9929000\n",
            "Bosnia and Herzegovina: 3760000\n",
            "Botswana: 2007000\n",
            "Brazil: 194946000\n",
            "Brunei Darussalam: 399000\n",
            "Bulgaria: 7534000\n",
            "Burkina Faso: 16468000\n",
            "Burundi: 8382000\n",
            "Cambodia: 14139000\n",
            "Cameroon: 19599000\n",
            "Canada: 34126000\n",
            "Cape Verde: 496000\n",
            "Cayman Islands: 56230\n",
            "Central African Republic: 4401000\n",
            "Chad: 11227000\n",
            "Channel Islands: 153352\n",
            "Chile: 17113688\n",
            "China: 1338300000\n",
            "Colombia: 46295000\n",
            "Comoros: 735000\n",
            "Congo, Dem. Rep.: 65965000\n",
            "Congo, Rep.: 4043000\n",
            "Costa Rica: 4659000\n",
            "Cote d'Ivoire: 19738000\n",
            "Croatia: 4418000\n",
            "Cuba: 11258000\n",
            "Curacao: 142668\n",
            "Cyprus: 1103000\n",
            "Czech Republic: 10520000\n",
            "Denmark: 5547000\n",
            "Djibouti: 889000\n",
            "Dominica: 68000\n",
            "Dominican Republic: 9927000\n",
            "Ecuador: 14465000\n",
            "Egypt, Arab Rep.: 81121000\n",
            "El Salvador: 6193000\n",
            "Equatorial Guinea: 700000\n",
            "Eritrea: 5254000\n",
            "Estonia: 1340000\n",
            "Ethiopia: 82950000\n",
            "Faeroe Islands: 48708\n",
            "Fiji: 860000\n",
            "Finland: 5364000\n",
            "France: 64895000\n",
            "French Polynesia: 271000\n",
            "Gabon: 1505000\n",
            "Gambia, The: 1729000\n",
            "Georgia: 4452000\n",
            "Germany: 81777000\n",
            "Ghana: 24392000\n",
            "Gibraltar: 29244\n",
            "Greece: 11316000\n",
            "Greenland: 56534\n",
            "Grenada: 104000\n",
            "Guam: 179000\n",
            "Guatemala: 14389000\n",
            "Guinea: 9982000\n",
            "Guinea-Bissau: 1515000\n",
            "Guyana: 755000\n",
            "Haiti: 9993000\n",
            "Honduras: 7600000\n",
            "Hong Kong SAR, China: 7068000\n",
            "Hungary: 10000000\n",
            "Iceland: 318000\n",
            "India: 1224615000\n",
            "Indonesia: 239870000\n",
            "Iran, Islamic Rep.: 73973000\n",
            "Iraq: 32031000\n",
            "Ireland: 4475000\n",
            "Isle of Man: 82869\n",
            "Israel: 7624000\n",
            "Italy: 60483000\n",
            "Jamaica: 2702000\n",
            "Japan: 127451000\n",
            "Jordan: 6047000\n",
            "Kazakhstan: 16323000\n",
            "Kenya: 40513000\n",
            "Kiribati: 100000\n",
            "Korea, Dem. Rep.: 24346000\n",
            "Korea, Rep.: 48875000\n",
            "Kosovo: 1815000\n",
            "Kuwait: 2736000\n",
            "Kyrgyz Republic: 5448000\n",
            "Lao PDR: 6201000\n",
            "Latvia: 2239000\n",
            "Lebanon: 4227000\n",
            "Lesotho: 2171000\n",
            "Liberia: 3994000\n",
            "Libya: 6355000\n",
            "Liechtenstein: 36032\n",
            "Lithuania: 3287000\n",
            "Luxembourg: 507000\n",
            "Macao SAR, China: 544000\n",
            "Macedonia, FYR: 2060000\n",
            "Madagascar: 20714000\n",
            "Malawi: 14901000\n",
            "Malaysia: 28401000\n",
            "Maldives: 316000\n",
            "Mali: 15370000\n",
            "Malta: 416000\n",
            "Marshall Islands: 54038\n",
            "Mauritania: 3460000\n",
            "Mauritius: 1281000\n",
            "Mayotte: 204000\n",
            "Mexico: 113423000\n",
            "Micronesia, Fed. Sts.: 111000\n",
            "Moldova: 3562000\n",
            "Monaco: 35407\n",
            "Mongolia: 2756000\n",
            "Montenegro: 632000\n",
            "Morocco: 31951000\n",
            "Mozambique: 23390000\n",
            "Myanmar: 47963000\n",
            "Namibia: 2283000\n",
            "Nepal: 29959000\n",
            "Netherlands: 16616000\n",
            "New Caledonia: 247000\n",
            "New Zealand: 4368000\n",
            "Nicaragua: 5789000\n",
            "Niger: 15512000\n",
            "Nigeria: 158423000\n",
            "Northern Mariana Islands: 60917\n",
            "Norway: 4889000\n",
            "Oman: 2783000\n",
            "Pakistan: 173593000\n",
            "Palau: 20472\n",
            "Panama: 3517000\n",
            "Papua New Guinea: 6858000\n",
            "Paraguay: 6454000\n",
            "Peru: 29076000\n",
            "Philippines: 93261000\n",
            "Poland: 38184000\n",
            "Portugal: 10638000\n",
            "Puerto Rico: 3978000\n",
            "Qatar: 1759000\n",
            "Romania: 21438000\n",
            "Russian Federation: 141750000\n",
            "Rwanda: 10624000\n",
            "Samoa: 184000\n",
            "San Marino: 31534\n",
            "Sao Tome and Principe: 165000\n",
            "Saudi Arabia: 27448000\n",
            "Senegal: 12434000\n",
            "Serbia: 7291000\n",
            "Seychelles: 87000\n",
            "Sierra Leone: 5867000\n",
            "Singapore: 5077000\n",
            "Sint Maarten (Dutch part): 37850\n",
            "Slovak Republic: 5430000\n",
            "Slovenia: 2049000\n",
            "Solomon Islands: 538000\n",
            "Somalia: 9331000\n",
            "South Africa: 49991000\n",
            "Spain: 46071000\n",
            "Sri Lanka: 20860000\n",
            "St. Kitts and Nevis: 52000\n",
            "St. Lucia: 174000\n",
            "St. Martin (French part): 30235\n",
            "St. Vincent and the Grenadines: 109000\n",
            "Sudan: 43552000\n",
            "Suriname: 525000\n",
            "Swaziland: 1056000\n",
            "Sweden: 9378000\n",
            "Switzerland: 7826000\n",
            "Syrian Arab Republic: 20447000\n",
            "Tajikistan: 6879000\n",
            "Tanzania: 44841000\n",
            "Thailand: 69122000\n",
            "Timor-Leste: 1124000\n",
            "Togo: 6028000\n",
            "Tonga: 104000\n",
            "Trinidad and Tobago: 1341000\n",
            "Tunisia: 10549000\n",
            "Turkey: 72752000\n",
            "Turkmenistan: 5042000\n",
            "Turks and Caicos Islands: 38354\n",
            "Tuvalu: 9827\n",
            "Uganda: 33424000\n",
            "Ukraine: 45871000\n",
            "United Arab Emirates: 7512000\n",
            "United Kingdom: 62232000\n",
            "United States: 309349000\n",
            "Uruguay: 3357000\n",
            "Uzbekistan: 28228000\n",
            "Vanuatu: 240000\n",
            "Venezuela, RB: 28834000\n",
            "Vietnam: 86928000\n",
            "Virgin Islands (U.S.): 110000\n",
            "West Bank and Gaza: 4152000\n",
            "Yemen, Rep.: 24053000\n",
            "Zambia: 12927000\n",
            "Zimbabwe: 12571000\n"
          ],
          "name": "stdout"
        }
      ]
    },
    {
      "cell_type": "markdown",
      "metadata": {
        "id": "WbK9aHxbOJy2",
        "colab_type": "text"
      },
      "source": [
        "Each string was successfully converted into a flost snd then an integer. Now that these population values are now stored in numerical format, we can use them to make a world population map."
      ]
    },
    {
      "cell_type": "code",
      "metadata": {
        "id": "qNODRzkIR0y5",
        "colab_type": "code",
        "colab": {
          "base_uri": "https://localhost:8080/",
          "height": 52
        },
        "outputId": "e0e0a21e-d166-48eb-cde4-3ca085eba818"
      },
      "source": [
        " pip install --user pygal_maps_world"
      ],
      "execution_count": 30,
      "outputs": [
        {
          "output_type": "stream",
          "text": [
            "Requirement already satisfied: pygal_maps_world in /root/.local/lib/python3.6/site-packages (1.0.2)\n",
            "Requirement already satisfied: pygal>=1.9.9 in /root/.local/lib/python3.6/site-packages (from pygal_maps_world) (2.4.0)\n"
          ],
          "name": "stdout"
        }
      ]
    },
    {
      "cell_type": "code",
      "metadata": {
        "id": "ioccQnKuRjWZ",
        "colab_type": "code",
        "colab": {
          "base_uri": "https://localhost:8080/",
          "height": 321
        },
        "outputId": "6c047f8f-b574-4d1b-a422-2ffefae0d79a"
      },
      "source": [
        "from pygal.maps.world import COUNTRIES\n",
        "from pygal.maps.world import World"
      ],
      "execution_count": 31,
      "outputs": [
        {
          "output_type": "error",
          "ename": "ModuleNotFoundError",
          "evalue": "ignored",
          "traceback": [
            "\u001b[0;31m---------------------------------------------------------------------------\u001b[0m",
            "\u001b[0;31mModuleNotFoundError\u001b[0m                       Traceback (most recent call last)",
            "\u001b[0;32m<ipython-input-31-6fb2f5c0c307>\u001b[0m in \u001b[0;36m<module>\u001b[0;34m()\u001b[0m\n\u001b[0;32m----> 1\u001b[0;31m \u001b[0;32mfrom\u001b[0m \u001b[0mpygal\u001b[0m\u001b[0;34m.\u001b[0m\u001b[0mmaps\u001b[0m\u001b[0;34m.\u001b[0m\u001b[0mworld\u001b[0m \u001b[0;32mimport\u001b[0m \u001b[0mCOUNTRIES\u001b[0m\u001b[0;34m\u001b[0m\u001b[0;34m\u001b[0m\u001b[0m\n\u001b[0m\u001b[1;32m      2\u001b[0m \u001b[0;32mfrom\u001b[0m \u001b[0mpygal\u001b[0m\u001b[0;34m.\u001b[0m\u001b[0mmaps\u001b[0m\u001b[0;34m.\u001b[0m\u001b[0mworld\u001b[0m \u001b[0;32mimport\u001b[0m \u001b[0mWorld\u001b[0m\u001b[0;34m\u001b[0m\u001b[0;34m\u001b[0m\u001b[0m\n",
            "\u001b[0;31mModuleNotFoundError\u001b[0m: No module named 'pygal'",
            "",
            "\u001b[0;31m---------------------------------------------------------------------------\u001b[0;32m\nNOTE: If your import is failing due to a missing package, you can\nmanually install dependencies using either !pip or !apt.\n\nTo view examples of installing some common dependencies, click the\n\"Open Examples\" button below.\n\u001b[0;31m---------------------------------------------------------------------------\u001b[0m\n"
          ]
        }
      ]
    }
  ]
}