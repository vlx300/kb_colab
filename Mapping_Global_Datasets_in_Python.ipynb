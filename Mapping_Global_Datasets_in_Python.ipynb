{
  "nbformat": 4,
  "nbformat_minor": 0,
  "metadata": {
    "colab": {
      "name": "Mapping Global Datasets in Python.ipynb",
      "provenance": [],
      "collapsed_sections": [],
      "include_colab_link": true
    },
    "kernelspec": {
      "name": "python3",
      "display_name": "Python 3"
    }
  },
  "cells": [
    {
      "cell_type": "markdown",
      "metadata": {
        "id": "view-in-github",
        "colab_type": "text"
      },
      "source": [
        "<a href=\"https://colab.research.google.com/github/vlx300/kb_colab/blob/master/Mapping_Global_Datasets_in_Python.ipynb\" target=\"_parent\"><img src=\"https://colab.research.google.com/assets/colab-badge.svg\" alt=\"Open In Colab\"/></a>"
      ]
    },
    {
      "cell_type": "markdown",
      "metadata": {
        "id": "7SgYorFCKexU",
        "colab_type": "text"
      },
      "source": [
        "#**Mapping Global Datasets: JSON Format**\n",
        "\n",
        "![alt text](https://www.prospecta.com/images/data-science-banner.jpg)\n",
        "\n",
        "Copy the file \"population_data.json\" which contains population data from 1960 to 2010 for nmost of the worlds countries. \n",
        "reference: http://www.data.okfn.org  (Open Knowledge Foundation)  "
      ]
    },
    {
      "cell_type": "markdown",
      "metadata": {
        "id": "WVj1m_MjMNHC",
        "colab_type": "text"
      },
      "source": [
        "#**Mount Google Drive**"
      ]
    },
    {
      "cell_type": "code",
      "metadata": {
        "id": "Iyjqk4b2KcCr",
        "colab_type": "code",
        "colab": {}
      },
      "source": [
        "from google.colab import drive  # mount google drive #\n",
        "drive.mount('/content/drive')"
      ],
      "execution_count": 0,
      "outputs": []
    },
    {
      "cell_type": "markdown",
      "metadata": {
        "id": "u_6saMrHMfYc",
        "colab_type": "text"
      },
      "source": [
        "##**Append Path for Google Drive**"
      ]
    },
    {
      "cell_type": "code",
      "metadata": {
        "id": "3TwQbBgxMuVj",
        "colab_type": "code",
        "colab": {}
      },
      "source": [
        "import sys\n",
        "sys.path.append(\"/content/drive/My Drive\")"
      ],
      "execution_count": 0,
      "outputs": []
    },
    {
      "cell_type": "markdown",
      "metadata": {
        "id": "RBWvJfR86XTi",
        "colab_type": "text"
      },
      "source": [
        "##**Extracting Relevant data**\n",
        "\n",
        "Lets have a look at the file \"population_data.json\" to see how we might begin to process the data in this file. (Extract)\n",
        "\n",
        "[\n",
        "  {\n",
        "    \"Country Name\": \"Arab World\",\n",
        "    \"Country Code\": \"ARB\",\n",
        "    \"Year\": \"1960\",\n",
        "    \"Value\": \"96388069\"\n",
        "  },\n",
        "  {\n",
        "    \"Country Name\": \"Arab World\",\n",
        "    \"Country Code\": \"ARB\",\n",
        "    \"Year\": \"1961\",\n",
        "    \"Value\": \"98882541.4\"\n",
        "\n",
        "\n",
        "the File is basically 1 long python list. Each item in the list is a dictionary with four keys: \n",
        "1. Country Name\n",
        "2. Country Code\n",
        "3. Year\n",
        "4. Value (representing the population)\n",
        "\n",
        "We want to examine \"each countrie's\" name and population in 2010. Lets being by printing just that information:\n"
      ]
    },
    {
      "cell_type": "code",
      "metadata": {
        "id": "GTEjriD88VPV",
        "colab_type": "code",
        "colab": {}
      },
      "source": [
        "import json  # first we import the json module so we can properly load the data from the file #\n",
        "\n",
        "# Load data into a list #\n",
        "filename ='/content/drive/My Drive/population_data.json'\n",
        "with open (filename) as f:\n",
        "  pop_data = json.load(f)  # we store the loaded data into 'pop_data'.  json.load also converts the data inton a format python can work with.. in this case a list. #\n",
        "\n",
        "# print the 2010 population data for each country #\n",
        "for pop_dict in pop_data:  # here we loop through each item in pop_data. Each item is a dictionary with four(4) key/values pairs and we store each dictionsary in pop_dict #  \n",
        "  if pop_dict['Year'] == '2010':  # we look for 2010 in the 'Year' dictionary key, since i qoutes we do a string comparison #\n",
        "    country_name = pop_dict['Country Name']  # we store  the value associated with country_name in \"Country Name\"\n",
        "    population = pop_dict['Value'] # and the value asociated with \"Value\" in population #\n",
        "    print(country_name + \": \" + population)\n"
      ],
      "execution_count": 0,
      "outputs": []
    },
    {
      "cell_type": "markdown",
      "metadata": {
        "id": "1L_0cITVBd7I",
        "colab_type": "text"
      },
      "source": [
        "the output is a series of country names and population values.  Not all the data we captured includes exact country names, but this is a good start.  Now we ned to conver the data in a Format  Pygal can work with "
      ]
    },
    {
      "cell_type": "markdown",
      "metadata": {
        "id": "a5vryJF0CBvF",
        "colab_type": "text"
      },
      "source": [
        "##**Converting Strings to numerical values**"
      ]
    },
    {
      "cell_type": "code",
      "metadata": {
        "id": "tFHbVTnpG2MB",
        "colab_type": "code",
        "colab": {
          "base_uri": "https://localhost:8080/",
          "height": 381
        },
        "outputId": "b670b5ef-b803-441a-dfa4-692a6bcb3444"
      },
      "source": [
        "import json   \n",
        "\n",
        "# Load data into a list #\n",
        "filename ='/content/drive/My Drive/population_data.json'\n",
        "with open (filename) as f:\n",
        "  pop_data = json.load(f)   \n",
        "\n",
        "# print the 2010 population data for each country #\n",
        "for pop_dict in pop_data:   \n",
        "  if pop_dict['Year'] == '2010':  \n",
        "    country_name = pop_dict['Country Name']   \n",
        "    population = int(pop_dict['Value'])    # converting strings to integers #\n",
        "    print(country_name + \": \" + str(population)) # convert it back to string for printing, but this creates errors for some of the data \"value error\" #\n",
        "    # this will generate a error \"value error\" for some of the values in the data #"
      ],
      "execution_count": 8,
      "outputs": [
        {
          "output_type": "stream",
          "text": [
            "Arab World: 357868000\n",
            "Caribbean small states: 6880000\n",
            "East Asia & Pacific (all income levels): 2201536674\n",
            "East Asia & Pacific (developing only): 1961558757\n",
            "Euro area: 331766000\n",
            "Europe & Central Asia (all income levels): 890424544\n",
            "Europe & Central Asia (developing only): 405204000\n",
            "European Union: 502125000\n",
            "Heavily indebted poor countries (HIPC): 635663000\n"
          ],
          "name": "stdout"
        },
        {
          "output_type": "error",
          "ename": "ValueError",
          "evalue": "ignored",
          "traceback": [
            "\u001b[0;31m---------------------------------------------------------------------------\u001b[0m",
            "\u001b[0;31mValueError\u001b[0m                                Traceback (most recent call last)",
            "\u001b[0;32m<ipython-input-8-150d50688a50>\u001b[0m in \u001b[0;36m<module>\u001b[0;34m()\u001b[0m\n\u001b[1;32m     10\u001b[0m   \u001b[0;32mif\u001b[0m \u001b[0mpop_dict\u001b[0m\u001b[0;34m[\u001b[0m\u001b[0;34m'Year'\u001b[0m\u001b[0;34m]\u001b[0m \u001b[0;34m==\u001b[0m \u001b[0;34m'2010'\u001b[0m\u001b[0;34m:\u001b[0m\u001b[0;34m\u001b[0m\u001b[0;34m\u001b[0m\u001b[0m\n\u001b[1;32m     11\u001b[0m     \u001b[0mcountry_name\u001b[0m \u001b[0;34m=\u001b[0m \u001b[0mpop_dict\u001b[0m\u001b[0;34m[\u001b[0m\u001b[0;34m'Country Name'\u001b[0m\u001b[0;34m]\u001b[0m\u001b[0;34m\u001b[0m\u001b[0;34m\u001b[0m\u001b[0m\n\u001b[0;32m---> 12\u001b[0;31m     \u001b[0mpopulation\u001b[0m \u001b[0;34m=\u001b[0m \u001b[0mint\u001b[0m\u001b[0;34m(\u001b[0m\u001b[0mpop_dict\u001b[0m\u001b[0;34m[\u001b[0m\u001b[0;34m'Value'\u001b[0m\u001b[0;34m]\u001b[0m\u001b[0;34m)\u001b[0m\u001b[0;34m\u001b[0m\u001b[0;34m\u001b[0m\u001b[0m\n\u001b[0m\u001b[1;32m     13\u001b[0m     \u001b[0mprint\u001b[0m\u001b[0;34m(\u001b[0m\u001b[0mcountry_name\u001b[0m \u001b[0;34m+\u001b[0m \u001b[0;34m\": \"\u001b[0m \u001b[0;34m+\u001b[0m \u001b[0mstr\u001b[0m\u001b[0;34m(\u001b[0m\u001b[0mpopulation\u001b[0m\u001b[0;34m)\u001b[0m\u001b[0;34m)\u001b[0m\u001b[0;34m\u001b[0m\u001b[0;34m\u001b[0m\u001b[0m\n",
            "\u001b[0;31mValueError\u001b[0m: invalid literal for int() with base 10: '1127437398.85751'"
          ]
        }
      ]
    },
    {
      "cell_type": "markdown",
      "metadata": {
        "id": "-BtrH4A4H7Ho",
        "colab_type": "text"
      },
      "source": [
        "It is often the case that **RAW** data isnt formatted consistently so we come accross errors a lot. "
      ]
    }
  ]
}