{
  "nbformat": 4,
  "nbformat_minor": 0,
  "metadata": {
    "colab": {
      "name": "HTTP Requests for Humans.ipynb",
      "provenance": [],
      "collapsed_sections": [],
      "include_colab_link": true
    },
    "kernelspec": {
      "name": "python3",
      "display_name": "Python 3"
    }
  },
  "cells": [
    {
      "cell_type": "markdown",
      "metadata": {
        "id": "view-in-github",
        "colab_type": "text"
      },
      "source": [
        "<a href=\"https://colab.research.google.com/github/vlx300/kb_colab/blob/master/HTTP_Requests_for_Humans.ipynb\" target=\"_parent\"><img src=\"https://colab.research.google.com/assets/colab-badge.svg\" alt=\"Open In Colab\"/></a>"
      ]
    },
    {
      "cell_type": "markdown",
      "metadata": {
        "id": "vaNrp4OLqCBF",
        "colab_type": "text"
      },
      "source": [
        "#**Python HTTP Request Library**\n",
        "**REST**: Essentially a set of conventions for structuring a WEB API (an API you interect with via HTTP: making requests to specific URLS and gathering relevant data in the Response. You leverage the several HTTP methods GET, POST, UPDATE, DELETE etc. \n",
        "\n",
        "\n",
        "![alt text](https://encrypted-tbn0.gstatic.com/images?q=tbn:ANd9GcQK4tRxuYv7nnqsPCZWnzlXJgmNrUbldBIeNiBUsGA_2UWu72Sd&s)"
      ]
    },
    {
      "cell_type": "code",
      "metadata": {
        "id": "0KeyRlYQnFUq",
        "colab_type": "code",
        "colab": {}
      },
      "source": [
        "import requests \n",
        "\n",
        "# Make an API call  and store the response #\n",
        "url = 'https://api.github.com/search/repositories?q=language:python&sort=stars'\n",
        "r = requests.get(url)\n",
        "print(\"Status code:\", r.status_code)"
      ],
      "execution_count": 0,
      "outputs": []
    },
    {
      "cell_type": "markdown",
      "metadata": {
        "id": "K4SO0yKopnI2",
        "colab_type": "text"
      },
      "source": [
        "##**Web API Call alternative**"
      ]
    },
    {
      "cell_type": "code",
      "metadata": {
        "id": "WCIP4PRDpe_q",
        "colab_type": "code",
        "colab": {}
      },
      "source": [
        "requests.get('https://api.github.com')"
      ],
      "execution_count": 0,
      "outputs": []
    },
    {
      "cell_type": "markdown",
      "metadata": {
        "id": "ZIFmL0FXqeHF",
        "colab_type": "text"
      },
      "source": [
        "#**The Response**\n",
        "\n",
        "A response is a powerful object for inspecting the results of a request. Make the same requet again and store the retun value in a variable so you can take a closer look at the data. Elegant"
      ]
    },
    {
      "cell_type": "code",
      "metadata": {
        "id": "B1-t_Pn_vCGl",
        "colab_type": "code",
        "colab": {}
      },
      "source": [
        "response = requests.get('https://api.github.com')"
      ],
      "execution_count": 0,
      "outputs": []
    },
    {
      "cell_type": "markdown",
      "metadata": {
        "id": "YdYYaymIvXdV",
        "colab_type": "text"
      },
      "source": [
        "In this example, you've captured the \"return value\" of GET(), which is an instance of response, and store it in a variable called response. Now you can use response to see alot of information about the results of your GET request. "
      ]
    },
    {
      "cell_type": "markdown",
      "metadata": {
        "id": "oCE7N61Mwl2o",
        "colab_type": "text"
      },
      "source": [
        "##**Status Codes**\n",
        "\n",
        "the first bit of information you can gather forma response is the status code. this informs you of the status of the request. For Exp. 200 means the request was successful . whereas  404 = NOT FOUND, 403 = NOT Authorized etc.. 302 = Redirect \n",
        "\n",
        "**Note**: *By accessing .status_code, you can see the status of the request returned from the Server.  Sometimes you might want to make decision in your code based upo the response \"status code\"* "
      ]
    },
    {
      "cell_type": "code",
      "metadata": {
        "id": "elPXAb11x3RU",
        "colab_type": "code",
        "colab": {}
      },
      "source": [
        "response.status_code # checks the status from the Server "
      ],
      "execution_count": 0,
      "outputs": []
    },
    {
      "cell_type": "markdown",
      "metadata": {
        "id": "coWoFyYuz8e-",
        "colab_type": "text"
      },
      "source": [
        "Making decisions (Other Logic) based on status code:"
      ]
    },
    {
      "cell_type": "code",
      "metadata": {
        "id": "Uce7N9bCymq4",
        "colab_type": "code",
        "colab": {}
      },
      "source": [
        "if response.status_code == 200: \n",
        "  print(\"Success\")\n",
        "elif response.status_code == 400:\n",
        "  print(\"Not Found\")\n",
        "elif response.status_code == 302:\n",
        "  print(\"Follow Redirect\")\n",
        "elif response.status_code == 302:\n",
        "  print(\"Not Authorized\")"
      ],
      "execution_count": 0,
      "outputs": []
    },
    {
      "cell_type": "markdown",
      "metadata": {
        "id": "rDK1MiPt1RgK",
        "colab_type": "text"
      },
      "source": [
        "If your response is used in a conditional expresssion, it will evaluate to **True** if that satus code is between 200 and 400 and **False** Otherwise. so you can simply the above ike this (See Below)..  \n",
        "\n",
        "Note: *this is possible due to __Bool__() overload method on response.  Translation, the default behaviour of response has be modified to take status code into account when determining the \"Truth value\" of the object* so make sure to utilize ths convenient shorthand only if you want to know if a request was \"generally sucessfull\" "
      ]
    },
    {
      "cell_type": "code",
      "metadata": {
        "id": "_zkWd9Ls16rB",
        "colab_type": "code",
        "colab": {}
      },
      "source": [
        "if response:\n",
        "  print(\"Success\")\n",
        "else:\n",
        "  print('An error has occured')"
      ],
      "execution_count": 0,
      "outputs": []
    },
    {
      "cell_type": "markdown",
      "metadata": {
        "id": "UZ9jFzaW84yQ",
        "colab_type": "text"
      },
      "source": [
        "Say if you dont want to check the status code like above but want to raise an exception if the request was unsuccessful only. You can using '.raise_for_status'"
      ]
    },
    {
      "cell_type": "code",
      "metadata": {
        "id": "hVebqkdR9Vzr",
        "colab_type": "code",
        "colab": {}
      },
      "source": [
        "import requests\n",
        "from requests import HTTPError\n",
        "\n",
        "for url in ['http://api.github.com', 'https://api.github.com/invalid']:\n",
        "  try:\n",
        "    reponse = requests.get(url)\n",
        "\n",
        "    # if the response was successful, no exception will be raised\n",
        "    response.raise_for_status()\n",
        "  except HTTPError as http_err:\n",
        "    print(f'HTTP error has occured: {http_err}')  #python 3.6\n",
        "  except Exception as err:\n",
        "    print(f'Other error occured: {err}') #Python 3.6 \n",
        "  else:\n",
        "    print(\"success\")\n"
      ],
      "execution_count": 0,
      "outputs": []
    },
    {
      "cell_type": "markdown",
      "metadata": {
        "id": "ZGkE9cgJ_5fN",
        "colab_type": "text"
      },
      "source": [
        "#**API Content**\n",
        "\n",
        "The reponse of the HTTP API GET request has some valuable information i.e..Payload in the message body. Using the attributes of Response, you can view the payload in many different formats.\n",
        "\n",
        "Bytes (.Content)"
      ]
    },
    {
      "cell_type": "code",
      "metadata": {
        "id": "Hq3p3UtyBIW-",
        "colab_type": "code",
        "colab": {}
      },
      "source": [
        "response = requests.get('https://api.github.com')\n",
        "response.content  # give you the content in raw bytes of the response payload"
      ],
      "execution_count": 0,
      "outputs": []
    },
    {
      "cell_type": "code",
      "metadata": {
        "id": "_yQypRyFBiZn",
        "colab_type": "code",
        "colab": {}
      },
      "source": [
        "response.text # convert into a string using encoding like UTF-8"
      ],
      "execution_count": 0,
      "outputs": []
    },
    {
      "cell_type": "markdown",
      "metadata": {
        "id": "9QA-56HyC48o",
        "colab_type": "text"
      },
      "source": [
        "Decoding bytes to a string requires an encoding scheme. request will try to guess encoding based upon the response headers if not specified.  Set encoding BEFORE accessing .text"
      ]
    },
    {
      "cell_type": "code",
      "metadata": {
        "id": "2bwpo7nVCQnL",
        "colab_type": "code",
        "colab": {}
      },
      "source": [
        "response.encoding = 'utf-8'  #optional enciding parameter.  requests infers this\n",
        "response.text"
      ],
      "execution_count": 0,
      "outputs": []
    },
    {
      "cell_type": "markdown",
      "metadata": {
        "id": "oeLRGuUPDz4V",
        "colab_type": "text"
      },
      "source": [
        "##**Serialized JSON content** \n",
        "Hey look Ma, it's JSON.....Let's view some rea-life JSON \n",
        "\n",
        "![alt text](https://encrypted-tbn0.gstatic.com/images?q=tbn:ANd9GcQt00IECBfWRzEFyW6D6dDnCvjuEt4MlTdF3WYi0IWg-_12ayXM&s)\n",
        "\n"
      ]
    },
    {
      "cell_type": "code",
      "metadata": {
        "id": "SEiZH3f2EQTL",
        "colab_type": "code",
        "colab": {}
      },
      "source": [
        "response.json()  # this will show you serialized JSON content (See below).  to get a dictionary, you could take the str you received from .text and deserialize it (json.loads()) \n",
        "# much simplier to use .json(). the \"type\" of the return value .json() is a dictionary so you can access values i the object via the 'key'"
      ],
      "execution_count": 0,
      "outputs": []
    },
    {
      "cell_type": "markdown",
      "metadata": {
        "id": "2SaLF8JDZvnC",
        "colab_type": "text"
      },
      "source": [
        "**NOTE**: you can do a alot with status codes and message bodies, but in order to get more infomration, like METADATA about the response itself, you will need to review the response headers. "
      ]
    },
    {
      "cell_type": "markdown",
      "metadata": {
        "id": "y012rcnXaLcD",
        "colab_type": "text"
      },
      "source": [
        "##**API Response Headers**\n",
        "\n",
        "The repsonse headers can provide lots of useful information such as content-type of the response payload, time-limit on how long to Cache the response etc..The View these headers, access (.headers)"
      ]
    },
    {
      "cell_type": "code",
      "metadata": {
        "id": "IA-pTr1DafPb",
        "colab_type": "code",
        "colab": {}
      },
      "source": [
        "response.headers"
      ],
      "execution_count": 0,
      "outputs": []
    },
    {
      "cell_type": "code",
      "metadata": {
        "id": "zxMe9X_h8Kl7",
        "colab_type": "code",
        "colab": {}
      },
      "source": [
        "response.headers['content-Type']  # Accesing the key to content-type METADATA header.   NOT Case sensitive"
      ],
      "execution_count": 0,
      "outputs": []
    },
    {
      "cell_type": "code",
      "metadata": {
        "id": "bLTNPdFHdsqz",
        "colab_type": "code",
        "colab": {}
      },
      "source": [
        "response.headers['X-RateLimit-Remaining']"
      ],
      "execution_count": 0,
      "outputs": []
    },
    {
      "cell_type": "markdown",
      "metadata": {
        "id": "or12vCCvt0ZN",
        "colab_type": "text"
      },
      "source": [
        "##**Maniupulating Query parameters (params)**\n",
        "\n",
        "One common way to customize a GET request is to pass values thru Query String parameters in the URL. Todo this, you pass data to *params* \n",
        "\n",
        "query strings are useful for \"parameterizing\" GET requests. "
      ]
    },
    {
      "cell_type": "code",
      "metadata": {
        "id": "sTd3nfOlUK0c",
        "colab_type": "code",
        "colab": {}
      },
      "source": [
        "import requests\n",
        "\n",
        "# search github's reposititories for requests \n",
        "response = requests.get('https://api.github.com/search/repositories', params=[('q', 'requests+language:python')], )\n",
        "# return sever status\n",
        "reponse.status_code"
      ],
      "execution_count": 0,
      "outputs": []
    },
    {
      "cell_type": "code",
      "metadata": {
        "id": "eh09Ba2oVfvo",
        "colab_type": "code",
        "colab": {}
      },
      "source": [
        "# you can pass values as Bytes\n",
        "requests.get('https://api.github.com/search/repositories', params=b'q=requests+language:python')"
      ],
      "execution_count": 0,
      "outputs": []
    },
    {
      "cell_type": "markdown",
      "metadata": {
        "id": "4zSywUwLXTFL",
        "colab_type": "text"
      },
      "source": [
        "##**Request Headers**\n",
        "\n",
        "to customize headers,  you pass a **dictionary of HTTP headers** to GET() using the *'headers'* parameter. for exp, ypou can change your previous search request to highlight matching search terms in the results by specifying the \"text-match media type in the *accept* header."
      ]
    },
    {
      "cell_type": "code",
      "metadata": {
        "id": "H6FdfFHWYskN",
        "colab_type": "code",
        "colab": {}
      },
      "source": [
        "import requests\n",
        "\n",
        "response = requests.get('https://api.github.com/search/repositories',\n",
        "                        params={'q': 'requests+language:python'}, \n",
        "                        headers={'Accept': 'application/vnd.github.com.v3.text-match+json'},)\n",
        "\n",
        "# View the new text matches array which provides informtion \n",
        "# about your search terms within the results\n",
        "json_response = response.json()\n",
        "repository = json_response['items'][0]\n",
        "print(f'text matches: {repository[\"text_matches\"]}') "
      ],
      "execution_count": 0,
      "outputs": []
    },
    {
      "cell_type": "markdown",
      "metadata": {
        "id": "AsTMtDdea4sW",
        "colab_type": "text"
      },
      "source": [
        "the accept header tells the server what content you application can handle. in thid case, since you're expecting the matching search terms to be highllighted , your using the header value \"*application/vnd/github.v3.text-match+json*\" which is a proprietart github accept header where the content is a special JSON format. \n",
        "\n",
        "before you learn ways to customize requests, Lets broden the horizon by exploring other HTTP methods. "
      ]
    },
    {
      "cell_type": "markdown",
      "metadata": {
        "id": "e4QIUIDucBTd",
        "colab_type": "text"
      },
      "source": [
        "##**Other HTTP Methods**\n",
        "\n",
        "Aside from GET, other popular HTTP methods include POST, PUT, DELETE, HEAD, PATCH and OPTIONS headers.  Requests provides a methodwith a similar signature to GET(), for each of these methods. \n",
        "\n",
        "Each function call makes a request to the HTTPbin service using the corresponding HTTP method. for each method, you can inspect each method as before. (*See Below*)"
      ]
    },
    {
      "cell_type": "code",
      "metadata": {
        "id": "24kRUR-Jc0ol",
        "colab_type": "code",
        "colab": {}
      },
      "source": [
        "requests.post('https://httpbin.org/post', data={'key':'value'})\n",
        "requests.put('https://httpbin.org/put', data={'key':'value'})\n",
        "requests.delete('https://httpbin.org/delete') \n",
        "requests.head('https://httpbin.org/get')\n",
        "requests.patch('https://httpbin.org/patch', data={'key':'value'})\n",
        "requests.options('https://httpbin.org/get')"
      ],
      "execution_count": 0,
      "outputs": []
    },
    {
      "cell_type": "code",
      "metadata": {
        "id": "JafARzI-evPc",
        "colab_type": "code",
        "colab": {}
      },
      "source": [
        "response = requests.head('https://httpbin.org/get')\n",
        "response.headers['content-type']"
      ],
      "execution_count": 0,
      "outputs": []
    },
    {
      "cell_type": "code",
      "metadata": {
        "id": "0X1ZztZ3fqHO",
        "colab_type": "code",
        "colab": {}
      },
      "source": [
        "response = requests.delete('https://httpbin.org/delete')\n",
        "json_response = response.json()\n",
        "json_response['args']"
      ],
      "execution_count": 0,
      "outputs": []
    },
    {
      "cell_type": "markdown",
      "metadata": {
        "id": "joj2G0DYiMJw",
        "colab_type": "text"
      },
      "source": [
        "#**Message Body**\n",
        "\n",
        "Headers, response bodies, status codes and more are returned in the response for each method. Now lets tke a closer look at POST, PUT and PATCH HTTP methods. According to the HTTP spec, POST/PUT and PATCH pass their data thru the body of an HTTP message instead of the URL. Using requests, you pass the payload to the corresponding ***data*** parameter. \n",
        "\n",
        "\n",
        "Data takes a dictionary, list of tuples or  file-like object. you will want to adapt the data you send in thr message body to the specific needs of the service your interacting with.  \n",
        "\n",
        "Exp: if your requests \"*content-Type*\" is \"*application/x-www-form-urlencoded*\", you can send data as a dictionary "
      ]
    },
    {
      "cell_type": "code",
      "metadata": {
        "id": "0G5KvDY4kvy-",
        "colab_type": "code",
        "colab": {}
      },
      "source": [
        "requests.post('https://httpbin.org/post', data={'key':'value'})"
      ],
      "execution_count": 0,
      "outputs": []
    },
    {
      "cell_type": "code",
      "metadata": {
        "id": "YKYfxkMOlCBV",
        "colab_type": "code",
        "colab": {}
      },
      "source": [
        "requests.post('https://httpbin.org/post', data=[('key', 'value')])"
      ],
      "execution_count": 0,
      "outputs": []
    },
    {
      "cell_type": "markdown",
      "metadata": {
        "id": "2YtR-r9hlUbB",
        "colab_type": "text"
      },
      "source": [
        "If however, you need to send ***JSON data*** , you can use the json parameter. Whe youn pass JSON data via json , requests will serialize tour data and add correct \"Content-Type\" header for you. "
      ]
    },
    {
      "cell_type": "code",
      "metadata": {
        "id": "w8tyUxTXmCOf",
        "colab_type": "code",
        "colab": {}
      },
      "source": [
        "response = requests.post('https://httpbin.org/post', json={'key':'value'})\n",
        "json_response = response.json()\n",
        "json_response['data']"
      ],
      "execution_count": 0,
      "outputs": []
    },
    {
      "cell_type": "code",
      "metadata": {
        "id": "6MBN54Rdmdub",
        "colab_type": "code",
        "colab": {}
      },
      "source": [
        "json_response['headers']['Content-Type']"
      ],
      "execution_count": 0,
      "outputs": []
    },
    {
      "cell_type": "markdown",
      "metadata": {
        "id": "475PHPu9nLgJ",
        "colab_type": "text"
      },
      "source": [
        "You can see from the response that the server received your request data and headers as you sent,  requests also provides this infomration to you in a form of a PreparedRequests. "
      ]
    },
    {
      "cell_type": "markdown",
      "metadata": {
        "id": "bbQ73y_Qnzr2",
        "colab_type": "text"
      },
      "source": [
        "#**Inspecting the Request**\n",
        "\n",
        "When you make a request, the requests library prepares the request before actually sending to the destination server, preperation includes things such as \"**header-validation**\" and **serialization** of the data (*JSON Content)*. \n",
        "\n",
        "You can access the **PreparedRequests**  by accessing .request"
      ]
    },
    {
      "cell_type": "code",
      "metadata": {
        "id": "CDgqLAwrpvZn",
        "colab_type": "code",
        "colab": {}
      },
      "source": [
        "response = requests.post('https://httpbin.org/post', json={'key':'value'})\n",
        "response.request.headers['Content-type']"
      ],
      "execution_count": 0,
      "outputs": []
    },
    {
      "cell_type": "code",
      "metadata": {
        "id": "4jBcPbE_qVMI",
        "colab_type": "code",
        "colab": {}
      },
      "source": [
        "response.request.url"
      ],
      "execution_count": 0,
      "outputs": []
    },
    {
      "cell_type": "code",
      "metadata": {
        "id": "gwRGF53zqnfB",
        "colab_type": "code",
        "colab": {}
      },
      "source": [
        "response.request.body"
      ],
      "execution_count": 0,
      "outputs": []
    },
    {
      "cell_type": "markdown",
      "metadata": {
        "id": "49SAoFGRwR0R",
        "colab_type": "text"
      },
      "source": [
        "Inspecting the rquest gives tyou access to all kinds of information about the request being made:\n",
        "\n",
        "*   Payload\n",
        "*   URL\n",
        "*   Headers\n",
        "*   Authenication and more\n",
        "\n",
        "\n",
        "\n",
        "\n"
      ]
    },
    {
      "cell_type": "markdown",
      "metadata": {
        "id": "cb4CarJhxQLq",
        "colab_type": "text"
      },
      "source": [
        "#**API Authentication** (Basic Authentication Depricated  on Github)\n",
        "\n",
        "Authenticaion helps the service understand who you are. Typically you provide credentials to the serverby passing data through the \"Authorization Header\" or custom header defined by th service. All the request function we studed so far have a paramter called \"auth\" which allows you to pass your credentials\n",
        "\n",
        "One example of an API that requires authentication is Github's Authenticated user API. this endpoint provides infomation about the authenticated users profile. . To make the request to the Authenticated user API, pass your Github username and password in a Tuple to GET()"
      ]
    },
    {
      "cell_type": "code",
      "metadata": {
        "id": "0LnbYLXa3Ofs",
        "colab_type": "code",
        "colab": {}
      },
      "source": [
        "from requests.auth import AuthBase\n",
        "from getpass import getpass\n",
        "requests.get('https://api.github.com/user', auth='HTTPBasicAuth'('vlx300', getpass()))"
      ],
      "execution_count": 0,
      "outputs": []
    },
    {
      "cell_type": "markdown",
      "metadata": {
        "id": "ABsaEqTiB4Iw",
        "colab_type": "text"
      },
      "source": [
        "#**SSL/TLS Security (Certificate Verification)**\n",
        "\n",
        "Security is important. Requests uses SSL/TLS by default. Requests usees a package called cerifi to provide Certificate authorities.This lets request know wihch authorities it can trust. "
      ]
    },
    {
      "cell_type": "code",
      "metadata": {
        "id": "K-gZZ9Ub_oMx",
        "colab_type": "code",
        "colab": {}
      },
      "source": [
        "requests.get('https://api.github.com', verify=False)  # this will disable SSL and Provide a warning "
      ],
      "execution_count": 0,
      "outputs": []
    },
    {
      "cell_type": "markdown",
      "metadata": {
        "id": "kDv_hTiNAiEX",
        "colab_type": "text"
      },
      "source": [
        "#**API Performance**\n",
        "\n",
        "when using python requests in production, its important to consider performance implications . Features such as Timeout control, Sessions, Retry Limits, \n",
        "\n",
        "##**Timeouts**\n",
        "\n",
        "when making inline requests to an external service, your system needs to wait for a reply before moving on. If application  waits too long, requests to the service could back up , or User experience could suffer, or backround jobs could hang.  By default, requests will wait indefinately for a connection so set some timeout value as a best prectice (Float or integer)"
      ]
    },
    {
      "cell_type": "code",
      "metadata": {
        "id": "LnzDUeQ3EZFa",
        "colab_type": "code",
        "colab": {}
      },
      "source": [
        "requests.get('https://api.github.com', verify=False, timeout=1) # Set a timeout value for the connection "
      ],
      "execution_count": 0,
      "outputs": []
    },
    {
      "cell_type": "code",
      "metadata": {
        "id": "5paKENy_Eqhn",
        "colab_type": "code",
        "colab": {}
      },
      "source": [
        "requests.get('https://api.github.com', timeout=2.5)"
      ],
      "execution_count": 0,
      "outputs": []
    },
    {
      "cell_type": "markdown",
      "metadata": {
        "id": "4ToDRI2YFF1l",
        "colab_type": "text"
      },
      "source": [
        "You can also pass a Tuple to timeout with the 1st element being the connecton-timeout value (*time allowed to establish connection*), and the 2nd value being the Read-timeout(*the time the connection will wait on a response*)"
      ]
    },
    {
      "cell_type": "code",
      "metadata": {
        "id": "ATOFahGWGJcd",
        "colab_type": "code",
        "colab": {}
      },
      "source": [
        "requests.get('https://api.github.com', timeout=(2,5)) # Tuple passed ot timeout. thjis request will be successful if the connection is established in 2seconds and data is received in 5 seconds #\n",
        "# if the request timeos out, the function will raise a timeout exception. "
      ],
      "execution_count": 0,
      "outputs": []
    },
    {
      "cell_type": "code",
      "metadata": {
        "id": "TveaW95JHNC5",
        "colab_type": "code",
        "colab": {}
      },
      "source": [
        "import requests\n",
        "from requests.exceptions import Timeout\n",
        "\n",
        "try: response = requests.get('https://api.github.com', timeout=1)\n",
        "except TimeoutError:\n",
        "  print(\"the request timeout\")\n",
        "else:\n",
        "  print(\"The request did not time out\")"
      ],
      "execution_count": 0,
      "outputs": []
    },
    {
      "cell_type": "markdown",
      "metadata": {
        "id": "O_pOUw0rH74j",
        "colab_type": "text"
      },
      "source": [
        "#**Session Objects**\n",
        "\n",
        "So far  We have been making high-level requests such as GET() and Post(). these are abstractions to what is really going on unde the hood. They hide the implementation details of the request.\n",
        "\n",
        "Underneath these abstractions is a \"Class\" called Session.  If you need to have fine-tune controls over how the sessions are being made and managed.,  you may need to use a **Session instance directly**.  \n",
        "\n",
        "Sessions are used to \"persist\" parameters accross connection requests. Exp, You want to use the \"same authentication\" accross muitiple requests"
      ]
    },
    {
      "cell_type": "code",
      "metadata": {
        "id": "Fab1g2s8Lcgq",
        "colab_type": "code",
        "colab": {}
      },
      "source": [
        "import requests\n",
        "from getpass import getpass\n",
        "# by using the context manager, you can ensure the resources used by the session\n",
        "# will be released after use.\n",
        "with requests.session() as session:\n",
        "  session.auth = ('username', getpass())\n",
        "\n",
        "  # instead of requests.get() you will use Session.get()\n",
        "  response = session.get('https://api/github.com/user')\n",
        "\n",
        "# you can inspect the repsonse as before \n",
        "print(response.headers)\n",
        "print(response.json())"
      ],
      "execution_count": 0,
      "outputs": []
    },
    {
      "cell_type": "markdown",
      "metadata": {
        "id": "F1FCwR51OP8L",
        "colab_type": "text"
      },
      "source": [
        "###**Primary performance optimization**\n",
        "\n",
        "the primary optimization of \"sessions\" comes in the form of persistent connections. when your app makes a connection  to a server using a Session, it keeps the connection in the connection POOL so when the connection is needed again, *it uses the connection from the POOL rather than a new connection.* "
      ]
    },
    {
      "cell_type": "markdown",
      "metadata": {
        "id": "YX-rXhyhnMtd",
        "colab_type": "text"
      },
      "source": [
        "#**Max Retries**\n",
        "\n",
        "when requests fails, you may want your application to retry the same request. By default request wont retry the connection. to implement this . you must implemnt a **Custom Transport Adapter**. \n",
        "\n",
        "\n",
        "Transport Adapters lets you define a set of configurations per service your interacting with. Exp.  you wan to retry https://api.github.com three times before finlly raising a \"*Connection Error*\", you would build a transport adapter, set its \"*Max_Retires*\" parameter and mount it to the existing session. "
      ]
    },
    {
      "cell_type": "code",
      "metadata": {
        "id": "3h2skEDypaZy",
        "colab_type": "code",
        "colab": {}
      },
      "source": [
        "import requests\n",
        "from requests.adapters import HTTPAdapter\n",
        "from requests.exceptions import ConnectionError\n",
        "\n",
        "github_adapter = HTTPAdapter(max_retries=3)\n",
        "\n",
        "session = requests.session()\n",
        "\n",
        "# use gitbuh adapter for ALL requests to endpoints to start usint this URL\n",
        "session.mount('https://api.github.com', github_adapter)\n",
        "\n",
        "try: \n",
        "  session.get('https://api.github.com')\n",
        "except ConnectionError as ce:\n",
        "  print(ce)"
      ],
      "execution_count": 0,
      "outputs": []
    },
    {
      "cell_type": "markdown",
      "metadata": {
        "id": "sVHxRINTqyi8",
        "colab_type": "text"
      },
      "source": [
        "when you mount the HTTPAdapter, github_adapter to session, session will adhere to its configuration for each request to https://api.github.com making sessions efficient and applications more resilient."
      ]
    }
  ]
}