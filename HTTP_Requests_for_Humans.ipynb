{
  "nbformat": 4,
  "nbformat_minor": 0,
  "metadata": {
    "colab": {
      "name": "HTTP Requests for Humans.ipynb",
      "provenance": [],
      "collapsed_sections": [],
      "include_colab_link": true
    },
    "kernelspec": {
      "name": "python3",
      "display_name": "Python 3"
    }
  },
  "cells": [
    {
      "cell_type": "markdown",
      "metadata": {
        "id": "view-in-github",
        "colab_type": "text"
      },
      "source": [
        "<a href=\"https://colab.research.google.com/github/vlx300/kb_colab/blob/master/HTTP_Requests_for_Humans.ipynb\" target=\"_parent\"><img src=\"https://colab.research.google.com/assets/colab-badge.svg\" alt=\"Open In Colab\"/></a>"
      ]
    },
    {
      "cell_type": "markdown",
      "metadata": {
        "id": "vaNrp4OLqCBF",
        "colab_type": "text"
      },
      "source": [
        "#**Python HTTP Request Library**\n",
        "**REST**: Essentially a set of conventions for structuring a WEB API (an API you interect with via HTTP: making requests to specific URLS and gathering relevant data in the Response. You leverage the several HTTP methods GET, POST, UPDATE, DELETE etc. \n",
        "\n",
        "\n",
        "![alt text](https://encrypted-tbn0.gstatic.com/images?q=tbn:ANd9GcQK4tRxuYv7nnqsPCZWnzlXJgmNrUbldBIeNiBUsGA_2UWu72Sd&s)"
      ]
    },
    {
      "cell_type": "code",
      "metadata": {
        "id": "0KeyRlYQnFUq",
        "colab_type": "code",
        "outputId": "87138109-00c9-4b5f-b65b-b231581efe21",
        "colab": {
          "base_uri": "https://localhost:8080/",
          "height": 34
        }
      },
      "source": [
        "import requests \n",
        "\n",
        "# Make an API call  and store the response #\n",
        "url = 'https://api.github.com/search/repositories?q=language:python&sort=stars'\n",
        "r = requests.get(url)\n",
        "print(\"Status code:\", r.status_code)"
      ],
      "execution_count": 0,
      "outputs": [
        {
          "output_type": "stream",
          "text": [
            "Status code: 200\n"
          ],
          "name": "stdout"
        }
      ]
    },
    {
      "cell_type": "markdown",
      "metadata": {
        "id": "K4SO0yKopnI2",
        "colab_type": "text"
      },
      "source": [
        "##**Web API Call alternative**"
      ]
    },
    {
      "cell_type": "code",
      "metadata": {
        "id": "WCIP4PRDpe_q",
        "colab_type": "code",
        "outputId": "ae4fdf22-47b9-42a3-c081-8e93b4a99165",
        "colab": {
          "base_uri": "https://localhost:8080/",
          "height": 34
        }
      },
      "source": [
        "requests.get('https://api.github.com')"
      ],
      "execution_count": 0,
      "outputs": [
        {
          "output_type": "execute_result",
          "data": {
            "text/plain": [
              "<Response [200]>"
            ]
          },
          "metadata": {
            "tags": []
          },
          "execution_count": 2
        }
      ]
    },
    {
      "cell_type": "markdown",
      "metadata": {
        "id": "ZIFmL0FXqeHF",
        "colab_type": "text"
      },
      "source": [
        "#**The Response**\n",
        "\n",
        "A response is a powerful object for inspecting the results of a request. Make the same requet again and store the retun value in a variable so you can take a closer look at the data. Elegant"
      ]
    },
    {
      "cell_type": "code",
      "metadata": {
        "id": "B1-t_Pn_vCGl",
        "colab_type": "code",
        "colab": {}
      },
      "source": [
        "response = requests.get('https://api.github.com')"
      ],
      "execution_count": 0,
      "outputs": []
    },
    {
      "cell_type": "markdown",
      "metadata": {
        "id": "YdYYaymIvXdV",
        "colab_type": "text"
      },
      "source": [
        "In this example, you've captured the \"return value\" of GET(), which is an instance of response, and store it in a variable called response. Now you can use response to see alot of information about the results of your GET request. "
      ]
    },
    {
      "cell_type": "markdown",
      "metadata": {
        "id": "oCE7N61Mwl2o",
        "colab_type": "text"
      },
      "source": [
        "##**Status Codes**\n",
        "\n",
        "the first bit of information you can gather forma response is the status code. this informs you of the status of the request. For Exp. 200 means the request was successful . whereas  404 = NOT FOUND, 403 = NOT Authorized etc.. 302 = Redirect \n",
        "\n",
        "**Note**: *By accessing .status_code, you can see the status of the request returned from the Server.  Sometimes you might want to make decision in your code based upo the response \"status code\"* "
      ]
    },
    {
      "cell_type": "code",
      "metadata": {
        "id": "elPXAb11x3RU",
        "colab_type": "code",
        "outputId": "e298186b-e8b2-4169-cd38-219d0d8bb126",
        "colab": {
          "base_uri": "https://localhost:8080/",
          "height": 34
        }
      },
      "source": [
        "response.status_code # checks the status from the Server "
      ],
      "execution_count": 0,
      "outputs": [
        {
          "output_type": "execute_result",
          "data": {
            "text/plain": [
              "200"
            ]
          },
          "metadata": {
            "tags": []
          },
          "execution_count": 4
        }
      ]
    },
    {
      "cell_type": "markdown",
      "metadata": {
        "id": "coWoFyYuz8e-",
        "colab_type": "text"
      },
      "source": [
        "Making decisions (Other Logic) based on status code:"
      ]
    },
    {
      "cell_type": "code",
      "metadata": {
        "id": "Uce7N9bCymq4",
        "colab_type": "code",
        "outputId": "85d46d27-dddd-4366-85f0-3cfadc86e5fd",
        "colab": {
          "base_uri": "https://localhost:8080/",
          "height": 34
        }
      },
      "source": [
        "if response.status_code == 200: \n",
        "  print(\"Success\")\n",
        "elif response.status_code == 400:\n",
        "  print(\"Not Found\")\n",
        "elif response.status_code == 302:\n",
        "  print(\"Follow Redirect\")\n",
        "elif response.status_code == 302:\n",
        "  print(\"Not Authorized\")"
      ],
      "execution_count": 0,
      "outputs": [
        {
          "output_type": "stream",
          "text": [
            "Success\n"
          ],
          "name": "stdout"
        }
      ]
    },
    {
      "cell_type": "markdown",
      "metadata": {
        "id": "rDK1MiPt1RgK",
        "colab_type": "text"
      },
      "source": [
        "If your response is used in a conditional expresssion, it will evaluate to **True** if that satus code is between 200 and 400 and **False** Otherwise. so you can simply the above ike this (See Below)..  \n",
        "\n",
        "Note: *this is possible due to __Bool__() overload method on response.  Translation, the default behaviour of response has be modified to take status code into account when determining the \"Truth value\" of the object* so make sure to utilize ths convenient shorthand only if you want to know if a request was \"generally sucessfull\" "
      ]
    },
    {
      "cell_type": "code",
      "metadata": {
        "id": "_zkWd9Ls16rB",
        "colab_type": "code",
        "outputId": "97753ba3-20a3-44c1-8390-0ff6d4cebb48",
        "colab": {
          "base_uri": "https://localhost:8080/",
          "height": 34
        }
      },
      "source": [
        "if response:\n",
        "  print(\"Success\")\n",
        "else:\n",
        "  print('An error has occured')"
      ],
      "execution_count": 0,
      "outputs": [
        {
          "output_type": "stream",
          "text": [
            "Success\n"
          ],
          "name": "stdout"
        }
      ]
    },
    {
      "cell_type": "markdown",
      "metadata": {
        "id": "UZ9jFzaW84yQ",
        "colab_type": "text"
      },
      "source": [
        "Say if you dont want to check the status code like above but want to raise an exception if the request was unsuccessful only. You can using '.raise_for_status'"
      ]
    },
    {
      "cell_type": "code",
      "metadata": {
        "id": "hVebqkdR9Vzr",
        "colab_type": "code",
        "outputId": "618d261d-913d-44aa-c08f-af42213c4275",
        "colab": {
          "base_uri": "https://localhost:8080/",
          "height": 51
        }
      },
      "source": [
        "import requests\n",
        "from requests import HTTPError\n",
        "\n",
        "for url in ['http://api.github.com', 'https://api.github.com/invalid']:\n",
        "  try:\n",
        "    reponse = requests.get(url)\n",
        "\n",
        "    # if the response was successful, no exception will be raised\n",
        "    response.raise_for_status()\n",
        "  except HTTPError as http_err:\n",
        "    print(f'HTTP error has occured: {http_err}')  #python 3.6\n",
        "  except Exception as err:\n",
        "    print(f'Other error occured: {err}') #Python 3.6 \n",
        "  else:\n",
        "    print(\"success\")\n"
      ],
      "execution_count": 0,
      "outputs": [
        {
          "output_type": "stream",
          "text": [
            "success\n",
            "success\n"
          ],
          "name": "stdout"
        }
      ]
    },
    {
      "cell_type": "markdown",
      "metadata": {
        "id": "ZGkE9cgJ_5fN",
        "colab_type": "text"
      },
      "source": [
        "#**API Content**\n",
        "\n",
        "The reponse of the HTTP API GET request has some valuable information i.e..Payload in the message body. Using the attributes of Response, you can view the payload in many different formats.\n",
        "\n",
        "Bytes (.Content)"
      ]
    },
    {
      "cell_type": "code",
      "metadata": {
        "id": "Hq3p3UtyBIW-",
        "colab_type": "code",
        "outputId": "b6b8439a-9be2-4012-82cd-f3f79154a81f",
        "colab": {
          "base_uri": "https://localhost:8080/",
          "height": 54
        }
      },
      "source": [
        "response = requests.get('https://api.github.com')\n",
        "response.content  # give you the content in raw bytes of the response payload"
      ],
      "execution_count": 0,
      "outputs": [
        {
          "output_type": "execute_result",
          "data": {
            "text/plain": [
              "b'{\"current_user_url\":\"https://api.github.com/user\",\"current_user_authorizations_html_url\":\"https://github.com/settings/connections/applications{/client_id}\",\"authorizations_url\":\"https://api.github.com/authorizations\",\"code_search_url\":\"https://api.github.com/search/code?q={query}{&page,per_page,sort,order}\",\"commit_search_url\":\"https://api.github.com/search/commits?q={query}{&page,per_page,sort,order}\",\"emails_url\":\"https://api.github.com/user/emails\",\"emojis_url\":\"https://api.github.com/emojis\",\"events_url\":\"https://api.github.com/events\",\"feeds_url\":\"https://api.github.com/feeds\",\"followers_url\":\"https://api.github.com/user/followers\",\"following_url\":\"https://api.github.com/user/following{/target}\",\"gists_url\":\"https://api.github.com/gists{/gist_id}\",\"hub_url\":\"https://api.github.com/hub\",\"issue_search_url\":\"https://api.github.com/search/issues?q={query}{&page,per_page,sort,order}\",\"issues_url\":\"https://api.github.com/issues\",\"keys_url\":\"https://api.github.com/user/keys\",\"label_search_url\":\"https://api.github.com/search/labels?q={query}&repository_id={repository_id}{&page,per_page}\",\"notifications_url\":\"https://api.github.com/notifications\",\"organization_repositories_url\":\"https://api.github.com/orgs/{org}/repos{?type,page,per_page,sort}\",\"organization_url\":\"https://api.github.com/orgs/{org}\",\"public_gists_url\":\"https://api.github.com/gists/public\",\"rate_limit_url\":\"https://api.github.com/rate_limit\",\"repository_url\":\"https://api.github.com/repos/{owner}/{repo}\",\"repository_search_url\":\"https://api.github.com/search/repositories?q={query}{&page,per_page,sort,order}\",\"current_user_repositories_url\":\"https://api.github.com/user/repos{?type,page,per_page,sort}\",\"starred_url\":\"https://api.github.com/user/starred{/owner}{/repo}\",\"starred_gists_url\":\"https://api.github.com/gists/starred\",\"team_url\":\"https://api.github.com/teams\",\"user_url\":\"https://api.github.com/users/{user}\",\"user_organizations_url\":\"https://api.github.com/user/orgs\",\"user_repositories_url\":\"https://api.github.com/users/{user}/repos{?type,page,per_page,sort}\",\"user_search_url\":\"https://api.github.com/search/users?q={query}{&page,per_page,sort,order}\"}'"
            ]
          },
          "metadata": {
            "tags": []
          },
          "execution_count": 8
        }
      ]
    },
    {
      "cell_type": "code",
      "metadata": {
        "id": "_yQypRyFBiZn",
        "colab_type": "code",
        "outputId": "406ed464-8f0a-470e-a2a3-d61057939faa",
        "colab": {
          "base_uri": "https://localhost:8080/",
          "height": 54
        }
      },
      "source": [
        "response.text # convert into a string using encoding like UTF-8"
      ],
      "execution_count": 0,
      "outputs": [
        {
          "output_type": "execute_result",
          "data": {
            "text/plain": [
              "'{\"current_user_url\":\"https://api.github.com/user\",\"current_user_authorizations_html_url\":\"https://github.com/settings/connections/applications{/client_id}\",\"authorizations_url\":\"https://api.github.com/authorizations\",\"code_search_url\":\"https://api.github.com/search/code?q={query}{&page,per_page,sort,order}\",\"commit_search_url\":\"https://api.github.com/search/commits?q={query}{&page,per_page,sort,order}\",\"emails_url\":\"https://api.github.com/user/emails\",\"emojis_url\":\"https://api.github.com/emojis\",\"events_url\":\"https://api.github.com/events\",\"feeds_url\":\"https://api.github.com/feeds\",\"followers_url\":\"https://api.github.com/user/followers\",\"following_url\":\"https://api.github.com/user/following{/target}\",\"gists_url\":\"https://api.github.com/gists{/gist_id}\",\"hub_url\":\"https://api.github.com/hub\",\"issue_search_url\":\"https://api.github.com/search/issues?q={query}{&page,per_page,sort,order}\",\"issues_url\":\"https://api.github.com/issues\",\"keys_url\":\"https://api.github.com/user/keys\",\"label_search_url\":\"https://api.github.com/search/labels?q={query}&repository_id={repository_id}{&page,per_page}\",\"notifications_url\":\"https://api.github.com/notifications\",\"organization_repositories_url\":\"https://api.github.com/orgs/{org}/repos{?type,page,per_page,sort}\",\"organization_url\":\"https://api.github.com/orgs/{org}\",\"public_gists_url\":\"https://api.github.com/gists/public\",\"rate_limit_url\":\"https://api.github.com/rate_limit\",\"repository_url\":\"https://api.github.com/repos/{owner}/{repo}\",\"repository_search_url\":\"https://api.github.com/search/repositories?q={query}{&page,per_page,sort,order}\",\"current_user_repositories_url\":\"https://api.github.com/user/repos{?type,page,per_page,sort}\",\"starred_url\":\"https://api.github.com/user/starred{/owner}{/repo}\",\"starred_gists_url\":\"https://api.github.com/gists/starred\",\"team_url\":\"https://api.github.com/teams\",\"user_url\":\"https://api.github.com/users/{user}\",\"user_organizations_url\":\"https://api.github.com/user/orgs\",\"user_repositories_url\":\"https://api.github.com/users/{user}/repos{?type,page,per_page,sort}\",\"user_search_url\":\"https://api.github.com/search/users?q={query}{&page,per_page,sort,order}\"}'"
            ]
          },
          "metadata": {
            "tags": []
          },
          "execution_count": 9
        }
      ]
    },
    {
      "cell_type": "markdown",
      "metadata": {
        "id": "9QA-56HyC48o",
        "colab_type": "text"
      },
      "source": [
        "Decoding bytes to a string requires an encoding scheme. request will try to guess encoding based upon the response headers if not specified.  Set encoding BEFORE accessing .text"
      ]
    },
    {
      "cell_type": "code",
      "metadata": {
        "id": "2bwpo7nVCQnL",
        "colab_type": "code",
        "outputId": "65e592e0-0e58-48cb-d1c2-c1642c576b5a",
        "colab": {
          "base_uri": "https://localhost:8080/",
          "height": 54
        }
      },
      "source": [
        "response.encoding = 'utf-8'  #optional enciding parameter.  requests infers this\n",
        "response.text"
      ],
      "execution_count": 0,
      "outputs": [
        {
          "output_type": "execute_result",
          "data": {
            "text/plain": [
              "'{\"current_user_url\":\"https://api.github.com/user\",\"current_user_authorizations_html_url\":\"https://github.com/settings/connections/applications{/client_id}\",\"authorizations_url\":\"https://api.github.com/authorizations\",\"code_search_url\":\"https://api.github.com/search/code?q={query}{&page,per_page,sort,order}\",\"commit_search_url\":\"https://api.github.com/search/commits?q={query}{&page,per_page,sort,order}\",\"emails_url\":\"https://api.github.com/user/emails\",\"emojis_url\":\"https://api.github.com/emojis\",\"events_url\":\"https://api.github.com/events\",\"feeds_url\":\"https://api.github.com/feeds\",\"followers_url\":\"https://api.github.com/user/followers\",\"following_url\":\"https://api.github.com/user/following{/target}\",\"gists_url\":\"https://api.github.com/gists{/gist_id}\",\"hub_url\":\"https://api.github.com/hub\",\"issue_search_url\":\"https://api.github.com/search/issues?q={query}{&page,per_page,sort,order}\",\"issues_url\":\"https://api.github.com/issues\",\"keys_url\":\"https://api.github.com/user/keys\",\"label_search_url\":\"https://api.github.com/search/labels?q={query}&repository_id={repository_id}{&page,per_page}\",\"notifications_url\":\"https://api.github.com/notifications\",\"organization_repositories_url\":\"https://api.github.com/orgs/{org}/repos{?type,page,per_page,sort}\",\"organization_url\":\"https://api.github.com/orgs/{org}\",\"public_gists_url\":\"https://api.github.com/gists/public\",\"rate_limit_url\":\"https://api.github.com/rate_limit\",\"repository_url\":\"https://api.github.com/repos/{owner}/{repo}\",\"repository_search_url\":\"https://api.github.com/search/repositories?q={query}{&page,per_page,sort,order}\",\"current_user_repositories_url\":\"https://api.github.com/user/repos{?type,page,per_page,sort}\",\"starred_url\":\"https://api.github.com/user/starred{/owner}{/repo}\",\"starred_gists_url\":\"https://api.github.com/gists/starred\",\"team_url\":\"https://api.github.com/teams\",\"user_url\":\"https://api.github.com/users/{user}\",\"user_organizations_url\":\"https://api.github.com/user/orgs\",\"user_repositories_url\":\"https://api.github.com/users/{user}/repos{?type,page,per_page,sort}\",\"user_search_url\":\"https://api.github.com/search/users?q={query}{&page,per_page,sort,order}\"}'"
            ]
          },
          "metadata": {
            "tags": []
          },
          "execution_count": 10
        }
      ]
    },
    {
      "cell_type": "markdown",
      "metadata": {
        "id": "oeLRGuUPDz4V",
        "colab_type": "text"
      },
      "source": [
        "##**Serialized JSON content** \n",
        "Hey look Ma, it's JSON.....Let's view some rea-life JSON \n",
        "\n",
        "![alt text](https://encrypted-tbn0.gstatic.com/images?q=tbn:ANd9GcQt00IECBfWRzEFyW6D6dDnCvjuEt4MlTdF3WYi0IWg-_12ayXM&s)\n",
        "\n"
      ]
    },
    {
      "cell_type": "code",
      "metadata": {
        "id": "SEiZH3f2EQTL",
        "colab_type": "code",
        "outputId": "ca3ae22d-645e-448f-84f9-25f022e1afe5",
        "colab": {
          "base_uri": "https://localhost:8080/",
          "height": 561
        }
      },
      "source": [
        "response.json()  # this will show you serialized JSON content (See below).  to get a dictionary, you could take the str you received from .text and deserialize it (json.loads()) \n",
        "# much simplier to use .json(). the \"type\" of the return value .json() is a dictionary so you can access values i the object via the 'key'"
      ],
      "execution_count": 0,
      "outputs": [
        {
          "output_type": "execute_result",
          "data": {
            "text/plain": [
              "{'authorizations_url': 'https://api.github.com/authorizations',\n",
              " 'code_search_url': 'https://api.github.com/search/code?q={query}{&page,per_page,sort,order}',\n",
              " 'commit_search_url': 'https://api.github.com/search/commits?q={query}{&page,per_page,sort,order}',\n",
              " 'current_user_authorizations_html_url': 'https://github.com/settings/connections/applications{/client_id}',\n",
              " 'current_user_repositories_url': 'https://api.github.com/user/repos{?type,page,per_page,sort}',\n",
              " 'current_user_url': 'https://api.github.com/user',\n",
              " 'emails_url': 'https://api.github.com/user/emails',\n",
              " 'emojis_url': 'https://api.github.com/emojis',\n",
              " 'events_url': 'https://api.github.com/events',\n",
              " 'feeds_url': 'https://api.github.com/feeds',\n",
              " 'followers_url': 'https://api.github.com/user/followers',\n",
              " 'following_url': 'https://api.github.com/user/following{/target}',\n",
              " 'gists_url': 'https://api.github.com/gists{/gist_id}',\n",
              " 'hub_url': 'https://api.github.com/hub',\n",
              " 'issue_search_url': 'https://api.github.com/search/issues?q={query}{&page,per_page,sort,order}',\n",
              " 'issues_url': 'https://api.github.com/issues',\n",
              " 'keys_url': 'https://api.github.com/user/keys',\n",
              " 'label_search_url': 'https://api.github.com/search/labels?q={query}&repository_id={repository_id}{&page,per_page}',\n",
              " 'notifications_url': 'https://api.github.com/notifications',\n",
              " 'organization_repositories_url': 'https://api.github.com/orgs/{org}/repos{?type,page,per_page,sort}',\n",
              " 'organization_url': 'https://api.github.com/orgs/{org}',\n",
              " 'public_gists_url': 'https://api.github.com/gists/public',\n",
              " 'rate_limit_url': 'https://api.github.com/rate_limit',\n",
              " 'repository_search_url': 'https://api.github.com/search/repositories?q={query}{&page,per_page,sort,order}',\n",
              " 'repository_url': 'https://api.github.com/repos/{owner}/{repo}',\n",
              " 'starred_gists_url': 'https://api.github.com/gists/starred',\n",
              " 'starred_url': 'https://api.github.com/user/starred{/owner}{/repo}',\n",
              " 'team_url': 'https://api.github.com/teams',\n",
              " 'user_organizations_url': 'https://api.github.com/user/orgs',\n",
              " 'user_repositories_url': 'https://api.github.com/users/{user}/repos{?type,page,per_page,sort}',\n",
              " 'user_search_url': 'https://api.github.com/search/users?q={query}{&page,per_page,sort,order}',\n",
              " 'user_url': 'https://api.github.com/users/{user}'}"
            ]
          },
          "metadata": {
            "tags": []
          },
          "execution_count": 11
        }
      ]
    },
    {
      "cell_type": "markdown",
      "metadata": {
        "id": "2SaLF8JDZvnC",
        "colab_type": "text"
      },
      "source": [
        "**NOTE**: you can do a alot with status codes and message bodies, but in order to get more infomration, like METADATA about the response itself, you will need to review the response headers. "
      ]
    },
    {
      "cell_type": "markdown",
      "metadata": {
        "id": "y012rcnXaLcD",
        "colab_type": "text"
      },
      "source": [
        "##**API Response Headers**\n",
        "\n",
        "The repsonse headers can provide lots of useful information such as content-type of the response payload, time-limit on how long to Cache the response etc..The View these headers, access (.headers)"
      ]
    },
    {
      "cell_type": "code",
      "metadata": {
        "id": "IA-pTr1DafPb",
        "colab_type": "code",
        "outputId": "38467963-afc5-47dc-9a4b-69651fe7b2d5",
        "colab": {
          "base_uri": "https://localhost:8080/",
          "height": 54
        }
      },
      "source": [
        "response.headers"
      ],
      "execution_count": 0,
      "outputs": [
        {
          "output_type": "execute_result",
          "data": {
            "text/plain": [
              "{'Server': 'GitHub.com', 'Date': 'Fri, 20 Dec 2019 22:39:19 GMT', 'Content-Type': 'application/json; charset=utf-8', 'Transfer-Encoding': 'chunked', 'Status': '200 OK', 'X-RateLimit-Limit': '60', 'X-RateLimit-Remaining': '55', 'X-RateLimit-Reset': '1576885158', 'Cache-Control': 'public, max-age=60, s-maxage=60', 'Vary': 'Accept', 'ETag': 'W/\"307bf49b7e1b8e6fe4ef622d609665e1\"', 'X-GitHub-Media-Type': 'github.v3; format=json', 'Access-Control-Expose-Headers': 'ETag, Link, Location, Retry-After, X-GitHub-OTP, X-RateLimit-Limit, X-RateLimit-Remaining, X-RateLimit-Reset, X-OAuth-Scopes, X-Accepted-OAuth-Scopes, X-Poll-Interval, X-GitHub-Media-Type', 'Access-Control-Allow-Origin': '*', 'Strict-Transport-Security': 'max-age=31536000; includeSubdomains; preload', 'X-Frame-Options': 'deny', 'X-Content-Type-Options': 'nosniff', 'X-XSS-Protection': '1; mode=block', 'Referrer-Policy': 'origin-when-cross-origin, strict-origin-when-cross-origin', 'Content-Security-Policy': \"default-src 'none'\", 'Content-Encoding': 'gzip', 'X-GitHub-Request-Id': 'CAAE:04B5:146FDD9:280FBED:5DFD4D97'}"
            ]
          },
          "metadata": {
            "tags": []
          },
          "execution_count": 12
        }
      ]
    },
    {
      "cell_type": "code",
      "metadata": {
        "id": "zxMe9X_h8Kl7",
        "colab_type": "code",
        "outputId": "12309e60-e9f1-4876-ac04-adabb4c53b12",
        "colab": {
          "base_uri": "https://localhost:8080/",
          "height": 34
        }
      },
      "source": [
        "response.headers['content-Type']  # Accesing the key to content-type METADATA header.   NOT Case sensitive"
      ],
      "execution_count": 0,
      "outputs": [
        {
          "output_type": "execute_result",
          "data": {
            "text/plain": [
              "'application/json; charset=utf-8'"
            ]
          },
          "metadata": {
            "tags": []
          },
          "execution_count": 13
        }
      ]
    },
    {
      "cell_type": "code",
      "metadata": {
        "id": "bLTNPdFHdsqz",
        "colab_type": "code",
        "outputId": "5f202f56-9bd2-4ad8-aaee-828fb411ef52",
        "colab": {
          "base_uri": "https://localhost:8080/",
          "height": 34
        }
      },
      "source": [
        "response.headers['X-RateLimit-Remaining']"
      ],
      "execution_count": 0,
      "outputs": [
        {
          "output_type": "execute_result",
          "data": {
            "text/plain": [
              "'55'"
            ]
          },
          "metadata": {
            "tags": []
          },
          "execution_count": 14
        }
      ]
    },
    {
      "cell_type": "markdown",
      "metadata": {
        "id": "or12vCCvt0ZN",
        "colab_type": "text"
      },
      "source": [
        "##**Maniupulating Query parameters (params)**"
      ]
    }
  ]
}