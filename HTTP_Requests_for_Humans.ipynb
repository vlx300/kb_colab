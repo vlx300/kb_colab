{
  "nbformat": 4,
  "nbformat_minor": 0,
  "metadata": {
    "colab": {
      "name": "HTTP Requests for Humans.ipynb",
      "provenance": [],
      "collapsed_sections": [],
      "include_colab_link": true
    },
    "kernelspec": {
      "name": "python3",
      "display_name": "Python 3"
    }
  },
  "cells": [
    {
      "cell_type": "markdown",
      "metadata": {
        "id": "view-in-github",
        "colab_type": "text"
      },
      "source": [
        "<a href=\"https://colab.research.google.com/github/vlx300/kb_colab/blob/master/HTTP_Requests_for_Humans.ipynb\" target=\"_parent\"><img src=\"https://colab.research.google.com/assets/colab-badge.svg\" alt=\"Open In Colab\"/></a>"
      ]
    },
    {
      "cell_type": "markdown",
      "metadata": {
        "id": "vaNrp4OLqCBF",
        "colab_type": "text"
      },
      "source": [
        "#**Python HTTP Request Library**\n",
        "**REST**: Essentially a set of conventions for structuring a WEB API (an API you interect with via HTTP: making requests to specific URLS and gathering relevant data in the Response. You leverage the several HTTP methods GET, POST, UPDATE, DELETE etc. \n",
        "\n",
        "\n",
        "![alt text](https://encrypted-tbn0.gstatic.com/images?q=tbn:ANd9GcQK4tRxuYv7nnqsPCZWnzlXJgmNrUbldBIeNiBUsGA_2UWu72Sd&s)"
      ]
    },
    {
      "cell_type": "code",
      "metadata": {
        "id": "0KeyRlYQnFUq",
        "colab_type": "code",
        "outputId": "54592437-6887-4d23-adaf-1799e69f03af",
        "colab": {
          "base_uri": "https://localhost:8080/",
          "height": 34
        }
      },
      "source": [
        "import requests \n",
        "\n",
        "# Make an API call  and store the response #\n",
        "url = 'https://api.github.com/search/repositories?q=language:python&sort=stars'\n",
        "r = requests.get(url)\n",
        "print(\"Status code:\", r.status_code)"
      ],
      "execution_count": 1,
      "outputs": [
        {
          "output_type": "stream",
          "text": [
            "Status code: 200\n"
          ],
          "name": "stdout"
        }
      ]
    },
    {
      "cell_type": "markdown",
      "metadata": {
        "id": "K4SO0yKopnI2",
        "colab_type": "text"
      },
      "source": [
        "##**Web API Call alternative**"
      ]
    },
    {
      "cell_type": "code",
      "metadata": {
        "id": "WCIP4PRDpe_q",
        "colab_type": "code",
        "outputId": "38c729e1-f08e-4ed0-b9bd-630683c58c2d",
        "colab": {
          "base_uri": "https://localhost:8080/",
          "height": 34
        }
      },
      "source": [
        "requests.get('https://api.github.com')"
      ],
      "execution_count": 2,
      "outputs": [
        {
          "output_type": "execute_result",
          "data": {
            "text/plain": [
              "<Response [200]>"
            ]
          },
          "metadata": {
            "tags": []
          },
          "execution_count": 2
        }
      ]
    },
    {
      "cell_type": "markdown",
      "metadata": {
        "id": "ZIFmL0FXqeHF",
        "colab_type": "text"
      },
      "source": [
        "#**The Response**\n",
        "\n",
        "A response is a powerful object for inspecting the results of a request. Make the same requet again and store the retun value in a variable so you can take a closer look at the data. Elegant"
      ]
    },
    {
      "cell_type": "code",
      "metadata": {
        "id": "B1-t_Pn_vCGl",
        "colab_type": "code",
        "colab": {}
      },
      "source": [
        "response = requests.get('https://api.github.com')"
      ],
      "execution_count": 0,
      "outputs": []
    },
    {
      "cell_type": "markdown",
      "metadata": {
        "id": "YdYYaymIvXdV",
        "colab_type": "text"
      },
      "source": [
        "In this example, you've captured the \"return value\" of GET(), which is an instance of response, and store it in a variable called response. Now you can use response to see alot of information about the results of your GET request. "
      ]
    },
    {
      "cell_type": "markdown",
      "metadata": {
        "id": "oCE7N61Mwl2o",
        "colab_type": "text"
      },
      "source": [
        "##**Status Codes**\n",
        "\n",
        "the first bit of information you can gather forma response is the status code. this informs you of the status of the request. For Exp. 200 means the request was successful . whereas  404 = NOT FOUND, 403 = NOT Authorized etc.. 302 = Redirect \n",
        "\n",
        "**Note**: *By accessing .status_code, you can see the status of the request returned from the Server.  Sometimes you might want to make decision in your code based upo the response \"status code\"* "
      ]
    },
    {
      "cell_type": "code",
      "metadata": {
        "id": "elPXAb11x3RU",
        "colab_type": "code",
        "outputId": "7ab0044f-57de-4a8a-9f25-10bff94cc856",
        "colab": {
          "base_uri": "https://localhost:8080/",
          "height": 34
        }
      },
      "source": [
        "response.status_code # checks the status from the Server "
      ],
      "execution_count": 4,
      "outputs": [
        {
          "output_type": "execute_result",
          "data": {
            "text/plain": [
              "200"
            ]
          },
          "metadata": {
            "tags": []
          },
          "execution_count": 4
        }
      ]
    },
    {
      "cell_type": "markdown",
      "metadata": {
        "id": "coWoFyYuz8e-",
        "colab_type": "text"
      },
      "source": [
        "Making decisions (Other Logic) based on status code:"
      ]
    },
    {
      "cell_type": "code",
      "metadata": {
        "id": "Uce7N9bCymq4",
        "colab_type": "code",
        "outputId": "8ce4195c-de6c-4129-8600-08c1695c3a56",
        "colab": {
          "base_uri": "https://localhost:8080/",
          "height": 34
        }
      },
      "source": [
        "if response.status_code == 200: \n",
        "  print(\"Success\")\n",
        "elif response.status_code == 400:\n",
        "  print(\"Not Found\")\n",
        "elif response.status_code == 302:\n",
        "  print(\"Follow Redirect\")\n",
        "elif response.status_code == 302:\n",
        "  print(\"Not Authorized\")"
      ],
      "execution_count": 5,
      "outputs": [
        {
          "output_type": "stream",
          "text": [
            "Success\n"
          ],
          "name": "stdout"
        }
      ]
    },
    {
      "cell_type": "markdown",
      "metadata": {
        "id": "rDK1MiPt1RgK",
        "colab_type": "text"
      },
      "source": [
        "If your response is used in a conditional expresssion, it will evaluate to **True** if that satus code is between 200 and 400 and **False** Otherwise. so you can simply the above ike this (See Below)..  \n",
        "\n",
        "Note: *this is possible due to __Bool__() overload method on response.  Translation, the default behaviour of response has be modified to take status code into account when determining the \"Truth value\" of the object* so make sure to utilize ths convenient shorthand only if you want to know if a request was \"generally sucessfull\" "
      ]
    },
    {
      "cell_type": "code",
      "metadata": {
        "id": "_zkWd9Ls16rB",
        "colab_type": "code",
        "outputId": "7c8689ee-81f0-421c-f2a8-6f58af4be7e1",
        "colab": {
          "base_uri": "https://localhost:8080/",
          "height": 34
        }
      },
      "source": [
        "if response:\n",
        "  print(\"Success\")\n",
        "else:\n",
        "  print('An error has occured')"
      ],
      "execution_count": 6,
      "outputs": [
        {
          "output_type": "stream",
          "text": [
            "Success\n"
          ],
          "name": "stdout"
        }
      ]
    },
    {
      "cell_type": "markdown",
      "metadata": {
        "id": "UZ9jFzaW84yQ",
        "colab_type": "text"
      },
      "source": [
        "Say if you dont want to check the status code like above but want to raise an exception if the request was unsuccessful only. You can using '.raise_for_status'"
      ]
    },
    {
      "cell_type": "code",
      "metadata": {
        "id": "hVebqkdR9Vzr",
        "colab_type": "code",
        "outputId": "c6fd8b35-d33a-400d-cbe2-922b00affb5b",
        "colab": {
          "base_uri": "https://localhost:8080/",
          "height": 52
        }
      },
      "source": [
        "import requests\n",
        "from requests import HTTPError\n",
        "\n",
        "for url in ['http://api.github.com', 'https://api.github.com/invalid']:\n",
        "  try:\n",
        "    reponse = requests.get(url)\n",
        "\n",
        "    # if the response was successful, no exception will be raised\n",
        "    response.raise_for_status()\n",
        "  except HTTPError as http_err:\n",
        "    print(f'HTTP error has occured: {http_err}')  #python 3.6\n",
        "  except Exception as err:\n",
        "    print(f'Other error occured: {err}') #Python 3.6 \n",
        "  else:\n",
        "    print(\"success\")\n"
      ],
      "execution_count": 7,
      "outputs": [
        {
          "output_type": "stream",
          "text": [
            "success\n",
            "success\n"
          ],
          "name": "stdout"
        }
      ]
    },
    {
      "cell_type": "markdown",
      "metadata": {
        "id": "ZGkE9cgJ_5fN",
        "colab_type": "text"
      },
      "source": [
        "#**API Content**\n",
        "\n",
        "The reponse of the HTTP API GET request has some valuable information i.e..Payload in the message body. Using the attributes of Response, you can view the payload in many different formats.\n",
        "\n",
        "Bytes (.Content)"
      ]
    },
    {
      "cell_type": "code",
      "metadata": {
        "id": "Hq3p3UtyBIW-",
        "colab_type": "code",
        "outputId": "12d52b95-2301-4343-a8dc-71b932d97656",
        "colab": {
          "base_uri": "https://localhost:8080/",
          "height": 54
        }
      },
      "source": [
        "response = requests.get('https://api.github.com')\n",
        "response.content  # give you the content in raw bytes of the response payload"
      ],
      "execution_count": 8,
      "outputs": [
        {
          "output_type": "execute_result",
          "data": {
            "text/plain": [
              "b'{\"current_user_url\":\"https://api.github.com/user\",\"current_user_authorizations_html_url\":\"https://github.com/settings/connections/applications{/client_id}\",\"authorizations_url\":\"https://api.github.com/authorizations\",\"code_search_url\":\"https://api.github.com/search/code?q={query}{&page,per_page,sort,order}\",\"commit_search_url\":\"https://api.github.com/search/commits?q={query}{&page,per_page,sort,order}\",\"emails_url\":\"https://api.github.com/user/emails\",\"emojis_url\":\"https://api.github.com/emojis\",\"events_url\":\"https://api.github.com/events\",\"feeds_url\":\"https://api.github.com/feeds\",\"followers_url\":\"https://api.github.com/user/followers\",\"following_url\":\"https://api.github.com/user/following{/target}\",\"gists_url\":\"https://api.github.com/gists{/gist_id}\",\"hub_url\":\"https://api.github.com/hub\",\"issue_search_url\":\"https://api.github.com/search/issues?q={query}{&page,per_page,sort,order}\",\"issues_url\":\"https://api.github.com/issues\",\"keys_url\":\"https://api.github.com/user/keys\",\"label_search_url\":\"https://api.github.com/search/labels?q={query}&repository_id={repository_id}{&page,per_page}\",\"notifications_url\":\"https://api.github.com/notifications\",\"organization_repositories_url\":\"https://api.github.com/orgs/{org}/repos{?type,page,per_page,sort}\",\"organization_url\":\"https://api.github.com/orgs/{org}\",\"public_gists_url\":\"https://api.github.com/gists/public\",\"rate_limit_url\":\"https://api.github.com/rate_limit\",\"repository_url\":\"https://api.github.com/repos/{owner}/{repo}\",\"repository_search_url\":\"https://api.github.com/search/repositories?q={query}{&page,per_page,sort,order}\",\"current_user_repositories_url\":\"https://api.github.com/user/repos{?type,page,per_page,sort}\",\"starred_url\":\"https://api.github.com/user/starred{/owner}{/repo}\",\"starred_gists_url\":\"https://api.github.com/gists/starred\",\"team_url\":\"https://api.github.com/teams\",\"user_url\":\"https://api.github.com/users/{user}\",\"user_organizations_url\":\"https://api.github.com/user/orgs\",\"user_repositories_url\":\"https://api.github.com/users/{user}/repos{?type,page,per_page,sort}\",\"user_search_url\":\"https://api.github.com/search/users?q={query}{&page,per_page,sort,order}\"}'"
            ]
          },
          "metadata": {
            "tags": []
          },
          "execution_count": 8
        }
      ]
    },
    {
      "cell_type": "code",
      "metadata": {
        "id": "_yQypRyFBiZn",
        "colab_type": "code",
        "outputId": "3d12f12f-7389-4cd0-aa67-7f62de0eb000",
        "colab": {
          "base_uri": "https://localhost:8080/",
          "height": 54
        }
      },
      "source": [
        "response.text # convert into a string using encoding like UTF-8"
      ],
      "execution_count": 9,
      "outputs": [
        {
          "output_type": "execute_result",
          "data": {
            "text/plain": [
              "'{\"current_user_url\":\"https://api.github.com/user\",\"current_user_authorizations_html_url\":\"https://github.com/settings/connections/applications{/client_id}\",\"authorizations_url\":\"https://api.github.com/authorizations\",\"code_search_url\":\"https://api.github.com/search/code?q={query}{&page,per_page,sort,order}\",\"commit_search_url\":\"https://api.github.com/search/commits?q={query}{&page,per_page,sort,order}\",\"emails_url\":\"https://api.github.com/user/emails\",\"emojis_url\":\"https://api.github.com/emojis\",\"events_url\":\"https://api.github.com/events\",\"feeds_url\":\"https://api.github.com/feeds\",\"followers_url\":\"https://api.github.com/user/followers\",\"following_url\":\"https://api.github.com/user/following{/target}\",\"gists_url\":\"https://api.github.com/gists{/gist_id}\",\"hub_url\":\"https://api.github.com/hub\",\"issue_search_url\":\"https://api.github.com/search/issues?q={query}{&page,per_page,sort,order}\",\"issues_url\":\"https://api.github.com/issues\",\"keys_url\":\"https://api.github.com/user/keys\",\"label_search_url\":\"https://api.github.com/search/labels?q={query}&repository_id={repository_id}{&page,per_page}\",\"notifications_url\":\"https://api.github.com/notifications\",\"organization_repositories_url\":\"https://api.github.com/orgs/{org}/repos{?type,page,per_page,sort}\",\"organization_url\":\"https://api.github.com/orgs/{org}\",\"public_gists_url\":\"https://api.github.com/gists/public\",\"rate_limit_url\":\"https://api.github.com/rate_limit\",\"repository_url\":\"https://api.github.com/repos/{owner}/{repo}\",\"repository_search_url\":\"https://api.github.com/search/repositories?q={query}{&page,per_page,sort,order}\",\"current_user_repositories_url\":\"https://api.github.com/user/repos{?type,page,per_page,sort}\",\"starred_url\":\"https://api.github.com/user/starred{/owner}{/repo}\",\"starred_gists_url\":\"https://api.github.com/gists/starred\",\"team_url\":\"https://api.github.com/teams\",\"user_url\":\"https://api.github.com/users/{user}\",\"user_organizations_url\":\"https://api.github.com/user/orgs\",\"user_repositories_url\":\"https://api.github.com/users/{user}/repos{?type,page,per_page,sort}\",\"user_search_url\":\"https://api.github.com/search/users?q={query}{&page,per_page,sort,order}\"}'"
            ]
          },
          "metadata": {
            "tags": []
          },
          "execution_count": 9
        }
      ]
    },
    {
      "cell_type": "markdown",
      "metadata": {
        "id": "9QA-56HyC48o",
        "colab_type": "text"
      },
      "source": [
        "Decoding bytes to a string requires an encoding scheme. request will try to guess encoding based upon the response headers if not specified.  Set encoding BEFORE accessing .text"
      ]
    },
    {
      "cell_type": "code",
      "metadata": {
        "id": "2bwpo7nVCQnL",
        "colab_type": "code",
        "outputId": "05088655-28f1-4743-901c-e01684066b9e",
        "colab": {
          "base_uri": "https://localhost:8080/",
          "height": 54
        }
      },
      "source": [
        "response.encoding = 'utf-8'  #optional enciding parameter.  requests infers this\n",
        "response.text"
      ],
      "execution_count": 10,
      "outputs": [
        {
          "output_type": "execute_result",
          "data": {
            "text/plain": [
              "'{\"current_user_url\":\"https://api.github.com/user\",\"current_user_authorizations_html_url\":\"https://github.com/settings/connections/applications{/client_id}\",\"authorizations_url\":\"https://api.github.com/authorizations\",\"code_search_url\":\"https://api.github.com/search/code?q={query}{&page,per_page,sort,order}\",\"commit_search_url\":\"https://api.github.com/search/commits?q={query}{&page,per_page,sort,order}\",\"emails_url\":\"https://api.github.com/user/emails\",\"emojis_url\":\"https://api.github.com/emojis\",\"events_url\":\"https://api.github.com/events\",\"feeds_url\":\"https://api.github.com/feeds\",\"followers_url\":\"https://api.github.com/user/followers\",\"following_url\":\"https://api.github.com/user/following{/target}\",\"gists_url\":\"https://api.github.com/gists{/gist_id}\",\"hub_url\":\"https://api.github.com/hub\",\"issue_search_url\":\"https://api.github.com/search/issues?q={query}{&page,per_page,sort,order}\",\"issues_url\":\"https://api.github.com/issues\",\"keys_url\":\"https://api.github.com/user/keys\",\"label_search_url\":\"https://api.github.com/search/labels?q={query}&repository_id={repository_id}{&page,per_page}\",\"notifications_url\":\"https://api.github.com/notifications\",\"organization_repositories_url\":\"https://api.github.com/orgs/{org}/repos{?type,page,per_page,sort}\",\"organization_url\":\"https://api.github.com/orgs/{org}\",\"public_gists_url\":\"https://api.github.com/gists/public\",\"rate_limit_url\":\"https://api.github.com/rate_limit\",\"repository_url\":\"https://api.github.com/repos/{owner}/{repo}\",\"repository_search_url\":\"https://api.github.com/search/repositories?q={query}{&page,per_page,sort,order}\",\"current_user_repositories_url\":\"https://api.github.com/user/repos{?type,page,per_page,sort}\",\"starred_url\":\"https://api.github.com/user/starred{/owner}{/repo}\",\"starred_gists_url\":\"https://api.github.com/gists/starred\",\"team_url\":\"https://api.github.com/teams\",\"user_url\":\"https://api.github.com/users/{user}\",\"user_organizations_url\":\"https://api.github.com/user/orgs\",\"user_repositories_url\":\"https://api.github.com/users/{user}/repos{?type,page,per_page,sort}\",\"user_search_url\":\"https://api.github.com/search/users?q={query}{&page,per_page,sort,order}\"}'"
            ]
          },
          "metadata": {
            "tags": []
          },
          "execution_count": 10
        }
      ]
    },
    {
      "cell_type": "markdown",
      "metadata": {
        "id": "oeLRGuUPDz4V",
        "colab_type": "text"
      },
      "source": [
        "##**Serialized JSON content** \n",
        "Hey look Ma, it's JSON.....Let's view some rea-life JSON \n",
        "\n",
        "![alt text](https://encrypted-tbn0.gstatic.com/images?q=tbn:ANd9GcQt00IECBfWRzEFyW6D6dDnCvjuEt4MlTdF3WYi0IWg-_12ayXM&s)\n",
        "\n"
      ]
    },
    {
      "cell_type": "code",
      "metadata": {
        "id": "SEiZH3f2EQTL",
        "colab_type": "code",
        "outputId": "e5ce2b0c-5787-4119-a209-3181221543b2",
        "colab": {
          "base_uri": "https://localhost:8080/",
          "height": 585
        }
      },
      "source": [
        "response.json()  # this will show you serialized JSON content (See below).  to get a dictionary, you could take the str you received from .text and deserialize it (json.loads()) \n",
        "# much simplier to use .json(). the \"type\" of the return value .json() is a dictionary so you can access values i the object via the 'key'"
      ],
      "execution_count": 11,
      "outputs": [
        {
          "output_type": "execute_result",
          "data": {
            "text/plain": [
              "{'authorizations_url': 'https://api.github.com/authorizations',\n",
              " 'code_search_url': 'https://api.github.com/search/code?q={query}{&page,per_page,sort,order}',\n",
              " 'commit_search_url': 'https://api.github.com/search/commits?q={query}{&page,per_page,sort,order}',\n",
              " 'current_user_authorizations_html_url': 'https://github.com/settings/connections/applications{/client_id}',\n",
              " 'current_user_repositories_url': 'https://api.github.com/user/repos{?type,page,per_page,sort}',\n",
              " 'current_user_url': 'https://api.github.com/user',\n",
              " 'emails_url': 'https://api.github.com/user/emails',\n",
              " 'emojis_url': 'https://api.github.com/emojis',\n",
              " 'events_url': 'https://api.github.com/events',\n",
              " 'feeds_url': 'https://api.github.com/feeds',\n",
              " 'followers_url': 'https://api.github.com/user/followers',\n",
              " 'following_url': 'https://api.github.com/user/following{/target}',\n",
              " 'gists_url': 'https://api.github.com/gists{/gist_id}',\n",
              " 'hub_url': 'https://api.github.com/hub',\n",
              " 'issue_search_url': 'https://api.github.com/search/issues?q={query}{&page,per_page,sort,order}',\n",
              " 'issues_url': 'https://api.github.com/issues',\n",
              " 'keys_url': 'https://api.github.com/user/keys',\n",
              " 'label_search_url': 'https://api.github.com/search/labels?q={query}&repository_id={repository_id}{&page,per_page}',\n",
              " 'notifications_url': 'https://api.github.com/notifications',\n",
              " 'organization_repositories_url': 'https://api.github.com/orgs/{org}/repos{?type,page,per_page,sort}',\n",
              " 'organization_url': 'https://api.github.com/orgs/{org}',\n",
              " 'public_gists_url': 'https://api.github.com/gists/public',\n",
              " 'rate_limit_url': 'https://api.github.com/rate_limit',\n",
              " 'repository_search_url': 'https://api.github.com/search/repositories?q={query}{&page,per_page,sort,order}',\n",
              " 'repository_url': 'https://api.github.com/repos/{owner}/{repo}',\n",
              " 'starred_gists_url': 'https://api.github.com/gists/starred',\n",
              " 'starred_url': 'https://api.github.com/user/starred{/owner}{/repo}',\n",
              " 'team_url': 'https://api.github.com/teams',\n",
              " 'user_organizations_url': 'https://api.github.com/user/orgs',\n",
              " 'user_repositories_url': 'https://api.github.com/users/{user}/repos{?type,page,per_page,sort}',\n",
              " 'user_search_url': 'https://api.github.com/search/users?q={query}{&page,per_page,sort,order}',\n",
              " 'user_url': 'https://api.github.com/users/{user}'}"
            ]
          },
          "metadata": {
            "tags": []
          },
          "execution_count": 11
        }
      ]
    },
    {
      "cell_type": "markdown",
      "metadata": {
        "id": "2SaLF8JDZvnC",
        "colab_type": "text"
      },
      "source": [
        "**NOTE**: you can do a alot with status codes and message bodies, but in order to get more infomration, like METADATA about the response itself, you will need to review the response headers. "
      ]
    },
    {
      "cell_type": "markdown",
      "metadata": {
        "id": "y012rcnXaLcD",
        "colab_type": "text"
      },
      "source": [
        "##**API Response Headers**\n",
        "\n",
        "The repsonse headers can provide lots of useful information such as content-type of the response payload, time-limit on how long to Cache the response etc..The View these headers, access (.headers)"
      ]
    },
    {
      "cell_type": "code",
      "metadata": {
        "id": "IA-pTr1DafPb",
        "colab_type": "code",
        "outputId": "c598b343-d0f7-42cd-ae51-4087925d690a",
        "colab": {
          "base_uri": "https://localhost:8080/",
          "height": 54
        }
      },
      "source": [
        "response.headers"
      ],
      "execution_count": 12,
      "outputs": [
        {
          "output_type": "execute_result",
          "data": {
            "text/plain": [
              "{'Server': 'GitHub.com', 'Date': 'Thu, 26 Dec 2019 15:11:27 GMT', 'Content-Type': 'application/json; charset=utf-8', 'Transfer-Encoding': 'chunked', 'Status': '200 OK', 'X-RateLimit-Limit': '60', 'X-RateLimit-Remaining': '55', 'X-RateLimit-Reset': '1577376686', 'Cache-Control': 'public, max-age=60, s-maxage=60', 'Vary': 'Accept', 'ETag': 'W/\"307bf49b7e1b8e6fe4ef622d609665e1\"', 'X-GitHub-Media-Type': 'github.v3; format=json', 'Access-Control-Expose-Headers': 'ETag, Link, Location, Retry-After, X-GitHub-OTP, X-RateLimit-Limit, X-RateLimit-Remaining, X-RateLimit-Reset, X-OAuth-Scopes, X-Accepted-OAuth-Scopes, X-Poll-Interval, X-GitHub-Media-Type', 'Access-Control-Allow-Origin': '*', 'Strict-Transport-Security': 'max-age=31536000; includeSubdomains; preload', 'X-Frame-Options': 'deny', 'X-Content-Type-Options': 'nosniff', 'X-XSS-Protection': '1; mode=block', 'Referrer-Policy': 'origin-when-cross-origin, strict-origin-when-cross-origin', 'Content-Security-Policy': \"default-src 'none'\", 'Content-Encoding': 'gzip', 'X-GitHub-Request-Id': 'E2FA:1E06:1E6968:45D5E0:5E04CD9F'}"
            ]
          },
          "metadata": {
            "tags": []
          },
          "execution_count": 12
        }
      ]
    },
    {
      "cell_type": "code",
      "metadata": {
        "id": "zxMe9X_h8Kl7",
        "colab_type": "code",
        "outputId": "c72ad8a7-08f2-43e0-b223-43a8253ee13e",
        "colab": {
          "base_uri": "https://localhost:8080/",
          "height": 34
        }
      },
      "source": [
        "response.headers['content-Type']  # Accesing the key to content-type METADATA header.   NOT Case sensitive"
      ],
      "execution_count": 13,
      "outputs": [
        {
          "output_type": "execute_result",
          "data": {
            "text/plain": [
              "'application/json; charset=utf-8'"
            ]
          },
          "metadata": {
            "tags": []
          },
          "execution_count": 13
        }
      ]
    },
    {
      "cell_type": "code",
      "metadata": {
        "id": "bLTNPdFHdsqz",
        "colab_type": "code",
        "outputId": "19d01992-1df5-4c11-b047-0feb54c64be3",
        "colab": {
          "base_uri": "https://localhost:8080/",
          "height": 34
        }
      },
      "source": [
        "response.headers['X-RateLimit-Remaining']"
      ],
      "execution_count": 14,
      "outputs": [
        {
          "output_type": "execute_result",
          "data": {
            "text/plain": [
              "'55'"
            ]
          },
          "metadata": {
            "tags": []
          },
          "execution_count": 14
        }
      ]
    },
    {
      "cell_type": "markdown",
      "metadata": {
        "id": "8nmS2Ys1XXEL",
        "colab_type": "text"
      },
      "source": [
        ""
      ]
    },
    {
      "cell_type": "markdown",
      "metadata": {
        "id": "or12vCCvt0ZN",
        "colab_type": "text"
      },
      "source": [
        "##**Maniupulating Query parameters (params)**\n",
        "\n",
        "One common way to customize a GET request is to pass values thru Query String parameters in the URL. Todo this, you pass data to *params* \n",
        "\n",
        "query strings are useful for \"parameterizing\" GET requests. "
      ]
    },
    {
      "cell_type": "code",
      "metadata": {
        "id": "sTd3nfOlUK0c",
        "colab_type": "code",
        "outputId": "89a56fc0-a3ba-4ec6-f7d1-997ccb8e1dd4",
        "colab": {
          "base_uri": "https://localhost:8080/",
          "height": 34
        }
      },
      "source": [
        "import requests\n",
        "\n",
        "# search github's reposititories for requests \n",
        "response = requests.get('https://api.github.com/search/repositories', params=[('q', 'requests+language:python')], )\n",
        "# return sever status\n",
        "reponse.status_code"
      ],
      "execution_count": 15,
      "outputs": [
        {
          "output_type": "execute_result",
          "data": {
            "text/plain": [
              "404"
            ]
          },
          "metadata": {
            "tags": []
          },
          "execution_count": 15
        }
      ]
    },
    {
      "cell_type": "code",
      "metadata": {
        "id": "eh09Ba2oVfvo",
        "colab_type": "code",
        "outputId": "d620df66-5da6-42ed-896f-4b8082bda855",
        "colab": {
          "base_uri": "https://localhost:8080/",
          "height": 34
        }
      },
      "source": [
        "# you can pass values as Bytes\n",
        "requests.get('https://api.github.com/search/repositories', params=b'q=requests+language:python')"
      ],
      "execution_count": 16,
      "outputs": [
        {
          "output_type": "execute_result",
          "data": {
            "text/plain": [
              "<Response [200]>"
            ]
          },
          "metadata": {
            "tags": []
          },
          "execution_count": 16
        }
      ]
    },
    {
      "cell_type": "markdown",
      "metadata": {
        "id": "4zSywUwLXTFL",
        "colab_type": "text"
      },
      "source": [
        "##**Request Headers**\n",
        "\n",
        "to customize headers,  you pass a **dictionary of HTTP headers** to GET() using the *'headers'* parameter. for exp, ypou can change your previous search request to highlight matching search terms in the results by specifying the \"text-match media type in the *accept* header."
      ]
    },
    {
      "cell_type": "code",
      "metadata": {
        "id": "H6FdfFHWYskN",
        "colab_type": "code",
        "outputId": "0cbc693c-95dc-41a1-de48-1c12b876293b",
        "colab": {
          "base_uri": "https://localhost:8080/",
          "height": 34
        }
      },
      "source": [
        "import requests\n",
        "\n",
        "response = requests.get('https://api.github.com/search/repositories',\n",
        "                        params={'q': 'requests+language:python'}, \n",
        "                        headers={'Accept': 'application/vnd.github.com.v3.text-match+json'},)\n",
        "\n",
        "# View the new text matches array which provides informtion \n",
        "# about your search terms within the results\n",
        "json_response = response.json()\n",
        "repository = json_response['items'][0]\n",
        "print(f'text matches: {repository[\"text_matches\"]}') "
      ],
      "execution_count": 17,
      "outputs": [
        {
          "output_type": "stream",
          "text": [
            "text matches: [{'object_url': 'https://api.github.com/repositories/4290214', 'object_type': 'Repository', 'property': 'description', 'fragment': 'Requests + Gevent = <3', 'matches': [{'text': 'Requests', 'indices': [0, 8]}]}]\n"
          ],
          "name": "stdout"
        }
      ]
    },
    {
      "cell_type": "markdown",
      "metadata": {
        "id": "AsTMtDdea4sW",
        "colab_type": "text"
      },
      "source": [
        "the accept header tells the server what content you application can handle. in thid case, since you're expecting the matching search terms to be highllighted , your using the header value \"*application/vnd/github.v3.text-match+json*\" which is a proprietart github accept header where the content is a special JSON format. \n",
        "\n",
        "before you learn ways to customize requests, Lets broden the horizon by exploring other HTTP methods. "
      ]
    },
    {
      "cell_type": "markdown",
      "metadata": {
        "id": "e4QIUIDucBTd",
        "colab_type": "text"
      },
      "source": [
        "##**Other HTTP Methods**\n",
        "\n",
        "Aside from GET, other popular HTTP methods include POST, PUT, DELETE, HEAD, PATCH and OPTIONS headers.  Requests provides a methodwith a similar signature to GET(), for each of these methods. \n",
        "\n",
        "Each function call makes a request to the HTTPbin service using the corresponding HTTP method. for each method, you can inspect each method as before. (*See Below*)"
      ]
    },
    {
      "cell_type": "code",
      "metadata": {
        "id": "24kRUR-Jc0ol",
        "colab_type": "code",
        "outputId": "600383c8-a460-409d-b020-125089037b34",
        "colab": {
          "base_uri": "https://localhost:8080/",
          "height": 34
        }
      },
      "source": [
        "requests.post('https://httpbin.org/post', data={'key':'value'})\n",
        "requests.put('https://httpbin.org/put', data={'key':'value'})\n",
        "requests.delete('https://httpbin.org/delete') \n",
        "requests.head('https://httpbin.org/get')\n",
        "requests.patch('https://httpbin.org/patch', data={'key':'value'})\n",
        "requests.options('https://httpbin.org/get')"
      ],
      "execution_count": 18,
      "outputs": [
        {
          "output_type": "execute_result",
          "data": {
            "text/plain": [
              "<Response [200]>"
            ]
          },
          "metadata": {
            "tags": []
          },
          "execution_count": 18
        }
      ]
    },
    {
      "cell_type": "code",
      "metadata": {
        "id": "JafARzI-evPc",
        "colab_type": "code",
        "outputId": "5a602784-8d29-4396-a773-47f0c3cc185a",
        "colab": {
          "base_uri": "https://localhost:8080/",
          "height": 34
        }
      },
      "source": [
        "response = requests.head('https://httpbin.org/get')\n",
        "response.headers['content-type']"
      ],
      "execution_count": 19,
      "outputs": [
        {
          "output_type": "execute_result",
          "data": {
            "text/plain": [
              "'application/json'"
            ]
          },
          "metadata": {
            "tags": []
          },
          "execution_count": 19
        }
      ]
    },
    {
      "cell_type": "code",
      "metadata": {
        "id": "0X1ZztZ3fqHO",
        "colab_type": "code",
        "outputId": "13084720-5074-40ad-a9ff-44c75091e9d8",
        "colab": {
          "base_uri": "https://localhost:8080/",
          "height": 34
        }
      },
      "source": [
        "response = requests.delete('https://httpbin.org/delete')\n",
        "json_response = response.json()\n",
        "json_response['args']"
      ],
      "execution_count": 20,
      "outputs": [
        {
          "output_type": "execute_result",
          "data": {
            "text/plain": [
              "{}"
            ]
          },
          "metadata": {
            "tags": []
          },
          "execution_count": 20
        }
      ]
    },
    {
      "cell_type": "markdown",
      "metadata": {
        "id": "joj2G0DYiMJw",
        "colab_type": "text"
      },
      "source": [
        "#**Message Body**\n",
        "\n",
        "Headers, response bodies, status codes and more are returned in the response for each method. Now lets tke a closer look at POST, PUT and PATCH HTTP methods. According to the HTTP spec, POST/PUT and PATCH pass their data thru the body of an HTTP message instead of the URL. Using requests, you pass the payload to the corresponding ***data*** parameter. \n",
        "\n",
        "\n",
        "Data takes a dictionary, list of tuples or  file-like object. you will want to adapt the data you send in thr message body to the specific needs of the service your interacting with.  \n",
        "\n",
        "Exp: if your requests \"*content-Type*\" is \"*application/x-www-form-urlencoded*\", you can send data as a dictionary "
      ]
    },
    {
      "cell_type": "code",
      "metadata": {
        "id": "0G5KvDY4kvy-",
        "colab_type": "code",
        "outputId": "784b68f3-edee-428c-dc5f-c5d64de59feb",
        "colab": {
          "base_uri": "https://localhost:8080/",
          "height": 34
        }
      },
      "source": [
        "requests.post('https://httpbin.org/post', data={'key':'value'})"
      ],
      "execution_count": 21,
      "outputs": [
        {
          "output_type": "execute_result",
          "data": {
            "text/plain": [
              "<Response [200]>"
            ]
          },
          "metadata": {
            "tags": []
          },
          "execution_count": 21
        }
      ]
    },
    {
      "cell_type": "code",
      "metadata": {
        "id": "YKYfxkMOlCBV",
        "colab_type": "code",
        "outputId": "9203cb20-3078-4353-e307-7503abc76b5b",
        "colab": {
          "base_uri": "https://localhost:8080/",
          "height": 34
        }
      },
      "source": [
        "requests.post('https://httpbin.org/post', data=[('key', 'value')])"
      ],
      "execution_count": 22,
      "outputs": [
        {
          "output_type": "execute_result",
          "data": {
            "text/plain": [
              "<Response [200]>"
            ]
          },
          "metadata": {
            "tags": []
          },
          "execution_count": 22
        }
      ]
    },
    {
      "cell_type": "markdown",
      "metadata": {
        "id": "2YtR-r9hlUbB",
        "colab_type": "text"
      },
      "source": [
        "If however, you need to send ***JSON data*** , you can use the json parameter. Whe youn pass JSON data via json , requests will serialize tour data and add correct \"Content-Type\" header for you. "
      ]
    },
    {
      "cell_type": "code",
      "metadata": {
        "id": "w8tyUxTXmCOf",
        "colab_type": "code",
        "outputId": "25fb9a4e-57ed-4b77-d0d2-6b7eeec6251c",
        "colab": {
          "base_uri": "https://localhost:8080/",
          "height": 34
        }
      },
      "source": [
        "response = requests.post('https://httpbin.org/post', json={'key':'value'})\n",
        "json_response = response.json()\n",
        "json_response['data']"
      ],
      "execution_count": 23,
      "outputs": [
        {
          "output_type": "execute_result",
          "data": {
            "text/plain": [
              "'{\"key\": \"value\"}'"
            ]
          },
          "metadata": {
            "tags": []
          },
          "execution_count": 23
        }
      ]
    },
    {
      "cell_type": "code",
      "metadata": {
        "id": "6MBN54Rdmdub",
        "colab_type": "code",
        "outputId": "dd5485e6-c1b1-437d-f98e-6a0b90e0ae4c",
        "colab": {
          "base_uri": "https://localhost:8080/",
          "height": 34
        }
      },
      "source": [
        "json_response['headers']['Content-Type']"
      ],
      "execution_count": 24,
      "outputs": [
        {
          "output_type": "execute_result",
          "data": {
            "text/plain": [
              "'application/json'"
            ]
          },
          "metadata": {
            "tags": []
          },
          "execution_count": 24
        }
      ]
    },
    {
      "cell_type": "markdown",
      "metadata": {
        "id": "475PHPu9nLgJ",
        "colab_type": "text"
      },
      "source": [
        "You can see from the response that the server received your request data and headers as you sent,  requests also provides this infomration to you in a form of a PreparedRequests. "
      ]
    },
    {
      "cell_type": "markdown",
      "metadata": {
        "id": "bbQ73y_Qnzr2",
        "colab_type": "text"
      },
      "source": [
        "#**Inspecting the Request**\n",
        "\n",
        "When you make a request, the requests library prepares the request before actually sending to the destination server, preperation includes things such as \"**header-validation**\" and **serialization** of the data (*JSON Content)*. \n",
        "\n",
        "You can access the **PreparedRequests**  by accessing .request"
      ]
    },
    {
      "cell_type": "code",
      "metadata": {
        "id": "CDgqLAwrpvZn",
        "colab_type": "code",
        "outputId": "80c26ca9-e726-4ae8-aea7-afd627275a5e",
        "colab": {
          "base_uri": "https://localhost:8080/",
          "height": 34
        }
      },
      "source": [
        "response = requests.post('https://httpbin.org/post', json={'key':'value'})\n",
        "response.request.headers['Content-type']"
      ],
      "execution_count": 25,
      "outputs": [
        {
          "output_type": "execute_result",
          "data": {
            "text/plain": [
              "'application/json'"
            ]
          },
          "metadata": {
            "tags": []
          },
          "execution_count": 25
        }
      ]
    },
    {
      "cell_type": "code",
      "metadata": {
        "id": "4jBcPbE_qVMI",
        "colab_type": "code",
        "outputId": "e6f85524-e6f1-4eb4-fddc-218a4663771f",
        "colab": {
          "base_uri": "https://localhost:8080/",
          "height": 34
        }
      },
      "source": [
        "response.request.url"
      ],
      "execution_count": 26,
      "outputs": [
        {
          "output_type": "execute_result",
          "data": {
            "text/plain": [
              "'https://httpbin.org/post'"
            ]
          },
          "metadata": {
            "tags": []
          },
          "execution_count": 26
        }
      ]
    },
    {
      "cell_type": "code",
      "metadata": {
        "id": "gwRGF53zqnfB",
        "colab_type": "code",
        "outputId": "81392329-bb2b-4d2b-d329-be80e72556f5",
        "colab": {
          "base_uri": "https://localhost:8080/",
          "height": 34
        }
      },
      "source": [
        "response.request.body"
      ],
      "execution_count": 27,
      "outputs": [
        {
          "output_type": "execute_result",
          "data": {
            "text/plain": [
              "b'{\"key\": \"value\"}'"
            ]
          },
          "metadata": {
            "tags": []
          },
          "execution_count": 27
        }
      ]
    },
    {
      "cell_type": "markdown",
      "metadata": {
        "id": "49SAoFGRwR0R",
        "colab_type": "text"
      },
      "source": [
        "Inspecting the rquest gives tyou access to all kinds of information about the request being made:\n",
        "\n",
        "*   Payload\n",
        "*   URL\n",
        "*   Headers\n",
        "*   Authenication and more\n",
        "\n",
        "\n",
        "\n",
        "\n"
      ]
    },
    {
      "cell_type": "markdown",
      "metadata": {
        "id": "cb4CarJhxQLq",
        "colab_type": "text"
      },
      "source": [
        "#**API Authentication**"
      ]
    }
  ]
}